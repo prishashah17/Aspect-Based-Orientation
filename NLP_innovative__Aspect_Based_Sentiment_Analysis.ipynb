{
  "metadata": {
    "kernelspec": {
      "display_name": "Python 3",
      "name": "python3"
    },
    "language_info": {
      "pygments_lexer": "ipython3",
      "nbconvert_exporter": "python",
      "version": "3.6.4",
      "file_extension": ".py",
      "codemirror_mode": {
        "name": "ipython",
        "version": 3
      },
      "name": "python",
      "mimetype": "text/x-python"
    },
    "colab": {
      "provenance": [],
      "gpuType": "T4"
    },
    "accelerator": "GPU"
  },
  "nbformat_minor": 0,
  "nbformat": 4,
  "cells": [
    {
      "cell_type": "markdown",
      "source": [
        "\n",
        "\n",
        "# NLP INNOVATIVE ASSIGNMENT - Aspect-based sentiment analysis (ABSA)\n",
        "Team members:\n",
        "Prisha shah - 21BCE237\n",
        "Tanvi Rathod -21BCE250\n",
        "Shloka Soni  -21BCE294\n",
        "\n",
        "\n"
      ],
      "metadata": {
        "id": "r75VGmep2H2h"
      }
    },
    {
      "cell_type": "markdown",
      "source": [],
      "metadata": {
        "id": "EzHyezm221b-"
      }
    },
    {
      "cell_type": "markdown",
      "source": [
        "<h1  style=\"text-align: center\" class=\"list-group-item list-group-item-action active\">1. Introduction</h1><a id = \"1\" ></a>\n",
        "\n",
        "Before we get into the several strategies for aspect-level sentiment analysis, we must first define an **aspect**. Aspects are a set of semantically rich, concept-centric terms that signify specific features or characteristics of the review or comment. For example, If we consider Example shown below Location, and food are all aspects to consider.\n",
        "\n",
        "\n",
        "\n",
        "**Aspect-based sentiment analysis (ABSA)** is a text analysis technique that categorizes data by aspect and identifies the sentiment attributed to each one. We will use it to analyze customer feedback for flipkart products by associating specific sentiments with different aspects of a product or service.\n",
        "\n",
        "\n",
        "Aspect Based Sentiment Analysis can be categorized into two types :-\n",
        "\n",
        "- **Supervised ABSA** :- In Supervised approach we provide the seed words which than help supervised model to extract aspects of the sentence. If it identifies the particular aspects for that seed then it tags those sentences with those aspects.\n",
        "\n",
        "- **Unsupervised ABSA** :- As it is obvious providing the seed for each sentence is a difficult task plus let say if our dataset is large (20-100k) than that will become a nightmare. Topic Modeling is the technique which helps extract latent topics from a document, in our case we will extract aspect from a sentence using topic modeling techniques such as latent Dirichlet algorithm (LDA).\n",
        "\n",
        "Aspect Based Sentiment Analysis is a Natural Language Processing (NLP) Based Approach so we will deal it like that and follow the below mentioned pipeline for a NLP task.\n"
      ],
      "metadata": {
        "papermill": {
          "duration": 0.102325,
          "end_time": "2022-06-13T19:46:27.828276",
          "exception": false,
          "start_time": "2022-06-13T19:46:27.725951",
          "status": "completed"
        },
        "tags": [],
        "id": "P9CKiyL78lqx"
      }
    },
    {
      "source": [
        "\n",
        "\n",
        "import os\n",
        "import sys\n",
        "from tempfile import NamedTemporaryFile\n",
        "from urllib.request import urlopen\n",
        "from urllib.parse import unquote, urlparse\n",
        "from urllib.error import HTTPError\n",
        "from zipfile import ZipFile\n",
        "import tarfile\n",
        "import shutil\n",
        "\n",
        "CHUNK_SIZE = 40960\n",
        "DATA_SOURCE_MAPPING = 'flipkart-cell-phone-reviews:https%3A%2F%2Fstorage.googleapis.com%2Fkaggle-data-sets%2F2319008%2F3904140%2Fbundle%2Farchive.zip%3FX-Goog-Algorithm%3DGOOG4-RSA-SHA256%26X-Goog-Credential%3Dgcp-kaggle-com%2540kaggle-161607.iam.gserviceaccount.com%252F20240427%252Fauto%252Fstorage%252Fgoog4_request%26X-Goog-Date%3D20240427T094545Z%26X-Goog-Expires%3D259200%26X-Goog-SignedHeaders%3Dhost%26X-Goog-Signature%3D586bbdc7108dc059f4195ed9759418b79d3cb5468735afd54db4befa41c8de6457ea03640b71ff80d6c2758c013c1925390c06ba9f72a48e6db688af73dc4cf21037cb733f3003fa8004f882130673e9f1215bc364d0ff77123af9821606203345f64ea9bb865d7032cc5f53f3dac529ec2ffa74347045006948d85e254b1c1ea79023fe25719caf0ef80096688802dc5bf7081dfd5877b3f2c0e13d424b1af35bb4b84e34d8675b8e606443a478f4fc813771c3a7d828cc7584d8a97a9a51139e144471adf3297dfd8c948a0ccc256cbfd50cc7b97dcfe3320a30afde2a36b729c56e7bb32e25c4c153d20ad4a9eb496d778fef7afaa0233d1f8cc938a3d8ab'\n",
        "\n",
        "KAGGLE_INPUT_PATH='/kaggle/input'\n",
        "KAGGLE_WORKING_PATH='/kaggle/working'\n",
        "KAGGLE_SYMLINK='kaggle'\n",
        "\n",
        "!umount /kaggle/input/ 2> /dev/null\n",
        "shutil.rmtree('/kaggle/input', ignore_errors=True)\n",
        "os.makedirs(KAGGLE_INPUT_PATH, 0o777, exist_ok=True)\n",
        "os.makedirs(KAGGLE_WORKING_PATH, 0o777, exist_ok=True)\n",
        "\n",
        "try:\n",
        "  os.symlink(KAGGLE_INPUT_PATH, os.path.join(\"..\", 'input'), target_is_directory=True)\n",
        "except FileExistsError:\n",
        "  pass\n",
        "try:\n",
        "  os.symlink(KAGGLE_WORKING_PATH, os.path.join(\"..\", 'working'), target_is_directory=True)\n",
        "except FileExistsError:\n",
        "  pass\n",
        "\n",
        "for data_source_mapping in DATA_SOURCE_MAPPING.split(','):\n",
        "    directory, download_url_encoded = data_source_mapping.split(':')\n",
        "    download_url = unquote(download_url_encoded)\n",
        "    filename = urlparse(download_url).path\n",
        "    destination_path = os.path.join(KAGGLE_INPUT_PATH, directory)\n",
        "    try:\n",
        "        with urlopen(download_url) as fileres, NamedTemporaryFile() as tfile:\n",
        "            total_length = fileres.headers['content-length']\n",
        "            print(f'Downloading {directory}, {total_length} bytes compressed')\n",
        "            dl = 0\n",
        "            data = fileres.read(CHUNK_SIZE)\n",
        "            while len(data) > 0:\n",
        "                dl += len(data)\n",
        "                tfile.write(data)\n",
        "                done = int(50 * dl / int(total_length))\n",
        "                sys.stdout.write(f\"\\r[{'=' * done}{' ' * (50-done)}] {dl} bytes downloaded\")\n",
        "                sys.stdout.flush()\n",
        "                data = fileres.read(CHUNK_SIZE)\n",
        "            if filename.endswith('.zip'):\n",
        "              with ZipFile(tfile) as zfile:\n",
        "                zfile.extractall(destination_path)\n",
        "            else:\n",
        "              with tarfile.open(tfile.name) as tarfile:\n",
        "                tarfile.extractall(destination_path)\n",
        "            print(f'\\nDownloaded and uncompressed: {directory}')\n",
        "    except HTTPError as e:\n",
        "        print(f'Failed to load (likely expired) {download_url} to path {destination_path}')\n",
        "        continue\n",
        "    except OSError as e:\n",
        "        print(f'Failed to load {download_url} to path {destination_path}')\n",
        "        continue\n",
        "\n",
        "print('Data source import complete.')\n"
      ],
      "metadata": {
        "id": "ZWM_j1IG8lqq",
        "colab": {
          "base_uri": "https://localhost:8080/"
        },
        "outputId": "9ee34180-7c45-4f9d-d595-53cc05a3a404"
      },
      "cell_type": "code",
      "outputs": [
        {
          "output_type": "stream",
          "name": "stdout",
          "text": [
            "Downloading flipkart-cell-phone-reviews, 2914398 bytes compressed\n",
            "[==================================================] 2914398 bytes downloaded\n",
            "Downloaded and uncompressed: flipkart-cell-phone-reviews\n",
            "Data source import complete.\n"
          ]
        }
      ],
      "execution_count": null
    },
    {
      "cell_type": "markdown",
      "source": [
        "<h1 style=\"text-align: center;\" class=\"list-group-item list-group-item-action active\">Table of Contents</h1>\n",
        "\n",
        "<ul style=\"list-style-type:none;\">\n",
        "    <li><a class=\"list-group-item list-group-item-action\" data-toggle=\"list\" href=\"#1\" role=\"tab\"\n",
        "            aria-controls=\"settings\">1. Introduction<span class=\"badge badge-primary badge-pill\">1</span></a>\n",
        "    </li>\n",
        "    <li><a class=\"list-group-item list-group-item-action\" data-toggle=\"list\" href=\"#2\" role=\"tab\"\n",
        "            aria-controls=\"settings\">2. Data Acquisition<span class=\"badge badge-primary badge-pill\">2</span></a>\n",
        "        <ul style=\"list-style-type:none;\">\n",
        "            <li><a class=\"list-group-item list-group-item-action\" data-toggle=\"list\" href=\"#2.1\" role=\"tab\"\n",
        "                    aria-controls=\"settings\">2.1 Web Scraping <span class=\"badge badge-primary badge-pill\">3</span></a>\n",
        "            </li>\n",
        "            <li><a class=\"list-group-item list-group-item-action\" data-toggle=\"list\" href=\"#2.2\" role=\"tab\"\n",
        "                    aria-controls=\"settings\">2.2 About the Data <span\n",
        "                        class=\"badge badge-primary badge-pill\">4</span></a>\n",
        "            <li><a class=\"list-group-item list-group-item-action\" data-toggle=\"list\" href=\"#2.3\" role=\"tab\"\n",
        "                    aria-controls=\"settings\">2.3 Handling Missing Values <span\n",
        "                        class=\"badge badge-primary badge-pill\">5</span></a>\n",
        "            </li>\n",
        "        </ul>\n",
        "    </li>\n",
        "    <li><a class=\"list-group-item list-group-item-action\" data-toggle=\"list\" href=\"#3\" role=\"tab\"\n",
        "            aria-controls=\"settings\">3. Text Cleaning<span class=\"badge badge-primary badge-pill\">6</span></a>\n",
        "        <ul style=\"list-style-type:none;\">\n",
        "            <li><a class=\"list-group-item list-group-item-action\" data-toggle=\"list\" href=\"#3.1\" role=\"tab\"\n",
        "                    aria-controls=\"settings\">3.1 HTML Parsing and Cleanup <span\n",
        "                        class=\"badge badge-primary badge-pill\">7</span></a>\n",
        "            </li>\n",
        "            <li><a class=\"list-group-item list-group-item-action\" data-toggle=\"list\" href=\"#3.2\" role=\"tab\"\n",
        "                    aria-controls=\"settings\">3.2 Unicode Normalization<span\n",
        "                        class=\"badge badge-primary badge-pill\">8</span></a>\n",
        "            <ul style=\"list-style-type:none;\">\n",
        "                <li><a class=\"list-group-item list-group-item-action\" data-toggle=\"list\" href=\"#3.2.1\" role=\"tab\"\n",
        "                            aria-controls=\"settings\">3.2.1 The Issue of Equivalence<span\n",
        "                                class=\"badge badge-primary badge-pill\">9</span></a></li>\n",
        "                <li><a class=\"list-group-item list-group-item-action\" data-toggle=\"list\" href=\"#3.2.2\" role=\"tab\"\n",
        "                            aria-controls=\"settings\">3.2.2 Handling Emoji ‘😍😍’ & Emoticon ‘ :) ’ <span\n",
        "                                class=\"badge badge-primary badge-pill\">10</span></a></li>\n",
        "            </ul>\n",
        "            </li>\n",
        "            <li><a class=\"list-group-item list-group-item-action\" data-toggle=\"list\" href=\"#3.3\" role=\"tab\"\n",
        "                    aria-controls=\"settings\">3.3 Spelling Correction<span\n",
        "                        class=\"badge badge-primary badge-pill\">11</span></a>\n",
        "            </li>\n",
        "        </ul>\n",
        "    </li>\n",
        "    <li><a class=\"list-group-item list-group-item-action\" data-toggle=\"list\" href=\"#4\" role=\"tab\"\n",
        "            aria-controls=\"settings\">4. Text Pre-Processing <span class=\"badge badge-primary badge-pill\">12</span></a>\n",
        "        <ul style=\"list-style-type:none;\">\n",
        "            <li><a class=\"list-group-item list-group-item-action\" data-toggle=\"list\" href=\"#4.1\" role=\"tab\"\n",
        "                    aria-controls=\"settings\">4.1 Preliminaries <span\n",
        "                        class=\"badge badge-primary badge-pill\">13</span></a>\n",
        "            </li>\n",
        "            <li><a class=\"list-group-item list-group-item-action\" data-toggle=\"list\" href=\"#4.2\" role=\"tab\"\n",
        "                    aria-controls=\"settings\">4.2 Frequent Steps <span\n",
        "                        class=\"badge badge-primary badge-pill\">14</span></a>\n",
        "                <ul style=\"list-style-type:none;\">\n",
        "                    <li><a class=\"list-group-item list-group-item-action\" data-toggle=\"list\" href=\"#4.2.1\" role=\"tab\"\n",
        "                            aria-controls=\"settings\">4.2.1 Removing Stop Words<span\n",
        "                                class=\"badge badge-primary badge-pill\">15</span></a></li>\n",
        "                    <li><a class=\"list-group-item list-group-item-action\" data-toggle=\"list\" href=\"#4.2.2\" role=\"tab\"\n",
        "                            aria-controls=\"settings\">4.2.2 Stemming<span\n",
        "                                class=\"badge badge-primary badge-pill\">16</span></a></li>\n",
        "                    <li><a class=\"list-group-item list-group-item-action\" data-toggle=\"list\" href=\"#4.2.3\" role=\"tab\"\n",
        "                            aria-controls=\"settings\">4.2.3 Lemmatization<span\n",
        "                                class=\"badge badge-primary badge-pill\">17</span></a></li>\n",
        "                </ul>\n",
        "            </li>\n",
        "            <li><a class=\"list-group-item list-group-item-action\" data-toggle=\"list\" href=\"#4.3\" role=\"tab\"\n",
        "                    aria-controls=\"settings\">4.3 Other Pre-Processing Steps <span\n",
        "                        class=\"badge badge-primary badge-pill\">18</span></a>\n",
        "                <ul style=\"list-style-type:none;\">\n",
        "                    <li><a class=\"list-group-item list-group-item-action\" data-toggle=\"list\" href=\"#4.3.1\" role=\"tab\"\n",
        "                            aria-controls=\"settings\">4.3.1 Language Detection<span\n",
        "                                class=\"badge badge-primary badge-pill\">19</span></a></li>\n",
        "                    <li><a class=\"list-group-item list-group-item-action\" data-toggle=\"list\" href=\"#4.3.2\" role=\"tab\"\n",
        "                            aria-controls=\"settings\">4.3.2 Code mixing and transliteration<span\n",
        "                                class=\"badge badge-primary badge-pill\">20</span></a></li>\n",
        "                </ul>\n",
        "            </li>\n",
        "            <li><a class=\"list-group-item list-group-item-action\" data-toggle=\"list\" href=\"#4.4\" role=\"tab\"\n",
        "                    aria-controls=\"settings\">4.4 Data Augmentation <span\n",
        "                        class=\"badge badge-primary badge-pill\">21</span></a>\n",
        "            </li>\n",
        "        </ul>\n",
        "    </li>\n",
        "    <li><a class=\"list-group-item list-group-item-action\" data-toggle=\"list\" href=\"#5\" role=\"tab\"\n",
        "            aria-controls=\"settings\">5. Latent Dirichlet Allocation (LDA) <span\n",
        "                class=\"badge badge-primary badge-pill\">22</span></a> </li>\n",
        "    <li><a class=\"list-group-item list-group-item-action\" data-toggle=\"list\" href=\"#6\" role=\"tab\"\n",
        "            aria-controls=\"settings\">6. Model <span class=\"badge badge-primary badge-pill\">23</span></a>\n",
        "        <ul style=\"list-style-type:none;\">\n",
        "            <li><a class=\"list-group-item list-group-item-action\" data-toggle=\"list\" href=\"#6.1\" role=\"tab\"\n",
        "                    aria-controls=\"settings\">6.1 Configurations <span\n",
        "                        class=\"badge badge-primary badge-pill\">24</span></a>\n",
        "            </li>\n",
        "            <li><a class=\"list-group-item list-group-item-action\" data-toggle=\"list\" href=\"#6.2\" role=\"tab\"\n",
        "                    aria-controls=\"settings\">6.2 Dataset Generator<span\n",
        "                        class=\"badge badge-primary badge-pill\">25</span></a>\n",
        "                <ul style=\"list-style-type:none;\">\n",
        "                    <li><a class=\"list-group-item list-group-item-action\" data-toggle=\"list\" href=\"#6.2.1\" role=\"tab\"\n",
        "                            aria-controls=\"settings\">6.2.1 Creation of the Vocabulary<span\n",
        "                                class=\"badge badge-primary badge-pill\">26</span></a></li>\n",
        "                </ul>\n",
        "            <li><a class=\"list-group-item list-group-item-action\" data-toggle=\"list\" href=\"#6.3\" role=\"tab\"\n",
        "                    aria-controls=\"settings\">6.3 Word Embeddings<span\n",
        "                        class=\"badge badge-primary badge-pill\">27</span></a>\n",
        "            </li>\n",
        "            <li><a class=\"list-group-item list-group-item-action\" data-toggle=\"list\" href=\"#6.4\" role=\"tab\"\n",
        "                    aria-controls=\"settings\">6.4 Initializing the Model<span\n",
        "                        class=\"badge badge-primary badge-pill\">28</span></a>\n",
        "            </li>\n",
        "            <li><a class=\"list-group-item list-group-item-action\" data-toggle=\"list\" href=\"#6.5\" role=\"tab\"\n",
        "                    aria-controls=\"settings\">6.5 Training and K-fold Cross Validation<span\n",
        "                        class=\"badge badge-primary badge-pill\">29</span></a>\n",
        "            </li>\n",
        "        </ul>\n",
        "    </li>\n",
        "    <li><a class=\"list-group-item list-group-item-action\" data-toggle=\"list\" href=\"#7\" role=\"tab\"\n",
        "            aria-controls=\"settings\">7. Inference <span class=\"badge badge-primary badge-pill\">30</span></a> </li>\n",
        "    <li><a class=\"list-group-item list-group-item-action\" data-toggle=\"list\" href=\"#8\" role=\"tab\"\n",
        "            aria-controls=\"settings\">8. References <span class=\"badge badge-primary badge-pill\">31</span></a> </li>\n",
        "</ul>"
      ],
      "metadata": {
        "papermill": {
          "duration": 0.105756,
          "end_time": "2022-06-13T19:46:27.135836",
          "exception": false,
          "start_time": "2022-06-13T19:46:27.03008",
          "status": "completed"
        },
        "tags": [],
        "id": "qOhaki5X8lqt"
      }
    },
    {
      "cell_type": "code",
      "source": [],
      "metadata": {
        "papermill": {
          "duration": 0.105846,
          "end_time": "2022-06-13T19:46:27.610721",
          "exception": false,
          "start_time": "2022-06-13T19:46:27.504875",
          "status": "completed"
        },
        "tags": [],
        "id": "059d6_gD8lqx"
      },
      "execution_count": null,
      "outputs": []
    },
    {
      "cell_type": "markdown",
      "source": [
        "<h1  style=\"text-align: center\" class=\"list-group-item list-group-item-action active\">2. Data Acquisition </h1><a id = \"2\" ></a>\n",
        "\n",
        "Data Acquisition Phase of the NLP pipeline deals with how can we get information rich and clean data form some source. In our case we fetch the data from flipkart's web page using web scraping technique.\n",
        "\n",
        "<h2  style=\"text-align: center\" class=\"list-group-item list-group-item-success\"> 2.1 Web Scraping </h2><a id = \"2.1\" ></a>\n",
        "\n",
        "Let say we want to analyze the flipkart customers reviews on some Mobile Phone well, we can copy and paste the information from flipkart reviews section to our own file. But in our case we need large amount of data for aspect based sentiment analysis task from the website as quickly as possible. In such a situation, copying and pasting will not work! And that’s when we’ll need to use **Web Scraping**.\n",
        "\n",
        "Web scraping is a method of extracting large amounts of data from websites in an automated manner. The majority of this information is unstructured HTML data that is converted to structured data in a spreadsheet or database before being used in various applications.\n",
        "\n",
        "I Basically used python library BeautifulSoup to fetch the data from web.\n",
        "\n",
        "In this notebook I will not discuss how web scraping works as it's a bit techniq thing but if you are interested to learn the implementation for web scraping you can go through the following blog post.\n",
        "\n",
        "[A Practical Introduction to Web Scraping in Python](https://realpython.com/python-web-scraping-practical-introduction/)\n"
      ],
      "metadata": {
        "papermill": {
          "duration": 0.10424,
          "end_time": "2022-06-13T19:46:28.036258",
          "exception": false,
          "start_time": "2022-06-13T19:46:27.932018",
          "status": "completed"
        },
        "tags": [],
        "id": "U65t7rT18lqy"
      }
    },
    {
      "cell_type": "code",
      "source": [
        "import pandas as pd\n",
        "import torch\n",
        "import numpy as np\n",
        "import sqlite3\n",
        "import matplotlib.pyplot as plt\n",
        "import seaborn as sns\n",
        "import re\n",
        "import nltk\n",
        "from nltk.corpus import stopwords\n",
        "from nltk.stem import WordNetLemmatizer\n",
        "from nltk.stem.porter import PorterStemmer\n",
        "from sklearn.feature_extraction.text import CountVectorizer\n",
        "\n",
        "pd.set_option('display.max_columns', None)\n",
        "pd.set_option('display.max_rows', None)\n",
        "import warnings\n"
      ],
      "metadata": {
        "execution": {
          "iopub.execute_input": "2022-07-05T06:55:58.534737Z",
          "iopub.status.busy": "2022-07-05T06:55:58.534064Z",
          "iopub.status.idle": "2022-07-05T06:55:58.542197Z",
          "shell.execute_reply": "2022-07-05T06:55:58.541002Z",
          "shell.execute_reply.started": "2022-07-05T06:55:58.534702Z"
        },
        "papermill": {
          "duration": 3.349149,
          "end_time": "2022-06-13T19:46:31.487573",
          "exception": false,
          "start_time": "2022-06-13T19:46:28.138424",
          "status": "completed"
        },
        "tags": [],
        "id": "TIY4HVEw8lqy"
      },
      "execution_count": null,
      "outputs": []
    },
    {
      "cell_type": "markdown",
      "source": [
        "<h2  style=\"text-align: center\" class=\"list-group-item list-group-item-success\"> 2.2 About the Data </h2><a id = \"2.2\" ></a>\n",
        "\n",
        "\n",
        "Before Loading the dataset I want to specify few details about data. The data is fetched from flipkart India web page contains 83 tables in which 1 table contains information about rest 82 tables. Those rest 82 tables contains reviews of 82 mobile phones.\n",
        "\n",
        "A table which contains information about mobile phones has following attributes.\n",
        "\n",
        " - product_id    \n",
        " - product_name  \n",
        " - price         \n",
        " - category      \n",
        " - sub_category  \n",
        " - specifications\n",
        " - ratings       \n",
        " - discount      \n",
        " - moreinfo      \n",
        "\n",
        "Tables containing reviews of 82 mobile phones has following attributes.\n",
        "\n",
        " - product_id  \n",
        " - review_id   \n",
        " - title       \n",
        " - review      \n",
        " - likes       \n",
        " - dislikes    \n",
        " - ratings     \n",
        " - reviewer    \n",
        "\n"
      ],
      "metadata": {
        "papermill": {
          "duration": 0.101878,
          "end_time": "2022-06-13T19:46:31.691103",
          "exception": false,
          "start_time": "2022-06-13T19:46:31.589225",
          "status": "completed"
        },
        "tags": [],
        "id": "pCMJEXbE8lqy"
      }
    },
    {
      "cell_type": "code",
      "source": [
        "import sqlite3\n",
        "\n",
        "# Read sqlite query results into a pandas DataFrame\n",
        "con = sqlite3.connect(\"../input/flipkart-cell-phone-reviews/flipkart_products.db\")\n",
        "items = pd.read_sql_query(\"SELECT * from items\", con)\n",
        "con.close()\n"
      ],
      "metadata": {
        "execution": {
          "iopub.execute_input": "2022-07-05T06:55:58.58416Z",
          "iopub.status.busy": "2022-07-05T06:55:58.583495Z",
          "iopub.status.idle": "2022-07-05T06:55:58.632633Z",
          "shell.execute_reply": "2022-07-05T06:55:58.631744Z",
          "shell.execute_reply.started": "2022-07-05T06:55:58.584096Z"
        },
        "papermill": {
          "duration": 0.173297,
          "end_time": "2022-06-13T19:46:31.968568",
          "exception": false,
          "start_time": "2022-06-13T19:46:31.795271",
          "status": "completed"
        },
        "tags": [],
        "id": "5GZfL-g68lqz"
      },
      "execution_count": null,
      "outputs": []
    },
    {
      "cell_type": "code",
      "source": [
        "items.head()\n"
      ],
      "metadata": {
        "execution": {
          "iopub.execute_input": "2022-07-05T06:55:58.636212Z",
          "iopub.status.busy": "2022-07-05T06:55:58.635952Z",
          "iopub.status.idle": "2022-07-05T06:55:58.653353Z",
          "shell.execute_reply": "2022-07-05T06:55:58.652351Z",
          "shell.execute_reply.started": "2022-07-05T06:55:58.636187Z"
        },
        "papermill": {
          "duration": 0.124524,
          "end_time": "2022-06-13T19:46:32.195877",
          "exception": false,
          "start_time": "2022-06-13T19:46:32.071353",
          "status": "completed"
        },
        "tags": [],
        "id": "afZn-x1H8lqz",
        "colab": {
          "base_uri": "https://localhost:8080/",
          "height": 379
        },
        "outputId": "b31852bf-8cfd-494e-aad0-cc498be2e139"
      },
      "execution_count": null,
      "outputs": [
        {
          "output_type": "execute_result",
          "data": {
            "text/plain": [
              "   product_id                      product_name    price     category  \\\n",
              "0  ECMB000001         Redmi 9A (SeaBlue, 32 GB)   ₹7,413  Electronics   \n",
              "1  ECMB000002  Redmi 9A (Midnight Black, 32 GB)   ₹7,421  Electronics   \n",
              "2  ECMB000003    Redmi 9A (Nature Green, 32 GB)   ₹7,384  Electronics   \n",
              "3  ECMB000004     Redmi 9 (Carbon Black, 64 GB)  ₹10,745  Electronics   \n",
              "4  ECMB000005         Redmi 9 (Sky Blue, 64 GB)  ₹10,489  Electronics   \n",
              "\n",
              "  sub_category                                     specifications ratings  \\\n",
              "0       Mobile  2 GB RAM | 32 GB ROM16.59 cm (6.53 inch) Full ...     4.3   \n",
              "1       Mobile  2 GB RAM | 32 GB ROM16.59 cm (6.53 inch) Full ...     4.3   \n",
              "2       Mobile  2 GB RAM | 32 GB ROM16.59 cm (6.53 inch) Full ...     4.3   \n",
              "3       Mobile  4 GB RAM | 64 GB ROM16.59 cm (6.53 inch) HD+ D...     4.2   \n",
              "4       Mobile  4 GB RAM | 64 GB ROM16.59 cm (6.53 inch) HD+ D...     4.2   \n",
              "\n",
              "  discount                                           moreinfo  \n",
              "0      3.0  /redmi-9a-seablue-32-gb/p/itmeabd39a0cd669?pid...  \n",
              "1      3.0  /redmi-9a-midnight-black-32-gb/p/itmeabd39a0cd...  \n",
              "2      4.0  /redmi-9a-nature-green-32-gb/p/itmeabd39a0cd66...  \n",
              "3     None  /redmi-9-carbon-black-64-gb/p/itm4fb151383983b...  \n",
              "4     None  /redmi-9-sky-blue-64-gb/p/itm4fb151383983b?pid...  "
            ],
            "text/html": [
              "\n",
              "  <div id=\"df-d79f962a-c094-47ee-b397-7b6400475471\" class=\"colab-df-container\">\n",
              "    <div>\n",
              "<style scoped>\n",
              "    .dataframe tbody tr th:only-of-type {\n",
              "        vertical-align: middle;\n",
              "    }\n",
              "\n",
              "    .dataframe tbody tr th {\n",
              "        vertical-align: top;\n",
              "    }\n",
              "\n",
              "    .dataframe thead th {\n",
              "        text-align: right;\n",
              "    }\n",
              "</style>\n",
              "<table border=\"1\" class=\"dataframe\">\n",
              "  <thead>\n",
              "    <tr style=\"text-align: right;\">\n",
              "      <th></th>\n",
              "      <th>product_id</th>\n",
              "      <th>product_name</th>\n",
              "      <th>price</th>\n",
              "      <th>category</th>\n",
              "      <th>sub_category</th>\n",
              "      <th>specifications</th>\n",
              "      <th>ratings</th>\n",
              "      <th>discount</th>\n",
              "      <th>moreinfo</th>\n",
              "    </tr>\n",
              "  </thead>\n",
              "  <tbody>\n",
              "    <tr>\n",
              "      <th>0</th>\n",
              "      <td>ECMB000001</td>\n",
              "      <td>Redmi 9A (SeaBlue, 32 GB)</td>\n",
              "      <td>₹7,413</td>\n",
              "      <td>Electronics</td>\n",
              "      <td>Mobile</td>\n",
              "      <td>2 GB RAM | 32 GB ROM16.59 cm (6.53 inch) Full ...</td>\n",
              "      <td>4.3</td>\n",
              "      <td>3.0</td>\n",
              "      <td>/redmi-9a-seablue-32-gb/p/itmeabd39a0cd669?pid...</td>\n",
              "    </tr>\n",
              "    <tr>\n",
              "      <th>1</th>\n",
              "      <td>ECMB000002</td>\n",
              "      <td>Redmi 9A (Midnight Black, 32 GB)</td>\n",
              "      <td>₹7,421</td>\n",
              "      <td>Electronics</td>\n",
              "      <td>Mobile</td>\n",
              "      <td>2 GB RAM | 32 GB ROM16.59 cm (6.53 inch) Full ...</td>\n",
              "      <td>4.3</td>\n",
              "      <td>3.0</td>\n",
              "      <td>/redmi-9a-midnight-black-32-gb/p/itmeabd39a0cd...</td>\n",
              "    </tr>\n",
              "    <tr>\n",
              "      <th>2</th>\n",
              "      <td>ECMB000003</td>\n",
              "      <td>Redmi 9A (Nature Green, 32 GB)</td>\n",
              "      <td>₹7,384</td>\n",
              "      <td>Electronics</td>\n",
              "      <td>Mobile</td>\n",
              "      <td>2 GB RAM | 32 GB ROM16.59 cm (6.53 inch) Full ...</td>\n",
              "      <td>4.3</td>\n",
              "      <td>4.0</td>\n",
              "      <td>/redmi-9a-nature-green-32-gb/p/itmeabd39a0cd66...</td>\n",
              "    </tr>\n",
              "    <tr>\n",
              "      <th>3</th>\n",
              "      <td>ECMB000004</td>\n",
              "      <td>Redmi 9 (Carbon Black, 64 GB)</td>\n",
              "      <td>₹10,745</td>\n",
              "      <td>Electronics</td>\n",
              "      <td>Mobile</td>\n",
              "      <td>4 GB RAM | 64 GB ROM16.59 cm (6.53 inch) HD+ D...</td>\n",
              "      <td>4.2</td>\n",
              "      <td>None</td>\n",
              "      <td>/redmi-9-carbon-black-64-gb/p/itm4fb151383983b...</td>\n",
              "    </tr>\n",
              "    <tr>\n",
              "      <th>4</th>\n",
              "      <td>ECMB000005</td>\n",
              "      <td>Redmi 9 (Sky Blue, 64 GB)</td>\n",
              "      <td>₹10,489</td>\n",
              "      <td>Electronics</td>\n",
              "      <td>Mobile</td>\n",
              "      <td>4 GB RAM | 64 GB ROM16.59 cm (6.53 inch) HD+ D...</td>\n",
              "      <td>4.2</td>\n",
              "      <td>None</td>\n",
              "      <td>/redmi-9-sky-blue-64-gb/p/itm4fb151383983b?pid...</td>\n",
              "    </tr>\n",
              "  </tbody>\n",
              "</table>\n",
              "</div>\n",
              "    <div class=\"colab-df-buttons\">\n",
              "\n",
              "  <div class=\"colab-df-container\">\n",
              "    <button class=\"colab-df-convert\" onclick=\"convertToInteractive('df-d79f962a-c094-47ee-b397-7b6400475471')\"\n",
              "            title=\"Convert this dataframe to an interactive table.\"\n",
              "            style=\"display:none;\">\n",
              "\n",
              "  <svg xmlns=\"http://www.w3.org/2000/svg\" height=\"24px\" viewBox=\"0 -960 960 960\">\n",
              "    <path d=\"M120-120v-720h720v720H120Zm60-500h600v-160H180v160Zm220 220h160v-160H400v160Zm0 220h160v-160H400v160ZM180-400h160v-160H180v160Zm440 0h160v-160H620v160ZM180-180h160v-160H180v160Zm440 0h160v-160H620v160Z\"/>\n",
              "  </svg>\n",
              "    </button>\n",
              "\n",
              "  <style>\n",
              "    .colab-df-container {\n",
              "      display:flex;\n",
              "      gap: 12px;\n",
              "    }\n",
              "\n",
              "    .colab-df-convert {\n",
              "      background-color: #E8F0FE;\n",
              "      border: none;\n",
              "      border-radius: 50%;\n",
              "      cursor: pointer;\n",
              "      display: none;\n",
              "      fill: #1967D2;\n",
              "      height: 32px;\n",
              "      padding: 0 0 0 0;\n",
              "      width: 32px;\n",
              "    }\n",
              "\n",
              "    .colab-df-convert:hover {\n",
              "      background-color: #E2EBFA;\n",
              "      box-shadow: 0px 1px 2px rgba(60, 64, 67, 0.3), 0px 1px 3px 1px rgba(60, 64, 67, 0.15);\n",
              "      fill: #174EA6;\n",
              "    }\n",
              "\n",
              "    .colab-df-buttons div {\n",
              "      margin-bottom: 4px;\n",
              "    }\n",
              "\n",
              "    [theme=dark] .colab-df-convert {\n",
              "      background-color: #3B4455;\n",
              "      fill: #D2E3FC;\n",
              "    }\n",
              "\n",
              "    [theme=dark] .colab-df-convert:hover {\n",
              "      background-color: #434B5C;\n",
              "      box-shadow: 0px 1px 3px 1px rgba(0, 0, 0, 0.15);\n",
              "      filter: drop-shadow(0px 1px 2px rgba(0, 0, 0, 0.3));\n",
              "      fill: #FFFFFF;\n",
              "    }\n",
              "  </style>\n",
              "\n",
              "    <script>\n",
              "      const buttonEl =\n",
              "        document.querySelector('#df-d79f962a-c094-47ee-b397-7b6400475471 button.colab-df-convert');\n",
              "      buttonEl.style.display =\n",
              "        google.colab.kernel.accessAllowed ? 'block' : 'none';\n",
              "\n",
              "      async function convertToInteractive(key) {\n",
              "        const element = document.querySelector('#df-d79f962a-c094-47ee-b397-7b6400475471');\n",
              "        const dataTable =\n",
              "          await google.colab.kernel.invokeFunction('convertToInteractive',\n",
              "                                                    [key], {});\n",
              "        if (!dataTable) return;\n",
              "\n",
              "        const docLinkHtml = 'Like what you see? Visit the ' +\n",
              "          '<a target=\"_blank\" href=https://colab.research.google.com/notebooks/data_table.ipynb>data table notebook</a>'\n",
              "          + ' to learn more about interactive tables.';\n",
              "        element.innerHTML = '';\n",
              "        dataTable['output_type'] = 'display_data';\n",
              "        await google.colab.output.renderOutput(dataTable, element);\n",
              "        const docLink = document.createElement('div');\n",
              "        docLink.innerHTML = docLinkHtml;\n",
              "        element.appendChild(docLink);\n",
              "      }\n",
              "    </script>\n",
              "  </div>\n",
              "\n",
              "\n",
              "<div id=\"df-60cacdfe-a848-4770-84d4-d51456617b9b\">\n",
              "  <button class=\"colab-df-quickchart\" onclick=\"quickchart('df-60cacdfe-a848-4770-84d4-d51456617b9b')\"\n",
              "            title=\"Suggest charts\"\n",
              "            style=\"display:none;\">\n",
              "\n",
              "<svg xmlns=\"http://www.w3.org/2000/svg\" height=\"24px\"viewBox=\"0 0 24 24\"\n",
              "     width=\"24px\">\n",
              "    <g>\n",
              "        <path d=\"M19 3H5c-1.1 0-2 .9-2 2v14c0 1.1.9 2 2 2h14c1.1 0 2-.9 2-2V5c0-1.1-.9-2-2-2zM9 17H7v-7h2v7zm4 0h-2V7h2v10zm4 0h-2v-4h2v4z\"/>\n",
              "    </g>\n",
              "</svg>\n",
              "  </button>\n",
              "\n",
              "<style>\n",
              "  .colab-df-quickchart {\n",
              "      --bg-color: #E8F0FE;\n",
              "      --fill-color: #1967D2;\n",
              "      --hover-bg-color: #E2EBFA;\n",
              "      --hover-fill-color: #174EA6;\n",
              "      --disabled-fill-color: #AAA;\n",
              "      --disabled-bg-color: #DDD;\n",
              "  }\n",
              "\n",
              "  [theme=dark] .colab-df-quickchart {\n",
              "      --bg-color: #3B4455;\n",
              "      --fill-color: #D2E3FC;\n",
              "      --hover-bg-color: #434B5C;\n",
              "      --hover-fill-color: #FFFFFF;\n",
              "      --disabled-bg-color: #3B4455;\n",
              "      --disabled-fill-color: #666;\n",
              "  }\n",
              "\n",
              "  .colab-df-quickchart {\n",
              "    background-color: var(--bg-color);\n",
              "    border: none;\n",
              "    border-radius: 50%;\n",
              "    cursor: pointer;\n",
              "    display: none;\n",
              "    fill: var(--fill-color);\n",
              "    height: 32px;\n",
              "    padding: 0;\n",
              "    width: 32px;\n",
              "  }\n",
              "\n",
              "  .colab-df-quickchart:hover {\n",
              "    background-color: var(--hover-bg-color);\n",
              "    box-shadow: 0 1px 2px rgba(60, 64, 67, 0.3), 0 1px 3px 1px rgba(60, 64, 67, 0.15);\n",
              "    fill: var(--button-hover-fill-color);\n",
              "  }\n",
              "\n",
              "  .colab-df-quickchart-complete:disabled,\n",
              "  .colab-df-quickchart-complete:disabled:hover {\n",
              "    background-color: var(--disabled-bg-color);\n",
              "    fill: var(--disabled-fill-color);\n",
              "    box-shadow: none;\n",
              "  }\n",
              "\n",
              "  .colab-df-spinner {\n",
              "    border: 2px solid var(--fill-color);\n",
              "    border-color: transparent;\n",
              "    border-bottom-color: var(--fill-color);\n",
              "    animation:\n",
              "      spin 1s steps(1) infinite;\n",
              "  }\n",
              "\n",
              "  @keyframes spin {\n",
              "    0% {\n",
              "      border-color: transparent;\n",
              "      border-bottom-color: var(--fill-color);\n",
              "      border-left-color: var(--fill-color);\n",
              "    }\n",
              "    20% {\n",
              "      border-color: transparent;\n",
              "      border-left-color: var(--fill-color);\n",
              "      border-top-color: var(--fill-color);\n",
              "    }\n",
              "    30% {\n",
              "      border-color: transparent;\n",
              "      border-left-color: var(--fill-color);\n",
              "      border-top-color: var(--fill-color);\n",
              "      border-right-color: var(--fill-color);\n",
              "    }\n",
              "    40% {\n",
              "      border-color: transparent;\n",
              "      border-right-color: var(--fill-color);\n",
              "      border-top-color: var(--fill-color);\n",
              "    }\n",
              "    60% {\n",
              "      border-color: transparent;\n",
              "      border-right-color: var(--fill-color);\n",
              "    }\n",
              "    80% {\n",
              "      border-color: transparent;\n",
              "      border-right-color: var(--fill-color);\n",
              "      border-bottom-color: var(--fill-color);\n",
              "    }\n",
              "    90% {\n",
              "      border-color: transparent;\n",
              "      border-bottom-color: var(--fill-color);\n",
              "    }\n",
              "  }\n",
              "</style>\n",
              "\n",
              "  <script>\n",
              "    async function quickchart(key) {\n",
              "      const quickchartButtonEl =\n",
              "        document.querySelector('#' + key + ' button');\n",
              "      quickchartButtonEl.disabled = true;  // To prevent multiple clicks.\n",
              "      quickchartButtonEl.classList.add('colab-df-spinner');\n",
              "      try {\n",
              "        const charts = await google.colab.kernel.invokeFunction(\n",
              "            'suggestCharts', [key], {});\n",
              "      } catch (error) {\n",
              "        console.error('Error during call to suggestCharts:', error);\n",
              "      }\n",
              "      quickchartButtonEl.classList.remove('colab-df-spinner');\n",
              "      quickchartButtonEl.classList.add('colab-df-quickchart-complete');\n",
              "    }\n",
              "    (() => {\n",
              "      let quickchartButtonEl =\n",
              "        document.querySelector('#df-60cacdfe-a848-4770-84d4-d51456617b9b button');\n",
              "      quickchartButtonEl.style.display =\n",
              "        google.colab.kernel.accessAllowed ? 'block' : 'none';\n",
              "    })();\n",
              "  </script>\n",
              "</div>\n",
              "    </div>\n",
              "  </div>\n"
            ],
            "application/vnd.google.colaboratory.intrinsic+json": {
              "type": "dataframe",
              "variable_name": "items",
              "summary": "{\n  \"name\": \"items\",\n  \"rows\": 82,\n  \"fields\": [\n    {\n      \"column\": \"product_id\",\n      \"properties\": {\n        \"dtype\": \"string\",\n        \"num_unique_values\": 82,\n        \"samples\": [\n          \"ECMB000031\",\n          \"ECMB000001\",\n          \"ECMB000023\"\n        ],\n        \"semantic_type\": \"\",\n        \"description\": \"\"\n      }\n    },\n    {\n      \"column\": \"product_name\",\n      \"properties\": {\n        \"dtype\": \"string\",\n        \"num_unique_values\": 62,\n        \"samples\": [\n          \"Redmi Note 7S (Sapphire Blue, 64 GB)\",\n          \"Mi 4i (Blue, 16 GB)\",\n          \"Redmi 9A (SeaBlue, 32 GB)\"\n        ],\n        \"semantic_type\": \"\",\n        \"description\": \"\"\n      }\n    },\n    {\n      \"column\": \"price\",\n      \"properties\": {\n        \"dtype\": \"string\",\n        \"num_unique_values\": 59,\n        \"samples\": [\n          \"\\u20b97,413\",\n          \"\\u20b98,289\",\n          \"\\u20b925,974\"\n        ],\n        \"semantic_type\": \"\",\n        \"description\": \"\"\n      }\n    },\n    {\n      \"column\": \"category\",\n      \"properties\": {\n        \"dtype\": \"category\",\n        \"num_unique_values\": 1,\n        \"samples\": [\n          \"Electronics\"\n        ],\n        \"semantic_type\": \"\",\n        \"description\": \"\"\n      }\n    },\n    {\n      \"column\": \"sub_category\",\n      \"properties\": {\n        \"dtype\": \"category\",\n        \"num_unique_values\": 1,\n        \"samples\": [\n          \"Mobile\"\n        ],\n        \"semantic_type\": \"\",\n        \"description\": \"\"\n      }\n    },\n    {\n      \"column\": \"specifications\",\n      \"properties\": {\n        \"dtype\": \"string\",\n        \"num_unique_values\": 49,\n        \"samples\": [\n          \"4 GB RAM | 128 GB ROM | Expandable Upto 512 GB16.94 cm (6.67 inch) Full HD+ Display48MP + 8MP + 5MP + 2MP | 16MP Front Camera5020 mAh BatteryQualcomm\\u00ae Snapdragon\\u2122 720G Processor1 year manufacturer warranty for device and 6 months manufacturer warranty for in-box accessories\"\n        ],\n        \"semantic_type\": \"\",\n        \"description\": \"\"\n      }\n    },\n    {\n      \"column\": \"ratings\",\n      \"properties\": {\n        \"dtype\": \"category\",\n        \"num_unique_values\": 5,\n        \"samples\": [\n          \"4.2\"\n        ],\n        \"semantic_type\": \"\",\n        \"description\": \"\"\n      }\n    },\n    {\n      \"column\": \"discount\",\n      \"properties\": {\n        \"dtype\": \"category\",\n        \"num_unique_values\": 25,\n        \"samples\": [\n          8.0\n        ],\n        \"semantic_type\": \"\",\n        \"description\": \"\"\n      }\n    },\n    {\n      \"column\": \"moreinfo\",\n      \"properties\": {\n        \"dtype\": \"string\",\n        \"num_unique_values\": 82,\n        \"samples\": [\n          \"/mi-11x-5g-lunar-white-128-gb/p/itmdc6a5f695c609?pid=MOBG2QSCM6PGST6M&lid=LSTMOBG2QSCM6PGST6MSQ1O25&marketplace=FLIPKART&store=tyy%2F4io&srno=b_2_37&otracker=nmenu_sub_Electronics_0_Mi&fm=organic&iid=6e1ab22f-816b-4eda-bc16-872a6b3a4bb8.MOBG2QSCM6PGST6M.SEARCH&ppt=None&ppn=None&ssid=fo0vlml0gg0000001626874765404\"\n        ],\n        \"semantic_type\": \"\",\n        \"description\": \"\"\n      }\n    }\n  ]\n}"
            }
          },
          "metadata": {},
          "execution_count": 4
        }
      ]
    },
    {
      "cell_type": "code",
      "source": [
        "items.info()\n"
      ],
      "metadata": {
        "execution": {
          "iopub.execute_input": "2022-07-05T06:55:58.655322Z",
          "iopub.status.busy": "2022-07-05T06:55:58.654964Z",
          "iopub.status.idle": "2022-07-05T06:55:58.668365Z",
          "shell.execute_reply": "2022-07-05T06:55:58.666319Z",
          "shell.execute_reply.started": "2022-07-05T06:55:58.655267Z"
        },
        "papermill": {
          "duration": 0.12442,
          "end_time": "2022-06-13T19:46:32.422375",
          "exception": false,
          "start_time": "2022-06-13T19:46:32.297955",
          "status": "completed"
        },
        "tags": [],
        "id": "YeIBU8GP8lq0",
        "colab": {
          "base_uri": "https://localhost:8080/"
        },
        "outputId": "81611273-22d5-4a98-8c8f-9d7b86c6d506"
      },
      "execution_count": null,
      "outputs": [
        {
          "output_type": "stream",
          "name": "stdout",
          "text": [
            "<class 'pandas.core.frame.DataFrame'>\n",
            "RangeIndex: 82 entries, 0 to 81\n",
            "Data columns (total 9 columns):\n",
            " #   Column          Non-Null Count  Dtype \n",
            "---  ------          --------------  ----- \n",
            " 0   product_id      82 non-null     object\n",
            " 1   product_name    82 non-null     object\n",
            " 2   price           82 non-null     object\n",
            " 3   category        82 non-null     object\n",
            " 4   sub_category    82 non-null     object\n",
            " 5   specifications  82 non-null     object\n",
            " 6   ratings         82 non-null     object\n",
            " 7   discount        34 non-null     object\n",
            " 8   moreinfo        82 non-null     object\n",
            "dtypes: object(9)\n",
            "memory usage: 5.9+ KB\n"
          ]
        }
      ]
    },
    {
      "cell_type": "markdown",
      "source": [
        "Items dataset is just like an index for some book."
      ],
      "metadata": {
        "papermill": {
          "duration": 0.102265,
          "end_time": "2022-06-13T19:46:32.6309",
          "exception": false,
          "start_time": "2022-06-13T19:46:32.528635",
          "status": "completed"
        },
        "tags": [],
        "id": "6ceIDfQp8lq1"
      }
    },
    {
      "cell_type": "code",
      "source": [
        "\n",
        "con = sqlite3.connect(\"../input/flipkart-cell-phone-reviews/flipkart_products.db\")\n",
        "\n",
        "df = pd.read_sql_query(\"SELECT * from ECMB000001\", con)\n",
        "\n",
        "for i in range(2, len(items) + 1):\n",
        "\n",
        "    df_temp = pd.read_sql_query(\"SELECT * from ECMB{:06d}\".format(i), con)\n",
        "    df = pd.concat([df, df_temp])\n",
        "con.close()\n"
      ],
      "metadata": {
        "execution": {
          "iopub.execute_input": "2022-07-05T06:55:58.671265Z",
          "iopub.status.busy": "2022-07-05T06:55:58.670413Z",
          "iopub.status.idle": "2022-07-05T06:55:59.899293Z",
          "shell.execute_reply": "2022-07-05T06:55:59.898347Z",
          "shell.execute_reply.started": "2022-07-05T06:55:58.671224Z"
        },
        "papermill": {
          "duration": 1.494515,
          "end_time": "2022-06-13T19:46:34.227839",
          "exception": false,
          "start_time": "2022-06-13T19:46:32.733324",
          "status": "completed"
        },
        "tags": [],
        "id": "Hz_8bmUw8lq1"
      },
      "execution_count": null,
      "outputs": []
    },
    {
      "cell_type": "code",
      "source": [
        "df.info()\n"
      ],
      "metadata": {
        "execution": {
          "iopub.execute_input": "2022-07-05T06:55:59.9025Z",
          "iopub.status.busy": "2022-07-05T06:55:59.902199Z",
          "iopub.status.idle": "2022-07-05T06:55:59.955553Z",
          "shell.execute_reply": "2022-07-05T06:55:59.954383Z",
          "shell.execute_reply.started": "2022-07-05T06:55:59.902474Z"
        },
        "papermill": {
          "duration": 0.159363,
          "end_time": "2022-06-13T19:46:34.490666",
          "exception": false,
          "start_time": "2022-06-13T19:46:34.331303",
          "status": "completed"
        },
        "tags": [],
        "id": "l81Jx8Dk8lq1",
        "colab": {
          "base_uri": "https://localhost:8080/"
        },
        "outputId": "facf6108-9aa8-4719-de1a-328458d540b8"
      },
      "execution_count": null,
      "outputs": [
        {
          "output_type": "stream",
          "name": "stdout",
          "text": [
            "<class 'pandas.core.frame.DataFrame'>\n",
            "Index: 53493 entries, 0 to 289\n",
            "Data columns (total 8 columns):\n",
            " #   Column      Non-Null Count  Dtype \n",
            "---  ------      --------------  ----- \n",
            " 0   product_id  53493 non-null  object\n",
            " 1   review_id   53493 non-null  object\n",
            " 2   title       53493 non-null  object\n",
            " 3   review      53493 non-null  object\n",
            " 4   likes       53493 non-null  object\n",
            " 5   dislikes    53493 non-null  object\n",
            " 6   ratings     48488 non-null  object\n",
            " 7   reviewer    53493 non-null  object\n",
            "dtypes: object(8)\n",
            "memory usage: 3.7+ MB\n"
          ]
        }
      ]
    },
    {
      "cell_type": "code",
      "source": [
        "df.head()"
      ],
      "metadata": {
        "execution": {
          "iopub.execute_input": "2022-07-05T06:55:59.95828Z",
          "iopub.status.busy": "2022-07-05T06:55:59.957158Z",
          "iopub.status.idle": "2022-07-05T06:55:59.973952Z",
          "shell.execute_reply": "2022-07-05T06:55:59.97294Z",
          "shell.execute_reply.started": "2022-07-05T06:55:59.958241Z"
        },
        "papermill": {
          "duration": 0.119134,
          "end_time": "2022-06-13T19:46:34.714863",
          "exception": false,
          "start_time": "2022-06-13T19:46:34.595729",
          "status": "completed"
        },
        "tags": [],
        "id": "nTRLhd4X8lq2",
        "colab": {
          "base_uri": "https://localhost:8080/",
          "height": 275
        },
        "outputId": "90298fa0-38ac-4768-834b-f7927ff76f58"
      },
      "execution_count": null,
      "outputs": [
        {
          "output_type": "execute_result",
          "data": {
            "text/plain": [
              "   product_id          review_id               title  \\\n",
              "0  ECMB000001  ECMB0000010000001           Excellent   \n",
              "1  ECMB000001  ECMB0000010000002     Worth the money   \n",
              "2  ECMB000001  ECMB0000010000003           Just wow!   \n",
              "3  ECMB000001  ECMB0000010000004      Simply awesome   \n",
              "4  ECMB000001  ECMB0000010000005  Highly recommended   \n",
              "\n",
              "                                              review likes dislikes ratings  \\\n",
              "0  Wow superb I love it❤️👍 battery backup so nice 👍👍   740      160       5   \n",
              "1  Mobile So Good In Range Redmi 9a Has Miui 12 L...   355      104       4   \n",
              "2  Wonderful device and smart phone best camera b...   125       47       5   \n",
              "3  Very good mobile. Value for money. Battery bac...     0        0       5   \n",
              "4                Really great.... value for money...    90       15       5   \n",
              "\n",
              "             reviewer  \n",
              "0      Abhishek Saini  \n",
              "1  Dinesh Kumar Sahni  \n",
              "2   Flipkart Customer  \n",
              "3            Amit Sen  \n",
              "4     Sudeshna pakira  "
            ],
            "text/html": [
              "\n",
              "  <div id=\"df-356b7cb9-bc0e-4a1e-ad5c-d173985d9300\" class=\"colab-df-container\">\n",
              "    <div>\n",
              "<style scoped>\n",
              "    .dataframe tbody tr th:only-of-type {\n",
              "        vertical-align: middle;\n",
              "    }\n",
              "\n",
              "    .dataframe tbody tr th {\n",
              "        vertical-align: top;\n",
              "    }\n",
              "\n",
              "    .dataframe thead th {\n",
              "        text-align: right;\n",
              "    }\n",
              "</style>\n",
              "<table border=\"1\" class=\"dataframe\">\n",
              "  <thead>\n",
              "    <tr style=\"text-align: right;\">\n",
              "      <th></th>\n",
              "      <th>product_id</th>\n",
              "      <th>review_id</th>\n",
              "      <th>title</th>\n",
              "      <th>review</th>\n",
              "      <th>likes</th>\n",
              "      <th>dislikes</th>\n",
              "      <th>ratings</th>\n",
              "      <th>reviewer</th>\n",
              "    </tr>\n",
              "  </thead>\n",
              "  <tbody>\n",
              "    <tr>\n",
              "      <th>0</th>\n",
              "      <td>ECMB000001</td>\n",
              "      <td>ECMB0000010000001</td>\n",
              "      <td>Excellent</td>\n",
              "      <td>Wow superb I love it❤️👍 battery backup so nice 👍👍</td>\n",
              "      <td>740</td>\n",
              "      <td>160</td>\n",
              "      <td>5</td>\n",
              "      <td>Abhishek Saini</td>\n",
              "    </tr>\n",
              "    <tr>\n",
              "      <th>1</th>\n",
              "      <td>ECMB000001</td>\n",
              "      <td>ECMB0000010000002</td>\n",
              "      <td>Worth the money</td>\n",
              "      <td>Mobile So Good In Range Redmi 9a Has Miui 12 L...</td>\n",
              "      <td>355</td>\n",
              "      <td>104</td>\n",
              "      <td>4</td>\n",
              "      <td>Dinesh Kumar Sahni</td>\n",
              "    </tr>\n",
              "    <tr>\n",
              "      <th>2</th>\n",
              "      <td>ECMB000001</td>\n",
              "      <td>ECMB0000010000003</td>\n",
              "      <td>Just wow!</td>\n",
              "      <td>Wonderful device and smart phone best camera b...</td>\n",
              "      <td>125</td>\n",
              "      <td>47</td>\n",
              "      <td>5</td>\n",
              "      <td>Flipkart Customer</td>\n",
              "    </tr>\n",
              "    <tr>\n",
              "      <th>3</th>\n",
              "      <td>ECMB000001</td>\n",
              "      <td>ECMB0000010000004</td>\n",
              "      <td>Simply awesome</td>\n",
              "      <td>Very good mobile. Value for money. Battery bac...</td>\n",
              "      <td>0</td>\n",
              "      <td>0</td>\n",
              "      <td>5</td>\n",
              "      <td>Amit Sen</td>\n",
              "    </tr>\n",
              "    <tr>\n",
              "      <th>4</th>\n",
              "      <td>ECMB000001</td>\n",
              "      <td>ECMB0000010000005</td>\n",
              "      <td>Highly recommended</td>\n",
              "      <td>Really great.... value for money...</td>\n",
              "      <td>90</td>\n",
              "      <td>15</td>\n",
              "      <td>5</td>\n",
              "      <td>Sudeshna pakira</td>\n",
              "    </tr>\n",
              "  </tbody>\n",
              "</table>\n",
              "</div>\n",
              "    <div class=\"colab-df-buttons\">\n",
              "\n",
              "  <div class=\"colab-df-container\">\n",
              "    <button class=\"colab-df-convert\" onclick=\"convertToInteractive('df-356b7cb9-bc0e-4a1e-ad5c-d173985d9300')\"\n",
              "            title=\"Convert this dataframe to an interactive table.\"\n",
              "            style=\"display:none;\">\n",
              "\n",
              "  <svg xmlns=\"http://www.w3.org/2000/svg\" height=\"24px\" viewBox=\"0 -960 960 960\">\n",
              "    <path d=\"M120-120v-720h720v720H120Zm60-500h600v-160H180v160Zm220 220h160v-160H400v160Zm0 220h160v-160H400v160ZM180-400h160v-160H180v160Zm440 0h160v-160H620v160ZM180-180h160v-160H180v160Zm440 0h160v-160H620v160Z\"/>\n",
              "  </svg>\n",
              "    </button>\n",
              "\n",
              "  <style>\n",
              "    .colab-df-container {\n",
              "      display:flex;\n",
              "      gap: 12px;\n",
              "    }\n",
              "\n",
              "    .colab-df-convert {\n",
              "      background-color: #E8F0FE;\n",
              "      border: none;\n",
              "      border-radius: 50%;\n",
              "      cursor: pointer;\n",
              "      display: none;\n",
              "      fill: #1967D2;\n",
              "      height: 32px;\n",
              "      padding: 0 0 0 0;\n",
              "      width: 32px;\n",
              "    }\n",
              "\n",
              "    .colab-df-convert:hover {\n",
              "      background-color: #E2EBFA;\n",
              "      box-shadow: 0px 1px 2px rgba(60, 64, 67, 0.3), 0px 1px 3px 1px rgba(60, 64, 67, 0.15);\n",
              "      fill: #174EA6;\n",
              "    }\n",
              "\n",
              "    .colab-df-buttons div {\n",
              "      margin-bottom: 4px;\n",
              "    }\n",
              "\n",
              "    [theme=dark] .colab-df-convert {\n",
              "      background-color: #3B4455;\n",
              "      fill: #D2E3FC;\n",
              "    }\n",
              "\n",
              "    [theme=dark] .colab-df-convert:hover {\n",
              "      background-color: #434B5C;\n",
              "      box-shadow: 0px 1px 3px 1px rgba(0, 0, 0, 0.15);\n",
              "      filter: drop-shadow(0px 1px 2px rgba(0, 0, 0, 0.3));\n",
              "      fill: #FFFFFF;\n",
              "    }\n",
              "  </style>\n",
              "\n",
              "    <script>\n",
              "      const buttonEl =\n",
              "        document.querySelector('#df-356b7cb9-bc0e-4a1e-ad5c-d173985d9300 button.colab-df-convert');\n",
              "      buttonEl.style.display =\n",
              "        google.colab.kernel.accessAllowed ? 'block' : 'none';\n",
              "\n",
              "      async function convertToInteractive(key) {\n",
              "        const element = document.querySelector('#df-356b7cb9-bc0e-4a1e-ad5c-d173985d9300');\n",
              "        const dataTable =\n",
              "          await google.colab.kernel.invokeFunction('convertToInteractive',\n",
              "                                                    [key], {});\n",
              "        if (!dataTable) return;\n",
              "\n",
              "        const docLinkHtml = 'Like what you see? Visit the ' +\n",
              "          '<a target=\"_blank\" href=https://colab.research.google.com/notebooks/data_table.ipynb>data table notebook</a>'\n",
              "          + ' to learn more about interactive tables.';\n",
              "        element.innerHTML = '';\n",
              "        dataTable['output_type'] = 'display_data';\n",
              "        await google.colab.output.renderOutput(dataTable, element);\n",
              "        const docLink = document.createElement('div');\n",
              "        docLink.innerHTML = docLinkHtml;\n",
              "        element.appendChild(docLink);\n",
              "      }\n",
              "    </script>\n",
              "  </div>\n",
              "\n",
              "\n",
              "<div id=\"df-721831a9-4c85-4449-8280-fa04ce0fa7cc\">\n",
              "  <button class=\"colab-df-quickchart\" onclick=\"quickchart('df-721831a9-4c85-4449-8280-fa04ce0fa7cc')\"\n",
              "            title=\"Suggest charts\"\n",
              "            style=\"display:none;\">\n",
              "\n",
              "<svg xmlns=\"http://www.w3.org/2000/svg\" height=\"24px\"viewBox=\"0 0 24 24\"\n",
              "     width=\"24px\">\n",
              "    <g>\n",
              "        <path d=\"M19 3H5c-1.1 0-2 .9-2 2v14c0 1.1.9 2 2 2h14c1.1 0 2-.9 2-2V5c0-1.1-.9-2-2-2zM9 17H7v-7h2v7zm4 0h-2V7h2v10zm4 0h-2v-4h2v4z\"/>\n",
              "    </g>\n",
              "</svg>\n",
              "  </button>\n",
              "\n",
              "<style>\n",
              "  .colab-df-quickchart {\n",
              "      --bg-color: #E8F0FE;\n",
              "      --fill-color: #1967D2;\n",
              "      --hover-bg-color: #E2EBFA;\n",
              "      --hover-fill-color: #174EA6;\n",
              "      --disabled-fill-color: #AAA;\n",
              "      --disabled-bg-color: #DDD;\n",
              "  }\n",
              "\n",
              "  [theme=dark] .colab-df-quickchart {\n",
              "      --bg-color: #3B4455;\n",
              "      --fill-color: #D2E3FC;\n",
              "      --hover-bg-color: #434B5C;\n",
              "      --hover-fill-color: #FFFFFF;\n",
              "      --disabled-bg-color: #3B4455;\n",
              "      --disabled-fill-color: #666;\n",
              "  }\n",
              "\n",
              "  .colab-df-quickchart {\n",
              "    background-color: var(--bg-color);\n",
              "    border: none;\n",
              "    border-radius: 50%;\n",
              "    cursor: pointer;\n",
              "    display: none;\n",
              "    fill: var(--fill-color);\n",
              "    height: 32px;\n",
              "    padding: 0;\n",
              "    width: 32px;\n",
              "  }\n",
              "\n",
              "  .colab-df-quickchart:hover {\n",
              "    background-color: var(--hover-bg-color);\n",
              "    box-shadow: 0 1px 2px rgba(60, 64, 67, 0.3), 0 1px 3px 1px rgba(60, 64, 67, 0.15);\n",
              "    fill: var(--button-hover-fill-color);\n",
              "  }\n",
              "\n",
              "  .colab-df-quickchart-complete:disabled,\n",
              "  .colab-df-quickchart-complete:disabled:hover {\n",
              "    background-color: var(--disabled-bg-color);\n",
              "    fill: var(--disabled-fill-color);\n",
              "    box-shadow: none;\n",
              "  }\n",
              "\n",
              "  .colab-df-spinner {\n",
              "    border: 2px solid var(--fill-color);\n",
              "    border-color: transparent;\n",
              "    border-bottom-color: var(--fill-color);\n",
              "    animation:\n",
              "      spin 1s steps(1) infinite;\n",
              "  }\n",
              "\n",
              "  @keyframes spin {\n",
              "    0% {\n",
              "      border-color: transparent;\n",
              "      border-bottom-color: var(--fill-color);\n",
              "      border-left-color: var(--fill-color);\n",
              "    }\n",
              "    20% {\n",
              "      border-color: transparent;\n",
              "      border-left-color: var(--fill-color);\n",
              "      border-top-color: var(--fill-color);\n",
              "    }\n",
              "    30% {\n",
              "      border-color: transparent;\n",
              "      border-left-color: var(--fill-color);\n",
              "      border-top-color: var(--fill-color);\n",
              "      border-right-color: var(--fill-color);\n",
              "    }\n",
              "    40% {\n",
              "      border-color: transparent;\n",
              "      border-right-color: var(--fill-color);\n",
              "      border-top-color: var(--fill-color);\n",
              "    }\n",
              "    60% {\n",
              "      border-color: transparent;\n",
              "      border-right-color: var(--fill-color);\n",
              "    }\n",
              "    80% {\n",
              "      border-color: transparent;\n",
              "      border-right-color: var(--fill-color);\n",
              "      border-bottom-color: var(--fill-color);\n",
              "    }\n",
              "    90% {\n",
              "      border-color: transparent;\n",
              "      border-bottom-color: var(--fill-color);\n",
              "    }\n",
              "  }\n",
              "</style>\n",
              "\n",
              "  <script>\n",
              "    async function quickchart(key) {\n",
              "      const quickchartButtonEl =\n",
              "        document.querySelector('#' + key + ' button');\n",
              "      quickchartButtonEl.disabled = true;  // To prevent multiple clicks.\n",
              "      quickchartButtonEl.classList.add('colab-df-spinner');\n",
              "      try {\n",
              "        const charts = await google.colab.kernel.invokeFunction(\n",
              "            'suggestCharts', [key], {});\n",
              "      } catch (error) {\n",
              "        console.error('Error during call to suggestCharts:', error);\n",
              "      }\n",
              "      quickchartButtonEl.classList.remove('colab-df-spinner');\n",
              "      quickchartButtonEl.classList.add('colab-df-quickchart-complete');\n",
              "    }\n",
              "    (() => {\n",
              "      let quickchartButtonEl =\n",
              "        document.querySelector('#df-721831a9-4c85-4449-8280-fa04ce0fa7cc button');\n",
              "      quickchartButtonEl.style.display =\n",
              "        google.colab.kernel.accessAllowed ? 'block' : 'none';\n",
              "    })();\n",
              "  </script>\n",
              "</div>\n",
              "    </div>\n",
              "  </div>\n"
            ],
            "application/vnd.google.colaboratory.intrinsic+json": {
              "type": "dataframe",
              "variable_name": "df",
              "summary": "{\n  \"name\": \"df\",\n  \"rows\": 53493,\n  \"fields\": [\n    {\n      \"column\": \"product_id\",\n      \"properties\": {\n        \"dtype\": \"category\",\n        \"num_unique_values\": 81,\n        \"samples\": [\n          \"ECMB000032\",\n          \"ECMB000001\",\n          \"ECMB000023\"\n        ],\n        \"semantic_type\": \"\",\n        \"description\": \"\"\n      }\n    },\n    {\n      \"column\": \"review_id\",\n      \"properties\": {\n        \"dtype\": \"string\",\n        \"num_unique_values\": 53493,\n        \"samples\": [\n          \"ECMB0000450000048\",\n          \"ECMB0000050000141\",\n          \"ECMB0000250000789\"\n        ],\n        \"semantic_type\": \"\",\n        \"description\": \"\"\n      }\n    },\n    {\n      \"column\": \"title\",\n      \"properties\": {\n        \"dtype\": \"category\",\n        \"num_unique_values\": 783,\n        \"samples\": [\n          \"GREAT LOOKS. At this price its Great.\",\n          \"Stunning looks\",\n          \"Great budget Smart Phone \"\n        ],\n        \"semantic_type\": \"\",\n        \"description\": \"\"\n      }\n    },\n    {\n      \"column\": \"review\",\n      \"properties\": {\n        \"dtype\": \"category\",\n        \"num_unique_values\": 20153,\n        \"samples\": [\n          \"Nice. Worth for this price\",\n          \"awesome phone camera is just osm I really love it..\",\n          \"Good working\"\n        ],\n        \"semantic_type\": \"\",\n        \"description\": \"\"\n      }\n    },\n    {\n      \"column\": \"likes\",\n      \"properties\": {\n        \"dtype\": \"category\",\n        \"num_unique_values\": 513,\n        \"samples\": [\n          \"534\",\n          \"518\",\n          \"202\"\n        ],\n        \"semantic_type\": \"\",\n        \"description\": \"\"\n      }\n    },\n    {\n      \"column\": \"dislikes\",\n      \"properties\": {\n        \"dtype\": \"category\",\n        \"num_unique_values\": 282,\n        \"samples\": [\n          \"33\",\n          \"92\",\n          \"255\"\n        ],\n        \"semantic_type\": \"\",\n        \"description\": \"\"\n      }\n    },\n    {\n      \"column\": \"ratings\",\n      \"properties\": {\n        \"dtype\": \"category\",\n        \"num_unique_values\": 3,\n        \"samples\": [\n          \"5\",\n          \"4\",\n          \"3\"\n        ],\n        \"semantic_type\": \"\",\n        \"description\": \"\"\n      }\n    },\n    {\n      \"column\": \"reviewer\",\n      \"properties\": {\n        \"dtype\": \"category\",\n        \"num_unique_values\": 22134,\n        \"samples\": [\n          \"Prasanta Patra\",\n          \"Virat Chanda\",\n          \"Jeel Patel\"\n        ],\n        \"semantic_type\": \"\",\n        \"description\": \"\"\n      }\n    }\n  ]\n}"
            }
          },
          "metadata": {},
          "execution_count": 8
        }
      ]
    },
    {
      "cell_type": "markdown",
      "source": [
        "We Got good amount of data for our task lets make sure that we need to remove nullity from the dataset"
      ],
      "metadata": {
        "papermill": {
          "duration": 0.104413,
          "end_time": "2022-06-13T19:46:34.923451",
          "exception": false,
          "start_time": "2022-06-13T19:46:34.819038",
          "status": "completed"
        },
        "tags": [],
        "id": "g7NofqpV8lq2"
      }
    },
    {
      "cell_type": "markdown",
      "source": [
        "<h2  style=\"text-align: center\" class=\"list-group-item list-group-item-success\"> 2.3 Handling Missing Values </h2><a id = \"2.3\" ></a>\n",
        "\n",
        "Missing data are not rare in real data sets. In fact, the chance that at least one data point is missing increases as the data set size increases. Missing data can occur any number of ways, some of which include the following.\n",
        "\n",
        "- Merging of source data sets\n",
        "- Random events\n",
        "- Failures of measurement"
      ],
      "metadata": {
        "papermill": {
          "duration": 0.104184,
          "end_time": "2022-06-13T19:46:35.130908",
          "exception": false,
          "start_time": "2022-06-13T19:46:35.026724",
          "status": "completed"
        },
        "tags": [],
        "id": "0ZN3gHAV8lq2"
      }
    },
    {
      "cell_type": "code",
      "source": [
        "import missingno as msno\n",
        "plt.figure(figsize=(25, 20))\n",
        "msno.matrix(df, color=[0.2, 0.4, 1])\n",
        "plt.show()"
      ],
      "metadata": {
        "execution": {
          "iopub.execute_input": "2022-07-05T06:55:59.977091Z",
          "iopub.status.busy": "2022-07-05T06:55:59.976837Z",
          "iopub.status.idle": "2022-07-05T06:56:00.567135Z",
          "shell.execute_reply": "2022-07-05T06:56:00.566226Z",
          "shell.execute_reply.started": "2022-07-05T06:55:59.977068Z"
        },
        "papermill": {
          "duration": 0.752707,
          "end_time": "2022-06-13T19:46:35.988035",
          "exception": false,
          "start_time": "2022-06-13T19:46:35.235328",
          "status": "completed"
        },
        "tags": [],
        "id": "B1Y6OBfR8lq2",
        "colab": {
          "base_uri": "https://localhost:8080/",
          "height": 530
        },
        "outputId": "1a12b3a6-0104-4439-b1dc-0aa7deca9fe9"
      },
      "execution_count": null,
      "outputs": [
        {
          "output_type": "display_data",
          "data": {
            "text/plain": [
              "<Figure size 2500x2000 with 0 Axes>"
            ]
          },
          "metadata": {}
        },
        {
          "output_type": "display_data",
          "data": {
            "text/plain": [
              "<Figure size 2500x1000 with 2 Axes>"
            ],
            "image/png": "[encoded data removed]"
          },
          "metadata": {}
        }
      ]
    },
    {
      "cell_type": "markdown",
      "source": [
        "\n",
        "We can handle missing values using lots of techniques like simple statistical methods, using machine learning models and many more but in this case majority of missing values are from ratings column and we will use that column as label column later so I don't want to fake out or ruin the original distribution of the label data specially so thats why I will be dropping the rows having missing values in column ratings. Dropping technique in never recommended but in this senario I am using it.  "
      ],
      "metadata": {
        "papermill": {
          "duration": 0.116567,
          "end_time": "2022-06-13T19:46:36.224664",
          "exception": false,
          "start_time": "2022-06-13T19:46:36.108097",
          "status": "completed"
        },
        "tags": [],
        "id": "xWyJqCiX8lq2"
      }
    },
    {
      "cell_type": "code",
      "source": [
        "# Dropping the rows with missing values\n",
        "\n",
        "df.dropna(inplace=True, axis=0)\n",
        "df.info()\n"
      ],
      "metadata": {
        "execution": {
          "iopub.execute_input": "2022-07-05T06:56:00.569185Z",
          "iopub.status.busy": "2022-07-05T06:56:00.568725Z",
          "iopub.status.idle": "2022-07-05T06:56:00.671926Z",
          "shell.execute_reply": "2022-07-05T06:56:00.670978Z",
          "shell.execute_reply.started": "2022-07-05T06:56:00.569144Z"
        },
        "papermill": {
          "duration": 0.206169,
          "end_time": "2022-06-13T19:46:36.535853",
          "exception": false,
          "start_time": "2022-06-13T19:46:36.329684",
          "status": "completed"
        },
        "tags": [],
        "id": "M8z1A6Xt8lq2",
        "colab": {
          "base_uri": "https://localhost:8080/"
        },
        "outputId": "1a255f1b-730e-4e4a-ae62-425b3b74b973"
      },
      "execution_count": null,
      "outputs": [
        {
          "output_type": "stream",
          "name": "stdout",
          "text": [
            "<class 'pandas.core.frame.DataFrame'>\n",
            "Index: 48488 entries, 0 to 287\n",
            "Data columns (total 8 columns):\n",
            " #   Column      Non-Null Count  Dtype \n",
            "---  ------      --------------  ----- \n",
            " 0   product_id  48488 non-null  object\n",
            " 1   review_id   48488 non-null  object\n",
            " 2   title       48488 non-null  object\n",
            " 3   review      48488 non-null  object\n",
            " 4   likes       48488 non-null  object\n",
            " 5   dislikes    48488 non-null  object\n",
            " 6   ratings     48488 non-null  object\n",
            " 7   reviewer    48488 non-null  object\n",
            "dtypes: object(8)\n",
            "memory usage: 3.3+ MB\n"
          ]
        }
      ]
    },
    {
      "cell_type": "code",
      "source": [
        "import missingno as msno\n",
        "plt.figure(figsize=(25, 20))\n",
        "msno.matrix(df, color=[0.2, 0.4, 1])\n",
        "plt.show()\n"
      ],
      "metadata": {
        "execution": {
          "iopub.execute_input": "2022-07-05T06:56:00.67404Z",
          "iopub.status.busy": "2022-07-05T06:56:00.673665Z",
          "iopub.status.idle": "2022-07-05T06:56:01.244878Z",
          "shell.execute_reply": "2022-07-05T06:56:01.240586Z",
          "shell.execute_reply.started": "2022-07-05T06:56:00.674003Z"
        },
        "papermill": {
          "duration": 0.647464,
          "end_time": "2022-06-13T19:46:37.305817",
          "exception": false,
          "start_time": "2022-06-13T19:46:36.658353",
          "status": "completed"
        },
        "tags": [],
        "id": "yUk45QYU8lq2",
        "colab": {
          "base_uri": "https://localhost:8080/",
          "height": 530
        },
        "outputId": "5166e6df-9ddf-452d-e83e-f869a16fad69"
      },
      "execution_count": null,
      "outputs": [
        {
          "output_type": "display_data",
          "data": {
            "text/plain": [
              "<Figure size 2500x2000 with 0 Axes>"
            ]
          },
          "metadata": {}
        },
        {
          "output_type": "display_data",
          "data": {
            "text/plain": [
              "<Figure size 2500x1000 with 2 Axes>"
            ],
            "image/png": "[encoded data removed]"
          },
          "metadata": {}
        }
      ]
    },
    {
      "cell_type": "markdown",
      "source": [
        "I Guess We are done with Data Acquisition task lets move to the next phase of the natural language processing **Text-Cleaning**"
      ],
      "metadata": {
        "papermill": {
          "duration": 0.108971,
          "end_time": "2022-06-13T19:46:37.523424",
          "exception": false,
          "start_time": "2022-06-13T19:46:37.414453",
          "status": "completed"
        },
        "tags": [],
        "id": "3NnzJywa8lq3"
      }
    },
    {
      "cell_type": "markdown",
      "source": [
        "<h1  style=\"text-align: center\" class=\"list-group-item list-group-item-action active\">3. Text Cleaning </h1><a id = \"3\" ></a>\n",
        "\n",
        "Text Cleaning is the process of extracting raw text from input data and converting it to the required encoding format by removing all non-textual material like markups and metadata. This is usually determined by the data format of the organisation (e.g., static data from PDF, HTML).\n",
        "\n",
        "Text cleaning is an important step in any NLP effort. And it may consume the majority of your project's time. We will discuss following techniques in upcoming subsections of text cleaning.\n",
        "\n",
        "- HTML Parsing and Cleanup\n",
        "- Unicode Normalization\n",
        "- Spelling Correction"
      ],
      "metadata": {
        "papermill": {
          "duration": 0.10708,
          "end_time": "2022-06-13T19:46:37.738604",
          "exception": false,
          "start_time": "2022-06-13T19:46:37.631524",
          "status": "completed"
        },
        "tags": [],
        "id": "WYckUFSJ8lq3"
      }
    },
    {
      "cell_type": "markdown",
      "source": [
        "<h2  style=\"text-align: center\" class=\"list-group-item list-group-item-success\"> 3.1 Removing URLs </h2><a id = \"3.1\" ></a>\n",
        "\n",
        "URLs in the raw text can cause confusions to a NLP model and also they don't have any contextual meaning so better alternative is to remove these URLs from the raw text."
      ],
      "metadata": {
        "papermill": {
          "duration": 0.109212,
          "end_time": "2022-06-13T19:46:37.955086",
          "exception": false,
          "start_time": "2022-06-13T19:46:37.845874",
          "status": "completed"
        },
        "tags": [],
        "id": "89DfLSlA8lq3"
      }
    },
    {
      "cell_type": "code",
      "source": [
        "import re\n",
        "\n",
        "\n",
        "def remove_url(text):\n",
        "    text = re.sub(r\"http\\S+\", \"\", text)\n",
        "    return text\n",
        "\n",
        "\n",
        "# Example string with weird font characters plus an URL which we gonna remove.\n",
        "sample = \"ℍ𝕚 𝔼𝕧𝕖𝕣𝕪𝕠𝕟𝕖 𝕀 𝕒𝕞 𝔸𝕟𝕜𝕚𝕥 𝔾𝕦𝕡𝕥𝕒 𝕙𝕒𝕧𝕚𝕟𝕘 𝕥𝕙𝕖 𝕗𝕠𝕝𝕝𝕠𝕨𝕚𝕟𝕘 𝕂𝕒𝕘𝕘𝕝𝕖 𝕡𝕣𝕠𝕗𝕚𝕝𝕖 \\n https://www.kaggle.com/nkitgupta 𝕒𝕟𝕕 𝕀 𝕒𝕞 😊 𝕥𝕠 𝕔𝕣𝕖𝕒𝕥𝕖 𝕥𝕙𝕚𝕤 𝕟𝕠𝕥𝕖𝕓𝕠𝕠𝕜\"\n",
        "print(f\"Text before removing url:- \\n {sample}\")\n",
        "\n",
        "sample = remove_url(sample)\n",
        "print(f\"Text after removing url:- \\n {sample}\")\n"
      ],
      "metadata": {
        "execution": {
          "iopub.execute_input": "2022-07-05T06:56:01.251584Z",
          "iopub.status.busy": "2022-07-05T06:56:01.246234Z",
          "iopub.status.idle": "2022-07-05T06:56:01.273254Z",
          "shell.execute_reply": "2022-07-05T06:56:01.271969Z",
          "shell.execute_reply.started": "2022-07-05T06:56:01.251542Z"
        },
        "papermill": {
          "duration": 0.118975,
          "end_time": "2022-06-13T19:46:38.181847",
          "exception": false,
          "start_time": "2022-06-13T19:46:38.062872",
          "status": "completed"
        },
        "tags": [],
        "id": "Wms8YNhV8lq3",
        "colab": {
          "base_uri": "https://localhost:8080/"
        },
        "outputId": "355da35f-a914-42d6-c66c-c75a82c9d79b"
      },
      "execution_count": null,
      "outputs": [
        {
          "output_type": "stream",
          "name": "stdout",
          "text": [
            "Text before removing url:- \n",
            " ℍ𝕚 𝔼𝕧𝕖𝕣𝕪𝕠𝕟𝕖 𝕀 𝕒𝕞 𝔸𝕟𝕜𝕚𝕥 𝔾𝕦𝕡𝕥𝕒 𝕙𝕒𝕧𝕚𝕟𝕘 𝕥𝕙𝕖 𝕗𝕠𝕝𝕝𝕠𝕨𝕚𝕟𝕘 𝕂𝕒𝕘𝕘𝕝𝕖 𝕡𝕣𝕠𝕗𝕚𝕝𝕖 \n",
            " https://www.kaggle.com/nkitgupta 𝕒𝕟𝕕 𝕀 𝕒𝕞 😊 𝕥𝕠 𝕔𝕣𝕖𝕒𝕥𝕖 𝕥𝕙𝕚𝕤 𝕟𝕠𝕥𝕖𝕓𝕠𝕠𝕜\n",
            "Text after removing url:- \n",
            " ℍ𝕚 𝔼𝕧𝕖𝕣𝕪𝕠𝕟𝕖 𝕀 𝕒𝕞 𝔸𝕟𝕜𝕚𝕥 𝔾𝕦𝕡𝕥𝕒 𝕙𝕒𝕧𝕚𝕟𝕘 𝕥𝕙𝕖 𝕗𝕠𝕝𝕝𝕠𝕨𝕚𝕟𝕘 𝕂𝕒𝕘𝕘𝕝𝕖 𝕡𝕣𝕠𝕗𝕚𝕝𝕖 \n",
            "  𝕒𝕟𝕕 𝕀 𝕒𝕞 😊 𝕥𝕠 𝕔𝕣𝕖𝕒𝕥𝕖 𝕥𝕙𝕚𝕤 𝕟𝕠𝕥𝕖𝕓𝕠𝕠𝕜\n"
          ]
        }
      ]
    },
    {
      "cell_type": "markdown",
      "source": [
        "<h2  style=\"text-align: center\" class=\"list-group-item list-group-item-success\"> 3.2 Unicode Normalization </h2><a id = \"3.2\" ></a>\n",
        "\n",
        "Before we go into what is Unicode Normalization lets first discuss why do we need unicode normalization. Consider the following example with some weird font:-\n",
        "\n",
        "String 1 : ℍ𝕚 𝔼𝕧𝕖𝕣𝕪𝕠𝕟𝕖 𝕀 𝕒𝕞 𝔸𝕟𝕜𝕚𝕥 𝔾𝕦𝕡𝕥𝕒 𝕙𝕒𝕧𝕚𝕟𝕘 𝕥𝕙𝕖 𝕗𝕠𝕝𝕝𝕠𝕨𝕚𝕟𝕘 𝕂𝕒𝕘𝕘𝕝𝕖 𝕡𝕣𝕠𝕗𝕚𝕝𝕖 𝕒𝕟𝕕 𝕀 𝕒𝕞 😊 𝕥𝕠 𝕔𝕣𝕖𝕒𝕥𝕖 𝕥𝕙𝕚𝕤 𝕟𝕠𝕥𝕖𝕓𝕠𝕠𝕜\n",
        "\n",
        "String 2 : Hi everyone I am Ankit Gupta Having the following Kaggle profile and I am 😊 to create this notebook.\n",
        "\n",
        "Above string 1 is written in some weird font and it also have an emoji so these kind of things can easily confuse a NLP model because model will treat both string 1 and string 2 differently although they represent same semantic meaning. To overcome this problem we do **unicode normalization**.\n",
        "\n",
        "We need to handle these kinds of characters because many people on their social media posts use these kind of fonts. And primary source of data used in any NLP task is social media.\n",
        "\n",
        "Now we are good to discuss how we do **unicode normalization**."
      ],
      "metadata": {
        "papermill": {
          "duration": 0.107986,
          "end_time": "2022-06-13T19:46:38.399364",
          "exception": false,
          "start_time": "2022-06-13T19:46:38.291378",
          "status": "completed"
        },
        "tags": [],
        "id": "hV00K3eI8lq3"
      }
    },
    {
      "cell_type": "code",
      "source": [],
      "metadata": {
        "papermill": {
          "duration": 0.112078,
          "end_time": "2022-06-13T19:46:38.619055",
          "exception": false,
          "start_time": "2022-06-13T19:46:38.506977",
          "status": "completed"
        },
        "tags": [],
        "id": "kCdP9ajX8lq3"
      },
      "execution_count": null,
      "outputs": []
    },
    {
      "cell_type": "markdown",
      "source": [
        "<h3  style=\"text-align: center\" class=\"list-group-item list-group-item-warning\"> 3.2.1 The Issue of Equivalence</h3><a id = \"3.2.1\" ></a>\n",
        "\n",
        "When two or more characters have same semantic meaning but their representations are not same then we call it the **issue of Equivalence**. It is of 2 types compatibility equivalence, and canonical equivalence.\n",
        "\n",
        "**(a) Compatibility Equivalence**\n",
        "\n",
        "We identify compatible equivalence among a wide range of characters, some of which are abstract and others of which we see frequently.\n",
        "\n",
        "\n",
        "| | | Equivalence Reason |\n",
        "| --- | --- | --- |\n",
        "| ℌ | H | Font variant |\n",
        "| \\[NBSP\\] | \\[SPACE\\] | Both are linebreak sequences |\n",
        "| ① | 1 | Circled variant |\n",
        "| x² | x2 | Superscript |\n",
        "| xⱼ | xj | Subscript |\n",
        "| ½ | 1/2 | Fractions |\n",
        "\n",
        "In Above table words are having different characters representations but same semantic meaning. Our Objective is that model treats both \"𝕀 𝕒𝕞 😊 𝕥𝕠 𝕔𝕣𝕖𝕒𝕥𝕖 𝕥𝕙𝕚𝕤 𝕟𝕠𝕥𝕖𝕓𝕠𝕠𝕜\", \"I am happy to create this notebook\" the strings in the same way."
      ],
      "metadata": {
        "papermill": {
          "duration": 0.108438,
          "end_time": "2022-06-13T19:46:38.836226",
          "exception": false,
          "start_time": "2022-06-13T19:46:38.727788",
          "status": "completed"
        },
        "tags": [],
        "id": "SibM2aXA8lq3"
      }
    },
    {
      "cell_type": "markdown",
      "source": [
        "Consider this Example"
      ],
      "metadata": {
        "papermill": {
          "duration": 0.108547,
          "end_time": "2022-06-13T19:46:39.05363",
          "exception": false,
          "start_time": "2022-06-13T19:46:38.945083",
          "status": "completed"
        },
        "tags": [],
        "id": "Dat5tGtq8lq3"
      }
    },
    {
      "cell_type": "code",
      "source": [
        "print(\"\\u00C7\", \"\\u0043\\u0327\")\n"
      ],
      "metadata": {
        "execution": {
          "iopub.execute_input": "2022-07-05T06:56:01.278348Z",
          "iopub.status.busy": "2022-07-05T06:56:01.277377Z",
          "iopub.status.idle": "2022-07-05T06:56:01.287538Z",
          "shell.execute_reply": "2022-07-05T06:56:01.286476Z",
          "shell.execute_reply.started": "2022-07-05T06:56:01.278291Z"
        },
        "papermill": {
          "duration": 0.116616,
          "end_time": "2022-06-13T19:46:39.278064",
          "exception": false,
          "start_time": "2022-06-13T19:46:39.161448",
          "status": "completed"
        },
        "tags": [],
        "id": "Fn5eVIbs8lq4",
        "colab": {
          "base_uri": "https://localhost:8080/"
        },
        "outputId": "a2ee3516-c4f4-4552-9bb7-1e34b68c14e1"
      },
      "execution_count": null,
      "outputs": [
        {
          "output_type": "stream",
          "name": "stdout",
          "text": [
            "Ç Ç\n"
          ]
        }
      ]
    },
    {
      "cell_type": "code",
      "source": [
        "\"\\u00C7\" == \"\\u0043\\u0327\"\n"
      ],
      "metadata": {
        "execution": {
          "iopub.execute_input": "2022-07-05T06:56:01.290225Z",
          "iopub.status.busy": "2022-07-05T06:56:01.289077Z",
          "iopub.status.idle": "2022-07-05T06:56:01.299469Z",
          "shell.execute_reply": "2022-07-05T06:56:01.298411Z",
          "shell.execute_reply.started": "2022-07-05T06:56:01.290185Z"
        },
        "papermill": {
          "duration": 0.124081,
          "end_time": "2022-06-13T19:46:39.523784",
          "exception": false,
          "start_time": "2022-06-13T19:46:39.399703",
          "status": "completed"
        },
        "tags": [],
        "id": "i1ixniev8lq4",
        "colab": {
          "base_uri": "https://localhost:8080/"
        },
        "outputId": "452e5bdf-5ab6-4580-f587-1c5dc5e43c13"
      },
      "execution_count": null,
      "outputs": [
        {
          "output_type": "execute_result",
          "data": {
            "text/plain": [
              "False"
            ]
          },
          "metadata": {},
          "execution_count": 14
        }
      ]
    },
    {
      "cell_type": "code",
      "source": [
        "\"Ç\" == \"Ç\"\n"
      ],
      "metadata": {
        "execution": {
          "iopub.execute_input": "2022-07-05T06:56:01.306029Z",
          "iopub.status.busy": "2022-07-05T06:56:01.304987Z",
          "iopub.status.idle": "2022-07-05T06:56:01.314652Z",
          "shell.execute_reply": "2022-07-05T06:56:01.313407Z",
          "shell.execute_reply.started": "2022-07-05T06:56:01.305991Z"
        },
        "papermill": {
          "duration": 0.200055,
          "end_time": "2022-06-13T19:46:39.910221",
          "exception": false,
          "start_time": "2022-06-13T19:46:39.710166",
          "status": "completed"
        },
        "tags": [],
        "id": "P_7w61E38lq4",
        "colab": {
          "base_uri": "https://localhost:8080/"
        },
        "outputId": "795f56d2-c197-4f2f-b0c7-aadf67adf582"
      },
      "execution_count": null,
      "outputs": [
        {
          "output_type": "execute_result",
          "data": {
            "text/plain": [
              "False"
            ]
          },
          "metadata": {},
          "execution_count": 15
        }
      ]
    },
    {
      "cell_type": "markdown",
      "source": [
        "**(b) Canonical Equivalence**\n",
        "\n",
        "Canonical equivalency is more difficult to discover since it involves characters which appear to be identical when rendered but are actually wholly separate characters.\n",
        "\n",
        "| | | Equivalence Reason |\n",
        "| --- | --- | --- |\n",
        "| Ç | C◌̧ | Combined character sequences |\n",
        "| 가 | ᄀ ᅡ | Conjoined Korean characters |\n",
        "\n"
      ],
      "metadata": {
        "papermill": {
          "duration": 0.132824,
          "end_time": "2022-06-13T19:46:40.223235",
          "exception": false,
          "start_time": "2022-06-13T19:46:40.090411",
          "status": "completed"
        },
        "tags": [],
        "id": "mCL3wIXE8lq4"
      }
    },
    {
      "cell_type": "markdown",
      "source": [
        "Our approach to canonical and compatibility equivalence difficulties is Unicode normalisation. There are two sorts of conversions and two directions for normalizing. Canonical and compatibility are the two sorts we've already discussed. Decomposition and composition will be what we gonna do.\n",
        "\n",
        "**Decomposition** :- In Decomposition we Decompose the character into many forms. So in the case of our Ç with cedilla we would break both versions of the character down into the two separate characters (Latin capital C + combining cedilla).\n",
        "\n",
        "**Composition** :- In Composition we merge them into one. In the case of our Ç with cedilla we would merge both versions of the characters up into the one separate characters (Latin capital C + combining cedilla).\n",
        "\n",
        "We get four possible normalisation forms when we combine these two directions with our two conversion types:\n",
        "\n",
        "| Name | Abbreviation | Description | Example |\n",
        "| --- | --- | --- | --- |\n",
        "| Form D | NFD | *Canonical* decomposition | `Ç` → `C ̧` |\n",
        "| Form C | NFC | *Canoncial* decomposition followed by *canonical* composition | `Ç` → `C ̧` → `Ç` |\n",
        "| Form KD | NFKD | *Compatibility* decomposition | `ℌ ̧` → `H ̧` |\n",
        "| Form KC | NFKC | *Compatibility* decomposition followed by *canonical* composition | `ℌ ̧` → `H ̧` → `Ḩ` |\n",
        "\n",
        "In this notebook I Will be using NFKD approach this is the one we use more frequently in NLP.\n",
        "\n",
        "For the more detailed understanding of the above mentioned composition decomposition approach read this beautiful blog post about\n"
      ],
      "metadata": {
        "papermill": {
          "duration": 0.109659,
          "end_time": "2022-06-13T19:46:40.443162",
          "exception": false,
          "start_time": "2022-06-13T19:46:40.333503",
          "status": "completed"
        },
        "tags": [],
        "id": "T8s7Yan98lq4"
      }
    },
    {
      "cell_type": "code",
      "source": [
        "import unicodedata as uni\n",
        "\n",
        "print(f\"Text before Unicode Normalization:- \\n {sample}\")\n",
        "\n",
        "sample = uni.normalize('NFKD', sample)\n",
        "print(f\"Text after Unicode Normalization:- \\n {sample}\")\n"
      ],
      "metadata": {
        "execution": {
          "iopub.execute_input": "2022-07-05T06:56:01.316842Z",
          "iopub.status.busy": "2022-07-05T06:56:01.316057Z",
          "iopub.status.idle": "2022-07-05T06:56:01.325053Z",
          "shell.execute_reply": "2022-07-05T06:56:01.323576Z",
          "shell.execute_reply.started": "2022-07-05T06:56:01.316768Z"
        },
        "papermill": {
          "duration": 0.120339,
          "end_time": "2022-06-13T19:46:40.672263",
          "exception": false,
          "start_time": "2022-06-13T19:46:40.551924",
          "status": "completed"
        },
        "tags": [],
        "id": "QKgW8s498lq4",
        "colab": {
          "base_uri": "https://localhost:8080/"
        },
        "outputId": "1d9d59f7-62ce-4666-9737-c4ab6fe03cf5"
      },
      "execution_count": null,
      "outputs": [
        {
          "output_type": "stream",
          "name": "stdout",
          "text": [
            "Text before Unicode Normalization:- \n",
            " ℍ𝕚 𝔼𝕧𝕖𝕣𝕪𝕠𝕟𝕖 𝕀 𝕒𝕞 𝔸𝕟𝕜𝕚𝕥 𝔾𝕦𝕡𝕥𝕒 𝕙𝕒𝕧𝕚𝕟𝕘 𝕥𝕙𝕖 𝕗𝕠𝕝𝕝𝕠𝕨𝕚𝕟𝕘 𝕂𝕒𝕘𝕘𝕝𝕖 𝕡𝕣𝕠𝕗𝕚𝕝𝕖 \n",
            "  𝕒𝕟𝕕 𝕀 𝕒𝕞 😊 𝕥𝕠 𝕔𝕣𝕖𝕒𝕥𝕖 𝕥𝕙𝕚𝕤 𝕟𝕠𝕥𝕖𝕓𝕠𝕠𝕜\n",
            "Text after Unicode Normalization:- \n",
            " Hi Everyone I am Ankit Gupta having the following Kaggle profile \n",
            "  and I am 😊 to create this notebook\n"
          ]
        }
      ]
    },
    {
      "cell_type": "markdown",
      "source": [
        "We successfully removed compatibility equivalence from the above example 🥳🥳. Our Next Task is to handle these emojis."
      ],
      "metadata": {
        "papermill": {
          "duration": 0.112531,
          "end_time": "2022-06-13T19:46:40.894937",
          "exception": false,
          "start_time": "2022-06-13T19:46:40.782406",
          "status": "completed"
        },
        "tags": [],
        "id": "CXGaNlNs8lq5"
      }
    },
    {
      "cell_type": "markdown",
      "source": [
        "<h3  style=\"text-align: center\" class=\"list-group-item list-group-item-warning\"> 3.2.2 Handling Emoji ‘😍😍’ & Emoticon ‘ :) ’</h3><a id = \"3.2.2\" ></a>\n",
        "\n",
        "We need to handle emojis because they store lots of important information about the sentiment of the text we dont't want to lose this information by just removing them from the text. There are lots of ways to handle them in this notebook I am replacing them with their English version using python library \"demoji\".\n",
        "\n",
        "**What is an Emoji 🤔?**\n",
        "\n",
        "Emojis are small digital images or icons that are used to convey a message or emotion. These are small enough to be inserted into a text document. \"e\" stands for image, while \"moji\" stands for character in Japanese.\n",
        "\n",
        "Consider the example of Emoji Handling\n",
        "\n",
        "\n",
        "I ❤ 🍔 so much\n",
        "\n",
        "English version of above comment is\n",
        "\n",
        "I love burger so much\n",
        "\n",
        "**What is an Emoticon ‘ :-) ’?**\n",
        "\n",
        "An emoticon is a combination of the words \"emotion\" and \"icon.\" It is a keyboard depiction of a facial expression, such as a smile or frown, that is used to indicate the writer's feelings or intended tone.\n",
        "\n",
        "Examples-\n",
        ":-)   Smile\n",
        "\n",
        ";-)   Smile with a wink\n"
      ],
      "metadata": {
        "papermill": {
          "duration": 0.109939,
          "end_time": "2022-06-13T19:46:41.114623",
          "exception": false,
          "start_time": "2022-06-13T19:46:41.004684",
          "status": "completed"
        },
        "tags": [],
        "id": "JuTEyLyY8lq5"
      }
    },
    {
      "cell_type": "code",
      "source": [
        "!pip install demoji"
      ],
      "metadata": {
        "execution": {
          "iopub.execute_input": "2022-07-05T06:56:01.32714Z",
          "iopub.status.busy": "2022-07-05T06:56:01.326734Z",
          "iopub.status.idle": "2022-07-05T06:56:10.754113Z",
          "shell.execute_reply": "2022-07-05T06:56:10.752664Z",
          "shell.execute_reply.started": "2022-07-05T06:56:01.327101Z"
        },
        "papermill": {
          "duration": 11.741027,
          "end_time": "2022-06-13T19:46:52.970249",
          "exception": false,
          "start_time": "2022-06-13T19:46:41.229222",
          "status": "completed"
        },
        "scrolled": true,
        "tags": [],
        "id": "Yio-Vp7T8lq5",
        "colab": {
          "base_uri": "https://localhost:8080/"
        },
        "outputId": "72938697-38a9-430d-8781-be3e4efd1cb7"
      },
      "execution_count": null,
      "outputs": [
        {
          "output_type": "stream",
          "name": "stdout",
          "text": [
            "Collecting demoji\n",
            "  Downloading demoji-1.1.0-py3-none-any.whl (42 kB)\n",
            "\u001b[?25l     \u001b[90m━━━━━━━━━━━━━━━━━━━━━━━━━━━━━━━━━━━━━━━━\u001b[0m \u001b[32m0.0/42.9 kB\u001b[0m \u001b[31m?\u001b[0m eta \u001b[36m-:--:--\u001b[0m\r\u001b[2K     \u001b[90m━━━━━━━━━━━━━━━━━━━━━━━━━━━━━━━━━━━━━━━━\u001b[0m \u001b[32m42.9/42.9 kB\u001b[0m \u001b[31m1.7 MB/s\u001b[0m eta \u001b[36m0:00:00\u001b[0m\n",
            "\u001b[?25hInstalling collected packages: demoji\n",
            "Successfully installed demoji-1.1.0\n"
          ]
        }
      ]
    },
    {
      "cell_type": "code",
      "source": [
        "import demoji\n",
        "\n",
        "\n",
        "def handle_emoji(string):\n",
        "    emojis = demoji.findall(string)\n",
        "\n",
        "    for emoji in emojis:\n",
        "        string = string.replace(emoji, \" \" + emojis[emoji].split(\":\")[0])\n",
        "\n",
        "    return string\n",
        "\n",
        "\n",
        "print(f\"Before Handling emoji:- \\n {sample}\")\n",
        "print(f\"After Handling emoji:- \\n {handle_emoji(sample)}\")\n"
      ],
      "metadata": {
        "execution": {
          "iopub.execute_input": "2022-07-05T06:56:10.758194Z",
          "iopub.status.busy": "2022-07-05T06:56:10.757835Z",
          "iopub.status.idle": "2022-07-05T06:56:10.766433Z",
          "shell.execute_reply": "2022-07-05T06:56:10.765465Z",
          "shell.execute_reply.started": "2022-07-05T06:56:10.758161Z"
        },
        "papermill": {
          "duration": 0.236295,
          "end_time": "2022-06-13T19:46:53.334754",
          "exception": false,
          "start_time": "2022-06-13T19:46:53.098459",
          "status": "completed"
        },
        "tags": [],
        "id": "3SLQz-tf8lq5",
        "colab": {
          "base_uri": "https://localhost:8080/"
        },
        "outputId": "58f211c4-556d-41dd-f61f-135e421ae210"
      },
      "execution_count": null,
      "outputs": [
        {
          "output_type": "stream",
          "name": "stdout",
          "text": [
            "Before Handling emoji:- \n",
            " Hi Everyone I am Ankit Gupta having the following Kaggle profile \n",
            "  and I am 😊 to create this notebook\n",
            "After Handling emoji:- \n",
            " Hi Everyone I am Ankit Gupta having the following Kaggle profile \n",
            "  and I am  smiling face with smiling eyes to create this notebook\n"
          ]
        }
      ]
    },
    {
      "cell_type": "markdown",
      "source": [
        "For the more detailed understanding of the above mentioned emoji handling approach read this beautiful blog post about\n",
        "\n",
        "[How to handle Emoji ‘😄’ & Emoticon ‘ :-) ’ in text preprocessing?](https://medium.com/geekculture/text-preprocessing-how-to-handle-emoji-emoticon-641bbfa6e9e7) By Paritosh Mahto.\n"
      ],
      "metadata": {
        "papermill": {
          "duration": 0.126698,
          "end_time": "2022-06-13T19:46:53.587869",
          "exception": false,
          "start_time": "2022-06-13T19:46:53.461171",
          "status": "completed"
        },
        "tags": [],
        "id": "_s_65pJT8lq5"
      }
    },
    {
      "cell_type": "markdown",
      "source": [
        "<h2  style=\"text-align: center\" class=\"list-group-item list-group-item-success\"> 3.3 Spelling Correction </h2><a id = \"3.3\" ></a>\n",
        "\n",
        "Due to fast typing or fat finger typing many people experience spelling mistakes. For a NLP model understanding of the context is very important is spelling got wrong then whole context of the text may get wrong. We will do spelling correction using pyspellchecker a python library."
      ],
      "metadata": {
        "papermill": {
          "duration": 0.126063,
          "end_time": "2022-06-13T19:46:53.839563",
          "exception": false,
          "start_time": "2022-06-13T19:46:53.7135",
          "status": "completed"
        },
        "tags": [],
        "id": "lE96bs838lq9"
      }
    },
    {
      "cell_type": "code",
      "source": [
        "from spellchecker import SpellChecker\n",
        "\n",
        "spell = SpellChecker()\n",
        "\n",
        "# Add misspelled words to the list\n",
        "misspelled_words = [\"nsme\", \"mobiile\", \"phoone\"]\n",
        "print(f\" Misspelled words before correction:- \\n {misspelled_words}\")\n",
        "print(f\" Misspelled words after correction\")\n",
        "for word in misspelled_words:\n",
        "    # Get the one `most likely` answer\n",
        "    print(spell.correction(word))\n"
      ],
      "metadata": {
        "execution": {
          "iopub.execute_input": "2022-07-05T06:56:10.768474Z",
          "iopub.status.busy": "2022-07-05T06:56:10.768094Z",
          "iopub.status.idle": "2022-07-05T06:56:10.775823Z",
          "shell.execute_reply": "2022-07-05T06:56:10.774856Z",
          "shell.execute_reply.started": "2022-07-05T06:56:10.768406Z"
        },
        "papermill": {
          "duration": 0.133091,
          "end_time": "2022-06-13T19:46:54.098919",
          "exception": false,
          "start_time": "2022-06-13T19:46:53.965828",
          "status": "completed"
        },
        "tags": [],
        "id": "e-uEJNLl8lq9"
      },
      "execution_count": null,
      "outputs": []
    },
    {
      "cell_type": "code",
      "source": [
        "spell.correction(\"nsme\")"
      ],
      "metadata": {
        "execution": {
          "iopub.execute_input": "2022-07-05T06:56:10.77868Z",
          "iopub.status.busy": "2022-07-05T06:56:10.777874Z",
          "iopub.status.idle": "2022-07-05T06:56:10.789901Z",
          "shell.execute_reply": "2022-07-05T06:56:10.788309Z",
          "shell.execute_reply.started": "2022-07-05T06:56:10.778639Z"
        },
        "papermill": {
          "duration": 0.13262,
          "end_time": "2022-06-13T19:46:54.35788",
          "exception": false,
          "start_time": "2022-06-13T19:46:54.22526",
          "status": "completed"
        },
        "tags": [],
        "id": "obMbAYIm8lq-"
      },
      "execution_count": null,
      "outputs": []
    },
    {
      "cell_type": "code",
      "source": [],
      "metadata": {
        "papermill": {
          "duration": 0.126043,
          "end_time": "2022-06-13T19:46:54.608986",
          "exception": false,
          "start_time": "2022-06-13T19:46:54.482943",
          "status": "completed"
        },
        "tags": [],
        "id": "7DRNTrXk8lq-"
      },
      "execution_count": null,
      "outputs": []
    },
    {
      "cell_type": "markdown",
      "source": [
        "For the more detailed understanding of the above mentioned Spelling Correction approach read this beautiful blog post about\n",
        "\n",
        "[Spelling checker in Python](https://www.geeksforgeeks.org/spelling-checker-in-python/)\n"
      ],
      "metadata": {
        "papermill": {
          "duration": 0.127907,
          "end_time": "2022-06-13T19:46:54.86312",
          "exception": false,
          "start_time": "2022-06-13T19:46:54.735213",
          "status": "completed"
        },
        "tags": [],
        "id": "Wsdbt-Nt8lq-"
      }
    },
    {
      "cell_type": "markdown",
      "source": [
        "<h1  style=\"text-align: center\" class=\"list-group-item list-group-item-action active\">4. Text Pre-Processing </h1><a id = \"4\" ></a>\n",
        "\n",
        "In the previous section we covered the text extraction and cleaning phase of a NLP project. Question may arise if we did the cleaning and extraction task then why do we need text-preprocessing phase. Answer is pretty simple any NLP project consist of modelling phase in which we train the model so that we can use it for real world data. And model needs numerical data but our data is textual so that's why we have to do various text preprocessing task.\n",
        "\n",
        "Below I mentioned few pre-processing tasks:-\n",
        "\n",
        "- **Preliminaries**\n",
        "    - Sentence segmentation and word tokenization.\n",
        "- **Frequent steps**\n",
        "    - Stop word removal, stemming and lemmatization, removing digits/punctuation, lowercasing, etc.\n",
        "- **Other steps**\n",
        "    - Normalization, language detection, code mixing, transliteration, etc.\n",
        "- **Advanced processing**\n",
        "    - POS tagging, parsing, coreference resolution, etc.\n",
        "\n",
        "above mentioned task vary according to the task or model we wil use."
      ],
      "metadata": {
        "papermill": {
          "duration": 0.124964,
          "end_time": "2022-06-13T19:46:55.11444",
          "exception": false,
          "start_time": "2022-06-13T19:46:54.989476",
          "status": "completed"
        },
        "tags": [],
        "id": "2tq2Dy7w8lq-"
      }
    },
    {
      "cell_type": "markdown",
      "source": [
        "<h2  style=\"text-align: center\" class=\"list-group-item list-group-item-success\"> 4.1 Preliminaries </h2><a id = \"4.1\" ></a>\n",
        "\n",
        "Any NLP based task can be done by breaking the text into words(tokens) and sentences. So now we have to focus on breaking the text into sentences first (**Sentence Tokenization**) and then into words (**Word Tokenization**).\n",
        "\n",
        "But in our case we are not dealing with task with such a big textual data that need to be first break into sentences, in our case we already have the sentences so we just have to proceed with the word tokenization."
      ],
      "metadata": {
        "papermill": {
          "duration": 0.125603,
          "end_time": "2022-06-13T19:46:55.366129",
          "exception": false,
          "start_time": "2022-06-13T19:46:55.240526",
          "status": "completed"
        },
        "tags": [],
        "id": "NS-oGuui8lq-"
      }
    },
    {
      "cell_type": "code",
      "source": [
        "def word_tokenizer(text):\n",
        "    text = text.lower()\n",
        "    text = text.split()\n",
        "\n",
        "    return text\n",
        "\n",
        "\n",
        "sample = \"Hi Everyone I am Ankit Gupta.\"\n",
        "print(sample)\n",
        "print(word_tokenizer(sample))\n"
      ],
      "metadata": {
        "execution": {
          "iopub.execute_input": "2022-07-05T06:56:10.791689Z",
          "iopub.status.busy": "2022-07-05T06:56:10.791264Z",
          "iopub.status.idle": "2022-07-05T06:56:10.80112Z",
          "shell.execute_reply": "2022-07-05T06:56:10.800257Z",
          "shell.execute_reply.started": "2022-07-05T06:56:10.791652Z"
        },
        "papermill": {
          "duration": 0.12204,
          "end_time": "2022-06-13T19:46:55.611987",
          "exception": false,
          "start_time": "2022-06-13T19:46:55.489947",
          "status": "completed"
        },
        "tags": [],
        "id": "qeGf0orY8lq_",
        "colab": {
          "base_uri": "https://localhost:8080/"
        },
        "outputId": "d2318eb2-94af-4436-d414-d9abdfd719d1"
      },
      "execution_count": null,
      "outputs": [
        {
          "output_type": "stream",
          "name": "stdout",
          "text": [
            "Hi Everyone I am Ankit Gupta.\n",
            "['hi', 'everyone', 'i', 'am', 'ankit', 'gupta.']\n"
          ]
        }
      ]
    },
    {
      "cell_type": "markdown",
      "source": [
        "For identifying specific patterns (e.g., dates or money expressions), well-formed regular expressions are the first step. In many practical scenarios, we may end up using a custom tokenizer or sentence segmenter that suits our text structure instead of or on top of an existing one available in a standard NLP library."
      ],
      "metadata": {
        "papermill": {
          "duration": 0.113312,
          "end_time": "2022-06-13T19:46:55.840493",
          "exception": false,
          "start_time": "2022-06-13T19:46:55.727181",
          "status": "completed"
        },
        "tags": [],
        "id": "4u4feI_w8lq_"
      }
    },
    {
      "cell_type": "markdown",
      "source": [
        "<h2  style=\"text-align: center\" class=\"list-group-item list-group-item-success\"> 4.2 Frequent Steps </h2><a id = \"4.2\" ></a>\n",
        "\n",
        "Let's have a look at some more common NLP pipeline pre-processing activities. Assume we're developing software that classifies news articles into one of four categories: politics, sports, business, or other. Assume we've got a decent sentence segmenter and tokenizer in place. At that point, we'd have to consider what kind of data might be valuable in constructing a categorization tool. Some commonly used English terms, such as a, an, the, of, in, and so on, aren't especially beneficial for this purpose because they don't carry enough substance to distinguish between the four categories on their own. **Stop words** are words that are typically (but not always) eliminated from further processing in problem scenarios like this."
      ],
      "metadata": {
        "papermill": {
          "duration": 0.112656,
          "end_time": "2022-06-13T19:46:56.06553",
          "exception": false,
          "start_time": "2022-06-13T19:46:55.952874",
          "status": "completed"
        },
        "tags": [],
        "id": "tj7GwiQR8lq_"
      }
    },
    {
      "cell_type": "code",
      "source": [
        "!pip install nltk"
      ],
      "metadata": {
        "colab": {
          "base_uri": "https://localhost:8080/"
        },
        "id": "EI_4zY23ClgH",
        "outputId": "808f4669-7dd8-41dc-afc8-e486edbafb57"
      },
      "execution_count": null,
      "outputs": [
        {
          "output_type": "stream",
          "name": "stdout",
          "text": [
            "Requirement already satisfied: nltk in /usr/local/lib/python3.10/dist-packages (3.8.1)\n",
            "Requirement already satisfied: click in /usr/local/lib/python3.10/dist-packages (from nltk) (8.1.7)\n",
            "Requirement already satisfied: joblib in /usr/local/lib/python3.10/dist-packages (from nltk) (1.4.0)\n",
            "Requirement already satisfied: regex>=2021.8.3 in /usr/local/lib/python3.10/dist-packages (from nltk) (2023.12.25)\n",
            "Requirement already satisfied: tqdm in /usr/local/lib/python3.10/dist-packages (from nltk) (4.66.2)\n"
          ]
        }
      ]
    },
    {
      "cell_type": "code",
      "source": [
        "import nltk\n",
        "nltk.download('stopwords')"
      ],
      "metadata": {
        "colab": {
          "base_uri": "https://localhost:8080/"
        },
        "id": "vnkIgg-EDijz",
        "outputId": "9884aee1-f622-4f1a-e0d4-e176ff8225f6"
      },
      "execution_count": null,
      "outputs": [
        {
          "output_type": "stream",
          "name": "stderr",
          "text": [
            "[nltk_data] Downloading package stopwords to /root/nltk_data...\n",
            "[nltk_data]   Unzipping corpora/stopwords.zip.\n"
          ]
        },
        {
          "output_type": "execute_result",
          "data": {
            "text/plain": [
              "True"
            ]
          },
          "metadata": {},
          "execution_count": 23
        }
      ]
    },
    {
      "cell_type": "markdown",
      "source": [
        "<h3  style=\"text-align: center\" class=\"list-group-item list-group-item-warning\"> 4.2.1 Removing Stop Words </h3><a id = \"4.2.1\" ></a>"
      ],
      "metadata": {
        "papermill": {
          "duration": 0.114519,
          "end_time": "2022-06-13T19:46:56.292343",
          "exception": false,
          "start_time": "2022-06-13T19:46:56.177824",
          "status": "completed"
        },
        "tags": [],
        "id": "A428gN398lrA"
      }
    },
    {
      "cell_type": "code",
      "source": [
        "# from nltk.corpus import stopwords\n",
        "\n",
        "# en_stopwords = set(stopwords.words('english'))\n",
        "# print(f\"Stop Words in English : \\n{ en_stopwords}\")\n",
        "\n",
        "import nltk\n",
        "from nltk.corpus import stopwords\n",
        "\n",
        "en_stopwords = set(stopwords.words('english'))\n",
        "print(en_stopwords)\n"
      ],
      "metadata": {
        "execution": {
          "iopub.execute_input": "2022-07-05T06:56:10.803499Z",
          "iopub.status.busy": "2022-07-05T06:56:10.802719Z",
          "iopub.status.idle": "2022-07-05T06:56:10.81627Z",
          "shell.execute_reply": "2022-07-05T06:56:10.815082Z",
          "shell.execute_reply.started": "2022-07-05T06:56:10.803433Z"
        },
        "papermill": {
          "duration": 0.126931,
          "end_time": "2022-06-13T19:46:56.532919",
          "exception": false,
          "start_time": "2022-06-13T19:46:56.405988",
          "status": "completed"
        },
        "tags": [],
        "id": "SGWiUw338lrA",
        "colab": {
          "base_uri": "https://localhost:8080/"
        },
        "outputId": "f8fcd674-2863-4be6-f98f-f63003f8c09f"
      },
      "execution_count": null,
      "outputs": [
        {
          "output_type": "stream",
          "name": "stdout",
          "text": [
            "{'its', 'should', 'where', 'such', 'himself', 'a', 'other', 'just', 'hasn', 'needn', 'few', \"haven't\", \"you're\", 'mustn', 'his', 'below', 'as', 'themselves', 'under', 'during', 'same', 'this', 'now', 'don', 'while', \"it's\", 'each', 'yourselves', 'am', 'didn', \"isn't\", 'then', 'above', 'from', \"mustn't\", 'whom', 'up', \"didn't\", 'both', \"shouldn't\", 'off', 'only', 'mightn', 'some', 'there', 'ourselves', 'them', 'hadn', 'which', 'further', 'herself', 'because', 'theirs', 'what', 'are', 'have', 'to', 'o', 'weren', 'in', 'out', 'on', 'most', 'we', 'before', 'once', 'is', 'ma', \"shan't\", 'not', 'through', 'but', 'why', 'y', 'couldn', 'down', \"you'll\", 'been', 'i', 'very', 'too', 'having', 'm', 'ain', 'at', 'here', 's', 'so', 'your', 'shan', 'the', 'isn', 'her', 'against', \"hadn't\", 'those', 'our', 'haven', 'yourself', 'be', 'can', 'between', 'has', 'into', 'ours', 'aren', 'was', 'their', 're', 'wasn', 'for', 'll', \"hasn't\", 'won', 'yours', 'of', 'how', \"don't\", 'itself', 'being', 'he', 'who', 'had', 'my', \"aren't\", 't', 'were', 'than', \"that'll\", 'do', \"doesn't\", \"needn't\", 'it', 'own', 'wouldn', 'by', 'did', 'me', 'any', 'nor', 've', 'over', 'hers', \"mightn't\", 'after', 'does', \"weren't\", 'doing', \"wouldn't\", 'shouldn', \"wasn't\", 'when', 'you', \"should've\", 'again', 'myself', 'they', 'about', \"she's\", \"couldn't\", 'or', 'and', \"you've\", 'if', 'with', 'd', 'that', \"you'd\", \"won't\", 'will', 'until', 'all', 'these', 'doesn', 'him', 'more', 'she', 'no', 'an'}\n"
          ]
        }
      ]
    },
    {
      "cell_type": "code",
      "source": [
        "def remove_stopwords(text):\n",
        "    text = [word for word in text if word not in en_stopwords]\n",
        "    return text\n",
        "\n",
        "\n",
        "print(f\"Before removing stopwords : {word_tokenizer(sample)}\")\n",
        "print(f\"After removing stopwords : {remove_stopwords(word_tokenizer(sample))}\")\n"
      ],
      "metadata": {
        "execution": {
          "iopub.execute_input": "2022-07-05T06:56:10.81907Z",
          "iopub.status.busy": "2022-07-05T06:56:10.818414Z",
          "iopub.status.idle": "2022-07-05T06:56:10.828455Z",
          "shell.execute_reply": "2022-07-05T06:56:10.826851Z",
          "shell.execute_reply.started": "2022-07-05T06:56:10.819028Z"
        },
        "papermill": {
          "duration": 0.122373,
          "end_time": "2022-06-13T19:46:56.779617",
          "exception": false,
          "start_time": "2022-06-13T19:46:56.657244",
          "status": "completed"
        },
        "tags": [],
        "id": "9mszf34V8lrA",
        "colab": {
          "base_uri": "https://localhost:8080/"
        },
        "outputId": "c1a6d1f9-d686-44b8-be15-903b7f8c4160"
      },
      "execution_count": null,
      "outputs": [
        {
          "output_type": "stream",
          "name": "stdout",
          "text": [
            "Before removing stopwords : ['hi', 'everyone', 'i', 'am', 'ankit', 'gupta.']\n",
            "After removing stopwords : ['hi', 'everyone', 'ankit', 'gupta.']\n"
          ]
        }
      ]
    },
    {
      "cell_type": "markdown",
      "source": [
        "<h3  style=\"text-align: center\" class=\"list-group-item list-group-item-warning\"> 4.2.2 Stemming</h3><a id = \"4.2.2\" ></a>\n",
        "\n",
        "**Stemming** refers to the process of removing suffixes and reducing a word to some base form such that all different variants of that word can be represented by the same form (e.g., “dog” and “dogs” are both reduced to “dog”). This is accomplished by applying a fixed set of rules (e.g., if the word ends in “-es,” remove “-es”). More such examples are shown in below Figure.\n",
        "\n"
      ],
      "metadata": {
        "papermill": {
          "duration": 0.114125,
          "end_time": "2022-06-13T19:46:57.008313",
          "exception": false,
          "start_time": "2022-06-13T19:46:56.894188",
          "status": "completed"
        },
        "tags": [],
        "id": "euIQlhhs8lrA"
      }
    },
    {
      "cell_type": "code",
      "source": [
        "from nltk.stem.porter import PorterStemmer\n",
        "from nltk.stem.lancaster import LancasterStemmer\n",
        "\n",
        "stemmer = PorterStemmer()\n",
        "# stemmer = LancasterStemmer()\n",
        "\n",
        "\n",
        "def stemming(text):\n",
        "\n",
        "    text = [stemmer.stem(word) for word in text]\n",
        "    return text\n",
        "\n",
        "\n",
        "sample = \"I am creating a Notebook\"\n",
        "print(f\"Before Stemming : {(sample)}\")\n",
        "print(f\"After Stemming : {stemming(word_tokenizer(sample))}\")\n"
      ],
      "metadata": {
        "execution": {
          "iopub.execute_input": "2022-07-05T06:56:10.83076Z",
          "iopub.status.busy": "2022-07-05T06:56:10.830029Z",
          "iopub.status.idle": "2022-07-05T06:56:10.839532Z",
          "shell.execute_reply": "2022-07-05T06:56:10.838271Z",
          "shell.execute_reply.started": "2022-07-05T06:56:10.830722Z"
        },
        "papermill": {
          "duration": 0.122531,
          "end_time": "2022-06-13T19:46:57.245652",
          "exception": false,
          "start_time": "2022-06-13T19:46:57.123121",
          "status": "completed"
        },
        "tags": [],
        "id": "IhYX8i2l8lrA",
        "colab": {
          "base_uri": "https://localhost:8080/"
        },
        "outputId": "ab8df8ca-0d91-4457-f986-4c303618a9a5"
      },
      "execution_count": null,
      "outputs": [
        {
          "output_type": "stream",
          "name": "stdout",
          "text": [
            "Before Stemming : I am creating a Notebook\n",
            "After Stemming : ['i', 'am', 'creat', 'a', 'notebook']\n"
          ]
        }
      ]
    },
    {
      "cell_type": "markdown",
      "source": [
        "Stemming is just removing the suffix to get the base form of the word but the resultant word is not desired results, I mean to say when we will use word embeddings later then it may affect badly. So we need to look for the alternative for stemming and that is lemmatization it gets the word's base form on the basis of its context.\n",
        "\n",
        "![](https://stringfixer.com/files/107654628.jpg)\n",
        "\n"
      ],
      "metadata": {
        "papermill": {
          "duration": 0.113589,
          "end_time": "2022-06-13T19:46:57.475749",
          "exception": false,
          "start_time": "2022-06-13T19:46:57.36216",
          "status": "completed"
        },
        "tags": [],
        "id": "CuaSWin08lrB"
      }
    },
    {
      "cell_type": "markdown",
      "source": [
        "<h3  style=\"text-align: center\" class=\"list-group-item list-group-item-warning\"> 4.2.3 Lemmatization</h3><a id = \"4.2.3\" ></a>\n",
        "\n",
        "Lemmatization is the process of mapping all the different forms of a word to its base word, or lemma. While this seems close to the definition of stemming, they are, in fact, different. For example, the adjective “better,” when stemmed, remains the same. However, upon lemmatization, this should become “good,” as shown in Figure below.\n",
        "\n",
        "\n",
        "\n",
        "\n",
        "Lemmatization requires more linguistic knowledge, and modeling and developing efficient lemmatizers remains an open problem in NLP research even now."
      ],
      "metadata": {
        "papermill": {
          "duration": 0.113294,
          "end_time": "2022-06-13T19:46:57.703919",
          "exception": false,
          "start_time": "2022-06-13T19:46:57.590625",
          "status": "completed"
        },
        "tags": [],
        "id": "nGHgX5fs8lrB"
      }
    },
    {
      "cell_type": "code",
      "source": [
        "!python -m spacy download en\n"
      ],
      "metadata": {
        "execution": {
          "iopub.execute_input": "2022-07-05T06:56:10.841828Z",
          "iopub.status.busy": "2022-07-05T06:56:10.841065Z",
          "iopub.status.idle": "2022-07-05T06:56:10.848986Z",
          "shell.execute_reply": "2022-07-05T06:56:10.847865Z",
          "shell.execute_reply.started": "2022-07-05T06:56:10.841789Z"
        },
        "papermill": {
          "duration": 0.121302,
          "end_time": "2022-06-13T19:46:57.939983",
          "exception": false,
          "start_time": "2022-06-13T19:46:57.818681",
          "status": "completed"
        },
        "tags": [],
        "id": "xlt1zFke8lrB",
        "colab": {
          "base_uri": "https://localhost:8080/"
        },
        "outputId": "b0b45f9f-2559-4845-d687-311fce126a09"
      },
      "execution_count": null,
      "outputs": [
        {
          "output_type": "stream",
          "name": "stdout",
          "text": [
            "\u001b[38;5;3m⚠ As of spaCy v3.0, shortcuts like 'en' are deprecated. Please use the\n",
            "full pipeline package name 'en_core_web_sm' instead.\u001b[0m\n",
            "Collecting en-core-web-sm==3.7.1\n",
            "  Downloading https://github.com/explosion/spacy-models/releases/download/en_core_web_sm-3.7.1/en_core_web_sm-3.7.1-py3-none-any.whl (12.8 MB)\n",
            "\u001b[2K     \u001b[90m━━━━━━━━━━━━━━━━━━━━━━━━━━━━━━━━━━━━━━━━\u001b[0m \u001b[32m12.8/12.8 MB\u001b[0m \u001b[31m84.2 MB/s\u001b[0m eta \u001b[36m0:00:00\u001b[0m\n",
            "\u001b[?25hRequirement already satisfied: spacy<3.8.0,>=3.7.2 in /usr/local/lib/python3.10/dist-packages (from en-core-web-sm==3.7.1) (3.7.4)\n",
            "Requirement already satisfied: spacy-legacy<3.1.0,>=3.0.11 in /usr/local/lib/python3.10/dist-packages (from spacy<3.8.0,>=3.7.2->en-core-web-sm==3.7.1) (3.0.12)\n",
            "Requirement already satisfied: spacy-loggers<2.0.0,>=1.0.0 in /usr/local/lib/python3.10/dist-packages (from spacy<3.8.0,>=3.7.2->en-core-web-sm==3.7.1) (1.0.5)\n",
            "Requirement already satisfied: murmurhash<1.1.0,>=0.28.0 in /usr/local/lib/python3.10/dist-packages (from spacy<3.8.0,>=3.7.2->en-core-web-sm==3.7.1) (1.0.10)\n",
            "Requirement already satisfied: cymem<2.1.0,>=2.0.2 in /usr/local/lib/python3.10/dist-packages (from spacy<3.8.0,>=3.7.2->en-core-web-sm==3.7.1) (2.0.8)\n",
            "Requirement already satisfied: preshed<3.1.0,>=3.0.2 in /usr/local/lib/python3.10/dist-packages (from spacy<3.8.0,>=3.7.2->en-core-web-sm==3.7.1) (3.0.9)\n",
            "Requirement already satisfied: thinc<8.3.0,>=8.2.2 in /usr/local/lib/python3.10/dist-packages (from spacy<3.8.0,>=3.7.2->en-core-web-sm==3.7.1) (8.2.3)\n",
            "Requirement already satisfied: wasabi<1.2.0,>=0.9.1 in /usr/local/lib/python3.10/dist-packages (from spacy<3.8.0,>=3.7.2->en-core-web-sm==3.7.1) (1.1.2)\n",
            "Requirement already satisfied: srsly<3.0.0,>=2.4.3 in /usr/local/lib/python3.10/dist-packages (from spacy<3.8.0,>=3.7.2->en-core-web-sm==3.7.1) (2.4.8)\n",
            "Requirement already satisfied: catalogue<2.1.0,>=2.0.6 in /usr/local/lib/python3.10/dist-packages (from spacy<3.8.0,>=3.7.2->en-core-web-sm==3.7.1) (2.0.10)\n",
            "Requirement already satisfied: weasel<0.4.0,>=0.1.0 in /usr/local/lib/python3.10/dist-packages (from spacy<3.8.0,>=3.7.2->en-core-web-sm==3.7.1) (0.3.4)\n",
            "Requirement already satisfied: typer<0.10.0,>=0.3.0 in /usr/local/lib/python3.10/dist-packages (from spacy<3.8.0,>=3.7.2->en-core-web-sm==3.7.1) (0.9.4)\n",
            "Requirement already satisfied: smart-open<7.0.0,>=5.2.1 in /usr/local/lib/python3.10/dist-packages (from spacy<3.8.0,>=3.7.2->en-core-web-sm==3.7.1) (6.4.0)\n",
            "Requirement already satisfied: tqdm<5.0.0,>=4.38.0 in /usr/local/lib/python3.10/dist-packages (from spacy<3.8.0,>=3.7.2->en-core-web-sm==3.7.1) (4.66.2)\n",
            "Requirement already satisfied: requests<3.0.0,>=2.13.0 in /usr/local/lib/python3.10/dist-packages (from spacy<3.8.0,>=3.7.2->en-core-web-sm==3.7.1) (2.31.0)\n",
            "Requirement already satisfied: pydantic!=1.8,!=1.8.1,<3.0.0,>=1.7.4 in /usr/local/lib/python3.10/dist-packages (from spacy<3.8.0,>=3.7.2->en-core-web-sm==3.7.1) (2.7.0)\n",
            "Requirement already satisfied: jinja2 in /usr/local/lib/python3.10/dist-packages (from spacy<3.8.0,>=3.7.2->en-core-web-sm==3.7.1) (3.1.3)\n",
            "Requirement already satisfied: setuptools in /usr/local/lib/python3.10/dist-packages (from spacy<3.8.0,>=3.7.2->en-core-web-sm==3.7.1) (67.7.2)\n",
            "Requirement already satisfied: packaging>=20.0 in /usr/local/lib/python3.10/dist-packages (from spacy<3.8.0,>=3.7.2->en-core-web-sm==3.7.1) (24.0)\n",
            "Requirement already satisfied: langcodes<4.0.0,>=3.2.0 in /usr/local/lib/python3.10/dist-packages (from spacy<3.8.0,>=3.7.2->en-core-web-sm==3.7.1) (3.3.0)\n",
            "Requirement already satisfied: numpy>=1.19.0 in /usr/local/lib/python3.10/dist-packages (from spacy<3.8.0,>=3.7.2->en-core-web-sm==3.7.1) (1.25.2)\n",
            "Requirement already satisfied: annotated-types>=0.4.0 in /usr/local/lib/python3.10/dist-packages (from pydantic!=1.8,!=1.8.1,<3.0.0,>=1.7.4->spacy<3.8.0,>=3.7.2->en-core-web-sm==3.7.1) (0.6.0)\n",
            "Requirement already satisfied: pydantic-core==2.18.1 in /usr/local/lib/python3.10/dist-packages (from pydantic!=1.8,!=1.8.1,<3.0.0,>=1.7.4->spacy<3.8.0,>=3.7.2->en-core-web-sm==3.7.1) (2.18.1)\n",
            "Requirement already satisfied: typing-extensions>=4.6.1 in /usr/local/lib/python3.10/dist-packages (from pydantic!=1.8,!=1.8.1,<3.0.0,>=1.7.4->spacy<3.8.0,>=3.7.2->en-core-web-sm==3.7.1) (4.11.0)\n",
            "Requirement already satisfied: charset-normalizer<4,>=2 in /usr/local/lib/python3.10/dist-packages (from requests<3.0.0,>=2.13.0->spacy<3.8.0,>=3.7.2->en-core-web-sm==3.7.1) (3.3.2)\n",
            "Requirement already satisfied: idna<4,>=2.5 in /usr/local/lib/python3.10/dist-packages (from requests<3.0.0,>=2.13.0->spacy<3.8.0,>=3.7.2->en-core-web-sm==3.7.1) (3.7)\n",
            "Requirement already satisfied: urllib3<3,>=1.21.1 in /usr/local/lib/python3.10/dist-packages (from requests<3.0.0,>=2.13.0->spacy<3.8.0,>=3.7.2->en-core-web-sm==3.7.1) (2.0.7)\n",
            "Requirement already satisfied: certifi>=2017.4.17 in /usr/local/lib/python3.10/dist-packages (from requests<3.0.0,>=2.13.0->spacy<3.8.0,>=3.7.2->en-core-web-sm==3.7.1) (2024.2.2)\n",
            "Requirement already satisfied: blis<0.8.0,>=0.7.8 in /usr/local/lib/python3.10/dist-packages (from thinc<8.3.0,>=8.2.2->spacy<3.8.0,>=3.7.2->en-core-web-sm==3.7.1) (0.7.11)\n",
            "Requirement already satisfied: confection<1.0.0,>=0.0.1 in /usr/local/lib/python3.10/dist-packages (from thinc<8.3.0,>=8.2.2->spacy<3.8.0,>=3.7.2->en-core-web-sm==3.7.1) (0.1.4)\n",
            "Requirement already satisfied: click<9.0.0,>=7.1.1 in /usr/local/lib/python3.10/dist-packages (from typer<0.10.0,>=0.3.0->spacy<3.8.0,>=3.7.2->en-core-web-sm==3.7.1) (8.1.7)\n",
            "Requirement already satisfied: cloudpathlib<0.17.0,>=0.7.0 in /usr/local/lib/python3.10/dist-packages (from weasel<0.4.0,>=0.1.0->spacy<3.8.0,>=3.7.2->en-core-web-sm==3.7.1) (0.16.0)\n",
            "Requirement already satisfied: MarkupSafe>=2.0 in /usr/local/lib/python3.10/dist-packages (from jinja2->spacy<3.8.0,>=3.7.2->en-core-web-sm==3.7.1) (2.1.5)\n",
            "\u001b[38;5;2m✔ Download and installation successful\u001b[0m\n",
            "You can now load the package via spacy.load('en_core_web_sm')\n",
            "\u001b[38;5;3m⚠ Restart to reload dependencies\u001b[0m\n",
            "If you are in a Jupyter or Colab notebook, you may need to restart Python in\n",
            "order to load all the package's dependencies. You can do this by selecting the\n",
            "'Restart kernel' or 'Restart runtime' option.\n"
          ]
        }
      ]
    },
    {
      "cell_type": "code",
      "source": [
        "import spacy\n",
        "\n",
        "sp = spacy.load(\"en_core_web_sm\")"
      ],
      "metadata": {
        "execution": {
          "iopub.execute_input": "2022-07-05T06:56:10.85404Z",
          "iopub.status.busy": "2022-07-05T06:56:10.851708Z",
          "iopub.status.idle": "2022-07-05T06:56:12.193499Z",
          "shell.execute_reply": "2022-07-05T06:56:12.192179Z",
          "shell.execute_reply.started": "2022-07-05T06:56:10.854012Z"
        },
        "papermill": {
          "duration": 9.493191,
          "end_time": "2022-06-13T19:47:07.547582",
          "exception": false,
          "start_time": "2022-06-13T19:46:58.054391",
          "status": "completed"
        },
        "tags": [],
        "id": "x1P-Oh5J8lrB"
      },
      "execution_count": null,
      "outputs": []
    },
    {
      "cell_type": "code",
      "source": [
        "def lemmatization(text):\n",
        "\n",
        "    # text = [sp(word).lemma_ for word in text]\n",
        "\n",
        "    text = \" \".join(text)\n",
        "    token = sp(text)\n",
        "\n",
        "    text = [word.lemma_ for word in token]\n",
        "    return text\n",
        "\n",
        "\n",
        "print(f\"Before Lemmatization : {word_tokenizer(sample)}\")\n",
        "print(f\"After Lemmatization : {lemmatization(word_tokenizer(sample))}\")\n"
      ],
      "metadata": {
        "execution": {
          "iopub.execute_input": "2022-07-05T06:56:12.204002Z",
          "iopub.status.busy": "2022-07-05T06:56:12.200927Z",
          "iopub.status.idle": "2022-07-05T06:56:12.238981Z",
          "shell.execute_reply": "2022-07-05T06:56:12.236742Z",
          "shell.execute_reply.started": "2022-07-05T06:56:12.203959Z"
        },
        "papermill": {
          "duration": 0.143707,
          "end_time": "2022-06-13T19:47:07.806372",
          "exception": false,
          "start_time": "2022-06-13T19:47:07.662665",
          "status": "completed"
        },
        "tags": [],
        "id": "gp961TsZ8lrB",
        "colab": {
          "base_uri": "https://localhost:8080/"
        },
        "outputId": "7c5c8f70-60ef-4032-cf3d-05725b00621f"
      },
      "execution_count": null,
      "outputs": [
        {
          "output_type": "stream",
          "name": "stdout",
          "text": [
            "Before Lemmatization : ['i', 'am', 'creating', 'a', 'notebook']\n",
            "After Lemmatization : ['I', 'be', 'create', 'a', 'notebook']\n"
          ]
        }
      ]
    },
    {
      "cell_type": "markdown",
      "source": [
        "Keep in mind that not all of these procedures are always required, and not all of them must be completed in the sequence listed. When removing numerals and punctuation, for example, the order in which they are eliminated may not matter. However, Before stemming, we usually lowercase the text.\n",
        "\n",
        "And before lemmatization We don't take tokens away either. Because we need to know which part of the text to lemmatize, we must lowercase it first. To get the lemma of a word, it must be said, and all tokens in the phrase must be intact.\n",
        "\n",
        "\n",
        "Preparing a sequential list of pre-processing chores is a recommended practice to follow, must be completed once we have a firm grasp on how to handle our data."
      ],
      "metadata": {
        "papermill": {
          "duration": 0.117211,
          "end_time": "2022-06-13T19:47:08.04046",
          "exception": false,
          "start_time": "2022-06-13T19:47:07.923249",
          "status": "completed"
        },
        "tags": [],
        "id": "q0_ZC5XI8lrC"
      }
    },
    {
      "cell_type": "markdown",
      "source": [
        "<h2  style=\"text-align: center\" class=\"list-group-item list-group-item-success\"> 4.3 Other Pre-Processing Steps </h2><a id = \"4.3\" ></a>\n",
        "\n",
        "\n",
        "In an NLP pipeline, we've seen a few common pre-processing processes so far. We have presumed that we are dealing with standard English text despite the fact that the nature of the texts has not been expressly mentioned. What makes a difference if this isn't the case? Using a few examples, let's explain a few more pre-processing processes to deal with such instances."
      ],
      "metadata": {
        "papermill": {
          "duration": 0.114398,
          "end_time": "2022-06-13T19:47:08.270962",
          "exception": false,
          "start_time": "2022-06-13T19:47:08.156564",
          "status": "completed"
        },
        "tags": [],
        "id": "QdHDYVqo8lrC"
      }
    },
    {
      "cell_type": "markdown",
      "source": [
        "<h3  style=\"text-align: center\" class=\"list-group-item list-group-item-warning\"> 4.3.1 Language Detection</h3><a id = \"4.3.1\" ></a>\n",
        "\n",
        "\n",
        "These day lot of information on web are multi language. But we assumed text to be in English only on that assumption we have constructed the pipeline. So what now, we just need to add another component to the pipeline at its start for **language detection**\n",
        "\n",
        "We can use libraries like Pycld2 for language detection. Once this step is done, the next steps could follow a language-specific pipeline."
      ],
      "metadata": {
        "papermill": {
          "duration": 0.115056,
          "end_time": "2022-06-13T19:47:08.503482",
          "exception": false,
          "start_time": "2022-06-13T19:47:08.388426",
          "status": "completed"
        },
        "tags": [],
        "id": "T5Ptxm718lrC"
      }
    },
    {
      "cell_type": "code",
      "source": [
        "!pip install langdetect"
      ],
      "metadata": {
        "execution": {
          "iopub.execute_input": "2022-07-05T06:56:12.240557Z",
          "iopub.status.busy": "2022-07-05T06:56:12.240174Z",
          "iopub.status.idle": "2022-07-05T06:56:21.255497Z",
          "shell.execute_reply": "2022-07-05T06:56:21.254363Z",
          "shell.execute_reply.started": "2022-07-05T06:56:12.240529Z"
        },
        "papermill": {
          "duration": 12.358798,
          "end_time": "2022-06-13T19:47:20.978872",
          "exception": false,
          "start_time": "2022-06-13T19:47:08.620074",
          "status": "completed"
        },
        "scrolled": true,
        "tags": [],
        "id": "HjpYK0I58lrC",
        "colab": {
          "base_uri": "https://localhost:8080/"
        },
        "outputId": "d1eb4a54-9433-4fe7-a6b3-408588281443"
      },
      "execution_count": null,
      "outputs": [
        {
          "output_type": "stream",
          "name": "stdout",
          "text": [
            "Collecting langdetect\n",
            "  Downloading langdetect-1.0.9.tar.gz (981 kB)\n",
            "\u001b[?25l     \u001b[90m━━━━━━━━━━━━━━━━━━━━━━━━━━━━━━━━━━━━━━━━\u001b[0m \u001b[32m0.0/981.5 kB\u001b[0m \u001b[31m?\u001b[0m eta \u001b[36m-:--:--\u001b[0m\r\u001b[2K     \u001b[91m━━━━━━━━━━━━━━━━━━━━\u001b[0m\u001b[90m╺\u001b[0m\u001b[90m━━━━━━━━━━━━━━━━━━━\u001b[0m \u001b[32m501.8/981.5 kB\u001b[0m \u001b[31m14.6 MB/s\u001b[0m eta \u001b[36m0:00:01\u001b[0m\r\u001b[2K     \u001b[90m━━━━━━━━━━━━━━━━━━━━━━━━━━━━━━━━━━━━━━━━\u001b[0m \u001b[32m981.5/981.5 kB\u001b[0m \u001b[31m19.4 MB/s\u001b[0m eta \u001b[36m0:00:00\u001b[0m\n",
            "\u001b[?25h  Preparing metadata (setup.py) ... \u001b[?25l\u001b[?25hdone\n",
            "Requirement already satisfied: six in /usr/local/lib/python3.10/dist-packages (from langdetect) (1.16.0)\n",
            "Building wheels for collected packages: langdetect\n",
            "  Building wheel for langdetect (setup.py) ... \u001b[?25l\u001b[?25hdone\n",
            "  Created wheel for langdetect: filename=langdetect-1.0.9-py3-none-any.whl size=993227 sha256=6755743a251ee1899b780d41e819820bde80fbc13bfb4cadeddf10fb5a7c81b5\n",
            "  Stored in directory: /root/.cache/pip/wheels/95/03/7d/59ea870c70ce4e5a370638b5462a7711ab78fba2f655d05106\n",
            "Successfully built langdetect\n",
            "Installing collected packages: langdetect\n",
            "Successfully installed langdetect-1.0.9\n"
          ]
        }
      ]
    },
    {
      "cell_type": "code",
      "source": [
        "from langdetect import detect\n",
        "\n",
        "\n",
        "en_text = u\"\"\"\"Hi Everyone I am Ankit Gupta.\"\"\"\n",
        "print(f\" {en_text} : {detect(en_text)}\")\n",
        "\n",
        "hindi_text = u\"\"\"मेरा नाम अंकित गुप्ता है और मैं एक छात्र हूँ\"\"\"\n",
        "print(f\"{hindi_text} : {detect(hindi_text)}\")\n"
      ],
      "metadata": {
        "execution": {
          "iopub.execute_input": "2022-07-05T06:56:21.259117Z",
          "iopub.status.busy": "2022-07-05T06:56:21.258533Z",
          "iopub.status.idle": "2022-07-05T06:56:21.28803Z",
          "shell.execute_reply": "2022-07-05T06:56:21.287044Z",
          "shell.execute_reply.started": "2022-07-05T06:56:21.259083Z"
        },
        "papermill": {
          "duration": 0.829449,
          "end_time": "2022-06-13T19:47:21.933937",
          "exception": false,
          "start_time": "2022-06-13T19:47:21.104488",
          "status": "completed"
        },
        "tags": [],
        "id": "1zSJ9WfA8lrC",
        "colab": {
          "base_uri": "https://localhost:8080/"
        },
        "outputId": "63fe4c79-40e2-4b85-9cc2-ecb09fcbda02"
      },
      "execution_count": null,
      "outputs": [
        {
          "output_type": "stream",
          "name": "stdout",
          "text": [
            " \"Hi Everyone I am Ankit Gupta. : tl\n",
            "मेरा नाम अंकित गुप्ता है और मैं एक छात्र हूँ : hi\n"
          ]
        }
      ]
    },
    {
      "cell_type": "markdown",
      "source": [
        "<h3  style=\"text-align: center\" class=\"list-group-item list-group-item-warning\"> 4.3.2 Code mixing and transliteration</h3><a id = \"4.3.2\" ></a>\n",
        "\n",
        "In previous Section we discussion was about a scenario in which the content was written in a language other than English. Another instance is when a single piece of content is available in multiple languages. Many people all across the world speak multiple languages. Their daily routines As a result, they frequently use many languages. They use multiple languages in their social media posts, and a single post can contain multiple languages. As an example Consider a Hinglish (Hindi Plus English) phrase as an example of code mixing.\n",
        "\n",
        "\n",
        "\n",
        "**Code mixing refers to this phenomenon of switching between languages. When people use multiple languages in their write-ups, they often type words\n",
        "from these languages in Roman script, with English spelling.**\n",
        "\n",
        "\n",
        "\n",
        "**So, the words of another language are written along with English text. This is known as transliteration.**"
      ],
      "metadata": {
        "papermill": {
          "duration": 0.124198,
          "end_time": "2022-06-13T19:47:22.182393",
          "exception": false,
          "start_time": "2022-06-13T19:47:22.058195",
          "status": "completed"
        },
        "tags": [],
        "id": "TWmjsE838lrC"
      }
    },
    {
      "cell_type": "code",
      "source": [
        "from googletrans import Translator\n",
        "\n",
        "translator = Translator()\n",
        "translator.translate(hindi_text)"
      ],
      "metadata": {
        "execution": {
          "iopub.execute_input": "2022-07-05T06:56:21.29021Z",
          "iopub.status.busy": "2022-07-05T06:56:21.28957Z",
          "iopub.status.idle": "2022-07-05T06:56:21.294781Z",
          "shell.execute_reply": "2022-07-05T06:56:21.293741Z",
          "shell.execute_reply.started": "2022-07-05T06:56:21.290174Z"
        },
        "papermill": {
          "duration": 0.132524,
          "end_time": "2022-06-13T19:47:22.437622",
          "exception": false,
          "start_time": "2022-06-13T19:47:22.305098",
          "status": "completed"
        },
        "tags": [],
        "id": "2bJErV878lrD"
      },
      "execution_count": null,
      "outputs": []
    },
    {
      "cell_type": "markdown",
      "source": [
        "<h2  style=\"text-align: center\" class=\"list-group-item list-group-item-success\"> 4.4 Data Augmentation </h2><a id = \"4.4\" ></a>\n",
        "\n",
        "We had the highly biased data. In this case, if we just output that the review is positive then also we will get 95% accuracy. But before the data augmentation approach, we feed this data to a bi-lstm-based model and we got 60-70% of accuracy which was not acceptable. So we did the Data augmentation and generate more negative reviews to balance the data and after that, we got 96-97% accuracy. In this section, I want to discuss what kind of data augmentation we use and what tool."
      ],
      "metadata": {
        "papermill": {
          "duration": 0.124499,
          "end_time": "2022-06-13T19:47:22.687313",
          "exception": false,
          "start_time": "2022-06-13T19:47:22.562814",
          "status": "completed"
        },
        "tags": [],
        "id": "tDchFvfE8lrD"
      }
    },
    {
      "cell_type": "code",
      "source": [
        "df_temp = df.copy()"
      ],
      "metadata": {
        "execution": {
          "iopub.execute_input": "2022-07-05T06:56:21.297098Z",
          "iopub.status.busy": "2022-07-05T06:56:21.296466Z",
          "iopub.status.idle": "2022-07-05T06:56:21.316111Z",
          "shell.execute_reply": "2022-07-05T06:56:21.315227Z",
          "shell.execute_reply.started": "2022-07-05T06:56:21.297062Z"
        },
        "papermill": {
          "duration": 0.143298,
          "end_time": "2022-06-13T19:47:22.95387",
          "exception": false,
          "start_time": "2022-06-13T19:47:22.810572",
          "status": "completed"
        },
        "tags": [],
        "id": "qRgC6xWk8lrD"
      },
      "execution_count": null,
      "outputs": []
    },
    {
      "cell_type": "code",
      "source": [
        "# Assigning labels to each review\n",
        "\n",
        "def label(y):\n",
        "    if y == '5':\n",
        "        return 1\n",
        "    elif y == '4':\n",
        "        return 1\n",
        "    else:\n",
        "        return 0\n",
        "\n",
        "from tqdm import tqdm\n",
        "\n",
        "tqdm.pandas()\n",
        "\n",
        "df_temp['y'] = df_temp.ratings.progress_map(label)"
      ],
      "metadata": {
        "execution": {
          "iopub.execute_input": "2022-07-05T06:56:21.31945Z",
          "iopub.status.busy": "2022-07-05T06:56:21.319197Z",
          "iopub.status.idle": "2022-07-05T06:56:21.422327Z",
          "shell.execute_reply": "2022-07-05T06:56:21.421331Z",
          "shell.execute_reply.started": "2022-07-05T06:56:21.319427Z"
        },
        "papermill": {
          "duration": 0.228872,
          "end_time": "2022-06-13T19:47:23.307875",
          "exception": false,
          "start_time": "2022-06-13T19:47:23.079003",
          "status": "completed"
        },
        "tags": [],
        "id": "OW-0RkHJ8lrD",
        "colab": {
          "base_uri": "https://localhost:8080/"
        },
        "outputId": "f06f87ac-e061-4ada-8629-01ae431e24ef"
      },
      "execution_count": null,
      "outputs": [
        {
          "output_type": "stream",
          "name": "stderr",
          "text": [
            "100%|██████████| 48488/48488 [00:00<00:00, 860308.18it/s]\n"
          ]
        }
      ]
    },
    {
      "cell_type": "code",
      "source": [
        "df_temp = df_temp[['review', 'y', 'ratings']]"
      ],
      "metadata": {
        "execution": {
          "iopub.execute_input": "2022-07-05T06:56:21.430742Z",
          "iopub.status.busy": "2022-07-05T06:56:21.43047Z",
          "iopub.status.idle": "2022-07-05T06:56:21.442186Z",
          "shell.execute_reply": "2022-07-05T06:56:21.441332Z",
          "shell.execute_reply.started": "2022-07-05T06:56:21.430717Z"
        },
        "papermill": {
          "duration": 0.151847,
          "end_time": "2022-06-13T19:47:23.585525",
          "exception": false,
          "start_time": "2022-06-13T19:47:23.433678",
          "status": "completed"
        },
        "tags": [],
        "id": "jNyXULFr8lrD"
      },
      "execution_count": null,
      "outputs": []
    },
    {
      "cell_type": "code",
      "source": [
        "df_temp.head()"
      ],
      "metadata": {
        "execution": {
          "iopub.execute_input": "2022-07-05T06:56:21.444513Z",
          "iopub.status.busy": "2022-07-05T06:56:21.443683Z",
          "iopub.status.idle": "2022-07-05T06:56:21.457344Z",
          "shell.execute_reply": "2022-07-05T06:56:21.45636Z",
          "shell.execute_reply.started": "2022-07-05T06:56:21.444477Z"
        },
        "papermill": {
          "duration": 0.239075,
          "end_time": "2022-06-13T19:47:24.066548",
          "exception": false,
          "start_time": "2022-06-13T19:47:23.827473",
          "status": "completed"
        },
        "tags": [],
        "id": "t697nuyT8lrE",
        "colab": {
          "base_uri": "https://localhost:8080/",
          "height": 206
        },
        "outputId": "67da01ea-59af-4dca-8693-6fc2a76594e4"
      },
      "execution_count": null,
      "outputs": [
        {
          "output_type": "execute_result",
          "data": {
            "text/plain": [
              "                                              review  y ratings\n",
              "0  Wow superb I love it❤️👍 battery backup so nice 👍👍  1       5\n",
              "1  Mobile So Good In Range Redmi 9a Has Miui 12 L...  1       4\n",
              "2  Wonderful device and smart phone best camera b...  1       5\n",
              "3  Very good mobile. Value for money. Battery bac...  1       5\n",
              "4                Really great.... value for money...  1       5"
            ],
            "text/html": [
              "\n",
              "  <div id=\"df-c74784f6-f5a7-46b6-a5cb-784ccfd220ca\" class=\"colab-df-container\">\n",
              "    <div>\n",
              "<style scoped>\n",
              "    .dataframe tbody tr th:only-of-type {\n",
              "        vertical-align: middle;\n",
              "    }\n",
              "\n",
              "    .dataframe tbody tr th {\n",
              "        vertical-align: top;\n",
              "    }\n",
              "\n",
              "    .dataframe thead th {\n",
              "        text-align: right;\n",
              "    }\n",
              "</style>\n",
              "<table border=\"1\" class=\"dataframe\">\n",
              "  <thead>\n",
              "    <tr style=\"text-align: right;\">\n",
              "      <th></th>\n",
              "      <th>review</th>\n",
              "      <th>y</th>\n",
              "      <th>ratings</th>\n",
              "    </tr>\n",
              "  </thead>\n",
              "  <tbody>\n",
              "    <tr>\n",
              "      <th>0</th>\n",
              "      <td>Wow superb I love it❤️👍 battery backup so nice 👍👍</td>\n",
              "      <td>1</td>\n",
              "      <td>5</td>\n",
              "    </tr>\n",
              "    <tr>\n",
              "      <th>1</th>\n",
              "      <td>Mobile So Good In Range Redmi 9a Has Miui 12 L...</td>\n",
              "      <td>1</td>\n",
              "      <td>4</td>\n",
              "    </tr>\n",
              "    <tr>\n",
              "      <th>2</th>\n",
              "      <td>Wonderful device and smart phone best camera b...</td>\n",
              "      <td>1</td>\n",
              "      <td>5</td>\n",
              "    </tr>\n",
              "    <tr>\n",
              "      <th>3</th>\n",
              "      <td>Very good mobile. Value for money. Battery bac...</td>\n",
              "      <td>1</td>\n",
              "      <td>5</td>\n",
              "    </tr>\n",
              "    <tr>\n",
              "      <th>4</th>\n",
              "      <td>Really great.... value for money...</td>\n",
              "      <td>1</td>\n",
              "      <td>5</td>\n",
              "    </tr>\n",
              "  </tbody>\n",
              "</table>\n",
              "</div>\n",
              "    <div class=\"colab-df-buttons\">\n",
              "\n",
              "  <div class=\"colab-df-container\">\n",
              "    <button class=\"colab-df-convert\" onclick=\"convertToInteractive('df-c74784f6-f5a7-46b6-a5cb-784ccfd220ca')\"\n",
              "            title=\"Convert this dataframe to an interactive table.\"\n",
              "            style=\"display:none;\">\n",
              "\n",
              "  <svg xmlns=\"http://www.w3.org/2000/svg\" height=\"24px\" viewBox=\"0 -960 960 960\">\n",
              "    <path d=\"M120-120v-720h720v720H120Zm60-500h600v-160H180v160Zm220 220h160v-160H400v160Zm0 220h160v-160H400v160ZM180-400h160v-160H180v160Zm440 0h160v-160H620v160ZM180-180h160v-160H180v160Zm440 0h160v-160H620v160Z\"/>\n",
              "  </svg>\n",
              "    </button>\n",
              "\n",
              "  <style>\n",
              "    .colab-df-container {\n",
              "      display:flex;\n",
              "      gap: 12px;\n",
              "    }\n",
              "\n",
              "    .colab-df-convert {\n",
              "      background-color: #E8F0FE;\n",
              "      border: none;\n",
              "      border-radius: 50%;\n",
              "      cursor: pointer;\n",
              "      display: none;\n",
              "      fill: #1967D2;\n",
              "      height: 32px;\n",
              "      padding: 0 0 0 0;\n",
              "      width: 32px;\n",
              "    }\n",
              "\n",
              "    .colab-df-convert:hover {\n",
              "      background-color: #E2EBFA;\n",
              "      box-shadow: 0px 1px 2px rgba(60, 64, 67, 0.3), 0px 1px 3px 1px rgba(60, 64, 67, 0.15);\n",
              "      fill: #174EA6;\n",
              "    }\n",
              "\n",
              "    .colab-df-buttons div {\n",
              "      margin-bottom: 4px;\n",
              "    }\n",
              "\n",
              "    [theme=dark] .colab-df-convert {\n",
              "      background-color: #3B4455;\n",
              "      fill: #D2E3FC;\n",
              "    }\n",
              "\n",
              "    [theme=dark] .colab-df-convert:hover {\n",
              "      background-color: #434B5C;\n",
              "      box-shadow: 0px 1px 3px 1px rgba(0, 0, 0, 0.15);\n",
              "      filter: drop-shadow(0px 1px 2px rgba(0, 0, 0, 0.3));\n",
              "      fill: #FFFFFF;\n",
              "    }\n",
              "  </style>\n",
              "\n",
              "    <script>\n",
              "      const buttonEl =\n",
              "        document.querySelector('#df-c74784f6-f5a7-46b6-a5cb-784ccfd220ca button.colab-df-convert');\n",
              "      buttonEl.style.display =\n",
              "        google.colab.kernel.accessAllowed ? 'block' : 'none';\n",
              "\n",
              "      async function convertToInteractive(key) {\n",
              "        const element = document.querySelector('#df-c74784f6-f5a7-46b6-a5cb-784ccfd220ca');\n",
              "        const dataTable =\n",
              "          await google.colab.kernel.invokeFunction('convertToInteractive',\n",
              "                                                    [key], {});\n",
              "        if (!dataTable) return;\n",
              "\n",
              "        const docLinkHtml = 'Like what you see? Visit the ' +\n",
              "          '<a target=\"_blank\" href=https://colab.research.google.com/notebooks/data_table.ipynb>data table notebook</a>'\n",
              "          + ' to learn more about interactive tables.';\n",
              "        element.innerHTML = '';\n",
              "        dataTable['output_type'] = 'display_data';\n",
              "        await google.colab.output.renderOutput(dataTable, element);\n",
              "        const docLink = document.createElement('div');\n",
              "        docLink.innerHTML = docLinkHtml;\n",
              "        element.appendChild(docLink);\n",
              "      }\n",
              "    </script>\n",
              "  </div>\n",
              "\n",
              "\n",
              "<div id=\"df-72bc748f-ad48-4d7b-b40e-34196d1961a5\">\n",
              "  <button class=\"colab-df-quickchart\" onclick=\"quickchart('df-72bc748f-ad48-4d7b-b40e-34196d1961a5')\"\n",
              "            title=\"Suggest charts\"\n",
              "            style=\"display:none;\">\n",
              "\n",
              "<svg xmlns=\"http://www.w3.org/2000/svg\" height=\"24px\"viewBox=\"0 0 24 24\"\n",
              "     width=\"24px\">\n",
              "    <g>\n",
              "        <path d=\"M19 3H5c-1.1 0-2 .9-2 2v14c0 1.1.9 2 2 2h14c1.1 0 2-.9 2-2V5c0-1.1-.9-2-2-2zM9 17H7v-7h2v7zm4 0h-2V7h2v10zm4 0h-2v-4h2v4z\"/>\n",
              "    </g>\n",
              "</svg>\n",
              "  </button>\n",
              "\n",
              "<style>\n",
              "  .colab-df-quickchart {\n",
              "      --bg-color: #E8F0FE;\n",
              "      --fill-color: #1967D2;\n",
              "      --hover-bg-color: #E2EBFA;\n",
              "      --hover-fill-color: #174EA6;\n",
              "      --disabled-fill-color: #AAA;\n",
              "      --disabled-bg-color: #DDD;\n",
              "  }\n",
              "\n",
              "  [theme=dark] .colab-df-quickchart {\n",
              "      --bg-color: #3B4455;\n",
              "      --fill-color: #D2E3FC;\n",
              "      --hover-bg-color: #434B5C;\n",
              "      --hover-fill-color: #FFFFFF;\n",
              "      --disabled-bg-color: #3B4455;\n",
              "      --disabled-fill-color: #666;\n",
              "  }\n",
              "\n",
              "  .colab-df-quickchart {\n",
              "    background-color: var(--bg-color);\n",
              "    border: none;\n",
              "    border-radius: 50%;\n",
              "    cursor: pointer;\n",
              "    display: none;\n",
              "    fill: var(--fill-color);\n",
              "    height: 32px;\n",
              "    padding: 0;\n",
              "    width: 32px;\n",
              "  }\n",
              "\n",
              "  .colab-df-quickchart:hover {\n",
              "    background-color: var(--hover-bg-color);\n",
              "    box-shadow: 0 1px 2px rgba(60, 64, 67, 0.3), 0 1px 3px 1px rgba(60, 64, 67, 0.15);\n",
              "    fill: var(--button-hover-fill-color);\n",
              "  }\n",
              "\n",
              "  .colab-df-quickchart-complete:disabled,\n",
              "  .colab-df-quickchart-complete:disabled:hover {\n",
              "    background-color: var(--disabled-bg-color);\n",
              "    fill: var(--disabled-fill-color);\n",
              "    box-shadow: none;\n",
              "  }\n",
              "\n",
              "  .colab-df-spinner {\n",
              "    border: 2px solid var(--fill-color);\n",
              "    border-color: transparent;\n",
              "    border-bottom-color: var(--fill-color);\n",
              "    animation:\n",
              "      spin 1s steps(1) infinite;\n",
              "  }\n",
              "\n",
              "  @keyframes spin {\n",
              "    0% {\n",
              "      border-color: transparent;\n",
              "      border-bottom-color: var(--fill-color);\n",
              "      border-left-color: var(--fill-color);\n",
              "    }\n",
              "    20% {\n",
              "      border-color: transparent;\n",
              "      border-left-color: var(--fill-color);\n",
              "      border-top-color: var(--fill-color);\n",
              "    }\n",
              "    30% {\n",
              "      border-color: transparent;\n",
              "      border-left-color: var(--fill-color);\n",
              "      border-top-color: var(--fill-color);\n",
              "      border-right-color: var(--fill-color);\n",
              "    }\n",
              "    40% {\n",
              "      border-color: transparent;\n",
              "      border-right-color: var(--fill-color);\n",
              "      border-top-color: var(--fill-color);\n",
              "    }\n",
              "    60% {\n",
              "      border-color: transparent;\n",
              "      border-right-color: var(--fill-color);\n",
              "    }\n",
              "    80% {\n",
              "      border-color: transparent;\n",
              "      border-right-color: var(--fill-color);\n",
              "      border-bottom-color: var(--fill-color);\n",
              "    }\n",
              "    90% {\n",
              "      border-color: transparent;\n",
              "      border-bottom-color: var(--fill-color);\n",
              "    }\n",
              "  }\n",
              "</style>\n",
              "\n",
              "  <script>\n",
              "    async function quickchart(key) {\n",
              "      const quickchartButtonEl =\n",
              "        document.querySelector('#' + key + ' button');\n",
              "      quickchartButtonEl.disabled = true;  // To prevent multiple clicks.\n",
              "      quickchartButtonEl.classList.add('colab-df-spinner');\n",
              "      try {\n",
              "        const charts = await google.colab.kernel.invokeFunction(\n",
              "            'suggestCharts', [key], {});\n",
              "      } catch (error) {\n",
              "        console.error('Error during call to suggestCharts:', error);\n",
              "      }\n",
              "      quickchartButtonEl.classList.remove('colab-df-spinner');\n",
              "      quickchartButtonEl.classList.add('colab-df-quickchart-complete');\n",
              "    }\n",
              "    (() => {\n",
              "      let quickchartButtonEl =\n",
              "        document.querySelector('#df-72bc748f-ad48-4d7b-b40e-34196d1961a5 button');\n",
              "      quickchartButtonEl.style.display =\n",
              "        google.colab.kernel.accessAllowed ? 'block' : 'none';\n",
              "    })();\n",
              "  </script>\n",
              "</div>\n",
              "    </div>\n",
              "  </div>\n"
            ],
            "application/vnd.google.colaboratory.intrinsic+json": {
              "type": "dataframe",
              "variable_name": "df_temp",
              "summary": "{\n  \"name\": \"df_temp\",\n  \"rows\": 48488,\n  \"fields\": [\n    {\n      \"column\": \"review\",\n      \"properties\": {\n        \"dtype\": \"category\",\n        \"num_unique_values\": 17749,\n        \"samples\": [\n          \"Good condition mobile\",\n          \"better choice\",\n          \"camera quality is not on par. If they could have provided OIS and EIS together it's really a huge leap for redmi mobile..can we expect eis update in the near future for taking good images is the question that really matters\"\n        ],\n        \"semantic_type\": \"\",\n        \"description\": \"\"\n      }\n    },\n    {\n      \"column\": \"y\",\n      \"properties\": {\n        \"dtype\": \"number\",\n        \"std\": 0,\n        \"min\": 0,\n        \"max\": 1,\n        \"num_unique_values\": 2,\n        \"samples\": [\n          0,\n          1\n        ],\n        \"semantic_type\": \"\",\n        \"description\": \"\"\n      }\n    },\n    {\n      \"column\": \"ratings\",\n      \"properties\": {\n        \"dtype\": \"category\",\n        \"num_unique_values\": 3,\n        \"samples\": [\n          \"5\",\n          \"4\"\n        ],\n        \"semantic_type\": \"\",\n        \"description\": \"\"\n      }\n    }\n  ]\n}"
            }
          },
          "metadata": {},
          "execution_count": 36
        }
      ]
    },
    {
      "cell_type": "code",
      "source": [
        "df_temp.y.value_counts()"
      ],
      "metadata": {
        "execution": {
          "iopub.execute_input": "2022-07-05T06:56:21.459511Z",
          "iopub.status.busy": "2022-07-05T06:56:21.458899Z",
          "iopub.status.idle": "2022-07-05T06:56:21.470275Z",
          "shell.execute_reply": "2022-07-05T06:56:21.469356Z",
          "shell.execute_reply.started": "2022-07-05T06:56:21.459473Z"
        },
        "papermill": {
          "duration": 0.195624,
          "end_time": "2022-06-13T19:47:24.425702",
          "exception": false,
          "start_time": "2022-06-13T19:47:24.230078",
          "status": "completed"
        },
        "tags": [],
        "id": "SWE_tPrV8lrE",
        "colab": {
          "base_uri": "https://localhost:8080/"
        },
        "outputId": "eafb1f77-fb91-476a-b29f-4c5ca354514c"
      },
      "execution_count": null,
      "outputs": [
        {
          "output_type": "execute_result",
          "data": {
            "text/plain": [
              "y\n",
              "1    44751\n",
              "0     3737\n",
              "Name: count, dtype: int64"
            ]
          },
          "metadata": {},
          "execution_count": 37
        }
      ]
    },
    {
      "cell_type": "code",
      "source": [
        "import seaborn as sns\n",
        "\n",
        "sns.countplot(x = \"y\", data = df_temp)\n",
        "plt.show()"
      ],
      "metadata": {
        "execution": {
          "iopub.execute_input": "2022-07-05T06:56:21.472403Z",
          "iopub.status.busy": "2022-07-05T06:56:21.471736Z",
          "iopub.status.idle": "2022-07-05T06:56:21.809085Z",
          "shell.execute_reply": "2022-07-05T06:56:21.808104Z",
          "shell.execute_reply.started": "2022-07-05T06:56:21.472366Z"
        },
        "papermill": {
          "duration": 0.820978,
          "end_time": "2022-06-13T19:47:25.447324",
          "exception": false,
          "start_time": "2022-06-13T19:47:24.626346",
          "status": "completed"
        },
        "tags": [],
        "id": "bXqHHu858lrE",
        "colab": {
          "base_uri": "https://localhost:8080/",
          "height": 449
        },
        "outputId": "3eb456be-a2a7-444d-a715-ae17d4028eaf"
      },
      "execution_count": null,
      "outputs": [
        {
          "output_type": "display_data",
          "data": {
            "text/plain": [
              "<Figure size 640x480 with 1 Axes>"
            ],
            "image/png": "[encoded data removed]"
          },
          "metadata": {}
        }
      ]
    },
    {
      "cell_type": "markdown",
      "source": [
        "We do not have much of negative comments. We will use data augmentation to create more data our methodology will be we take sentences having 5 star rating and then select the reviews of length in the range of 20 to 30 words.  \n",
        "\n",
        "After havving these positive reviews we will use Antonym Augmentation to generate negative reviews."
      ],
      "metadata": {
        "papermill": {
          "duration": 0.145931,
          "end_time": "2022-06-13T19:47:25.857334",
          "exception": false,
          "start_time": "2022-06-13T19:47:25.711403",
          "status": "completed"
        },
        "tags": [],
        "id": "wb8R1Xe-8lrE"
      }
    },
    {
      "cell_type": "code",
      "source": [
        "df_temp2 = df_temp[(df_temp['ratings'] == '5')]"
      ],
      "metadata": {
        "execution": {
          "iopub.execute_input": "2022-07-05T06:56:21.814319Z",
          "iopub.status.busy": "2022-07-05T06:56:21.813722Z",
          "iopub.status.idle": "2022-07-05T06:56:21.833153Z",
          "shell.execute_reply": "2022-07-05T06:56:21.831955Z",
          "shell.execute_reply.started": "2022-07-05T06:56:21.814262Z"
        },
        "papermill": {
          "duration": 0.163834,
          "end_time": "2022-06-13T19:47:26.166114",
          "exception": false,
          "start_time": "2022-06-13T19:47:26.00228",
          "status": "completed"
        },
        "tags": [],
        "id": "vTt8WSTj8lrE"
      },
      "execution_count": null,
      "outputs": []
    },
    {
      "cell_type": "code",
      "source": [
        "positive = list(df_temp2[(df_temp2['review'].str.len() > 100) & (df_temp2['review'].str.len() < 350)]['review'])\n",
        "len(positive)"
      ],
      "metadata": {
        "execution": {
          "iopub.execute_input": "2022-07-05T06:56:21.835509Z",
          "iopub.status.busy": "2022-07-05T06:56:21.834881Z",
          "iopub.status.idle": "2022-07-05T06:56:21.889241Z",
          "shell.execute_reply": "2022-07-05T06:56:21.888272Z",
          "shell.execute_reply.started": "2022-07-05T06:56:21.835471Z"
        },
        "papermill": {
          "duration": 0.202964,
          "end_time": "2022-06-13T19:47:26.511759",
          "exception": false,
          "start_time": "2022-06-13T19:47:26.308795",
          "status": "completed"
        },
        "tags": [],
        "id": "_tPkXn1e8lrE",
        "colab": {
          "base_uri": "https://localhost:8080/"
        },
        "outputId": "272f6496-3dce-4dfd-f187-a12d9785ef73"
      },
      "execution_count": null,
      "outputs": [
        {
          "output_type": "execute_result",
          "data": {
            "text/plain": [
              "4803"
            ]
          },
          "metadata": {},
          "execution_count": 40
        }
      ]
    },
    {
      "cell_type": "code",
      "source": [
        "!pip install nlpaug"
      ],
      "metadata": {
        "execution": {
          "iopub.execute_input": "2022-07-05T06:56:21.890744Z",
          "iopub.status.busy": "2022-07-05T06:56:21.890412Z",
          "iopub.status.idle": "2022-07-05T06:56:31.089783Z",
          "shell.execute_reply": "2022-07-05T06:56:31.088623Z",
          "shell.execute_reply.started": "2022-07-05T06:56:21.89071Z"
        },
        "papermill": {
          "duration": 10.670111,
          "end_time": "2022-06-13T19:47:37.332025",
          "exception": false,
          "start_time": "2022-06-13T19:47:26.661914",
          "status": "completed"
        },
        "scrolled": true,
        "tags": [],
        "id": "xXxQ_Pex8lrF",
        "colab": {
          "base_uri": "https://localhost:8080/"
        },
        "outputId": "02d05d58-ff42-4a56-9c51-4750d71ac54c"
      },
      "execution_count": null,
      "outputs": [
        {
          "output_type": "stream",
          "name": "stdout",
          "text": [
            "Collecting nlpaug\n",
            "  Downloading nlpaug-1.1.11-py3-none-any.whl (410 kB)\n",
            "\u001b[2K     \u001b[90m━━━━━━━━━━━━━━━━━━━━━━━━━━━━━━━━━━━━━━━━\u001b[0m \u001b[32m410.5/410.5 kB\u001b[0m \u001b[31m5.4 MB/s\u001b[0m eta \u001b[36m0:00:00\u001b[0m\n",
            "\u001b[?25hRequirement already satisfied: numpy>=1.16.2 in /usr/local/lib/python3.10/dist-packages (from nlpaug) (1.25.2)\n",
            "Requirement already satisfied: pandas>=1.2.0 in /usr/local/lib/python3.10/dist-packages (from nlpaug) (2.0.3)\n",
            "Requirement already satisfied: requests>=2.22.0 in /usr/local/lib/python3.10/dist-packages (from nlpaug) (2.31.0)\n",
            "Requirement already satisfied: gdown>=4.0.0 in /usr/local/lib/python3.10/dist-packages (from nlpaug) (5.1.0)\n",
            "Requirement already satisfied: beautifulsoup4 in /usr/local/lib/python3.10/dist-packages (from gdown>=4.0.0->nlpaug) (4.12.3)\n",
            "Requirement already satisfied: filelock in /usr/local/lib/python3.10/dist-packages (from gdown>=4.0.0->nlpaug) (3.13.4)\n",
            "Requirement already satisfied: tqdm in /usr/local/lib/python3.10/dist-packages (from gdown>=4.0.0->nlpaug) (4.66.2)\n",
            "Requirement already satisfied: python-dateutil>=2.8.2 in /usr/local/lib/python3.10/dist-packages (from pandas>=1.2.0->nlpaug) (2.8.2)\n",
            "Requirement already satisfied: pytz>=2020.1 in /usr/local/lib/python3.10/dist-packages (from pandas>=1.2.0->nlpaug) (2023.4)\n",
            "Requirement already satisfied: tzdata>=2022.1 in /usr/local/lib/python3.10/dist-packages (from pandas>=1.2.0->nlpaug) (2024.1)\n",
            "Requirement already satisfied: charset-normalizer<4,>=2 in /usr/local/lib/python3.10/dist-packages (from requests>=2.22.0->nlpaug) (3.3.2)\n",
            "Requirement already satisfied: idna<4,>=2.5 in /usr/local/lib/python3.10/dist-packages (from requests>=2.22.0->nlpaug) (3.7)\n",
            "Requirement already satisfied: urllib3<3,>=1.21.1 in /usr/local/lib/python3.10/dist-packages (from requests>=2.22.0->nlpaug) (2.0.7)\n",
            "Requirement already satisfied: certifi>=2017.4.17 in /usr/local/lib/python3.10/dist-packages (from requests>=2.22.0->nlpaug) (2024.2.2)\n",
            "Requirement already satisfied: six>=1.5 in /usr/local/lib/python3.10/dist-packages (from python-dateutil>=2.8.2->pandas>=1.2.0->nlpaug) (1.16.0)\n",
            "Requirement already satisfied: soupsieve>1.2 in /usr/local/lib/python3.10/dist-packages (from beautifulsoup4->gdown>=4.0.0->nlpaug) (2.5)\n",
            "Requirement already satisfied: PySocks!=1.5.7,>=1.5.6 in /usr/local/lib/python3.10/dist-packages (from requests>=2.22.0->nlpaug) (1.7.1)\n",
            "Installing collected packages: nlpaug\n",
            "Successfully installed nlpaug-1.1.11\n"
          ]
        }
      ]
    },
    {
      "cell_type": "code",
      "source": [
        "import nlpaug.augmenter.word as naw"
      ],
      "metadata": {
        "execution": {
          "iopub.execute_input": "2022-07-05T06:56:31.091971Z",
          "iopub.status.busy": "2022-07-05T06:56:31.091573Z",
          "iopub.status.idle": "2022-07-05T06:56:31.097515Z",
          "shell.execute_reply": "2022-07-05T06:56:31.096272Z",
          "shell.execute_reply.started": "2022-07-05T06:56:31.091932Z"
        },
        "papermill": {
          "duration": 3.811073,
          "end_time": "2022-06-13T19:47:41.275458",
          "exception": false,
          "start_time": "2022-06-13T19:47:37.464385",
          "status": "completed"
        },
        "tags": [],
        "id": "_ogB1RTr8lrF"
      },
      "execution_count": null,
      "outputs": []
    },
    {
      "cell_type": "markdown",
      "source": [
        "We used Python’s NLPAug to do the data augmentation task. First, we choose positive reviews of 100-350 character lengths which were 4803. Just have a look at few of the reviews in below shown image."
      ],
      "metadata": {
        "id": "W_QNceoA8lrF"
      }
    },
    {
      "cell_type": "code",
      "source": [
        "positive[41:49]"
      ],
      "metadata": {
        "execution": {
          "iopub.execute_input": "2022-07-05T06:56:31.099206Z",
          "iopub.status.busy": "2022-07-05T06:56:31.098862Z",
          "iopub.status.idle": "2022-07-05T06:56:31.110275Z",
          "shell.execute_reply": "2022-07-05T06:56:31.109152Z",
          "shell.execute_reply.started": "2022-07-05T06:56:31.099169Z"
        },
        "papermill": {
          "duration": 0.153916,
          "end_time": "2022-06-13T19:47:41.561064",
          "exception": false,
          "start_time": "2022-06-13T19:47:41.407148",
          "status": "completed"
        },
        "tags": [],
        "id": "aRk11Cro8lrF",
        "colab": {
          "base_uri": "https://localhost:8080/"
        },
        "outputId": "d293acc9-d30f-4d46-f201-262f18ba0dcc"
      },
      "execution_count": null,
      "outputs": [
        {
          "output_type": "execute_result",
          "data": {
            "text/plain": [
              "[\"An amazing smartphone for the price though i didn't like the colors compared to a realme phone in the same price range. It's a reall good second smartphone if you already have a primary device.\",\n",
              " \"Nice product according to its budget. But it's hard to play high Graphics games like pubg on 3GB RAM. It lags even when you play at Smooth Graphics settings. If this is for gaming (High graphics game) purpose, then don't go for 3GB or 2 GB RAM and the rest it works very well.\",\n",
              " 'I gave this phone to my wife as a gift and she loved it so much that she gets great performance and photos of games',\n",
              " 'Every thing is great about the phone but a micro USB connector with a 5000 mah battery kind of suck a type c connector would have been better',\n",
              " 'Very good handset at this price. Nice and great performance. Battery backup is also trustworthy. There is no issue till date after using for a period of 5days. Overall u can buy this phone without hesitation',\n",
              " 'I am happy with your productus policy of discount  and best service flipcart.we wish day by day growth. And give more and more service from your sight.           ThanksHasmukh patel.Ahmedabad. Gujarat',\n",
              " \"Mobile phone is Good..  good camera clarity.. I have one problem with the phone, when I do video calling there is lot of noise, so I can't hear properly, lot of sound disturbance, but when I do voice call.. the sound is clear..\",\n",
              " \"An amazing smartphone for the price though i didn't like the colors compared to a realme phone in the same price range. It's a reall good second smartphone if you already have a primary device.\"]"
            ]
          },
          "metadata": {},
          "execution_count": 43
        }
      ]
    },
    {
      "cell_type": "code",
      "source": [
        "aug = naw.AntonymAug(name='Antonym_Aug', aug_min=1, aug_max=10, aug_p=0.3, lang='eng', stopwords=en_stopwords, tokenizer=None,\n",
        "                     reverse_tokenizer=None, stopwords_regex=None, verbose=0)\n",
        "\n",
        "aug_negative = aug.augment(positive)"
      ],
      "metadata": {
        "execution": {
          "iopub.execute_input": "2022-07-05T06:56:31.113354Z",
          "iopub.status.busy": "2022-07-05T06:56:31.112481Z",
          "iopub.status.idle": "2022-07-05T06:56:49.365861Z",
          "shell.execute_reply": "2022-07-05T06:56:49.364912Z",
          "shell.execute_reply.started": "2022-07-05T06:56:31.113301Z"
        },
        "papermill": {
          "duration": 21.848953,
          "end_time": "2022-06-13T19:48:03.545079",
          "exception": false,
          "start_time": "2022-06-13T19:47:41.696126",
          "status": "completed"
        },
        "tags": [],
        "id": "id338rMw8lrF",
        "colab": {
          "base_uri": "https://localhost:8080/"
        },
        "outputId": "bb0ddbcf-27a2-4d59-8dda-75952e6f296d"
      },
      "execution_count": null,
      "outputs": [
        {
          "output_type": "stream",
          "name": "stderr",
          "text": [
            "[nltk_data] Downloading package wordnet to /root/nltk_data...\n",
            "[nltk_data] Downloading package omw-1.4 to /root/nltk_data...\n",
            "[nltk_data] Downloading package averaged_perceptron_tagger to\n",
            "[nltk_data]     /root/nltk_data...\n",
            "[nltk_data]   Unzipping taggers/averaged_perceptron_tagger.zip.\n"
          ]
        }
      ]
    },
    {
      "cell_type": "code",
      "source": [
        "len(aug_negative)"
      ],
      "metadata": {
        "execution": {
          "iopub.execute_input": "2022-07-05T06:56:49.367857Z",
          "iopub.status.busy": "2022-07-05T06:56:49.367271Z",
          "iopub.status.idle": "2022-07-05T06:56:49.374263Z",
          "shell.execute_reply": "2022-07-05T06:56:49.373333Z",
          "shell.execute_reply.started": "2022-07-05T06:56:49.367815Z"
        },
        "papermill": {
          "duration": 0.141999,
          "end_time": "2022-06-13T19:48:03.831925",
          "exception": false,
          "start_time": "2022-06-13T19:48:03.689926",
          "status": "completed"
        },
        "tags": [],
        "id": "6cVzG9398lrF",
        "colab": {
          "base_uri": "https://localhost:8080/"
        },
        "outputId": "de7647d0-6903-43f6-8ed2-91d203071824"
      },
      "execution_count": null,
      "outputs": [
        {
          "output_type": "execute_result",
          "data": {
            "text/plain": [
              "4803"
            ]
          },
          "metadata": {},
          "execution_count": 45
        }
      ]
    },
    {
      "cell_type": "markdown",
      "source": [
        "After having 4803 positive reviews we applied word level augmentation specifically Antonym Augmentation which changes the context of the word (make them opposite of that).\n",
        "Using this we got around 4803 negative reviews as well hence the balanced data. Have a look at the negative version of the above positive reviews."
      ],
      "metadata": {
        "id": "ye0a7wXQ8lrG"
      }
    },
    {
      "cell_type": "code",
      "source": [
        "aug_negative[41:49]"
      ],
      "metadata": {
        "execution": {
          "iopub.execute_input": "2022-07-05T06:56:49.376696Z",
          "iopub.status.busy": "2022-07-05T06:56:49.375986Z",
          "iopub.status.idle": "2022-07-05T06:56:49.386964Z",
          "shell.execute_reply": "2022-07-05T06:56:49.38608Z",
          "shell.execute_reply.started": "2022-07-05T06:56:49.376658Z"
        },
        "papermill": {
          "duration": 0.142019,
          "end_time": "2022-06-13T19:48:04.108417",
          "exception": false,
          "start_time": "2022-06-13T19:48:03.966398",
          "status": "completed"
        },
        "tags": [],
        "id": "DR_XS0iq8lrG",
        "colab": {
          "base_uri": "https://localhost:8080/"
        },
        "outputId": "0de71d72-fdb3-40d4-add6-9f88c28550d8"
      },
      "execution_count": null,
      "outputs": [
        {
          "output_type": "execute_result",
          "data": {
            "text/plain": [
              "[\"An amazing smartphone for the price though i didn ' t like the colors compared to a realme phone in the same price range. It ' s a reall bad second smartphone if you already have a secondary device.\",\n",
              " \"Nice product according to its budget. But it ' s hard to play low Graphics games like pubg on 3GB RAM. It lags even when you play at Smooth Graphics settings. If this is for gaming (Low graphics game) purpose, then don ' t stop for 3GB or 2 GB RAM and the rest it idle very badly.\",\n",
              " 'I take this phone to my wife as a gift and she hate it so little that she end great performance and photos of games',\n",
              " 'Every thing is great about the phone but a micro USB connector with a 5000 mah battery kind of suck a type c connector would have been ill',\n",
              " 'Very evil handset at this price. Nice and great performance. Battery backup is also untrustworthy. There is no issue till date after using for a period of 5days. Overall u can sell this phone without hesitation',\n",
              " 'I am unhappy with your productus policy of discount and evil service flipcart. we wish day by day growth. And starve more and more service from your sight. ThanksHasmukh patel. Ahmedabad. Gujarat',\n",
              " \"Mobile phone is Evil. . bad camera clarity. . I have one problem with the phone, when I do video calling there is lot of noise, so I can ' t hear improperly, lot of unsound disturbance, but when I do voice call. . the sound is ill defined..\",\n",
              " \"An amazing smartphone for the price though i didn ' t like the colors compared to a realme phone in the same price range. It ' s a reall evil second smartphone if you already have a secondary device.\"]"
            ]
          },
          "metadata": {},
          "execution_count": 46
        }
      ]
    },
    {
      "cell_type": "code",
      "source": [
        "df_negative = pd.DataFrame({\"review\" : aug_negative, 'y' : [0]*len(aug_negative)})"
      ],
      "metadata": {
        "execution": {
          "iopub.execute_input": "2022-07-05T06:56:49.38898Z",
          "iopub.status.busy": "2022-07-05T06:56:49.388179Z",
          "iopub.status.idle": "2022-07-05T06:56:49.399811Z",
          "shell.execute_reply": "2022-07-05T06:56:49.399005Z",
          "shell.execute_reply.started": "2022-07-05T06:56:49.388945Z"
        },
        "papermill": {
          "duration": 0.144125,
          "end_time": "2022-06-13T19:48:07.115996",
          "exception": false,
          "start_time": "2022-06-13T19:48:06.971871",
          "status": "completed"
        },
        "tags": [],
        "id": "o4tf_R7p8lrG"
      },
      "execution_count": null,
      "outputs": []
    },
    {
      "cell_type": "code",
      "source": [
        "df_positive = pd.DataFrame({\"review\" : positive, 'y' : [1]*len(positive)})"
      ],
      "metadata": {
        "execution": {
          "iopub.execute_input": "2022-07-05T06:56:49.402077Z",
          "iopub.status.busy": "2022-07-05T06:56:49.401361Z",
          "iopub.status.idle": "2022-07-05T06:56:49.411646Z",
          "shell.execute_reply": "2022-07-05T06:56:49.410699Z",
          "shell.execute_reply.started": "2022-07-05T06:56:49.402041Z"
        },
        "papermill": {
          "duration": 0.249664,
          "end_time": "2022-06-13T19:48:07.775714",
          "exception": false,
          "start_time": "2022-06-13T19:48:07.52605",
          "status": "completed"
        },
        "tags": [],
        "id": "98Kbf6WL8lrG"
      },
      "execution_count": null,
      "outputs": []
    },
    {
      "cell_type": "markdown",
      "source": [
        "Concatination both negative and positive sentences"
      ],
      "metadata": {
        "papermill": {
          "duration": 0.232071,
          "end_time": "2022-06-13T19:48:08.251511",
          "exception": false,
          "start_time": "2022-06-13T19:48:08.01944",
          "status": "completed"
        },
        "tags": [],
        "id": "xEAnwHAc8lrG"
      }
    },
    {
      "cell_type": "code",
      "source": [
        "df_temp = pd.concat([df_negative, df_positive]).sample(frac = 1, random_state = 11).reset_index(drop=True)"
      ],
      "metadata": {
        "execution": {
          "iopub.execute_input": "2022-07-05T06:56:49.415116Z",
          "iopub.status.busy": "2022-07-05T06:56:49.414586Z",
          "iopub.status.idle": "2022-07-05T06:56:49.424279Z",
          "shell.execute_reply": "2022-07-05T06:56:49.423261Z",
          "shell.execute_reply.started": "2022-07-05T06:56:49.415083Z"
        },
        "papermill": {
          "duration": 0.167816,
          "end_time": "2022-06-13T19:48:08.570846",
          "exception": false,
          "start_time": "2022-06-13T19:48:08.40303",
          "status": "completed"
        },
        "tags": [],
        "id": "fjgexVUh8lrG"
      },
      "execution_count": null,
      "outputs": []
    },
    {
      "cell_type": "code",
      "source": [
        "df_temp.info()"
      ],
      "metadata": {
        "execution": {
          "iopub.execute_input": "2022-07-05T06:56:49.426714Z",
          "iopub.status.busy": "2022-07-05T06:56:49.425947Z",
          "iopub.status.idle": "2022-07-05T06:56:49.440501Z",
          "shell.execute_reply": "2022-07-05T06:56:49.439591Z",
          "shell.execute_reply.started": "2022-07-05T06:56:49.426676Z"
        },
        "papermill": {
          "duration": 0.173235,
          "end_time": "2022-06-13T19:48:08.953205",
          "exception": false,
          "start_time": "2022-06-13T19:48:08.77997",
          "status": "completed"
        },
        "tags": [],
        "id": "u9slpIWS8lrG",
        "colab": {
          "base_uri": "https://localhost:8080/"
        },
        "outputId": "4cc441bd-317a-4ecc-c0a5-ac781a611e5c"
      },
      "execution_count": null,
      "outputs": [
        {
          "output_type": "stream",
          "name": "stdout",
          "text": [
            "<class 'pandas.core.frame.DataFrame'>\n",
            "RangeIndex: 9606 entries, 0 to 9605\n",
            "Data columns (total 2 columns):\n",
            " #   Column  Non-Null Count  Dtype \n",
            "---  ------  --------------  ----- \n",
            " 0   review  9606 non-null   object\n",
            " 1   y       9606 non-null   int64 \n",
            "dtypes: int64(1), object(1)\n",
            "memory usage: 150.2+ KB\n"
          ]
        }
      ]
    },
    {
      "cell_type": "code",
      "source": [
        "df_temp.head()"
      ],
      "metadata": {
        "execution": {
          "iopub.execute_input": "2022-07-05T06:56:49.442445Z",
          "iopub.status.busy": "2022-07-05T06:56:49.441889Z",
          "iopub.status.idle": "2022-07-05T06:56:49.453233Z",
          "shell.execute_reply": "2022-07-05T06:56:49.451763Z",
          "shell.execute_reply.started": "2022-07-05T06:56:49.442411Z"
        },
        "papermill": {
          "duration": 0.167756,
          "end_time": "2022-06-13T19:48:09.273626",
          "exception": false,
          "start_time": "2022-06-13T19:48:09.10587",
          "status": "completed"
        },
        "tags": [],
        "id": "Khw_BzAz8lrH",
        "colab": {
          "base_uri": "https://localhost:8080/",
          "height": 206
        },
        "outputId": "a33917af-ae4f-44d6-8a01-c03ad78ac514"
      },
      "execution_count": null,
      "outputs": [
        {
          "output_type": "execute_result",
          "data": {
            "text/plain": [
              "                                              review  y\n",
              "0  great phone in budget. .. pubg performance was...  0\n",
              "1  Best Smartphone by Mi in this Range. . stop fo...  0\n",
              "2  Bad smooth phone. . and back camera quality is...  0\n",
              "3  Thise is very nice mobile ...I like it very mu...  1\n",
              "4  I m meagerly dissatisfy 👍 All section r superb...  0"
            ],
            "text/html": [
              "\n",
              "  <div id=\"df-4564595a-b220-4344-887b-735fb8de7fd1\" class=\"colab-df-container\">\n",
              "    <div>\n",
              "<style scoped>\n",
              "    .dataframe tbody tr th:only-of-type {\n",
              "        vertical-align: middle;\n",
              "    }\n",
              "\n",
              "    .dataframe tbody tr th {\n",
              "        vertical-align: top;\n",
              "    }\n",
              "\n",
              "    .dataframe thead th {\n",
              "        text-align: right;\n",
              "    }\n",
              "</style>\n",
              "<table border=\"1\" class=\"dataframe\">\n",
              "  <thead>\n",
              "    <tr style=\"text-align: right;\">\n",
              "      <th></th>\n",
              "      <th>review</th>\n",
              "      <th>y</th>\n",
              "    </tr>\n",
              "  </thead>\n",
              "  <tbody>\n",
              "    <tr>\n",
              "      <th>0</th>\n",
              "      <td>great phone in budget. .. pubg performance was...</td>\n",
              "      <td>0</td>\n",
              "    </tr>\n",
              "    <tr>\n",
              "      <th>1</th>\n",
              "      <td>Best Smartphone by Mi in this Range. . stop fo...</td>\n",
              "      <td>0</td>\n",
              "    </tr>\n",
              "    <tr>\n",
              "      <th>2</th>\n",
              "      <td>Bad smooth phone. . and back camera quality is...</td>\n",
              "      <td>0</td>\n",
              "    </tr>\n",
              "    <tr>\n",
              "      <th>3</th>\n",
              "      <td>Thise is very nice mobile ...I like it very mu...</td>\n",
              "      <td>1</td>\n",
              "    </tr>\n",
              "    <tr>\n",
              "      <th>4</th>\n",
              "      <td>I m meagerly dissatisfy 👍 All section r superb...</td>\n",
              "      <td>0</td>\n",
              "    </tr>\n",
              "  </tbody>\n",
              "</table>\n",
              "</div>\n",
              "    <div class=\"colab-df-buttons\">\n",
              "\n",
              "  <div class=\"colab-df-container\">\n",
              "    <button class=\"colab-df-convert\" onclick=\"convertToInteractive('df-4564595a-b220-4344-887b-735fb8de7fd1')\"\n",
              "            title=\"Convert this dataframe to an interactive table.\"\n",
              "            style=\"display:none;\">\n",
              "\n",
              "  <svg xmlns=\"http://www.w3.org/2000/svg\" height=\"24px\" viewBox=\"0 -960 960 960\">\n",
              "    <path d=\"M120-120v-720h720v720H120Zm60-500h600v-160H180v160Zm220 220h160v-160H400v160Zm0 220h160v-160H400v160ZM180-400h160v-160H180v160Zm440 0h160v-160H620v160ZM180-180h160v-160H180v160Zm440 0h160v-160H620v160Z\"/>\n",
              "  </svg>\n",
              "    </button>\n",
              "\n",
              "  <style>\n",
              "    .colab-df-container {\n",
              "      display:flex;\n",
              "      gap: 12px;\n",
              "    }\n",
              "\n",
              "    .colab-df-convert {\n",
              "      background-color: #E8F0FE;\n",
              "      border: none;\n",
              "      border-radius: 50%;\n",
              "      cursor: pointer;\n",
              "      display: none;\n",
              "      fill: #1967D2;\n",
              "      height: 32px;\n",
              "      padding: 0 0 0 0;\n",
              "      width: 32px;\n",
              "    }\n",
              "\n",
              "    .colab-df-convert:hover {\n",
              "      background-color: #E2EBFA;\n",
              "      box-shadow: 0px 1px 2px rgba(60, 64, 67, 0.3), 0px 1px 3px 1px rgba(60, 64, 67, 0.15);\n",
              "      fill: #174EA6;\n",
              "    }\n",
              "\n",
              "    .colab-df-buttons div {\n",
              "      margin-bottom: 4px;\n",
              "    }\n",
              "\n",
              "    [theme=dark] .colab-df-convert {\n",
              "      background-color: #3B4455;\n",
              "      fill: #D2E3FC;\n",
              "    }\n",
              "\n",
              "    [theme=dark] .colab-df-convert:hover {\n",
              "      background-color: #434B5C;\n",
              "      box-shadow: 0px 1px 3px 1px rgba(0, 0, 0, 0.15);\n",
              "      filter: drop-shadow(0px 1px 2px rgba(0, 0, 0, 0.3));\n",
              "      fill: #FFFFFF;\n",
              "    }\n",
              "  </style>\n",
              "\n",
              "    <script>\n",
              "      const buttonEl =\n",
              "        document.querySelector('#df-4564595a-b220-4344-887b-735fb8de7fd1 button.colab-df-convert');\n",
              "      buttonEl.style.display =\n",
              "        google.colab.kernel.accessAllowed ? 'block' : 'none';\n",
              "\n",
              "      async function convertToInteractive(key) {\n",
              "        const element = document.querySelector('#df-4564595a-b220-4344-887b-735fb8de7fd1');\n",
              "        const dataTable =\n",
              "          await google.colab.kernel.invokeFunction('convertToInteractive',\n",
              "                                                    [key], {});\n",
              "        if (!dataTable) return;\n",
              "\n",
              "        const docLinkHtml = 'Like what you see? Visit the ' +\n",
              "          '<a target=\"_blank\" href=https://colab.research.google.com/notebooks/data_table.ipynb>data table notebook</a>'\n",
              "          + ' to learn more about interactive tables.';\n",
              "        element.innerHTML = '';\n",
              "        dataTable['output_type'] = 'display_data';\n",
              "        await google.colab.output.renderOutput(dataTable, element);\n",
              "        const docLink = document.createElement('div');\n",
              "        docLink.innerHTML = docLinkHtml;\n",
              "        element.appendChild(docLink);\n",
              "      }\n",
              "    </script>\n",
              "  </div>\n",
              "\n",
              "\n",
              "<div id=\"df-78133c24-0046-47d7-9201-48ec83de0b97\">\n",
              "  <button class=\"colab-df-quickchart\" onclick=\"quickchart('df-78133c24-0046-47d7-9201-48ec83de0b97')\"\n",
              "            title=\"Suggest charts\"\n",
              "            style=\"display:none;\">\n",
              "\n",
              "<svg xmlns=\"http://www.w3.org/2000/svg\" height=\"24px\"viewBox=\"0 0 24 24\"\n",
              "     width=\"24px\">\n",
              "    <g>\n",
              "        <path d=\"M19 3H5c-1.1 0-2 .9-2 2v14c0 1.1.9 2 2 2h14c1.1 0 2-.9 2-2V5c0-1.1-.9-2-2-2zM9 17H7v-7h2v7zm4 0h-2V7h2v10zm4 0h-2v-4h2v4z\"/>\n",
              "    </g>\n",
              "</svg>\n",
              "  </button>\n",
              "\n",
              "<style>\n",
              "  .colab-df-quickchart {\n",
              "      --bg-color: #E8F0FE;\n",
              "      --fill-color: #1967D2;\n",
              "      --hover-bg-color: #E2EBFA;\n",
              "      --hover-fill-color: #174EA6;\n",
              "      --disabled-fill-color: #AAA;\n",
              "      --disabled-bg-color: #DDD;\n",
              "  }\n",
              "\n",
              "  [theme=dark] .colab-df-quickchart {\n",
              "      --bg-color: #3B4455;\n",
              "      --fill-color: #D2E3FC;\n",
              "      --hover-bg-color: #434B5C;\n",
              "      --hover-fill-color: #FFFFFF;\n",
              "      --disabled-bg-color: #3B4455;\n",
              "      --disabled-fill-color: #666;\n",
              "  }\n",
              "\n",
              "  .colab-df-quickchart {\n",
              "    background-color: var(--bg-color);\n",
              "    border: none;\n",
              "    border-radius: 50%;\n",
              "    cursor: pointer;\n",
              "    display: none;\n",
              "    fill: var(--fill-color);\n",
              "    height: 32px;\n",
              "    padding: 0;\n",
              "    width: 32px;\n",
              "  }\n",
              "\n",
              "  .colab-df-quickchart:hover {\n",
              "    background-color: var(--hover-bg-color);\n",
              "    box-shadow: 0 1px 2px rgba(60, 64, 67, 0.3), 0 1px 3px 1px rgba(60, 64, 67, 0.15);\n",
              "    fill: var(--button-hover-fill-color);\n",
              "  }\n",
              "\n",
              "  .colab-df-quickchart-complete:disabled,\n",
              "  .colab-df-quickchart-complete:disabled:hover {\n",
              "    background-color: var(--disabled-bg-color);\n",
              "    fill: var(--disabled-fill-color);\n",
              "    box-shadow: none;\n",
              "  }\n",
              "\n",
              "  .colab-df-spinner {\n",
              "    border: 2px solid var(--fill-color);\n",
              "    border-color: transparent;\n",
              "    border-bottom-color: var(--fill-color);\n",
              "    animation:\n",
              "      spin 1s steps(1) infinite;\n",
              "  }\n",
              "\n",
              "  @keyframes spin {\n",
              "    0% {\n",
              "      border-color: transparent;\n",
              "      border-bottom-color: var(--fill-color);\n",
              "      border-left-color: var(--fill-color);\n",
              "    }\n",
              "    20% {\n",
              "      border-color: transparent;\n",
              "      border-left-color: var(--fill-color);\n",
              "      border-top-color: var(--fill-color);\n",
              "    }\n",
              "    30% {\n",
              "      border-color: transparent;\n",
              "      border-left-color: var(--fill-color);\n",
              "      border-top-color: var(--fill-color);\n",
              "      border-right-color: var(--fill-color);\n",
              "    }\n",
              "    40% {\n",
              "      border-color: transparent;\n",
              "      border-right-color: var(--fill-color);\n",
              "      border-top-color: var(--fill-color);\n",
              "    }\n",
              "    60% {\n",
              "      border-color: transparent;\n",
              "      border-right-color: var(--fill-color);\n",
              "    }\n",
              "    80% {\n",
              "      border-color: transparent;\n",
              "      border-right-color: var(--fill-color);\n",
              "      border-bottom-color: var(--fill-color);\n",
              "    }\n",
              "    90% {\n",
              "      border-color: transparent;\n",
              "      border-bottom-color: var(--fill-color);\n",
              "    }\n",
              "  }\n",
              "</style>\n",
              "\n",
              "  <script>\n",
              "    async function quickchart(key) {\n",
              "      const quickchartButtonEl =\n",
              "        document.querySelector('#' + key + ' button');\n",
              "      quickchartButtonEl.disabled = true;  // To prevent multiple clicks.\n",
              "      quickchartButtonEl.classList.add('colab-df-spinner');\n",
              "      try {\n",
              "        const charts = await google.colab.kernel.invokeFunction(\n",
              "            'suggestCharts', [key], {});\n",
              "      } catch (error) {\n",
              "        console.error('Error during call to suggestCharts:', error);\n",
              "      }\n",
              "      quickchartButtonEl.classList.remove('colab-df-spinner');\n",
              "      quickchartButtonEl.classList.add('colab-df-quickchart-complete');\n",
              "    }\n",
              "    (() => {\n",
              "      let quickchartButtonEl =\n",
              "        document.querySelector('#df-78133c24-0046-47d7-9201-48ec83de0b97 button');\n",
              "      quickchartButtonEl.style.display =\n",
              "        google.colab.kernel.accessAllowed ? 'block' : 'none';\n",
              "    })();\n",
              "  </script>\n",
              "</div>\n",
              "    </div>\n",
              "  </div>\n"
            ],
            "application/vnd.google.colaboratory.intrinsic+json": {
              "type": "dataframe",
              "variable_name": "df_temp",
              "summary": "{\n  \"name\": \"df_temp\",\n  \"rows\": 9606,\n  \"fields\": [\n    {\n      \"column\": \"review\",\n      \"properties\": {\n        \"dtype\": \"string\",\n        \"num_unique_values\": 7405,\n        \"samples\": [\n          \"Just awesome nothing to say. I recommend to you that, use this device first otherwise you cant understand the quality of this phone.. Very smooth and fast experiance and good camera. Very handy device.. And powerful.\",\n          \"Nasty product. . I hate the front color. It ' s so shinee. The screen is also small. This phone has a slow charging process. I ' ve been using this phone for 1 month now. It ' s no longer malfunction smoothly. Despair it ' ll work same way in the future: )\",\n          \"I sell this product 10K on December 2019. at this price segment this was a great deal for me. everything is bad. camera quality super, display is evil, battery large bit disappointed, but the abnormal it ' s ok. play pubg medium to low setting was great it negate ultra HD in smooth and medium settings. overall is the great deals for me.\"\n        ],\n        \"semantic_type\": \"\",\n        \"description\": \"\"\n      }\n    },\n    {\n      \"column\": \"y\",\n      \"properties\": {\n        \"dtype\": \"number\",\n        \"std\": 0,\n        \"min\": 0,\n        \"max\": 1,\n        \"num_unique_values\": 2,\n        \"samples\": [\n          1,\n          0\n        ],\n        \"semantic_type\": \"\",\n        \"description\": \"\"\n      }\n    }\n  ]\n}"
            }
          },
          "metadata": {},
          "execution_count": 51
        }
      ]
    },
    {
      "cell_type": "code",
      "source": [
        "df = df_temp"
      ],
      "metadata": {
        "execution": {
          "iopub.execute_input": "2022-07-05T06:56:49.457069Z",
          "iopub.status.busy": "2022-07-05T06:56:49.456517Z",
          "iopub.status.idle": "2022-07-05T06:56:49.470131Z",
          "shell.execute_reply": "2022-07-05T06:56:49.469139Z",
          "shell.execute_reply.started": "2022-07-05T06:56:49.457031Z"
        },
        "papermill": {
          "duration": 0.17469,
          "end_time": "2022-06-13T19:48:09.602973",
          "exception": false,
          "start_time": "2022-06-13T19:48:09.428283",
          "status": "completed"
        },
        "tags": [],
        "id": "xzvRGH9x8lrH"
      },
      "execution_count": null,
      "outputs": []
    },
    {
      "cell_type": "markdown",
      "source": [
        "Applying Text cleaning and preprocessing on whole dataset"
      ],
      "metadata": {
        "papermill": {
          "duration": 0.136432,
          "end_time": "2022-06-13T19:48:09.87803",
          "exception": false,
          "start_time": "2022-06-13T19:48:09.741598",
          "status": "completed"
        },
        "tags": [],
        "id": "yYhlKbQ38lrH"
      }
    },
    {
      "cell_type": "code",
      "source": [
        "def preprocessing(text):\n",
        "\n",
        "    text = remove_url(text)\n",
        "    text = uni.normalize('NFKD', text)\n",
        "    text = handle_emoji(text)\n",
        "    text = text.lower()\n",
        "    text = re.sub(r'[^\\w\\s]', '', text)\n",
        "    text = word_tokenizer(text)\n",
        "    # text = stemming(text)\n",
        "    text = lemmatization(text)\n",
        "    text = remove_stopwords(text)\n",
        "    text = \" \".join(text)\n",
        "\n",
        "    return text"
      ],
      "metadata": {
        "execution": {
          "iopub.execute_input": "2022-07-05T06:56:49.474529Z",
          "iopub.status.busy": "2022-07-05T06:56:49.473261Z",
          "iopub.status.idle": "2022-07-05T06:56:49.482804Z",
          "shell.execute_reply": "2022-07-05T06:56:49.481758Z",
          "shell.execute_reply.started": "2022-07-05T06:56:49.4745Z"
        },
        "papermill": {
          "duration": 0.145807,
          "end_time": "2022-06-13T19:48:10.160127",
          "exception": false,
          "start_time": "2022-06-13T19:48:10.01432",
          "status": "completed"
        },
        "tags": [],
        "id": "hCjeyAMt8lrH"
      },
      "execution_count": null,
      "outputs": []
    },
    {
      "cell_type": "code",
      "source": [
        "from tqdm import tqdm\n",
        "\n",
        "tqdm.pandas()\n",
        "\n",
        "df['clean_review'] = df['review'].progress_map(preprocessing)"
      ],
      "metadata": {
        "execution": {
          "iopub.execute_input": "2022-07-05T06:56:49.486104Z",
          "iopub.status.busy": "2022-07-05T06:56:49.485208Z",
          "iopub.status.idle": "2022-07-05T06:58:34.63791Z",
          "shell.execute_reply": "2022-07-05T06:58:34.636364Z",
          "shell.execute_reply.started": "2022-07-05T06:56:49.486063Z"
        },
        "papermill": {
          "duration": 110.371804,
          "end_time": "2022-06-13T19:50:00.666832",
          "exception": false,
          "start_time": "2022-06-13T19:48:10.295028",
          "status": "completed"
        },
        "tags": [],
        "id": "LDdI131c8lrH",
        "colab": {
          "base_uri": "https://localhost:8080/"
        },
        "outputId": "ba3b2b22-b66e-4844-fbee-b8a0ebfd0e23"
      },
      "execution_count": null,
      "outputs": [
        {
          "output_type": "stream",
          "name": "stderr",
          "text": [
            "100%|██████████| 9606/9606 [01:57<00:00, 81.72it/s]\n"
          ]
        }
      ]
    },
    {
      "cell_type": "code",
      "source": [
        "df.head()"
      ],
      "metadata": {
        "execution": {
          "iopub.execute_input": "2022-07-05T06:58:34.639777Z",
          "iopub.status.busy": "2022-07-05T06:58:34.63942Z",
          "iopub.status.idle": "2022-07-05T06:58:34.649876Z",
          "shell.execute_reply": "2022-07-05T06:58:34.648924Z",
          "shell.execute_reply.started": "2022-07-05T06:58:34.63974Z"
        },
        "papermill": {
          "duration": 0.445654,
          "end_time": "2022-06-13T19:50:01.54986",
          "exception": false,
          "start_time": "2022-06-13T19:50:01.104206",
          "status": "completed"
        },
        "tags": [],
        "id": "QnRP6f6-8lrH",
        "colab": {
          "base_uri": "https://localhost:8080/",
          "height": 206
        },
        "outputId": "3c3aabbe-8637-4224-a93b-7eff56498440"
      },
      "execution_count": null,
      "outputs": [
        {
          "output_type": "execute_result",
          "data": {
            "text/plain": [
              "                                              review  y  \\\n",
              "0  great phone in budget. .. pubg performance was...  0   \n",
              "1  Best Smartphone by Mi in this Range. . stop fo...  0   \n",
              "2  Bad smooth phone. . and back camera quality is...  0   \n",
              "3  Thise is very nice mobile ...I like it very mu...  1   \n",
              "4  I m meagerly dissatisfy 👍 All section r superb...  0   \n",
              "\n",
              "                                        clean_review  \n",
              "0  great phone budget pubg performance rough came...  \n",
              "1  well smartphone mi range stop r confuse samsun...  \n",
              "2  bad smooth phone back camera quality evil rear...  \n",
              "3  thise nice mobile I like much delivery also fa...  \n",
              "4  I meagerly dissatisfy thumb section r superb d...  "
            ],
            "text/html": [
              "\n",
              "  <div id=\"df-04363299-2a21-4fc7-b10a-d160bd4a2e4a\" class=\"colab-df-container\">\n",
              "    <div>\n",
              "<style scoped>\n",
              "    .dataframe tbody tr th:only-of-type {\n",
              "        vertical-align: middle;\n",
              "    }\n",
              "\n",
              "    .dataframe tbody tr th {\n",
              "        vertical-align: top;\n",
              "    }\n",
              "\n",
              "    .dataframe thead th {\n",
              "        text-align: right;\n",
              "    }\n",
              "</style>\n",
              "<table border=\"1\" class=\"dataframe\">\n",
              "  <thead>\n",
              "    <tr style=\"text-align: right;\">\n",
              "      <th></th>\n",
              "      <th>review</th>\n",
              "      <th>y</th>\n",
              "      <th>clean_review</th>\n",
              "    </tr>\n",
              "  </thead>\n",
              "  <tbody>\n",
              "    <tr>\n",
              "      <th>0</th>\n",
              "      <td>great phone in budget. .. pubg performance was...</td>\n",
              "      <td>0</td>\n",
              "      <td>great phone budget pubg performance rough came...</td>\n",
              "    </tr>\n",
              "    <tr>\n",
              "      <th>1</th>\n",
              "      <td>Best Smartphone by Mi in this Range. . stop fo...</td>\n",
              "      <td>0</td>\n",
              "      <td>well smartphone mi range stop r confuse samsun...</td>\n",
              "    </tr>\n",
              "    <tr>\n",
              "      <th>2</th>\n",
              "      <td>Bad smooth phone. . and back camera quality is...</td>\n",
              "      <td>0</td>\n",
              "      <td>bad smooth phone back camera quality evil rear...</td>\n",
              "    </tr>\n",
              "    <tr>\n",
              "      <th>3</th>\n",
              "      <td>Thise is very nice mobile ...I like it very mu...</td>\n",
              "      <td>1</td>\n",
              "      <td>thise nice mobile I like much delivery also fa...</td>\n",
              "    </tr>\n",
              "    <tr>\n",
              "      <th>4</th>\n",
              "      <td>I m meagerly dissatisfy 👍 All section r superb...</td>\n",
              "      <td>0</td>\n",
              "      <td>I meagerly dissatisfy thumb section r superb d...</td>\n",
              "    </tr>\n",
              "  </tbody>\n",
              "</table>\n",
              "</div>\n",
              "    <div class=\"colab-df-buttons\">\n",
              "\n",
              "  <div class=\"colab-df-container\">\n",
              "    <button class=\"colab-df-convert\" onclick=\"convertToInteractive('df-04363299-2a21-4fc7-b10a-d160bd4a2e4a')\"\n",
              "            title=\"Convert this dataframe to an interactive table.\"\n",
              "            style=\"display:none;\">\n",
              "\n",
              "  <svg xmlns=\"http://www.w3.org/2000/svg\" height=\"24px\" viewBox=\"0 -960 960 960\">\n",
              "    <path d=\"M120-120v-720h720v720H120Zm60-500h600v-160H180v160Zm220 220h160v-160H400v160Zm0 220h160v-160H400v160ZM180-400h160v-160H180v160Zm440 0h160v-160H620v160ZM180-180h160v-160H180v160Zm440 0h160v-160H620v160Z\"/>\n",
              "  </svg>\n",
              "    </button>\n",
              "\n",
              "  <style>\n",
              "    .colab-df-container {\n",
              "      display:flex;\n",
              "      gap: 12px;\n",
              "    }\n",
              "\n",
              "    .colab-df-convert {\n",
              "      background-color: #E8F0FE;\n",
              "      border: none;\n",
              "      border-radius: 50%;\n",
              "      cursor: pointer;\n",
              "      display: none;\n",
              "      fill: #1967D2;\n",
              "      height: 32px;\n",
              "      padding: 0 0 0 0;\n",
              "      width: 32px;\n",
              "    }\n",
              "\n",
              "    .colab-df-convert:hover {\n",
              "      background-color: #E2EBFA;\n",
              "      box-shadow: 0px 1px 2px rgba(60, 64, 67, 0.3), 0px 1px 3px 1px rgba(60, 64, 67, 0.15);\n",
              "      fill: #174EA6;\n",
              "    }\n",
              "\n",
              "    .colab-df-buttons div {\n",
              "      margin-bottom: 4px;\n",
              "    }\n",
              "\n",
              "    [theme=dark] .colab-df-convert {\n",
              "      background-color: #3B4455;\n",
              "      fill: #D2E3FC;\n",
              "    }\n",
              "\n",
              "    [theme=dark] .colab-df-convert:hover {\n",
              "      background-color: #434B5C;\n",
              "      box-shadow: 0px 1px 3px 1px rgba(0, 0, 0, 0.15);\n",
              "      filter: drop-shadow(0px 1px 2px rgba(0, 0, 0, 0.3));\n",
              "      fill: #FFFFFF;\n",
              "    }\n",
              "  </style>\n",
              "\n",
              "    <script>\n",
              "      const buttonEl =\n",
              "        document.querySelector('#df-04363299-2a21-4fc7-b10a-d160bd4a2e4a button.colab-df-convert');\n",
              "      buttonEl.style.display =\n",
              "        google.colab.kernel.accessAllowed ? 'block' : 'none';\n",
              "\n",
              "      async function convertToInteractive(key) {\n",
              "        const element = document.querySelector('#df-04363299-2a21-4fc7-b10a-d160bd4a2e4a');\n",
              "        const dataTable =\n",
              "          await google.colab.kernel.invokeFunction('convertToInteractive',\n",
              "                                                    [key], {});\n",
              "        if (!dataTable) return;\n",
              "\n",
              "        const docLinkHtml = 'Like what you see? Visit the ' +\n",
              "          '<a target=\"_blank\" href=https://colab.research.google.com/notebooks/data_table.ipynb>data table notebook</a>'\n",
              "          + ' to learn more about interactive tables.';\n",
              "        element.innerHTML = '';\n",
              "        dataTable['output_type'] = 'display_data';\n",
              "        await google.colab.output.renderOutput(dataTable, element);\n",
              "        const docLink = document.createElement('div');\n",
              "        docLink.innerHTML = docLinkHtml;\n",
              "        element.appendChild(docLink);\n",
              "      }\n",
              "    </script>\n",
              "  </div>\n",
              "\n",
              "\n",
              "<div id=\"df-cd53eafa-184e-49c3-a743-e1db73704937\">\n",
              "  <button class=\"colab-df-quickchart\" onclick=\"quickchart('df-cd53eafa-184e-49c3-a743-e1db73704937')\"\n",
              "            title=\"Suggest charts\"\n",
              "            style=\"display:none;\">\n",
              "\n",
              "<svg xmlns=\"http://www.w3.org/2000/svg\" height=\"24px\"viewBox=\"0 0 24 24\"\n",
              "     width=\"24px\">\n",
              "    <g>\n",
              "        <path d=\"M19 3H5c-1.1 0-2 .9-2 2v14c0 1.1.9 2 2 2h14c1.1 0 2-.9 2-2V5c0-1.1-.9-2-2-2zM9 17H7v-7h2v7zm4 0h-2V7h2v10zm4 0h-2v-4h2v4z\"/>\n",
              "    </g>\n",
              "</svg>\n",
              "  </button>\n",
              "\n",
              "<style>\n",
              "  .colab-df-quickchart {\n",
              "      --bg-color: #E8F0FE;\n",
              "      --fill-color: #1967D2;\n",
              "      --hover-bg-color: #E2EBFA;\n",
              "      --hover-fill-color: #174EA6;\n",
              "      --disabled-fill-color: #AAA;\n",
              "      --disabled-bg-color: #DDD;\n",
              "  }\n",
              "\n",
              "  [theme=dark] .colab-df-quickchart {\n",
              "      --bg-color: #3B4455;\n",
              "      --fill-color: #D2E3FC;\n",
              "      --hover-bg-color: #434B5C;\n",
              "      --hover-fill-color: #FFFFFF;\n",
              "      --disabled-bg-color: #3B4455;\n",
              "      --disabled-fill-color: #666;\n",
              "  }\n",
              "\n",
              "  .colab-df-quickchart {\n",
              "    background-color: var(--bg-color);\n",
              "    border: none;\n",
              "    border-radius: 50%;\n",
              "    cursor: pointer;\n",
              "    display: none;\n",
              "    fill: var(--fill-color);\n",
              "    height: 32px;\n",
              "    padding: 0;\n",
              "    width: 32px;\n",
              "  }\n",
              "\n",
              "  .colab-df-quickchart:hover {\n",
              "    background-color: var(--hover-bg-color);\n",
              "    box-shadow: 0 1px 2px rgba(60, 64, 67, 0.3), 0 1px 3px 1px rgba(60, 64, 67, 0.15);\n",
              "    fill: var(--button-hover-fill-color);\n",
              "  }\n",
              "\n",
              "  .colab-df-quickchart-complete:disabled,\n",
              "  .colab-df-quickchart-complete:disabled:hover {\n",
              "    background-color: var(--disabled-bg-color);\n",
              "    fill: var(--disabled-fill-color);\n",
              "    box-shadow: none;\n",
              "  }\n",
              "\n",
              "  .colab-df-spinner {\n",
              "    border: 2px solid var(--fill-color);\n",
              "    border-color: transparent;\n",
              "    border-bottom-color: var(--fill-color);\n",
              "    animation:\n",
              "      spin 1s steps(1) infinite;\n",
              "  }\n",
              "\n",
              "  @keyframes spin {\n",
              "    0% {\n",
              "      border-color: transparent;\n",
              "      border-bottom-color: var(--fill-color);\n",
              "      border-left-color: var(--fill-color);\n",
              "    }\n",
              "    20% {\n",
              "      border-color: transparent;\n",
              "      border-left-color: var(--fill-color);\n",
              "      border-top-color: var(--fill-color);\n",
              "    }\n",
              "    30% {\n",
              "      border-color: transparent;\n",
              "      border-left-color: var(--fill-color);\n",
              "      border-top-color: var(--fill-color);\n",
              "      border-right-color: var(--fill-color);\n",
              "    }\n",
              "    40% {\n",
              "      border-color: transparent;\n",
              "      border-right-color: var(--fill-color);\n",
              "      border-top-color: var(--fill-color);\n",
              "    }\n",
              "    60% {\n",
              "      border-color: transparent;\n",
              "      border-right-color: var(--fill-color);\n",
              "    }\n",
              "    80% {\n",
              "      border-color: transparent;\n",
              "      border-right-color: var(--fill-color);\n",
              "      border-bottom-color: var(--fill-color);\n",
              "    }\n",
              "    90% {\n",
              "      border-color: transparent;\n",
              "      border-bottom-color: var(--fill-color);\n",
              "    }\n",
              "  }\n",
              "</style>\n",
              "\n",
              "  <script>\n",
              "    async function quickchart(key) {\n",
              "      const quickchartButtonEl =\n",
              "        document.querySelector('#' + key + ' button');\n",
              "      quickchartButtonEl.disabled = true;  // To prevent multiple clicks.\n",
              "      quickchartButtonEl.classList.add('colab-df-spinner');\n",
              "      try {\n",
              "        const charts = await google.colab.kernel.invokeFunction(\n",
              "            'suggestCharts', [key], {});\n",
              "      } catch (error) {\n",
              "        console.error('Error during call to suggestCharts:', error);\n",
              "      }\n",
              "      quickchartButtonEl.classList.remove('colab-df-spinner');\n",
              "      quickchartButtonEl.classList.add('colab-df-quickchart-complete');\n",
              "    }\n",
              "    (() => {\n",
              "      let quickchartButtonEl =\n",
              "        document.querySelector('#df-cd53eafa-184e-49c3-a743-e1db73704937 button');\n",
              "      quickchartButtonEl.style.display =\n",
              "        google.colab.kernel.accessAllowed ? 'block' : 'none';\n",
              "    })();\n",
              "  </script>\n",
              "</div>\n",
              "    </div>\n",
              "  </div>\n"
            ],
            "application/vnd.google.colaboratory.intrinsic+json": {
              "type": "dataframe",
              "variable_name": "df",
              "summary": "{\n  \"name\": \"df\",\n  \"rows\": 9606,\n  \"fields\": [\n    {\n      \"column\": \"review\",\n      \"properties\": {\n        \"dtype\": \"string\",\n        \"num_unique_values\": 7405,\n        \"samples\": [\n          \"Just awesome nothing to say. I recommend to you that, use this device first otherwise you cant understand the quality of this phone.. Very smooth and fast experiance and good camera. Very handy device.. And powerful.\",\n          \"Nasty product. . I hate the front color. It ' s so shinee. The screen is also small. This phone has a slow charging process. I ' ve been using this phone for 1 month now. It ' s no longer malfunction smoothly. Despair it ' ll work same way in the future: )\",\n          \"I sell this product 10K on December 2019. at this price segment this was a great deal for me. everything is bad. camera quality super, display is evil, battery large bit disappointed, but the abnormal it ' s ok. play pubg medium to low setting was great it negate ultra HD in smooth and medium settings. overall is the great deals for me.\"\n        ],\n        \"semantic_type\": \"\",\n        \"description\": \"\"\n      }\n    },\n    {\n      \"column\": \"y\",\n      \"properties\": {\n        \"dtype\": \"number\",\n        \"std\": 0,\n        \"min\": 0,\n        \"max\": 1,\n        \"num_unique_values\": 2,\n        \"samples\": [\n          1,\n          0\n        ],\n        \"semantic_type\": \"\",\n        \"description\": \"\"\n      }\n    },\n    {\n      \"column\": \"clean_review\",\n      \"properties\": {\n        \"dtype\": \"string\",\n        \"num_unique_values\": 7371,\n        \"samples\": [\n          \"perfect size weight ideal changeover feature phone smart thank loose design small hand flipkart one day delivery\",\n          \"nasty design back also display bad performance battery camera night mode 48mp camera also awesome sometime capture photo camera error occur please break otherwise mobile superb category fast delivery resolve issue unhappy service thank flipkart slightly smile face\"\n        ],\n        \"semantic_type\": \"\",\n        \"description\": \"\"\n      }\n    }\n  ]\n}"
            }
          },
          "metadata": {},
          "execution_count": 55
        }
      ]
    },
    {
      "cell_type": "code",
      "source": [
        "reviews = df.clean_review.values.tolist()\n"
      ],
      "metadata": {
        "execution": {
          "iopub.execute_input": "2022-07-05T06:58:34.651711Z",
          "iopub.status.busy": "2022-07-05T06:58:34.651357Z",
          "iopub.status.idle": "2022-07-05T06:58:34.661402Z",
          "shell.execute_reply": "2022-07-05T06:58:34.660378Z",
          "shell.execute_reply.started": "2022-07-05T06:58:34.651676Z"
        },
        "papermill": {
          "duration": 0.439103,
          "end_time": "2022-06-13T19:50:02.425414",
          "exception": false,
          "start_time": "2022-06-13T19:50:01.986311",
          "status": "completed"
        },
        "tags": [],
        "id": "M-WcRm4Q8lrI"
      },
      "execution_count": null,
      "outputs": []
    },
    {
      "cell_type": "markdown",
      "source": [
        "Prepare data for LDA Analysis\n",
        "Next, let’s work to transform the textual data in a format that will serve as an input for training LDA model. We start by tokenizing the text and removing stopwords. Next, we convert the tokenized object into a corpus and dictionary."
      ],
      "metadata": {
        "papermill": {
          "duration": 0.447618,
          "end_time": "2022-06-13T19:50:03.308398",
          "exception": false,
          "start_time": "2022-06-13T19:50:02.86078",
          "status": "completed"
        },
        "tags": [],
        "id": "Fudapd_g8lrI"
      }
    },
    {
      "cell_type": "code",
      "source": [
        "from tqdm import tqdm\n",
        "\n",
        "tqdm.pandas()\n",
        "\n",
        "df['clean_review2'] = df['clean_review'].progress_map(word_tokenizer)"
      ],
      "metadata": {
        "execution": {
          "iopub.execute_input": "2022-07-05T06:58:34.663816Z",
          "iopub.status.busy": "2022-07-05T06:58:34.663389Z",
          "iopub.status.idle": "2022-07-05T06:58:34.719841Z",
          "shell.execute_reply": "2022-07-05T06:58:34.718864Z",
          "shell.execute_reply.started": "2022-07-05T06:58:34.663779Z"
        },
        "papermill": {
          "duration": 0.490154,
          "end_time": "2022-06-13T19:50:04.235458",
          "exception": false,
          "start_time": "2022-06-13T19:50:03.745304",
          "status": "completed"
        },
        "tags": [],
        "id": "bgrtuGVr8lrI",
        "colab": {
          "base_uri": "https://localhost:8080/"
        },
        "outputId": "46359175-cf5f-4c43-946a-93bbfb89e7f9"
      },
      "execution_count": null,
      "outputs": [
        {
          "output_type": "stream",
          "name": "stderr",
          "text": [
            "100%|██████████| 9606/9606 [00:00<00:00, 261704.69it/s]\n"
          ]
        }
      ]
    },
    {
      "cell_type": "code",
      "source": [
        "df.head()"
      ],
      "metadata": {
        "execution": {
          "iopub.execute_input": "2022-07-05T06:58:34.721936Z",
          "iopub.status.busy": "2022-07-05T06:58:34.721349Z",
          "iopub.status.idle": "2022-07-05T06:58:34.735484Z",
          "shell.execute_reply": "2022-07-05T06:58:34.73445Z",
          "shell.execute_reply.started": "2022-07-05T06:58:34.721901Z"
        },
        "papermill": {
          "duration": 0.450831,
          "end_time": "2022-06-13T19:50:05.123219",
          "exception": false,
          "start_time": "2022-06-13T19:50:04.672388",
          "status": "completed"
        },
        "tags": [],
        "id": "hWS9P-Bl8lrI",
        "colab": {
          "base_uri": "https://localhost:8080/",
          "height": 206
        },
        "outputId": "136f0dc5-9d42-4a74-f8a1-9243019ddf41"
      },
      "execution_count": null,
      "outputs": [
        {
          "output_type": "execute_result",
          "data": {
            "text/plain": [
              "                                              review  y  \\\n",
              "0  great phone in budget. .. pubg performance was...  0   \n",
              "1  Best Smartphone by Mi in this Range. . stop fo...  0   \n",
              "2  Bad smooth phone. . and back camera quality is...  0   \n",
              "3  Thise is very nice mobile ...I like it very mu...  1   \n",
              "4  I m meagerly dissatisfy 👍 All section r superb...  0   \n",
              "\n",
              "                                        clean_review  \\\n",
              "0  great phone budget pubg performance rough came...   \n",
              "1  well smartphone mi range stop r confuse samsun...   \n",
              "2  bad smooth phone back camera quality evil rear...   \n",
              "3  thise nice mobile I like much delivery also fa...   \n",
              "4  I meagerly dissatisfy thumb section r superb d...   \n",
              "\n",
              "                                       clean_review2  \n",
              "0  [great, phone, budget, pubg, performance, roug...  \n",
              "1  [well, smartphone, mi, range, stop, r, confuse...  \n",
              "2  [bad, smooth, phone, back, camera, quality, ev...  \n",
              "3  [thise, nice, mobile, i, like, much, delivery,...  \n",
              "4  [i, meagerly, dissatisfy, thumb, section, r, s...  "
            ],
            "text/html": [
              "\n",
              "  <div id=\"df-c2fe1f4f-c7e5-4a73-b2ac-cfb1b2710562\" class=\"colab-df-container\">\n",
              "    <div>\n",
              "<style scoped>\n",
              "    .dataframe tbody tr th:only-of-type {\n",
              "        vertical-align: middle;\n",
              "    }\n",
              "\n",
              "    .dataframe tbody tr th {\n",
              "        vertical-align: top;\n",
              "    }\n",
              "\n",
              "    .dataframe thead th {\n",
              "        text-align: right;\n",
              "    }\n",
              "</style>\n",
              "<table border=\"1\" class=\"dataframe\">\n",
              "  <thead>\n",
              "    <tr style=\"text-align: right;\">\n",
              "      <th></th>\n",
              "      <th>review</th>\n",
              "      <th>y</th>\n",
              "      <th>clean_review</th>\n",
              "      <th>clean_review2</th>\n",
              "    </tr>\n",
              "  </thead>\n",
              "  <tbody>\n",
              "    <tr>\n",
              "      <th>0</th>\n",
              "      <td>great phone in budget. .. pubg performance was...</td>\n",
              "      <td>0</td>\n",
              "      <td>great phone budget pubg performance rough came...</td>\n",
              "      <td>[great, phone, budget, pubg, performance, roug...</td>\n",
              "    </tr>\n",
              "    <tr>\n",
              "      <th>1</th>\n",
              "      <td>Best Smartphone by Mi in this Range. . stop fo...</td>\n",
              "      <td>0</td>\n",
              "      <td>well smartphone mi range stop r confuse samsun...</td>\n",
              "      <td>[well, smartphone, mi, range, stop, r, confuse...</td>\n",
              "    </tr>\n",
              "    <tr>\n",
              "      <th>2</th>\n",
              "      <td>Bad smooth phone. . and back camera quality is...</td>\n",
              "      <td>0</td>\n",
              "      <td>bad smooth phone back camera quality evil rear...</td>\n",
              "      <td>[bad, smooth, phone, back, camera, quality, ev...</td>\n",
              "    </tr>\n",
              "    <tr>\n",
              "      <th>3</th>\n",
              "      <td>Thise is very nice mobile ...I like it very mu...</td>\n",
              "      <td>1</td>\n",
              "      <td>thise nice mobile I like much delivery also fa...</td>\n",
              "      <td>[thise, nice, mobile, i, like, much, delivery,...</td>\n",
              "    </tr>\n",
              "    <tr>\n",
              "      <th>4</th>\n",
              "      <td>I m meagerly dissatisfy 👍 All section r superb...</td>\n",
              "      <td>0</td>\n",
              "      <td>I meagerly dissatisfy thumb section r superb d...</td>\n",
              "      <td>[i, meagerly, dissatisfy, thumb, section, r, s...</td>\n",
              "    </tr>\n",
              "  </tbody>\n",
              "</table>\n",
              "</div>\n",
              "    <div class=\"colab-df-buttons\">\n",
              "\n",
              "  <div class=\"colab-df-container\">\n",
              "    <button class=\"colab-df-convert\" onclick=\"convertToInteractive('df-c2fe1f4f-c7e5-4a73-b2ac-cfb1b2710562')\"\n",
              "            title=\"Convert this dataframe to an interactive table.\"\n",
              "            style=\"display:none;\">\n",
              "\n",
              "  <svg xmlns=\"http://www.w3.org/2000/svg\" height=\"24px\" viewBox=\"0 -960 960 960\">\n",
              "    <path d=\"M120-120v-720h720v720H120Zm60-500h600v-160H180v160Zm220 220h160v-160H400v160Zm0 220h160v-160H400v160ZM180-400h160v-160H180v160Zm440 0h160v-160H620v160ZM180-180h160v-160H180v160Zm440 0h160v-160H620v160Z\"/>\n",
              "  </svg>\n",
              "    </button>\n",
              "\n",
              "  <style>\n",
              "    .colab-df-container {\n",
              "      display:flex;\n",
              "      gap: 12px;\n",
              "    }\n",
              "\n",
              "    .colab-df-convert {\n",
              "      background-color: #E8F0FE;\n",
              "      border: none;\n",
              "      border-radius: 50%;\n",
              "      cursor: pointer;\n",
              "      display: none;\n",
              "      fill: #1967D2;\n",
              "      height: 32px;\n",
              "      padding: 0 0 0 0;\n",
              "      width: 32px;\n",
              "    }\n",
              "\n",
              "    .colab-df-convert:hover {\n",
              "      background-color: #E2EBFA;\n",
              "      box-shadow: 0px 1px 2px rgba(60, 64, 67, 0.3), 0px 1px 3px 1px rgba(60, 64, 67, 0.15);\n",
              "      fill: #174EA6;\n",
              "    }\n",
              "\n",
              "    .colab-df-buttons div {\n",
              "      margin-bottom: 4px;\n",
              "    }\n",
              "\n",
              "    [theme=dark] .colab-df-convert {\n",
              "      background-color: #3B4455;\n",
              "      fill: #D2E3FC;\n",
              "    }\n",
              "\n",
              "    [theme=dark] .colab-df-convert:hover {\n",
              "      background-color: #434B5C;\n",
              "      box-shadow: 0px 1px 3px 1px rgba(0, 0, 0, 0.15);\n",
              "      filter: drop-shadow(0px 1px 2px rgba(0, 0, 0, 0.3));\n",
              "      fill: #FFFFFF;\n",
              "    }\n",
              "  </style>\n",
              "\n",
              "    <script>\n",
              "      const buttonEl =\n",
              "        document.querySelector('#df-c2fe1f4f-c7e5-4a73-b2ac-cfb1b2710562 button.colab-df-convert');\n",
              "      buttonEl.style.display =\n",
              "        google.colab.kernel.accessAllowed ? 'block' : 'none';\n",
              "\n",
              "      async function convertToInteractive(key) {\n",
              "        const element = document.querySelector('#df-c2fe1f4f-c7e5-4a73-b2ac-cfb1b2710562');\n",
              "        const dataTable =\n",
              "          await google.colab.kernel.invokeFunction('convertToInteractive',\n",
              "                                                    [key], {});\n",
              "        if (!dataTable) return;\n",
              "\n",
              "        const docLinkHtml = 'Like what you see? Visit the ' +\n",
              "          '<a target=\"_blank\" href=https://colab.research.google.com/notebooks/data_table.ipynb>data table notebook</a>'\n",
              "          + ' to learn more about interactive tables.';\n",
              "        element.innerHTML = '';\n",
              "        dataTable['output_type'] = 'display_data';\n",
              "        await google.colab.output.renderOutput(dataTable, element);\n",
              "        const docLink = document.createElement('div');\n",
              "        docLink.innerHTML = docLinkHtml;\n",
              "        element.appendChild(docLink);\n",
              "      }\n",
              "    </script>\n",
              "  </div>\n",
              "\n",
              "\n",
              "<div id=\"df-97befa24-4cb1-4889-8f28-80a43acee173\">\n",
              "  <button class=\"colab-df-quickchart\" onclick=\"quickchart('df-97befa24-4cb1-4889-8f28-80a43acee173')\"\n",
              "            title=\"Suggest charts\"\n",
              "            style=\"display:none;\">\n",
              "\n",
              "<svg xmlns=\"http://www.w3.org/2000/svg\" height=\"24px\"viewBox=\"0 0 24 24\"\n",
              "     width=\"24px\">\n",
              "    <g>\n",
              "        <path d=\"M19 3H5c-1.1 0-2 .9-2 2v14c0 1.1.9 2 2 2h14c1.1 0 2-.9 2-2V5c0-1.1-.9-2-2-2zM9 17H7v-7h2v7zm4 0h-2V7h2v10zm4 0h-2v-4h2v4z\"/>\n",
              "    </g>\n",
              "</svg>\n",
              "  </button>\n",
              "\n",
              "<style>\n",
              "  .colab-df-quickchart {\n",
              "      --bg-color: #E8F0FE;\n",
              "      --fill-color: #1967D2;\n",
              "      --hover-bg-color: #E2EBFA;\n",
              "      --hover-fill-color: #174EA6;\n",
              "      --disabled-fill-color: #AAA;\n",
              "      --disabled-bg-color: #DDD;\n",
              "  }\n",
              "\n",
              "  [theme=dark] .colab-df-quickchart {\n",
              "      --bg-color: #3B4455;\n",
              "      --fill-color: #D2E3FC;\n",
              "      --hover-bg-color: #434B5C;\n",
              "      --hover-fill-color: #FFFFFF;\n",
              "      --disabled-bg-color: #3B4455;\n",
              "      --disabled-fill-color: #666;\n",
              "  }\n",
              "\n",
              "  .colab-df-quickchart {\n",
              "    background-color: var(--bg-color);\n",
              "    border: none;\n",
              "    border-radius: 50%;\n",
              "    cursor: pointer;\n",
              "    display: none;\n",
              "    fill: var(--fill-color);\n",
              "    height: 32px;\n",
              "    padding: 0;\n",
              "    width: 32px;\n",
              "  }\n",
              "\n",
              "  .colab-df-quickchart:hover {\n",
              "    background-color: var(--hover-bg-color);\n",
              "    box-shadow: 0 1px 2px rgba(60, 64, 67, 0.3), 0 1px 3px 1px rgba(60, 64, 67, 0.15);\n",
              "    fill: var(--button-hover-fill-color);\n",
              "  }\n",
              "\n",
              "  .colab-df-quickchart-complete:disabled,\n",
              "  .colab-df-quickchart-complete:disabled:hover {\n",
              "    background-color: var(--disabled-bg-color);\n",
              "    fill: var(--disabled-fill-color);\n",
              "    box-shadow: none;\n",
              "  }\n",
              "\n",
              "  .colab-df-spinner {\n",
              "    border: 2px solid var(--fill-color);\n",
              "    border-color: transparent;\n",
              "    border-bottom-color: var(--fill-color);\n",
              "    animation:\n",
              "      spin 1s steps(1) infinite;\n",
              "  }\n",
              "\n",
              "  @keyframes spin {\n",
              "    0% {\n",
              "      border-color: transparent;\n",
              "      border-bottom-color: var(--fill-color);\n",
              "      border-left-color: var(--fill-color);\n",
              "    }\n",
              "    20% {\n",
              "      border-color: transparent;\n",
              "      border-left-color: var(--fill-color);\n",
              "      border-top-color: var(--fill-color);\n",
              "    }\n",
              "    30% {\n",
              "      border-color: transparent;\n",
              "      border-left-color: var(--fill-color);\n",
              "      border-top-color: var(--fill-color);\n",
              "      border-right-color: var(--fill-color);\n",
              "    }\n",
              "    40% {\n",
              "      border-color: transparent;\n",
              "      border-right-color: var(--fill-color);\n",
              "      border-top-color: var(--fill-color);\n",
              "    }\n",
              "    60% {\n",
              "      border-color: transparent;\n",
              "      border-right-color: var(--fill-color);\n",
              "    }\n",
              "    80% {\n",
              "      border-color: transparent;\n",
              "      border-right-color: var(--fill-color);\n",
              "      border-bottom-color: var(--fill-color);\n",
              "    }\n",
              "    90% {\n",
              "      border-color: transparent;\n",
              "      border-bottom-color: var(--fill-color);\n",
              "    }\n",
              "  }\n",
              "</style>\n",
              "\n",
              "  <script>\n",
              "    async function quickchart(key) {\n",
              "      const quickchartButtonEl =\n",
              "        document.querySelector('#' + key + ' button');\n",
              "      quickchartButtonEl.disabled = true;  // To prevent multiple clicks.\n",
              "      quickchartButtonEl.classList.add('colab-df-spinner');\n",
              "      try {\n",
              "        const charts = await google.colab.kernel.invokeFunction(\n",
              "            'suggestCharts', [key], {});\n",
              "      } catch (error) {\n",
              "        console.error('Error during call to suggestCharts:', error);\n",
              "      }\n",
              "      quickchartButtonEl.classList.remove('colab-df-spinner');\n",
              "      quickchartButtonEl.classList.add('colab-df-quickchart-complete');\n",
              "    }\n",
              "    (() => {\n",
              "      let quickchartButtonEl =\n",
              "        document.querySelector('#df-97befa24-4cb1-4889-8f28-80a43acee173 button');\n",
              "      quickchartButtonEl.style.display =\n",
              "        google.colab.kernel.accessAllowed ? 'block' : 'none';\n",
              "    })();\n",
              "  </script>\n",
              "</div>\n",
              "    </div>\n",
              "  </div>\n"
            ],
            "application/vnd.google.colaboratory.intrinsic+json": {
              "type": "dataframe",
              "variable_name": "df",
              "summary": "{\n  \"name\": \"df\",\n  \"rows\": 9606,\n  \"fields\": [\n    {\n      \"column\": \"review\",\n      \"properties\": {\n        \"dtype\": \"string\",\n        \"num_unique_values\": 7405,\n        \"samples\": [\n          \"Just awesome nothing to say. I recommend to you that, use this device first otherwise you cant understand the quality of this phone.. Very smooth and fast experiance and good camera. Very handy device.. And powerful.\",\n          \"Nasty product. . I hate the front color. It ' s so shinee. The screen is also small. This phone has a slow charging process. I ' ve been using this phone for 1 month now. It ' s no longer malfunction smoothly. Despair it ' ll work same way in the future: )\",\n          \"I sell this product 10K on December 2019. at this price segment this was a great deal for me. everything is bad. camera quality super, display is evil, battery large bit disappointed, but the abnormal it ' s ok. play pubg medium to low setting was great it negate ultra HD in smooth and medium settings. overall is the great deals for me.\"\n        ],\n        \"semantic_type\": \"\",\n        \"description\": \"\"\n      }\n    },\n    {\n      \"column\": \"y\",\n      \"properties\": {\n        \"dtype\": \"number\",\n        \"std\": 0,\n        \"min\": 0,\n        \"max\": 1,\n        \"num_unique_values\": 2,\n        \"samples\": [\n          1,\n          0\n        ],\n        \"semantic_type\": \"\",\n        \"description\": \"\"\n      }\n    },\n    {\n      \"column\": \"clean_review\",\n      \"properties\": {\n        \"dtype\": \"string\",\n        \"num_unique_values\": 7371,\n        \"samples\": [\n          \"perfect size weight ideal changeover feature phone smart thank loose design small hand flipkart one day delivery\",\n          \"nasty design back also display bad performance battery camera night mode 48mp camera also awesome sometime capture photo camera error occur please break otherwise mobile superb category fast delivery resolve issue unhappy service thank flipkart slightly smile face\"\n        ],\n        \"semantic_type\": \"\",\n        \"description\": \"\"\n      }\n    },\n    {\n      \"column\": \"clean_review2\",\n      \"properties\": {\n        \"dtype\": \"object\",\n        \"semantic_type\": \"\",\n        \"description\": \"\"\n      }\n    }\n  ]\n}"
            }
          },
          "metadata": {},
          "execution_count": 58
        }
      ]
    },
    {
      "cell_type": "markdown",
      "source": [
        "Now as our dataset is unlabeled so we need an algorithm that can get labels to us. We will use the following algorithm (LDA) to do so. We will use Topic Modeling Technique to find aspects from the reviews.\n",
        "\n",
        "In general, topic modelling refers to a set of unsupervised statistical learning methods for detecting latent topics in a large number of text texts. Latent Dirichlet allocation (LDA), latent semantic analysis (LSA), and probabilistic latent semantic analysis are three prominent topic modelling algorithms (PLSA). LDA is the most widely employed approach in practise. And we will too gonna use LDA for our analysis"
      ],
      "metadata": {
        "papermill": {
          "duration": 0.444619,
          "end_time": "2022-06-13T19:50:06.002179",
          "exception": false,
          "start_time": "2022-06-13T19:50:05.55756",
          "status": "completed"
        },
        "tags": [],
        "id": "DoBlgOTa8lrI"
      }
    },
    {
      "cell_type": "markdown",
      "source": [
        "<h1  style=\"text-align: center\" class=\"list-group-item list-group-item-action active\">5. Latent Dirichlet Allocation (LDA) </h1><a id = \"5\" ></a>\n",
        "\n",
        "\n",
        "**What does LDA do? Let’s start with a toy corpus.**\n",
        "\n",
        "Consider the following collection of documents, D1 to D5, and each document consists of a one sentence:\n",
        "\n",
        "• D1: I like these mobile phones.\n",
        "• D2: Battery backup for this phone is great and camera quality is an add on feature.\n",
        "• D3: Look at the front camera I guess it is better than the rear camera.\n",
        "• D4: Processing Speed of this phone is great.\n",
        "• D5: I Like the battery most in this phone but I am not satisfied with the service of this company.\n",
        "\n",
        "Learning a topic model on this collection using LDA may produce an output like this:\n",
        "\n",
        "• Topic A: 30% battery, 15% camera, 10% Processor, 10% Service.\n",
        "• Topic B: 20% Rear Camera, 20% Front Camera, 20% Service, 20% Processor\n",
        "• Document 1 and 2: 100% Topic A\n",
        "• Document 3 and 4: 100% Topic B\n",
        "• Document 5: 60% Topic A, 40% Topic B\n",
        "\n",
        "Topics are just a collection of keywords with a probability distribution, while documents are collections of topics with the same probability distribution. A topic model just provides a list of keywords for each topic. What is the situation?Human perception of what an issue symbolises and what it should be labelled is common in the context of an LDA model."
      ],
      "metadata": {
        "papermill": {
          "duration": 0.448222,
          "end_time": "2022-06-13T19:50:06.887267",
          "exception": false,
          "start_time": "2022-06-13T19:50:06.439045",
          "status": "completed"
        },
        "tags": [],
        "id": "hozsjgYn8lrI"
      }
    },
    {
      "cell_type": "code",
      "source": [
        "data_words = df['clean_review2'].values.tolist()\n",
        "len(data_words)"
      ],
      "metadata": {
        "execution": {
          "iopub.execute_input": "2022-07-05T06:58:34.73792Z",
          "iopub.status.busy": "2022-07-05T06:58:34.737572Z",
          "iopub.status.idle": "2022-07-05T06:58:34.745257Z",
          "shell.execute_reply": "2022-07-05T06:58:34.744081Z",
          "shell.execute_reply.started": "2022-07-05T06:58:34.737887Z"
        },
        "papermill": {
          "duration": 0.444005,
          "end_time": "2022-06-13T19:50:07.766821",
          "exception": false,
          "start_time": "2022-06-13T19:50:07.322816",
          "status": "completed"
        },
        "tags": [],
        "id": "lFExatal8lrI",
        "colab": {
          "base_uri": "https://localhost:8080/"
        },
        "outputId": "a6c12070-c2e9-4d95-be12-21cd4cf382e4"
      },
      "execution_count": null,
      "outputs": [
        {
          "output_type": "execute_result",
          "data": {
            "text/plain": [
              "9606"
            ]
          },
          "metadata": {},
          "execution_count": 59
        }
      ]
    },
    {
      "cell_type": "markdown",
      "source": [
        "You could refer this blog post to understand LDA more nicely.\n",
        "\n",
        "[Topic Modeling in Python: Latent Dirichlet Allocation (LDA)](https://towardsdatascience.com/end-to-end-topic-modeling-in-python-latent-dirichlet-allocation-lda-35ce4ed6b3e0)"
      ],
      "metadata": {
        "papermill": {
          "duration": 0.742416,
          "end_time": "2022-06-13T19:50:08.94971",
          "exception": false,
          "start_time": "2022-06-13T19:50:08.207294",
          "status": "completed"
        },
        "tags": [],
        "id": "RlqIN09k8lrJ"
      }
    },
    {
      "cell_type": "code",
      "source": [
        "import gensim.corpora as corpora\n",
        "\n",
        "# Create Dictionary\n",
        "id2word = corpora.Dictionary(data_words)\n",
        "# Create Corpus\n",
        "texts = data_words\n",
        "# Term Document Frequency\n",
        "corpus = [id2word.doc2bow(text) for text in texts]\n",
        "# View\n",
        "print(corpus[:1][0][:30])\n"
      ],
      "metadata": {
        "execution": {
          "iopub.execute_input": "2022-07-05T06:58:34.747423Z",
          "iopub.status.busy": "2022-07-05T06:58:34.746771Z",
          "iopub.status.idle": "2022-07-05T06:58:35.392254Z",
          "shell.execute_reply": "2022-07-05T06:58:35.391154Z",
          "shell.execute_reply.started": "2022-07-05T06:58:34.747391Z"
        },
        "papermill": {
          "duration": 0.975637,
          "end_time": "2022-06-13T19:50:10.94896",
          "exception": false,
          "start_time": "2022-06-13T19:50:09.973323",
          "status": "completed"
        },
        "tags": [],
        "id": "BpJ7VHNP8lrJ",
        "colab": {
          "base_uri": "https://localhost:8080/"
        },
        "outputId": "f758f6f4-194e-49dd-92ae-f8295207f787"
      },
      "execution_count": null,
      "outputs": [
        {
          "output_type": "stream",
          "name": "stdout",
          "text": [
            "[(0, 1), (1, 1), (2, 1), (3, 1), (4, 1), (5, 1), (6, 1), (7, 1), (8, 1), (9, 1), (10, 3), (11, 1), (12, 1), (13, 1), (14, 1), (15, 1), (16, 1)]\n"
          ]
        }
      ]
    },
    {
      "cell_type": "code",
      "source": [
        "from gensim.models import LdaMulticore\n",
        "from gensim.models import LdaModel\n",
        "from pprint import pprint\n",
        "\n",
        "# number of topics\n",
        "num_topics = 10\n",
        "# Build LDA model\n",
        "lda_model = LdaMulticore(corpus=corpus, id2word=id2word,\n",
        "                     num_topics=num_topics, iterations=400)\n",
        "# Print the Keyword in the 10 topics\n",
        "pprint(lda_model.print_topics())\n",
        "doc_lda = lda_model[corpus]\n"
      ],
      "metadata": {
        "execution": {
          "iopub.execute_input": "2022-07-05T06:58:35.399077Z",
          "iopub.status.busy": "2022-07-05T06:58:35.396745Z",
          "iopub.status.idle": "2022-07-05T06:58:49.769474Z",
          "shell.execute_reply": "2022-07-05T06:58:49.768379Z",
          "shell.execute_reply.started": "2022-07-05T06:58:35.399038Z"
        },
        "papermill": {
          "duration": 14.172241,
          "end_time": "2022-06-13T19:50:25.557911",
          "exception": false,
          "start_time": "2022-06-13T19:50:11.38567",
          "status": "completed"
        },
        "tags": [],
        "id": "fzlhqFdk8lrJ",
        "colab": {
          "base_uri": "https://localhost:8080/"
        },
        "outputId": "f895902e-cac6-4fee-9e05-0353a1846e8f"
      },
      "execution_count": null,
      "outputs": [
        {
          "output_type": "stream",
          "name": "stderr",
          "text": [
            "WARNING:gensim.models.ldamulticore:too few updates, training might not converge; consider increasing the number of passes or iterations to improve accuracy\n",
            "/usr/lib/python3.10/multiprocessing/popen_fork.py:66: RuntimeWarning: os.fork() was called. os.fork() is incompatible with multithreaded code, and JAX is multithreaded, so this will likely lead to a deadlock.\n",
            "  self.pid = os.fork()\n"
          ]
        },
        {
          "output_type": "stream",
          "name": "stdout",
          "text": [
            "[(0,\n",
            "  '0.050*\"phone\" + 0.033*\"good\" + 0.027*\"i\" + 0.019*\"price\" + 0.015*\"one\" + '\n",
            "  '0.013*\"flipkart\" + 0.013*\"battery\" + 0.012*\"product\" + 0.012*\"camera\" + '\n",
            "  '0.012*\"performance\"'),\n",
            " (1,\n",
            "  '0.060*\"phone\" + 0.054*\"i\" + 0.022*\"camera\" + 0.016*\"bad\" + 0.015*\"evil\" + '\n",
            "  '0.014*\"product\" + 0.014*\"awesome\" + 0.013*\"use\" + 0.013*\"price\" + '\n",
            "  '0.013*\"battery\"'),\n",
            " (2,\n",
            "  '0.062*\"good\" + 0.038*\"phone\" + 0.032*\"camera\" + 0.027*\"i\" + 0.020*\"mobile\" '\n",
            "  '+ 0.020*\"battery\" + 0.018*\"flipkart\" + 0.017*\"product\" + 0.016*\"also\" + '\n",
            "  '0.015*\"price\"'),\n",
            " (3,\n",
            "  '0.050*\"face\" + 0.050*\"smile\" + 0.040*\"phone\" + 0.026*\"i\" + 0.018*\"product\" '\n",
            "  '+ 0.015*\"good\" + 0.014*\"bad\" + 0.014*\"eye\" + 0.013*\"money\" + '\n",
            "  '0.013*\"camera\"'),\n",
            " (4,\n",
            "  '0.042*\"camera\" + 0.033*\"battery\" + 0.032*\"good\" + 0.027*\"phone\" + '\n",
            "  '0.026*\"quality\" + 0.024*\"display\" + 0.020*\"bad\" + 0.019*\"awesome\" + '\n",
            "  '0.018*\"performance\" + 0.015*\"price\"'),\n",
            " (5,\n",
            "  '0.026*\"ok\" + 0.024*\"i\" + 0.024*\"thumb\" + 0.022*\"good\" + 0.019*\"hand\" + '\n",
            "  '0.018*\"camera\" + 0.018*\"face\" + 0.015*\"phone\" + 0.015*\"amazing\" + '\n",
            "  '0.013*\"mobile\"'),\n",
            " (6,\n",
            "  '0.041*\"i\" + 0.019*\"awesome\" + 0.018*\"pubg\" + 0.017*\"camera\" + 0.015*\"phone\" '\n",
            "  '+ 0.012*\"good\" + 0.012*\"red\" + 0.011*\"performance\" + 0.011*\"flipkart\" + '\n",
            "  '0.011*\"play\"'),\n",
            " (7,\n",
            "  '0.048*\"i\" + 0.039*\"phone\" + 0.028*\"good\" + 0.021*\"camera\" + 0.019*\"also\" + '\n",
            "  '0.019*\"bad\" + 0.016*\"great\" + 0.015*\"awesome\" + 0.013*\"battery\" + '\n",
            "  '0.011*\"mobile\"'),\n",
            " (8,\n",
            "  '0.042*\"i\" + 0.040*\"good\" + 0.034*\"camera\" + 0.029*\"phone\" + 0.021*\"mobile\" '\n",
            "  '+ 0.017*\"nice\" + 0.017*\"battery\" + 0.015*\"use\" + 0.014*\"great\" + '\n",
            "  '0.013*\"display\"'),\n",
            " (9,\n",
            "  '0.038*\"phone\" + 0.031*\"camera\" + 0.028*\"bad\" + 0.025*\"evil\" + 0.023*\"i\" + '\n",
            "  '0.022*\"battery\" + 0.014*\"gb\" + 0.012*\"performance\" + 0.012*\"price\" + '\n",
            "  '0.012*\"redmi\"')]\n"
          ]
        }
      ]
    },
    {
      "cell_type": "markdown",
      "source": [
        "As we don't have labeled data so we need to make few assumptions regarding choosing of aspect from the comment. From above analysis using LDA we inerpret that below listed aspect are few important one which were mentioned in most of the comments.\n",
        "- Phone\n",
        "- Camera\n",
        "- Battery\n",
        "- Delivery\n",
        "- Processor"
      ],
      "metadata": {
        "papermill": {
          "duration": 0.444497,
          "end_time": "2022-06-13T19:50:26.466275",
          "exception": false,
          "start_time": "2022-06-13T19:50:26.021778",
          "status": "completed"
        },
        "tags": [],
        "id": "wz3myl1F8lrJ"
      }
    },
    {
      "cell_type": "markdown",
      "source": [
        "We gonna create a similarity matrix now using python's gensim.\n"
      ],
      "metadata": {
        "papermill": {
          "duration": 0.442729,
          "end_time": "2022-06-13T19:50:27.362395",
          "exception": false,
          "start_time": "2022-06-13T19:50:26.919666",
          "status": "completed"
        },
        "tags": [],
        "id": "8XG_hY-R8lrJ"
      }
    },
    {
      "cell_type": "code",
      "source": [
        "%%time\n",
        "from gensim.models import FastText\n",
        "fasttext_model = FastText(data_words, vector_size= 100, window=5, min_count=5, workers=4,sg=1)\n",
        "# fasttext_model = FastText.load_fasttext_format(\"../input/fast100/cc.en.100.bin\")"
      ],
      "metadata": {
        "execution": {
          "iopub.execute_input": "2022-07-05T06:58:49.771949Z",
          "iopub.status.busy": "2022-07-05T06:58:49.771343Z",
          "iopub.status.idle": "2022-07-05T06:58:57.756516Z",
          "shell.execute_reply": "2022-07-05T06:58:57.755532Z",
          "shell.execute_reply.started": "2022-07-05T06:58:49.771907Z"
        },
        "papermill": {
          "duration": 10.564131,
          "end_time": "2022-06-13T19:50:38.369237",
          "exception": false,
          "start_time": "2022-06-13T19:50:27.805106",
          "status": "completed"
        },
        "tags": [],
        "id": "Apjtvt8r8lrJ",
        "colab": {
          "base_uri": "https://localhost:8080/"
        },
        "outputId": "7d473ced-38e0-4457-a9bb-f91a2a06f6a1"
      },
      "execution_count": null,
      "outputs": [
        {
          "output_type": "stream",
          "name": "stdout",
          "text": [
            "CPU times: user 12.3 s, sys: 180 ms, total: 12.5 s\n",
            "Wall time: 8.01 s\n"
          ]
        }
      ]
    },
    {
      "cell_type": "code",
      "source": [
        "fasttext_model.save(\"FastText-Model-For-ABSA.bin\")"
      ],
      "metadata": {
        "execution": {
          "iopub.execute_input": "2022-07-05T06:58:57.758867Z",
          "iopub.status.busy": "2022-07-05T06:58:57.758192Z",
          "iopub.status.idle": "2022-07-05T06:58:58.36184Z",
          "shell.execute_reply": "2022-07-05T06:58:58.36087Z",
          "shell.execute_reply.started": "2022-07-05T06:58:57.758829Z"
        },
        "papermill": {
          "duration": 1.016051,
          "end_time": "2022-06-13T19:50:39.832206",
          "exception": false,
          "start_time": "2022-06-13T19:50:38.816155",
          "status": "completed"
        },
        "tags": [],
        "id": "6KE-UUrH8lrK"
      },
      "execution_count": null,
      "outputs": []
    },
    {
      "cell_type": "code",
      "source": [
        "fasttext_model.wv.n_similarity(\"I really like the camera of this phone\", \"battery\")"
      ],
      "metadata": {
        "execution": {
          "iopub.execute_input": "2022-07-05T06:58:58.363475Z",
          "iopub.status.busy": "2022-07-05T06:58:58.363116Z",
          "iopub.status.idle": "2022-07-05T06:58:58.37501Z",
          "shell.execute_reply": "2022-07-05T06:58:58.374119Z",
          "shell.execute_reply.started": "2022-07-05T06:58:58.363439Z"
        },
        "papermill": {
          "duration": 0.452771,
          "end_time": "2022-06-13T19:50:40.724984",
          "exception": false,
          "start_time": "2022-06-13T19:50:40.272213",
          "status": "completed"
        },
        "tags": [],
        "id": "MWSUXYwq8lrK",
        "colab": {
          "base_uri": "https://localhost:8080/"
        },
        "outputId": "295be8cd-8a90-4e30-b9a1-06a21c48254c"
      },
      "execution_count": null,
      "outputs": [
        {
          "output_type": "execute_result",
          "data": {
            "text/plain": [
              "0.9486718"
            ]
          },
          "metadata": {},
          "execution_count": 64
        }
      ]
    },
    {
      "cell_type": "code",
      "source": [
        "fasttext_model.wv.n_similarity(\"I really like the camera of this phone\", \"camera\")"
      ],
      "metadata": {
        "execution": {
          "iopub.execute_input": "2022-07-05T06:58:58.377295Z",
          "iopub.status.busy": "2022-07-05T06:58:58.376611Z",
          "iopub.status.idle": "2022-07-05T06:58:58.386631Z",
          "shell.execute_reply": "2022-07-05T06:58:58.385662Z",
          "shell.execute_reply.started": "2022-07-05T06:58:58.37726Z"
        },
        "papermill": {
          "duration": 1.043296,
          "end_time": "2022-06-13T19:50:42.351421",
          "exception": false,
          "start_time": "2022-06-13T19:50:41.308125",
          "status": "completed"
        },
        "tags": [],
        "id": "0hnUnTUj8lrK",
        "colab": {
          "base_uri": "https://localhost:8080/"
        },
        "outputId": "ed1d41f6-0f1d-49a9-90f4-489ae23778f6"
      },
      "execution_count": null,
      "outputs": [
        {
          "output_type": "execute_result",
          "data": {
            "text/plain": [
              "0.88043016"
            ]
          },
          "metadata": {},
          "execution_count": 65
        }
      ]
    },
    {
      "cell_type": "code",
      "source": [
        "aspects = [\"phone\", \"camera\", \"battery\", \"delivery\", \"processor\"]\n",
        "\n",
        "def get_similarity(text, aspect):\n",
        "    try:\n",
        "        text = \" \".join(text)\n",
        "        return fasttext_model.wv.n_similarity(text, aspect)\n",
        "    except:\n",
        "        return 0s\n"
      ],
      "metadata": {
        "execution": {
          "iopub.execute_input": "2022-07-05T06:58:58.388507Z",
          "iopub.status.busy": "2022-07-05T06:58:58.388164Z",
          "iopub.status.idle": "2022-07-05T06:58:58.396716Z",
          "shell.execute_reply": "2022-07-05T06:58:58.395833Z",
          "shell.execute_reply.started": "2022-07-05T06:58:58.388474Z"
        },
        "papermill": {
          "duration": 0.447449,
          "end_time": "2022-06-13T19:50:43.429872",
          "exception": false,
          "start_time": "2022-06-13T19:50:42.982423",
          "status": "completed"
        },
        "tags": [],
        "id": "2cgwTMTw8lrK"
      },
      "execution_count": null,
      "outputs": []
    },
    {
      "cell_type": "code",
      "source": [
        "from tqdm import tqdm\n",
        "tqdm.pandas()\n",
        "for aspect in aspects:\n",
        "    df[aspect] = df['clean_review2'].progress_map(lambda text: get_similarity(text, aspect))"
      ],
      "metadata": {
        "execution": {
          "iopub.execute_input": "2022-07-05T06:58:58.398718Z",
          "iopub.status.busy": "2022-07-05T06:58:58.398244Z",
          "iopub.status.idle": "2022-07-05T06:59:52.112952Z",
          "shell.execute_reply": "2022-07-05T06:59:52.111979Z",
          "shell.execute_reply.started": "2022-07-05T06:58:58.398627Z"
        },
        "papermill": {
          "duration": 50.124298,
          "end_time": "2022-06-13T19:51:33.993695",
          "exception": false,
          "start_time": "2022-06-13T19:50:43.869397",
          "status": "completed"
        },
        "tags": [],
        "id": "elRj1GB-8lrK",
        "colab": {
          "base_uri": "https://localhost:8080/"
        },
        "outputId": "b9dd69fb-7551-4455-fe2f-c64852f20205"
      },
      "execution_count": null,
      "outputs": [
        {
          "output_type": "stream",
          "name": "stderr",
          "text": [
            "100%|██████████| 9606/9606 [00:11<00:00, 848.28it/s]\n",
            "100%|██████████| 9606/9606 [00:11<00:00, 822.28it/s]\n",
            "100%|██████████| 9606/9606 [00:11<00:00, 803.37it/s]\n",
            "100%|██████████| 9606/9606 [00:12<00:00, 799.71it/s]\n",
            "100%|██████████| 9606/9606 [00:12<00:00, 796.19it/s]\n"
          ]
        }
      ]
    },
    {
      "cell_type": "code",
      "source": [
        "df.head()"
      ],
      "metadata": {
        "execution": {
          "iopub.execute_input": "2022-07-05T06:59:52.114879Z",
          "iopub.status.busy": "2022-07-05T06:59:52.114264Z",
          "iopub.status.idle": "2022-07-05T06:59:52.13567Z",
          "shell.execute_reply": "2022-07-05T06:59:52.134795Z",
          "shell.execute_reply.started": "2022-07-05T06:59:52.114837Z"
        },
        "papermill": {
          "duration": 0.609113,
          "end_time": "2022-06-13T19:51:35.193376",
          "exception": false,
          "start_time": "2022-06-13T19:51:34.584263",
          "status": "completed"
        },
        "tags": [],
        "id": "w2-MhIHv8lrK",
        "colab": {
          "base_uri": "https://localhost:8080/",
          "height": 293
        },
        "outputId": "9fe4dd8d-5cc7-4130-9573-a7d33a81abb5"
      },
      "execution_count": null,
      "outputs": [
        {
          "output_type": "execute_result",
          "data": {
            "text/plain": [
              "                                              review  y  \\\n",
              "0  great phone in budget. .. pubg performance was...  0   \n",
              "1  Best Smartphone by Mi in this Range. . stop fo...  0   \n",
              "2  Bad smooth phone. . and back camera quality is...  0   \n",
              "3  Thise is very nice mobile ...I like it very mu...  1   \n",
              "4  I m meagerly dissatisfy 👍 All section r superb...  0   \n",
              "\n",
              "                                        clean_review  \\\n",
              "0  great phone budget pubg performance rough came...   \n",
              "1  well smartphone mi range stop r confuse samsun...   \n",
              "2  bad smooth phone back camera quality evil rear...   \n",
              "3  thise nice mobile I like much delivery also fa...   \n",
              "4  I meagerly dissatisfy thumb section r superb d...   \n",
              "\n",
              "                                       clean_review2     phone    camera  \\\n",
              "0  [great, phone, budget, pubg, performance, roug...  0.907624  0.872704   \n",
              "1  [well, smartphone, mi, range, stop, r, confuse...  0.888178  0.824624   \n",
              "2  [bad, smooth, phone, back, camera, quality, ev...  0.871424  0.895553   \n",
              "3  [thise, nice, mobile, i, like, much, delivery,...  0.858715  0.839954   \n",
              "4  [i, meagerly, dissatisfy, thumb, section, r, s...  0.845053  0.860574   \n",
              "\n",
              "    battery  delivery  processor  \n",
              "0  0.952889  0.907393   0.898340  \n",
              "1  0.945098  0.946274   0.860255  \n",
              "2  0.960905  0.942757   0.914466  \n",
              "3  0.914012  0.963975   0.851284  \n",
              "4  0.962773  0.968073   0.891783  "
            ],
            "text/html": [
              "\n",
              "  <div id=\"df-61deba5b-6c60-40a9-ad65-1e9161fa0850\" class=\"colab-df-container\">\n",
              "    <div>\n",
              "<style scoped>\n",
              "    .dataframe tbody tr th:only-of-type {\n",
              "        vertical-align: middle;\n",
              "    }\n",
              "\n",
              "    .dataframe tbody tr th {\n",
              "        vertical-align: top;\n",
              "    }\n",
              "\n",
              "    .dataframe thead th {\n",
              "        text-align: right;\n",
              "    }\n",
              "</style>\n",
              "<table border=\"1\" class=\"dataframe\">\n",
              "  <thead>\n",
              "    <tr style=\"text-align: right;\">\n",
              "      <th></th>\n",
              "      <th>review</th>\n",
              "      <th>y</th>\n",
              "      <th>clean_review</th>\n",
              "      <th>clean_review2</th>\n",
              "      <th>phone</th>\n",
              "      <th>camera</th>\n",
              "      <th>battery</th>\n",
              "      <th>delivery</th>\n",
              "      <th>processor</th>\n",
              "    </tr>\n",
              "  </thead>\n",
              "  <tbody>\n",
              "    <tr>\n",
              "      <th>0</th>\n",
              "      <td>great phone in budget. .. pubg performance was...</td>\n",
              "      <td>0</td>\n",
              "      <td>great phone budget pubg performance rough came...</td>\n",
              "      <td>[great, phone, budget, pubg, performance, roug...</td>\n",
              "      <td>0.907624</td>\n",
              "      <td>0.872704</td>\n",
              "      <td>0.952889</td>\n",
              "      <td>0.907393</td>\n",
              "      <td>0.898340</td>\n",
              "    </tr>\n",
              "    <tr>\n",
              "      <th>1</th>\n",
              "      <td>Best Smartphone by Mi in this Range. . stop fo...</td>\n",
              "      <td>0</td>\n",
              "      <td>well smartphone mi range stop r confuse samsun...</td>\n",
              "      <td>[well, smartphone, mi, range, stop, r, confuse...</td>\n",
              "      <td>0.888178</td>\n",
              "      <td>0.824624</td>\n",
              "      <td>0.945098</td>\n",
              "      <td>0.946274</td>\n",
              "      <td>0.860255</td>\n",
              "    </tr>\n",
              "    <tr>\n",
              "      <th>2</th>\n",
              "      <td>Bad smooth phone. . and back camera quality is...</td>\n",
              "      <td>0</td>\n",
              "      <td>bad smooth phone back camera quality evil rear...</td>\n",
              "      <td>[bad, smooth, phone, back, camera, quality, ev...</td>\n",
              "      <td>0.871424</td>\n",
              "      <td>0.895553</td>\n",
              "      <td>0.960905</td>\n",
              "      <td>0.942757</td>\n",
              "      <td>0.914466</td>\n",
              "    </tr>\n",
              "    <tr>\n",
              "      <th>3</th>\n",
              "      <td>Thise is very nice mobile ...I like it very mu...</td>\n",
              "      <td>1</td>\n",
              "      <td>thise nice mobile I like much delivery also fa...</td>\n",
              "      <td>[thise, nice, mobile, i, like, much, delivery,...</td>\n",
              "      <td>0.858715</td>\n",
              "      <td>0.839954</td>\n",
              "      <td>0.914012</td>\n",
              "      <td>0.963975</td>\n",
              "      <td>0.851284</td>\n",
              "    </tr>\n",
              "    <tr>\n",
              "      <th>4</th>\n",
              "      <td>I m meagerly dissatisfy 👍 All section r superb...</td>\n",
              "      <td>0</td>\n",
              "      <td>I meagerly dissatisfy thumb section r superb d...</td>\n",
              "      <td>[i, meagerly, dissatisfy, thumb, section, r, s...</td>\n",
              "      <td>0.845053</td>\n",
              "      <td>0.860574</td>\n",
              "      <td>0.962773</td>\n",
              "      <td>0.968073</td>\n",
              "      <td>0.891783</td>\n",
              "    </tr>\n",
              "  </tbody>\n",
              "</table>\n",
              "</div>\n",
              "    <div class=\"colab-df-buttons\">\n",
              "\n",
              "  <div class=\"colab-df-container\">\n",
              "    <button class=\"colab-df-convert\" onclick=\"convertToInteractive('df-61deba5b-6c60-40a9-ad65-1e9161fa0850')\"\n",
              "            title=\"Convert this dataframe to an interactive table.\"\n",
              "            style=\"display:none;\">\n",
              "\n",
              "  <svg xmlns=\"http://www.w3.org/2000/svg\" height=\"24px\" viewBox=\"0 -960 960 960\">\n",
              "    <path d=\"M120-120v-720h720v720H120Zm60-500h600v-160H180v160Zm220 220h160v-160H400v160Zm0 220h160v-160H400v160ZM180-400h160v-160H180v160Zm440 0h160v-160H620v160ZM180-180h160v-160H180v160Zm440 0h160v-160H620v160Z\"/>\n",
              "  </svg>\n",
              "    </button>\n",
              "\n",
              "  <style>\n",
              "    .colab-df-container {\n",
              "      display:flex;\n",
              "      gap: 12px;\n",
              "    }\n",
              "\n",
              "    .colab-df-convert {\n",
              "      background-color: #E8F0FE;\n",
              "      border: none;\n",
              "      border-radius: 50%;\n",
              "      cursor: pointer;\n",
              "      display: none;\n",
              "      fill: #1967D2;\n",
              "      height: 32px;\n",
              "      padding: 0 0 0 0;\n",
              "      width: 32px;\n",
              "    }\n",
              "\n",
              "    .colab-df-convert:hover {\n",
              "      background-color: #E2EBFA;\n",
              "      box-shadow: 0px 1px 2px rgba(60, 64, 67, 0.3), 0px 1px 3px 1px rgba(60, 64, 67, 0.15);\n",
              "      fill: #174EA6;\n",
              "    }\n",
              "\n",
              "    .colab-df-buttons div {\n",
              "      margin-bottom: 4px;\n",
              "    }\n",
              "\n",
              "    [theme=dark] .colab-df-convert {\n",
              "      background-color: #3B4455;\n",
              "      fill: #D2E3FC;\n",
              "    }\n",
              "\n",
              "    [theme=dark] .colab-df-convert:hover {\n",
              "      background-color: #434B5C;\n",
              "      box-shadow: 0px 1px 3px 1px rgba(0, 0, 0, 0.15);\n",
              "      filter: drop-shadow(0px 1px 2px rgba(0, 0, 0, 0.3));\n",
              "      fill: #FFFFFF;\n",
              "    }\n",
              "  </style>\n",
              "\n",
              "    <script>\n",
              "      const buttonEl =\n",
              "        document.querySelector('#df-61deba5b-6c60-40a9-ad65-1e9161fa0850 button.colab-df-convert');\n",
              "      buttonEl.style.display =\n",
              "        google.colab.kernel.accessAllowed ? 'block' : 'none';\n",
              "\n",
              "      async function convertToInteractive(key) {\n",
              "        const element = document.querySelector('#df-61deba5b-6c60-40a9-ad65-1e9161fa0850');\n",
              "        const dataTable =\n",
              "          await google.colab.kernel.invokeFunction('convertToInteractive',\n",
              "                                                    [key], {});\n",
              "        if (!dataTable) return;\n",
              "\n",
              "        const docLinkHtml = 'Like what you see? Visit the ' +\n",
              "          '<a target=\"_blank\" href=https://colab.research.google.com/notebooks/data_table.ipynb>data table notebook</a>'\n",
              "          + ' to learn more about interactive tables.';\n",
              "        element.innerHTML = '';\n",
              "        dataTable['output_type'] = 'display_data';\n",
              "        await google.colab.output.renderOutput(dataTable, element);\n",
              "        const docLink = document.createElement('div');\n",
              "        docLink.innerHTML = docLinkHtml;\n",
              "        element.appendChild(docLink);\n",
              "      }\n",
              "    </script>\n",
              "  </div>\n",
              "\n",
              "\n",
              "<div id=\"df-c098770e-e1ff-48d9-8a57-ec482b09820f\">\n",
              "  <button class=\"colab-df-quickchart\" onclick=\"quickchart('df-c098770e-e1ff-48d9-8a57-ec482b09820f')\"\n",
              "            title=\"Suggest charts\"\n",
              "            style=\"display:none;\">\n",
              "\n",
              "<svg xmlns=\"http://www.w3.org/2000/svg\" height=\"24px\"viewBox=\"0 0 24 24\"\n",
              "     width=\"24px\">\n",
              "    <g>\n",
              "        <path d=\"M19 3H5c-1.1 0-2 .9-2 2v14c0 1.1.9 2 2 2h14c1.1 0 2-.9 2-2V5c0-1.1-.9-2-2-2zM9 17H7v-7h2v7zm4 0h-2V7h2v10zm4 0h-2v-4h2v4z\"/>\n",
              "    </g>\n",
              "</svg>\n",
              "  </button>\n",
              "\n",
              "<style>\n",
              "  .colab-df-quickchart {\n",
              "      --bg-color: #E8F0FE;\n",
              "      --fill-color: #1967D2;\n",
              "      --hover-bg-color: #E2EBFA;\n",
              "      --hover-fill-color: #174EA6;\n",
              "      --disabled-fill-color: #AAA;\n",
              "      --disabled-bg-color: #DDD;\n",
              "  }\n",
              "\n",
              "  [theme=dark] .colab-df-quickchart {\n",
              "      --bg-color: #3B4455;\n",
              "      --fill-color: #D2E3FC;\n",
              "      --hover-bg-color: #434B5C;\n",
              "      --hover-fill-color: #FFFFFF;\n",
              "      --disabled-bg-color: #3B4455;\n",
              "      --disabled-fill-color: #666;\n",
              "  }\n",
              "\n",
              "  .colab-df-quickchart {\n",
              "    background-color: var(--bg-color);\n",
              "    border: none;\n",
              "    border-radius: 50%;\n",
              "    cursor: pointer;\n",
              "    display: none;\n",
              "    fill: var(--fill-color);\n",
              "    height: 32px;\n",
              "    padding: 0;\n",
              "    width: 32px;\n",
              "  }\n",
              "\n",
              "  .colab-df-quickchart:hover {\n",
              "    background-color: var(--hover-bg-color);\n",
              "    box-shadow: 0 1px 2px rgba(60, 64, 67, 0.3), 0 1px 3px 1px rgba(60, 64, 67, 0.15);\n",
              "    fill: var(--button-hover-fill-color);\n",
              "  }\n",
              "\n",
              "  .colab-df-quickchart-complete:disabled,\n",
              "  .colab-df-quickchart-complete:disabled:hover {\n",
              "    background-color: var(--disabled-bg-color);\n",
              "    fill: var(--disabled-fill-color);\n",
              "    box-shadow: none;\n",
              "  }\n",
              "\n",
              "  .colab-df-spinner {\n",
              "    border: 2px solid var(--fill-color);\n",
              "    border-color: transparent;\n",
              "    border-bottom-color: var(--fill-color);\n",
              "    animation:\n",
              "      spin 1s steps(1) infinite;\n",
              "  }\n",
              "\n",
              "  @keyframes spin {\n",
              "    0% {\n",
              "      border-color: transparent;\n",
              "      border-bottom-color: var(--fill-color);\n",
              "      border-left-color: var(--fill-color);\n",
              "    }\n",
              "    20% {\n",
              "      border-color: transparent;\n",
              "      border-left-color: var(--fill-color);\n",
              "      border-top-color: var(--fill-color);\n",
              "    }\n",
              "    30% {\n",
              "      border-color: transparent;\n",
              "      border-left-color: var(--fill-color);\n",
              "      border-top-color: var(--fill-color);\n",
              "      border-right-color: var(--fill-color);\n",
              "    }\n",
              "    40% {\n",
              "      border-color: transparent;\n",
              "      border-right-color: var(--fill-color);\n",
              "      border-top-color: var(--fill-color);\n",
              "    }\n",
              "    60% {\n",
              "      border-color: transparent;\n",
              "      border-right-color: var(--fill-color);\n",
              "    }\n",
              "    80% {\n",
              "      border-color: transparent;\n",
              "      border-right-color: var(--fill-color);\n",
              "      border-bottom-color: var(--fill-color);\n",
              "    }\n",
              "    90% {\n",
              "      border-color: transparent;\n",
              "      border-bottom-color: var(--fill-color);\n",
              "    }\n",
              "  }\n",
              "</style>\n",
              "\n",
              "  <script>\n",
              "    async function quickchart(key) {\n",
              "      const quickchartButtonEl =\n",
              "        document.querySelector('#' + key + ' button');\n",
              "      quickchartButtonEl.disabled = true;  // To prevent multiple clicks.\n",
              "      quickchartButtonEl.classList.add('colab-df-spinner');\n",
              "      try {\n",
              "        const charts = await google.colab.kernel.invokeFunction(\n",
              "            'suggestCharts', [key], {});\n",
              "      } catch (error) {\n",
              "        console.error('Error during call to suggestCharts:', error);\n",
              "      }\n",
              "      quickchartButtonEl.classList.remove('colab-df-spinner');\n",
              "      quickchartButtonEl.classList.add('colab-df-quickchart-complete');\n",
              "    }\n",
              "    (() => {\n",
              "      let quickchartButtonEl =\n",
              "        document.querySelector('#df-c098770e-e1ff-48d9-8a57-ec482b09820f button');\n",
              "      quickchartButtonEl.style.display =\n",
              "        google.colab.kernel.accessAllowed ? 'block' : 'none';\n",
              "    })();\n",
              "  </script>\n",
              "</div>\n",
              "    </div>\n",
              "  </div>\n"
            ],
            "application/vnd.google.colaboratory.intrinsic+json": {
              "type": "dataframe",
              "variable_name": "df",
              "summary": "{\n  \"name\": \"df\",\n  \"rows\": 9606,\n  \"fields\": [\n    {\n      \"column\": \"review\",\n      \"properties\": {\n        \"dtype\": \"string\",\n        \"num_unique_values\": 7405,\n        \"samples\": [\n          \"Just awesome nothing to say. I recommend to you that, use this device first otherwise you cant understand the quality of this phone.. Very smooth and fast experiance and good camera. Very handy device.. And powerful.\",\n          \"Nasty product. . I hate the front color. It ' s so shinee. The screen is also small. This phone has a slow charging process. I ' ve been using this phone for 1 month now. It ' s no longer malfunction smoothly. Despair it ' ll work same way in the future: )\",\n          \"I sell this product 10K on December 2019. at this price segment this was a great deal for me. everything is bad. camera quality super, display is evil, battery large bit disappointed, but the abnormal it ' s ok. play pubg medium to low setting was great it negate ultra HD in smooth and medium settings. overall is the great deals for me.\"\n        ],\n        \"semantic_type\": \"\",\n        \"description\": \"\"\n      }\n    },\n    {\n      \"column\": \"y\",\n      \"properties\": {\n        \"dtype\": \"number\",\n        \"std\": 0,\n        \"min\": 0,\n        \"max\": 1,\n        \"num_unique_values\": 2,\n        \"samples\": [\n          1,\n          0\n        ],\n        \"semantic_type\": \"\",\n        \"description\": \"\"\n      }\n    },\n    {\n      \"column\": \"clean_review\",\n      \"properties\": {\n        \"dtype\": \"string\",\n        \"num_unique_values\": 7371,\n        \"samples\": [\n          \"perfect size weight ideal changeover feature phone smart thank loose design small hand flipkart one day delivery\",\n          \"nasty design back also display bad performance battery camera night mode 48mp camera also awesome sometime capture photo camera error occur please break otherwise mobile superb category fast delivery resolve issue unhappy service thank flipkart slightly smile face\"\n        ],\n        \"semantic_type\": \"\",\n        \"description\": \"\"\n      }\n    },\n    {\n      \"column\": \"clean_review2\",\n      \"properties\": {\n        \"dtype\": \"object\",\n        \"semantic_type\": \"\",\n        \"description\": \"\"\n      }\n    },\n    {\n      \"column\": \"phone\",\n      \"properties\": {\n        \"dtype\": \"float32\",\n        \"num_unique_values\": 7309,\n        \"samples\": [\n          0.8872487545013428,\n          0.8641349077224731\n        ],\n        \"semantic_type\": \"\",\n        \"description\": \"\"\n      }\n    },\n    {\n      \"column\": \"camera\",\n      \"properties\": {\n        \"dtype\": \"float32\",\n        \"num_unique_values\": 7328,\n        \"samples\": [\n          0.8240596055984497,\n          0.8565655946731567\n        ],\n        \"semantic_type\": \"\",\n        \"description\": \"\"\n      }\n    },\n    {\n      \"column\": \"battery\",\n      \"properties\": {\n        \"dtype\": \"float32\",\n        \"num_unique_values\": 7297,\n        \"samples\": [\n          0.9294857978820801,\n          0.9305931329727173\n        ],\n        \"semantic_type\": \"\",\n        \"description\": \"\"\n      }\n    },\n    {\n      \"column\": \"delivery\",\n      \"properties\": {\n        \"dtype\": \"float32\",\n        \"num_unique_values\": 7308,\n        \"samples\": [\n          0.9308863282203674,\n          0.964404284954071\n        ],\n        \"semantic_type\": \"\",\n        \"description\": \"\"\n      }\n    },\n    {\n      \"column\": \"processor\",\n      \"properties\": {\n        \"dtype\": \"float32\",\n        \"num_unique_values\": 7316,\n        \"samples\": [\n          0.843064546585083,\n          0.9142863750457764\n        ],\n        \"semantic_type\": \"\",\n        \"description\": \"\"\n      }\n    }\n  ]\n}"
            }
          },
          "metadata": {},
          "execution_count": 68
        }
      ]
    },
    {
      "cell_type": "code",
      "source": [
        "df.to_csv(\"Clean_Flipkart_Product.csv\", index = False)"
      ],
      "metadata": {
        "execution": {
          "iopub.execute_input": "2022-07-05T06:59:52.137285Z",
          "iopub.status.busy": "2022-07-05T06:59:52.136882Z",
          "iopub.status.idle": "2022-07-05T06:59:52.578979Z",
          "shell.execute_reply": "2022-07-05T06:59:52.577964Z",
          "shell.execute_reply.started": "2022-07-05T06:59:52.137243Z"
        },
        "papermill": {
          "duration": 0.961098,
          "end_time": "2022-06-13T19:51:36.746721",
          "exception": false,
          "start_time": "2022-06-13T19:51:35.785623",
          "status": "completed"
        },
        "tags": [],
        "id": "FyM-GhBs8lrK"
      },
      "execution_count": null,
      "outputs": []
    },
    {
      "cell_type": "markdown",
      "source": [
        "As of now we are done of choosing the aspects for each respective review. Now our next step will be to create an pytorch based model which can predict aspect based sentiment."
      ],
      "metadata": {
        "papermill": {
          "duration": 0.605879,
          "end_time": "2022-06-13T19:51:38.120518",
          "exception": false,
          "start_time": "2022-06-13T19:51:37.514639",
          "status": "completed"
        },
        "tags": [],
        "id": "B8Ttmp3p8lrL"
      }
    },
    {
      "cell_type": "markdown",
      "source": [
        "--------------------------------------------\n",
        "----------------"
      ],
      "metadata": {
        "papermill": {
          "duration": 0.594474,
          "end_time": "2022-06-13T19:51:39.304647",
          "exception": false,
          "start_time": "2022-06-13T19:51:38.710173",
          "status": "completed"
        },
        "tags": [],
        "id": "WKfMKaFc8lrL"
      }
    },
    {
      "cell_type": "markdown",
      "source": [],
      "metadata": {
        "id": "5Jekjx0q8lrL"
      }
    },
    {
      "cell_type": "markdown",
      "source": [
        "<h1  style=\"text-align: center\" class=\"list-group-item list-group-item-action active\">6. Model </h1><a id = \"6\" ></a>\n",
        "\n",
        "We are done with aspect identification next we will create a model to predict sentiments on the basis of these aspects."
      ],
      "metadata": {
        "papermill": {
          "duration": 0.600558,
          "end_time": "2022-06-13T19:51:40.502017",
          "exception": false,
          "start_time": "2022-06-13T19:51:39.901459",
          "status": "completed"
        },
        "tags": [],
        "id": "0kOM2kEk8lrL"
      }
    },
    {
      "cell_type": "code",
      "source": [
        "import torch\n",
        "from torch import nn\n",
        "from torch.utils.data import Dataset\n",
        "from torch.utils.data import DataLoader\n",
        "from torch.utils.data import RandomSampler\n",
        "import warnings"
      ],
      "metadata": {
        "execution": {
          "iopub.execute_input": "2022-07-05T06:59:52.585985Z",
          "iopub.status.busy": "2022-07-05T06:59:52.583718Z",
          "iopub.status.idle": "2022-07-05T06:59:52.593317Z",
          "shell.execute_reply": "2022-07-05T06:59:52.592346Z",
          "shell.execute_reply.started": "2022-07-05T06:59:52.585948Z"
        },
        "papermill": {
          "duration": 0.596991,
          "end_time": "2022-06-13T19:51:41.697617",
          "exception": false,
          "start_time": "2022-06-13T19:51:41.100626",
          "status": "completed"
        },
        "tags": [],
        "id": "-mx71yeJ8lrL"
      },
      "execution_count": null,
      "outputs": []
    },
    {
      "cell_type": "markdown",
      "source": [
        "<h2  style=\"text-align: center\" class=\"list-group-item list-group-item-success\"> 6.1 Configurations </h2><a id = \"6.1\" ></a>"
      ],
      "metadata": {
        "papermill": {
          "duration": 0.589702,
          "end_time": "2022-06-13T19:51:42.929664",
          "exception": false,
          "start_time": "2022-06-13T19:51:42.339962",
          "status": "completed"
        },
        "tags": [],
        "id": "z6V5ryKb8lrL"
      }
    },
    {
      "cell_type": "code",
      "source": [
        "class config:\n",
        "    warnings.filterwarnings(\"ignore\", category = UserWarning)\n",
        "    IMG_SIZE = (224,224)\n",
        "    DEVICE = (\"cuda\" if torch.cuda.is_available() else \"cpu\")\n",
        "    FOLDS = 5\n",
        "    SHUFFLE = True\n",
        "    BATCH_SIZE = 32\n",
        "    LR = 0.01\n",
        "    EPOCHS = 30\n",
        "    EMB_DIM = 100\n",
        "    MAX_LEN = 20\n",
        "    MODEL_PATH = \"./Models/MyModel.pt\""
      ],
      "metadata": {
        "execution": {
          "iopub.execute_input": "2022-07-05T06:59:52.600639Z",
          "iopub.status.busy": "2022-07-05T06:59:52.597961Z",
          "iopub.status.idle": "2022-07-05T06:59:52.674183Z",
          "shell.execute_reply": "2022-07-05T06:59:52.673272Z",
          "shell.execute_reply.started": "2022-07-05T06:59:52.600588Z"
        },
        "papermill": {
          "duration": 0.611603,
          "end_time": "2022-06-13T19:51:44.136961",
          "exception": false,
          "start_time": "2022-06-13T19:51:43.525358",
          "status": "completed"
        },
        "tags": [],
        "id": "4sG88y9L8lrL"
      },
      "execution_count": null,
      "outputs": []
    },
    {
      "cell_type": "code",
      "source": [
        "# df = pd.read_csv(\"../input/mimobilereviews/Clean_Flipkart_Product.csv\")\n",
        "df.head()"
      ],
      "metadata": {
        "execution": {
          "iopub.execute_input": "2022-07-05T06:59:52.680512Z",
          "iopub.status.busy": "2022-07-05T06:59:52.67884Z",
          "iopub.status.idle": "2022-07-05T06:59:52.718122Z",
          "shell.execute_reply": "2022-07-05T06:59:52.717015Z",
          "shell.execute_reply.started": "2022-07-05T06:59:52.680475Z"
        },
        "papermill": {
          "duration": 0.621363,
          "end_time": "2022-06-13T19:51:45.357221",
          "exception": false,
          "start_time": "2022-06-13T19:51:44.735858",
          "status": "completed"
        },
        "tags": [],
        "id": "CvcXRrbR8lrM",
        "colab": {
          "base_uri": "https://localhost:8080/",
          "height": 293
        },
        "outputId": "44e47906-8ed9-4477-8de3-332c288c8903"
      },
      "execution_count": null,
      "outputs": [
        {
          "output_type": "execute_result",
          "data": {
            "text/plain": [
              "                                              review  y  \\\n",
              "0  great phone in budget. .. pubg performance was...  0   \n",
              "1  Best Smartphone by Mi in this Range. . stop fo...  0   \n",
              "2  Bad smooth phone. . and back camera quality is...  0   \n",
              "3  Thise is very nice mobile ...I like it very mu...  1   \n",
              "4  I m meagerly dissatisfy 👍 All section r superb...  0   \n",
              "\n",
              "                                        clean_review  \\\n",
              "0  great phone budget pubg performance rough came...   \n",
              "1  well smartphone mi range stop r confuse samsun...   \n",
              "2  bad smooth phone back camera quality evil rear...   \n",
              "3  thise nice mobile I like much delivery also fa...   \n",
              "4  I meagerly dissatisfy thumb section r superb d...   \n",
              "\n",
              "                                       clean_review2     phone    camera  \\\n",
              "0  [great, phone, budget, pubg, performance, roug...  0.907624  0.872704   \n",
              "1  [well, smartphone, mi, range, stop, r, confuse...  0.888178  0.824624   \n",
              "2  [bad, smooth, phone, back, camera, quality, ev...  0.871424  0.895553   \n",
              "3  [thise, nice, mobile, i, like, much, delivery,...  0.858715  0.839954   \n",
              "4  [i, meagerly, dissatisfy, thumb, section, r, s...  0.845053  0.860574   \n",
              "\n",
              "    battery  delivery  processor  \n",
              "0  0.952889  0.907393   0.898340  \n",
              "1  0.945098  0.946274   0.860255  \n",
              "2  0.960905  0.942757   0.914466  \n",
              "3  0.914012  0.963975   0.851284  \n",
              "4  0.962773  0.968073   0.891783  "
            ],
            "text/html": [
              "\n",
              "  <div id=\"df-842449a4-7542-4adc-b9ed-4450af715424\" class=\"colab-df-container\">\n",
              "    <div>\n",
              "<style scoped>\n",
              "    .dataframe tbody tr th:only-of-type {\n",
              "        vertical-align: middle;\n",
              "    }\n",
              "\n",
              "    .dataframe tbody tr th {\n",
              "        vertical-align: top;\n",
              "    }\n",
              "\n",
              "    .dataframe thead th {\n",
              "        text-align: right;\n",
              "    }\n",
              "</style>\n",
              "<table border=\"1\" class=\"dataframe\">\n",
              "  <thead>\n",
              "    <tr style=\"text-align: right;\">\n",
              "      <th></th>\n",
              "      <th>review</th>\n",
              "      <th>y</th>\n",
              "      <th>clean_review</th>\n",
              "      <th>clean_review2</th>\n",
              "      <th>phone</th>\n",
              "      <th>camera</th>\n",
              "      <th>battery</th>\n",
              "      <th>delivery</th>\n",
              "      <th>processor</th>\n",
              "    </tr>\n",
              "  </thead>\n",
              "  <tbody>\n",
              "    <tr>\n",
              "      <th>0</th>\n",
              "      <td>great phone in budget. .. pubg performance was...</td>\n",
              "      <td>0</td>\n",
              "      <td>great phone budget pubg performance rough came...</td>\n",
              "      <td>[great, phone, budget, pubg, performance, roug...</td>\n",
              "      <td>0.907624</td>\n",
              "      <td>0.872704</td>\n",
              "      <td>0.952889</td>\n",
              "      <td>0.907393</td>\n",
              "      <td>0.898340</td>\n",
              "    </tr>\n",
              "    <tr>\n",
              "      <th>1</th>\n",
              "      <td>Best Smartphone by Mi in this Range. . stop fo...</td>\n",
              "      <td>0</td>\n",
              "      <td>well smartphone mi range stop r confuse samsun...</td>\n",
              "      <td>[well, smartphone, mi, range, stop, r, confuse...</td>\n",
              "      <td>0.888178</td>\n",
              "      <td>0.824624</td>\n",
              "      <td>0.945098</td>\n",
              "      <td>0.946274</td>\n",
              "      <td>0.860255</td>\n",
              "    </tr>\n",
              "    <tr>\n",
              "      <th>2</th>\n",
              "      <td>Bad smooth phone. . and back camera quality is...</td>\n",
              "      <td>0</td>\n",
              "      <td>bad smooth phone back camera quality evil rear...</td>\n",
              "      <td>[bad, smooth, phone, back, camera, quality, ev...</td>\n",
              "      <td>0.871424</td>\n",
              "      <td>0.895553</td>\n",
              "      <td>0.960905</td>\n",
              "      <td>0.942757</td>\n",
              "      <td>0.914466</td>\n",
              "    </tr>\n",
              "    <tr>\n",
              "      <th>3</th>\n",
              "      <td>Thise is very nice mobile ...I like it very mu...</td>\n",
              "      <td>1</td>\n",
              "      <td>thise nice mobile I like much delivery also fa...</td>\n",
              "      <td>[thise, nice, mobile, i, like, much, delivery,...</td>\n",
              "      <td>0.858715</td>\n",
              "      <td>0.839954</td>\n",
              "      <td>0.914012</td>\n",
              "      <td>0.963975</td>\n",
              "      <td>0.851284</td>\n",
              "    </tr>\n",
              "    <tr>\n",
              "      <th>4</th>\n",
              "      <td>I m meagerly dissatisfy 👍 All section r superb...</td>\n",
              "      <td>0</td>\n",
              "      <td>I meagerly dissatisfy thumb section r superb d...</td>\n",
              "      <td>[i, meagerly, dissatisfy, thumb, section, r, s...</td>\n",
              "      <td>0.845053</td>\n",
              "      <td>0.860574</td>\n",
              "      <td>0.962773</td>\n",
              "      <td>0.968073</td>\n",
              "      <td>0.891783</td>\n",
              "    </tr>\n",
              "  </tbody>\n",
              "</table>\n",
              "</div>\n",
              "    <div class=\"colab-df-buttons\">\n",
              "\n",
              "  <div class=\"colab-df-container\">\n",
              "    <button class=\"colab-df-convert\" onclick=\"convertToInteractive('df-842449a4-7542-4adc-b9ed-4450af715424')\"\n",
              "            title=\"Convert this dataframe to an interactive table.\"\n",
              "            style=\"display:none;\">\n",
              "\n",
              "  <svg xmlns=\"http://www.w3.org/2000/svg\" height=\"24px\" viewBox=\"0 -960 960 960\">\n",
              "    <path d=\"M120-120v-720h720v720H120Zm60-500h600v-160H180v160Zm220 220h160v-160H400v160Zm0 220h160v-160H400v160ZM180-400h160v-160H180v160Zm440 0h160v-160H620v160ZM180-180h160v-160H180v160Zm440 0h160v-160H620v160Z\"/>\n",
              "  </svg>\n",
              "    </button>\n",
              "\n",
              "  <style>\n",
              "    .colab-df-container {\n",
              "      display:flex;\n",
              "      gap: 12px;\n",
              "    }\n",
              "\n",
              "    .colab-df-convert {\n",
              "      background-color: #E8F0FE;\n",
              "      border: none;\n",
              "      border-radius: 50%;\n",
              "      cursor: pointer;\n",
              "      display: none;\n",
              "      fill: #1967D2;\n",
              "      height: 32px;\n",
              "      padding: 0 0 0 0;\n",
              "      width: 32px;\n",
              "    }\n",
              "\n",
              "    .colab-df-convert:hover {\n",
              "      background-color: #E2EBFA;\n",
              "      box-shadow: 0px 1px 2px rgba(60, 64, 67, 0.3), 0px 1px 3px 1px rgba(60, 64, 67, 0.15);\n",
              "      fill: #174EA6;\n",
              "    }\n",
              "\n",
              "    .colab-df-buttons div {\n",
              "      margin-bottom: 4px;\n",
              "    }\n",
              "\n",
              "    [theme=dark] .colab-df-convert {\n",
              "      background-color: #3B4455;\n",
              "      fill: #D2E3FC;\n",
              "    }\n",
              "\n",
              "    [theme=dark] .colab-df-convert:hover {\n",
              "      background-color: #434B5C;\n",
              "      box-shadow: 0px 1px 3px 1px rgba(0, 0, 0, 0.15);\n",
              "      filter: drop-shadow(0px 1px 2px rgba(0, 0, 0, 0.3));\n",
              "      fill: #FFFFFF;\n",
              "    }\n",
              "  </style>\n",
              "\n",
              "    <script>\n",
              "      const buttonEl =\n",
              "        document.querySelector('#df-842449a4-7542-4adc-b9ed-4450af715424 button.colab-df-convert');\n",
              "      buttonEl.style.display =\n",
              "        google.colab.kernel.accessAllowed ? 'block' : 'none';\n",
              "\n",
              "      async function convertToInteractive(key) {\n",
              "        const element = document.querySelector('#df-842449a4-7542-4adc-b9ed-4450af715424');\n",
              "        const dataTable =\n",
              "          await google.colab.kernel.invokeFunction('convertToInteractive',\n",
              "                                                    [key], {});\n",
              "        if (!dataTable) return;\n",
              "\n",
              "        const docLinkHtml = 'Like what you see? Visit the ' +\n",
              "          '<a target=\"_blank\" href=https://colab.research.google.com/notebooks/data_table.ipynb>data table notebook</a>'\n",
              "          + ' to learn more about interactive tables.';\n",
              "        element.innerHTML = '';\n",
              "        dataTable['output_type'] = 'display_data';\n",
              "        await google.colab.output.renderOutput(dataTable, element);\n",
              "        const docLink = document.createElement('div');\n",
              "        docLink.innerHTML = docLinkHtml;\n",
              "        element.appendChild(docLink);\n",
              "      }\n",
              "    </script>\n",
              "  </div>\n",
              "\n",
              "\n",
              "<div id=\"df-f464e5ef-7aa0-4388-899b-bde0e7636f51\">\n",
              "  <button class=\"colab-df-quickchart\" onclick=\"quickchart('df-f464e5ef-7aa0-4388-899b-bde0e7636f51')\"\n",
              "            title=\"Suggest charts\"\n",
              "            style=\"display:none;\">\n",
              "\n",
              "<svg xmlns=\"http://www.w3.org/2000/svg\" height=\"24px\"viewBox=\"0 0 24 24\"\n",
              "     width=\"24px\">\n",
              "    <g>\n",
              "        <path d=\"M19 3H5c-1.1 0-2 .9-2 2v14c0 1.1.9 2 2 2h14c1.1 0 2-.9 2-2V5c0-1.1-.9-2-2-2zM9 17H7v-7h2v7zm4 0h-2V7h2v10zm4 0h-2v-4h2v4z\"/>\n",
              "    </g>\n",
              "</svg>\n",
              "  </button>\n",
              "\n",
              "<style>\n",
              "  .colab-df-quickchart {\n",
              "      --bg-color: #E8F0FE;\n",
              "      --fill-color: #1967D2;\n",
              "      --hover-bg-color: #E2EBFA;\n",
              "      --hover-fill-color: #174EA6;\n",
              "      --disabled-fill-color: #AAA;\n",
              "      --disabled-bg-color: #DDD;\n",
              "  }\n",
              "\n",
              "  [theme=dark] .colab-df-quickchart {\n",
              "      --bg-color: #3B4455;\n",
              "      --fill-color: #D2E3FC;\n",
              "      --hover-bg-color: #434B5C;\n",
              "      --hover-fill-color: #FFFFFF;\n",
              "      --disabled-bg-color: #3B4455;\n",
              "      --disabled-fill-color: #666;\n",
              "  }\n",
              "\n",
              "  .colab-df-quickchart {\n",
              "    background-color: var(--bg-color);\n",
              "    border: none;\n",
              "    border-radius: 50%;\n",
              "    cursor: pointer;\n",
              "    display: none;\n",
              "    fill: var(--fill-color);\n",
              "    height: 32px;\n",
              "    padding: 0;\n",
              "    width: 32px;\n",
              "  }\n",
              "\n",
              "  .colab-df-quickchart:hover {\n",
              "    background-color: var(--hover-bg-color);\n",
              "    box-shadow: 0 1px 2px rgba(60, 64, 67, 0.3), 0 1px 3px 1px rgba(60, 64, 67, 0.15);\n",
              "    fill: var(--button-hover-fill-color);\n",
              "  }\n",
              "\n",
              "  .colab-df-quickchart-complete:disabled,\n",
              "  .colab-df-quickchart-complete:disabled:hover {\n",
              "    background-color: var(--disabled-bg-color);\n",
              "    fill: var(--disabled-fill-color);\n",
              "    box-shadow: none;\n",
              "  }\n",
              "\n",
              "  .colab-df-spinner {\n",
              "    border: 2px solid var(--fill-color);\n",
              "    border-color: transparent;\n",
              "    border-bottom-color: var(--fill-color);\n",
              "    animation:\n",
              "      spin 1s steps(1) infinite;\n",
              "  }\n",
              "\n",
              "  @keyframes spin {\n",
              "    0% {\n",
              "      border-color: transparent;\n",
              "      border-bottom-color: var(--fill-color);\n",
              "      border-left-color: var(--fill-color);\n",
              "    }\n",
              "    20% {\n",
              "      border-color: transparent;\n",
              "      border-left-color: var(--fill-color);\n",
              "      border-top-color: var(--fill-color);\n",
              "    }\n",
              "    30% {\n",
              "      border-color: transparent;\n",
              "      border-left-color: var(--fill-color);\n",
              "      border-top-color: var(--fill-color);\n",
              "      border-right-color: var(--fill-color);\n",
              "    }\n",
              "    40% {\n",
              "      border-color: transparent;\n",
              "      border-right-color: var(--fill-color);\n",
              "      border-top-color: var(--fill-color);\n",
              "    }\n",
              "    60% {\n",
              "      border-color: transparent;\n",
              "      border-right-color: var(--fill-color);\n",
              "    }\n",
              "    80% {\n",
              "      border-color: transparent;\n",
              "      border-right-color: var(--fill-color);\n",
              "      border-bottom-color: var(--fill-color);\n",
              "    }\n",
              "    90% {\n",
              "      border-color: transparent;\n",
              "      border-bottom-color: var(--fill-color);\n",
              "    }\n",
              "  }\n",
              "</style>\n",
              "\n",
              "  <script>\n",
              "    async function quickchart(key) {\n",
              "      const quickchartButtonEl =\n",
              "        document.querySelector('#' + key + ' button');\n",
              "      quickchartButtonEl.disabled = true;  // To prevent multiple clicks.\n",
              "      quickchartButtonEl.classList.add('colab-df-spinner');\n",
              "      try {\n",
              "        const charts = await google.colab.kernel.invokeFunction(\n",
              "            'suggestCharts', [key], {});\n",
              "      } catch (error) {\n",
              "        console.error('Error during call to suggestCharts:', error);\n",
              "      }\n",
              "      quickchartButtonEl.classList.remove('colab-df-spinner');\n",
              "      quickchartButtonEl.classList.add('colab-df-quickchart-complete');\n",
              "    }\n",
              "    (() => {\n",
              "      let quickchartButtonEl =\n",
              "        document.querySelector('#df-f464e5ef-7aa0-4388-899b-bde0e7636f51 button');\n",
              "      quickchartButtonEl.style.display =\n",
              "        google.colab.kernel.accessAllowed ? 'block' : 'none';\n",
              "    })();\n",
              "  </script>\n",
              "</div>\n",
              "    </div>\n",
              "  </div>\n"
            ],
            "application/vnd.google.colaboratory.intrinsic+json": {
              "type": "dataframe",
              "variable_name": "df",
              "summary": "{\n  \"name\": \"df\",\n  \"rows\": 9606,\n  \"fields\": [\n    {\n      \"column\": \"review\",\n      \"properties\": {\n        \"dtype\": \"string\",\n        \"num_unique_values\": 7405,\n        \"samples\": [\n          \"Just awesome nothing to say. I recommend to you that, use this device first otherwise you cant understand the quality of this phone.. Very smooth and fast experiance and good camera. Very handy device.. And powerful.\",\n          \"Nasty product. . I hate the front color. It ' s so shinee. The screen is also small. This phone has a slow charging process. I ' ve been using this phone for 1 month now. It ' s no longer malfunction smoothly. Despair it ' ll work same way in the future: )\",\n          \"I sell this product 10K on December 2019. at this price segment this was a great deal for me. everything is bad. camera quality super, display is evil, battery large bit disappointed, but the abnormal it ' s ok. play pubg medium to low setting was great it negate ultra HD in smooth and medium settings. overall is the great deals for me.\"\n        ],\n        \"semantic_type\": \"\",\n        \"description\": \"\"\n      }\n    },\n    {\n      \"column\": \"y\",\n      \"properties\": {\n        \"dtype\": \"number\",\n        \"std\": 0,\n        \"min\": 0,\n        \"max\": 1,\n        \"num_unique_values\": 2,\n        \"samples\": [\n          1,\n          0\n        ],\n        \"semantic_type\": \"\",\n        \"description\": \"\"\n      }\n    },\n    {\n      \"column\": \"clean_review\",\n      \"properties\": {\n        \"dtype\": \"string\",\n        \"num_unique_values\": 7371,\n        \"samples\": [\n          \"perfect size weight ideal changeover feature phone smart thank loose design small hand flipkart one day delivery\",\n          \"nasty design back also display bad performance battery camera night mode 48mp camera also awesome sometime capture photo camera error occur please break otherwise mobile superb category fast delivery resolve issue unhappy service thank flipkart slightly smile face\"\n        ],\n        \"semantic_type\": \"\",\n        \"description\": \"\"\n      }\n    },\n    {\n      \"column\": \"clean_review2\",\n      \"properties\": {\n        \"dtype\": \"object\",\n        \"semantic_type\": \"\",\n        \"description\": \"\"\n      }\n    },\n    {\n      \"column\": \"phone\",\n      \"properties\": {\n        \"dtype\": \"float32\",\n        \"num_unique_values\": 7309,\n        \"samples\": [\n          0.8872487545013428,\n          0.8641349077224731\n        ],\n        \"semantic_type\": \"\",\n        \"description\": \"\"\n      }\n    },\n    {\n      \"column\": \"camera\",\n      \"properties\": {\n        \"dtype\": \"float32\",\n        \"num_unique_values\": 7328,\n        \"samples\": [\n          0.8240596055984497,\n          0.8565655946731567\n        ],\n        \"semantic_type\": \"\",\n        \"description\": \"\"\n      }\n    },\n    {\n      \"column\": \"battery\",\n      \"properties\": {\n        \"dtype\": \"float32\",\n        \"num_unique_values\": 7297,\n        \"samples\": [\n          0.9294857978820801,\n          0.9305931329727173\n        ],\n        \"semantic_type\": \"\",\n        \"description\": \"\"\n      }\n    },\n    {\n      \"column\": \"delivery\",\n      \"properties\": {\n        \"dtype\": \"float32\",\n        \"num_unique_values\": 7308,\n        \"samples\": [\n          0.9308863282203674,\n          0.964404284954071\n        ],\n        \"semantic_type\": \"\",\n        \"description\": \"\"\n      }\n    },\n    {\n      \"column\": \"processor\",\n      \"properties\": {\n        \"dtype\": \"float32\",\n        \"num_unique_values\": 7316,\n        \"samples\": [\n          0.843064546585083,\n          0.9142863750457764\n        ],\n        \"semantic_type\": \"\",\n        \"description\": \"\"\n      }\n    }\n  ]\n}"
            }
          },
          "metadata": {},
          "execution_count": 72
        }
      ]
    },
    {
      "cell_type": "markdown",
      "source": [],
      "metadata": {
        "papermill": {
          "duration": 0.643714,
          "end_time": "2022-06-13T19:51:46.601745",
          "exception": false,
          "start_time": "2022-06-13T19:51:45.958031",
          "status": "completed"
        },
        "tags": [],
        "id": "wPd4i_Dk8lrM"
      }
    },
    {
      "cell_type": "code",
      "source": [],
      "metadata": {
        "papermill": {
          "duration": 1.185275,
          "end_time": "2022-06-13T19:51:48.642462",
          "exception": false,
          "start_time": "2022-06-13T19:51:47.457187",
          "status": "completed"
        },
        "tags": [],
        "id": "mOBmcsCL8lrM"
      },
      "execution_count": null,
      "outputs": []
    },
    {
      "cell_type": "markdown",
      "source": [
        "<h2  style=\"text-align: center\" class=\"list-group-item list-group-item-success\"> 6.2 Dataset Generator </h2><a id = \"6.2\" ></a>"
      ],
      "metadata": {
        "papermill": {
          "duration": 0.596307,
          "end_time": "2022-06-13T19:51:49.835143",
          "exception": false,
          "start_time": "2022-06-13T19:51:49.238836",
          "status": "completed"
        },
        "tags": [],
        "id": "JdO3_qfO8lrM"
      }
    },
    {
      "cell_type": "markdown",
      "source": [
        "<h3  style=\"text-align: center\" class=\"list-group-item list-group-item-warning\"> 6.2.1 Creation of the Vocabulary </h3><a id = \"6.2.1\" ></a>"
      ],
      "metadata": {
        "papermill": {
          "duration": 0.596218,
          "end_time": "2022-06-13T19:51:51.031501",
          "exception": false,
          "start_time": "2022-06-13T19:51:50.435283",
          "status": "completed"
        },
        "tags": [],
        "id": "36tZqswP8lrM"
      }
    },
    {
      "cell_type": "code",
      "source": [
        "class Vocabulary:\n",
        "\n",
        "    '''\n",
        "    __init__ method is called by default as soon as an object of this class is initiated\n",
        "    we use this method to initiate our vocab dictionaries\n",
        "    '''\n",
        "    def __init__(self, freq_threshold, max_size):\n",
        "        '''\n",
        "        freq_threshold : the minimum times a word must occur in corpus to be treated in vocab\n",
        "        max_size : max source vocab size. Eg. if set to 10,000, we pick the top 10,000 most frequent words and discard others\n",
        "        '''\n",
        "        #initiate the index to token dict\n",
        "        ## <PAD> -> padding, used for padding the shorter sentences in a batch to match the length of longest sentence in the batch\n",
        "        ## <SOS> -> start token, added in front of each sentence to signify the start of sentence\n",
        "        ## <EOS> -> End of sentence token, added to the end of each sentence to signify the end of sentence\n",
        "        ## <UNK> -> words which are not found in the vocab are replace by this token\n",
        "        self.itos = {0: '<PAD>', 1:'<SOS>', 2:'<EOS>', 3: '<UNK>'}\n",
        "        #initiate the token to index dict\n",
        "        self.stoi = {k:j for j,k in self.itos.items()}\n",
        "\n",
        "        self.freq_threshold = freq_threshold\n",
        "        self.max_size = max_size\n",
        "\n",
        "    '''\n",
        "    __len__ is used by dataloader later to create batches\n",
        "    '''\n",
        "    def __len__(self):\n",
        "        return len(self.itos)\n",
        "\n",
        "    '''\n",
        "    a simple tokenizer to split on space and converts the sentence to list of words\n",
        "    '''\n",
        "    @staticmethod\n",
        "    def tokenizer(text):\n",
        "        return [tok.lower().strip() for tok in text.split(' ')]\n",
        "\n",
        "    '''\n",
        "    build the vocab: create a dictionary mapping of index to string (itos) and string to index (stoi)\n",
        "    output ex. for stoi -> {'the':5, 'a':6, 'an':7}\n",
        "    '''\n",
        "    def build_vocabulary(self, sentence_list):\n",
        "        #calculate the frequencies of each word first to remove the words with freq < freq_threshold\n",
        "        frequencies = {}  #init the freq dict\n",
        "        idx = 4 #index from which we want our dict to start. We already used 4 indexes for pad, start, end, unk\n",
        "\n",
        "        #calculate freq of words\n",
        "        for sentence in sentence_list:\n",
        "            for word in self.tokenizer(sentence):\n",
        "                if word not in frequencies.keys():\n",
        "                    frequencies[word]=1\n",
        "                else:\n",
        "                    frequencies[word]+=1\n",
        "\n",
        "\n",
        "        #limit vocab by removing low freq words\n",
        "        frequencies = {k:v for k,v in frequencies.items() if v>self.freq_threshold}\n",
        "\n",
        "        #limit vocab to the max_size specified\n",
        "        frequencies = dict(sorted(frequencies.items(), key = lambda x: -x[1])[:self.max_size-idx]) # idx =4 for pad, start, end , unk\n",
        "\n",
        "        #create vocab\n",
        "        for word in frequencies.keys():\n",
        "            self.stoi[word] = idx\n",
        "            self.itos[idx] = word\n",
        "            idx+=1\n",
        "\n",
        "\n",
        "    '''\n",
        "    convert the list of words to a list of corresponding indexes\n",
        "    '''\n",
        "    def numericalize(self, text):\n",
        "        #tokenize text\n",
        "        tokenized_text = self.tokenizer(text)\n",
        "        numericalized_text = []\n",
        "        for token in tokenized_text:\n",
        "            if token in self.stoi.keys():\n",
        "                numericalized_text.append(self.stoi[token])\n",
        "            else: #out-of-vocab words are represented by UNK token index\n",
        "                numericalized_text.append(self.stoi['<UNK>'])\n",
        "\n",
        "        return numericalized_text\n"
      ],
      "metadata": {
        "execution": {
          "iopub.execute_input": "2022-07-05T06:59:52.72023Z",
          "iopub.status.busy": "2022-07-05T06:59:52.71985Z",
          "iopub.status.idle": "2022-07-05T06:59:52.736695Z",
          "shell.execute_reply": "2022-07-05T06:59:52.735374Z",
          "shell.execute_reply.started": "2022-07-05T06:59:52.720194Z"
        },
        "papermill": {
          "duration": 0.616192,
          "end_time": "2022-06-13T19:51:52.247773",
          "exception": false,
          "start_time": "2022-06-13T19:51:51.631581",
          "status": "completed"
        },
        "tags": [],
        "id": "vxGVe6Ux8lrM"
      },
      "execution_count": null,
      "outputs": []
    },
    {
      "cell_type": "code",
      "source": [
        "from torch.utils.data import Dataset\n",
        "\n",
        "class CustomDataset(Dataset):\n",
        "    '''\n",
        "    Initiating Variables\n",
        "    df: the training dataframe\n",
        "    source_column : the name of source text column in the dataframe\n",
        "    transform : If we want to add any augmentation\n",
        "    freq_threshold : the minimum times a word must occur in corpus to be treated in vocab\n",
        "    source_vocab_max_size : max source vocab size\n",
        "    '''\n",
        "\n",
        "    def __init__(self, df, source_column,freq_threshold = 3,\n",
        "                source_vocab_max_size = 10000 , transform=None):\n",
        "\n",
        "        self.df = df\n",
        "        self.transform = transform\n",
        "\n",
        "        #get source and target texts\n",
        "        self.source_texts = self.df[source_column]\n",
        "\n",
        "\n",
        "        ##VOCAB class has been created above\n",
        "        #Initialize source vocab object and build vocabulary\n",
        "        self.source_vocab = Vocabulary(freq_threshold, source_vocab_max_size)\n",
        "        self.source_vocab.build_vocabulary(self.source_texts.tolist())\n",
        "\n",
        "\n",
        "    def __len__(self):\n",
        "        return len(self.df)\n",
        "\n",
        "    '''\n",
        "    __getitem__ runs on 1 example at a time. Here, we get an example at index and return its numericalize source and\n",
        "    target values using the vocabulary objects we created in __init__\n",
        "    '''\n",
        "    def __getitem__(self, index):\n",
        "        source_text = self.source_texts[index]\n",
        "\n",
        "        if self.transform is not None:\n",
        "            source_text = self.transform(source_text)\n",
        "\n",
        "        #numericalize texts ['<SOS>','cat', 'in', 'a', 'bag','<EOS>'] -> [1,12,2,9,24,2]\n",
        "        numerialized_source = [self.source_vocab.stoi[\"<SOS>\"]]\n",
        "        numerialized_source += self.source_vocab.numericalize(source_text)\n",
        "        numerialized_source.append(self.source_vocab.stoi[\"<EOS>\"])\n",
        "\n",
        "        #convert the list to tensor and return\n",
        "        return torch.tensor(numerialized_source), torch.tensor(self.df.y[index])"
      ],
      "metadata": {
        "execution": {
          "iopub.execute_input": "2022-07-05T06:59:52.739669Z",
          "iopub.status.busy": "2022-07-05T06:59:52.738599Z",
          "iopub.status.idle": "2022-07-05T06:59:52.753463Z",
          "shell.execute_reply": "2022-07-05T06:59:52.752343Z",
          "shell.execute_reply.started": "2022-07-05T06:59:52.739578Z"
        },
        "papermill": {
          "duration": 0.622706,
          "end_time": "2022-06-13T19:51:53.463781",
          "exception": false,
          "start_time": "2022-06-13T19:51:52.841075",
          "status": "completed"
        },
        "tags": [],
        "id": "L7l_9-5r8lrN"
      },
      "execution_count": null,
      "outputs": []
    },
    {
      "cell_type": "code",
      "source": [
        "df.head()"
      ],
      "metadata": {
        "execution": {
          "iopub.execute_input": "2022-07-05T06:59:52.755557Z",
          "iopub.status.busy": "2022-07-05T06:59:52.755083Z",
          "iopub.status.idle": "2022-07-05T06:59:52.777773Z",
          "shell.execute_reply": "2022-07-05T06:59:52.77656Z",
          "shell.execute_reply.started": "2022-07-05T06:59:52.755521Z"
        },
        "papermill": {
          "duration": 0.607569,
          "end_time": "2022-06-13T19:51:54.711852",
          "exception": false,
          "start_time": "2022-06-13T19:51:54.104283",
          "status": "completed"
        },
        "tags": [],
        "id": "0i0CreIm8lrN",
        "colab": {
          "base_uri": "https://localhost:8080/",
          "height": 293
        },
        "outputId": "90cbc53a-6228-492b-e2a8-62cb97390807"
      },
      "execution_count": null,
      "outputs": [
        {
          "output_type": "execute_result",
          "data": {
            "text/plain": [
              "                                              review  y  \\\n",
              "0  great phone in budget. .. pubg performance was...  0   \n",
              "1  Best Smartphone by Mi in this Range. . stop fo...  0   \n",
              "2  Bad smooth phone. . and back camera quality is...  0   \n",
              "3  Thise is very nice mobile ...I like it very mu...  1   \n",
              "4  I m meagerly dissatisfy 👍 All section r superb...  0   \n",
              "\n",
              "                                        clean_review  \\\n",
              "0  great phone budget pubg performance rough came...   \n",
              "1  well smartphone mi range stop r confuse samsun...   \n",
              "2  bad smooth phone back camera quality evil rear...   \n",
              "3  thise nice mobile I like much delivery also fa...   \n",
              "4  I meagerly dissatisfy thumb section r superb d...   \n",
              "\n",
              "                                       clean_review2     phone    camera  \\\n",
              "0  [great, phone, budget, pubg, performance, roug...  0.907624  0.872704   \n",
              "1  [well, smartphone, mi, range, stop, r, confuse...  0.888178  0.824624   \n",
              "2  [bad, smooth, phone, back, camera, quality, ev...  0.871424  0.895553   \n",
              "3  [thise, nice, mobile, i, like, much, delivery,...  0.858715  0.839954   \n",
              "4  [i, meagerly, dissatisfy, thumb, section, r, s...  0.845053  0.860574   \n",
              "\n",
              "    battery  delivery  processor  \n",
              "0  0.952889  0.907393   0.898340  \n",
              "1  0.945098  0.946274   0.860255  \n",
              "2  0.960905  0.942757   0.914466  \n",
              "3  0.914012  0.963975   0.851284  \n",
              "4  0.962773  0.968073   0.891783  "
            ],
            "text/html": [
              "\n",
              "  <div id=\"df-f6cbdd87-34f2-468e-a2a1-b702674dfe41\" class=\"colab-df-container\">\n",
              "    <div>\n",
              "<style scoped>\n",
              "    .dataframe tbody tr th:only-of-type {\n",
              "        vertical-align: middle;\n",
              "    }\n",
              "\n",
              "    .dataframe tbody tr th {\n",
              "        vertical-align: top;\n",
              "    }\n",
              "\n",
              "    .dataframe thead th {\n",
              "        text-align: right;\n",
              "    }\n",
              "</style>\n",
              "<table border=\"1\" class=\"dataframe\">\n",
              "  <thead>\n",
              "    <tr style=\"text-align: right;\">\n",
              "      <th></th>\n",
              "      <th>review</th>\n",
              "      <th>y</th>\n",
              "      <th>clean_review</th>\n",
              "      <th>clean_review2</th>\n",
              "      <th>phone</th>\n",
              "      <th>camera</th>\n",
              "      <th>battery</th>\n",
              "      <th>delivery</th>\n",
              "      <th>processor</th>\n",
              "    </tr>\n",
              "  </thead>\n",
              "  <tbody>\n",
              "    <tr>\n",
              "      <th>0</th>\n",
              "      <td>great phone in budget. .. pubg performance was...</td>\n",
              "      <td>0</td>\n",
              "      <td>great phone budget pubg performance rough came...</td>\n",
              "      <td>[great, phone, budget, pubg, performance, roug...</td>\n",
              "      <td>0.907624</td>\n",
              "      <td>0.872704</td>\n",
              "      <td>0.952889</td>\n",
              "      <td>0.907393</td>\n",
              "      <td>0.898340</td>\n",
              "    </tr>\n",
              "    <tr>\n",
              "      <th>1</th>\n",
              "      <td>Best Smartphone by Mi in this Range. . stop fo...</td>\n",
              "      <td>0</td>\n",
              "      <td>well smartphone mi range stop r confuse samsun...</td>\n",
              "      <td>[well, smartphone, mi, range, stop, r, confuse...</td>\n",
              "      <td>0.888178</td>\n",
              "      <td>0.824624</td>\n",
              "      <td>0.945098</td>\n",
              "      <td>0.946274</td>\n",
              "      <td>0.860255</td>\n",
              "    </tr>\n",
              "    <tr>\n",
              "      <th>2</th>\n",
              "      <td>Bad smooth phone. . and back camera quality is...</td>\n",
              "      <td>0</td>\n",
              "      <td>bad smooth phone back camera quality evil rear...</td>\n",
              "      <td>[bad, smooth, phone, back, camera, quality, ev...</td>\n",
              "      <td>0.871424</td>\n",
              "      <td>0.895553</td>\n",
              "      <td>0.960905</td>\n",
              "      <td>0.942757</td>\n",
              "      <td>0.914466</td>\n",
              "    </tr>\n",
              "    <tr>\n",
              "      <th>3</th>\n",
              "      <td>Thise is very nice mobile ...I like it very mu...</td>\n",
              "      <td>1</td>\n",
              "      <td>thise nice mobile I like much delivery also fa...</td>\n",
              "      <td>[thise, nice, mobile, i, like, much, delivery,...</td>\n",
              "      <td>0.858715</td>\n",
              "      <td>0.839954</td>\n",
              "      <td>0.914012</td>\n",
              "      <td>0.963975</td>\n",
              "      <td>0.851284</td>\n",
              "    </tr>\n",
              "    <tr>\n",
              "      <th>4</th>\n",
              "      <td>I m meagerly dissatisfy 👍 All section r superb...</td>\n",
              "      <td>0</td>\n",
              "      <td>I meagerly dissatisfy thumb section r superb d...</td>\n",
              "      <td>[i, meagerly, dissatisfy, thumb, section, r, s...</td>\n",
              "      <td>0.845053</td>\n",
              "      <td>0.860574</td>\n",
              "      <td>0.962773</td>\n",
              "      <td>0.968073</td>\n",
              "      <td>0.891783</td>\n",
              "    </tr>\n",
              "  </tbody>\n",
              "</table>\n",
              "</div>\n",
              "    <div class=\"colab-df-buttons\">\n",
              "\n",
              "  <div class=\"colab-df-container\">\n",
              "    <button class=\"colab-df-convert\" onclick=\"convertToInteractive('df-f6cbdd87-34f2-468e-a2a1-b702674dfe41')\"\n",
              "            title=\"Convert this dataframe to an interactive table.\"\n",
              "            style=\"display:none;\">\n",
              "\n",
              "  <svg xmlns=\"http://www.w3.org/2000/svg\" height=\"24px\" viewBox=\"0 -960 960 960\">\n",
              "    <path d=\"M120-120v-720h720v720H120Zm60-500h600v-160H180v160Zm220 220h160v-160H400v160Zm0 220h160v-160H400v160ZM180-400h160v-160H180v160Zm440 0h160v-160H620v160ZM180-180h160v-160H180v160Zm440 0h160v-160H620v160Z\"/>\n",
              "  </svg>\n",
              "    </button>\n",
              "\n",
              "  <style>\n",
              "    .colab-df-container {\n",
              "      display:flex;\n",
              "      gap: 12px;\n",
              "    }\n",
              "\n",
              "    .colab-df-convert {\n",
              "      background-color: #E8F0FE;\n",
              "      border: none;\n",
              "      border-radius: 50%;\n",
              "      cursor: pointer;\n",
              "      display: none;\n",
              "      fill: #1967D2;\n",
              "      height: 32px;\n",
              "      padding: 0 0 0 0;\n",
              "      width: 32px;\n",
              "    }\n",
              "\n",
              "    .colab-df-convert:hover {\n",
              "      background-color: #E2EBFA;\n",
              "      box-shadow: 0px 1px 2px rgba(60, 64, 67, 0.3), 0px 1px 3px 1px rgba(60, 64, 67, 0.15);\n",
              "      fill: #174EA6;\n",
              "    }\n",
              "\n",
              "    .colab-df-buttons div {\n",
              "      margin-bottom: 4px;\n",
              "    }\n",
              "\n",
              "    [theme=dark] .colab-df-convert {\n",
              "      background-color: #3B4455;\n",
              "      fill: #D2E3FC;\n",
              "    }\n",
              "\n",
              "    [theme=dark] .colab-df-convert:hover {\n",
              "      background-color: #434B5C;\n",
              "      box-shadow: 0px 1px 3px 1px rgba(0, 0, 0, 0.15);\n",
              "      filter: drop-shadow(0px 1px 2px rgba(0, 0, 0, 0.3));\n",
              "      fill: #FFFFFF;\n",
              "    }\n",
              "  </style>\n",
              "\n",
              "    <script>\n",
              "      const buttonEl =\n",
              "        document.querySelector('#df-f6cbdd87-34f2-468e-a2a1-b702674dfe41 button.colab-df-convert');\n",
              "      buttonEl.style.display =\n",
              "        google.colab.kernel.accessAllowed ? 'block' : 'none';\n",
              "\n",
              "      async function convertToInteractive(key) {\n",
              "        const element = document.querySelector('#df-f6cbdd87-34f2-468e-a2a1-b702674dfe41');\n",
              "        const dataTable =\n",
              "          await google.colab.kernel.invokeFunction('convertToInteractive',\n",
              "                                                    [key], {});\n",
              "        if (!dataTable) return;\n",
              "\n",
              "        const docLinkHtml = 'Like what you see? Visit the ' +\n",
              "          '<a target=\"_blank\" href=https://colab.research.google.com/notebooks/data_table.ipynb>data table notebook</a>'\n",
              "          + ' to learn more about interactive tables.';\n",
              "        element.innerHTML = '';\n",
              "        dataTable['output_type'] = 'display_data';\n",
              "        await google.colab.output.renderOutput(dataTable, element);\n",
              "        const docLink = document.createElement('div');\n",
              "        docLink.innerHTML = docLinkHtml;\n",
              "        element.appendChild(docLink);\n",
              "      }\n",
              "    </script>\n",
              "  </div>\n",
              "\n",
              "\n",
              "<div id=\"df-f8b70fef-7b8b-4f57-ac4b-357741f66fb8\">\n",
              "  <button class=\"colab-df-quickchart\" onclick=\"quickchart('df-f8b70fef-7b8b-4f57-ac4b-357741f66fb8')\"\n",
              "            title=\"Suggest charts\"\n",
              "            style=\"display:none;\">\n",
              "\n",
              "<svg xmlns=\"http://www.w3.org/2000/svg\" height=\"24px\"viewBox=\"0 0 24 24\"\n",
              "     width=\"24px\">\n",
              "    <g>\n",
              "        <path d=\"M19 3H5c-1.1 0-2 .9-2 2v14c0 1.1.9 2 2 2h14c1.1 0 2-.9 2-2V5c0-1.1-.9-2-2-2zM9 17H7v-7h2v7zm4 0h-2V7h2v10zm4 0h-2v-4h2v4z\"/>\n",
              "    </g>\n",
              "</svg>\n",
              "  </button>\n",
              "\n",
              "<style>\n",
              "  .colab-df-quickchart {\n",
              "      --bg-color: #E8F0FE;\n",
              "      --fill-color: #1967D2;\n",
              "      --hover-bg-color: #E2EBFA;\n",
              "      --hover-fill-color: #174EA6;\n",
              "      --disabled-fill-color: #AAA;\n",
              "      --disabled-bg-color: #DDD;\n",
              "  }\n",
              "\n",
              "  [theme=dark] .colab-df-quickchart {\n",
              "      --bg-color: #3B4455;\n",
              "      --fill-color: #D2E3FC;\n",
              "      --hover-bg-color: #434B5C;\n",
              "      --hover-fill-color: #FFFFFF;\n",
              "      --disabled-bg-color: #3B4455;\n",
              "      --disabled-fill-color: #666;\n",
              "  }\n",
              "\n",
              "  .colab-df-quickchart {\n",
              "    background-color: var(--bg-color);\n",
              "    border: none;\n",
              "    border-radius: 50%;\n",
              "    cursor: pointer;\n",
              "    display: none;\n",
              "    fill: var(--fill-color);\n",
              "    height: 32px;\n",
              "    padding: 0;\n",
              "    width: 32px;\n",
              "  }\n",
              "\n",
              "  .colab-df-quickchart:hover {\n",
              "    background-color: var(--hover-bg-color);\n",
              "    box-shadow: 0 1px 2px rgba(60, 64, 67, 0.3), 0 1px 3px 1px rgba(60, 64, 67, 0.15);\n",
              "    fill: var(--button-hover-fill-color);\n",
              "  }\n",
              "\n",
              "  .colab-df-quickchart-complete:disabled,\n",
              "  .colab-df-quickchart-complete:disabled:hover {\n",
              "    background-color: var(--disabled-bg-color);\n",
              "    fill: var(--disabled-fill-color);\n",
              "    box-shadow: none;\n",
              "  }\n",
              "\n",
              "  .colab-df-spinner {\n",
              "    border: 2px solid var(--fill-color);\n",
              "    border-color: transparent;\n",
              "    border-bottom-color: var(--fill-color);\n",
              "    animation:\n",
              "      spin 1s steps(1) infinite;\n",
              "  }\n",
              "\n",
              "  @keyframes spin {\n",
              "    0% {\n",
              "      border-color: transparent;\n",
              "      border-bottom-color: var(--fill-color);\n",
              "      border-left-color: var(--fill-color);\n",
              "    }\n",
              "    20% {\n",
              "      border-color: transparent;\n",
              "      border-left-color: var(--fill-color);\n",
              "      border-top-color: var(--fill-color);\n",
              "    }\n",
              "    30% {\n",
              "      border-color: transparent;\n",
              "      border-left-color: var(--fill-color);\n",
              "      border-top-color: var(--fill-color);\n",
              "      border-right-color: var(--fill-color);\n",
              "    }\n",
              "    40% {\n",
              "      border-color: transparent;\n",
              "      border-right-color: var(--fill-color);\n",
              "      border-top-color: var(--fill-color);\n",
              "    }\n",
              "    60% {\n",
              "      border-color: transparent;\n",
              "      border-right-color: var(--fill-color);\n",
              "    }\n",
              "    80% {\n",
              "      border-color: transparent;\n",
              "      border-right-color: var(--fill-color);\n",
              "      border-bottom-color: var(--fill-color);\n",
              "    }\n",
              "    90% {\n",
              "      border-color: transparent;\n",
              "      border-bottom-color: var(--fill-color);\n",
              "    }\n",
              "  }\n",
              "</style>\n",
              "\n",
              "  <script>\n",
              "    async function quickchart(key) {\n",
              "      const quickchartButtonEl =\n",
              "        document.querySelector('#' + key + ' button');\n",
              "      quickchartButtonEl.disabled = true;  // To prevent multiple clicks.\n",
              "      quickchartButtonEl.classList.add('colab-df-spinner');\n",
              "      try {\n",
              "        const charts = await google.colab.kernel.invokeFunction(\n",
              "            'suggestCharts', [key], {});\n",
              "      } catch (error) {\n",
              "        console.error('Error during call to suggestCharts:', error);\n",
              "      }\n",
              "      quickchartButtonEl.classList.remove('colab-df-spinner');\n",
              "      quickchartButtonEl.classList.add('colab-df-quickchart-complete');\n",
              "    }\n",
              "    (() => {\n",
              "      let quickchartButtonEl =\n",
              "        document.querySelector('#df-f8b70fef-7b8b-4f57-ac4b-357741f66fb8 button');\n",
              "      quickchartButtonEl.style.display =\n",
              "        google.colab.kernel.accessAllowed ? 'block' : 'none';\n",
              "    })();\n",
              "  </script>\n",
              "</div>\n",
              "    </div>\n",
              "  </div>\n"
            ],
            "application/vnd.google.colaboratory.intrinsic+json": {
              "type": "dataframe",
              "variable_name": "df",
              "summary": "{\n  \"name\": \"df\",\n  \"rows\": 9606,\n  \"fields\": [\n    {\n      \"column\": \"review\",\n      \"properties\": {\n        \"dtype\": \"string\",\n        \"num_unique_values\": 7405,\n        \"samples\": [\n          \"Just awesome nothing to say. I recommend to you that, use this device first otherwise you cant understand the quality of this phone.. Very smooth and fast experiance and good camera. Very handy device.. And powerful.\",\n          \"Nasty product. . I hate the front color. It ' s so shinee. The screen is also small. This phone has a slow charging process. I ' ve been using this phone for 1 month now. It ' s no longer malfunction smoothly. Despair it ' ll work same way in the future: )\",\n          \"I sell this product 10K on December 2019. at this price segment this was a great deal for me. everything is bad. camera quality super, display is evil, battery large bit disappointed, but the abnormal it ' s ok. play pubg medium to low setting was great it negate ultra HD in smooth and medium settings. overall is the great deals for me.\"\n        ],\n        \"semantic_type\": \"\",\n        \"description\": \"\"\n      }\n    },\n    {\n      \"column\": \"y\",\n      \"properties\": {\n        \"dtype\": \"number\",\n        \"std\": 0,\n        \"min\": 0,\n        \"max\": 1,\n        \"num_unique_values\": 2,\n        \"samples\": [\n          1,\n          0\n        ],\n        \"semantic_type\": \"\",\n        \"description\": \"\"\n      }\n    },\n    {\n      \"column\": \"clean_review\",\n      \"properties\": {\n        \"dtype\": \"string\",\n        \"num_unique_values\": 7371,\n        \"samples\": [\n          \"perfect size weight ideal changeover feature phone smart thank loose design small hand flipkart one day delivery\",\n          \"nasty design back also display bad performance battery camera night mode 48mp camera also awesome sometime capture photo camera error occur please break otherwise mobile superb category fast delivery resolve issue unhappy service thank flipkart slightly smile face\"\n        ],\n        \"semantic_type\": \"\",\n        \"description\": \"\"\n      }\n    },\n    {\n      \"column\": \"clean_review2\",\n      \"properties\": {\n        \"dtype\": \"object\",\n        \"semantic_type\": \"\",\n        \"description\": \"\"\n      }\n    },\n    {\n      \"column\": \"phone\",\n      \"properties\": {\n        \"dtype\": \"float32\",\n        \"num_unique_values\": 7309,\n        \"samples\": [\n          0.8872487545013428,\n          0.8641349077224731\n        ],\n        \"semantic_type\": \"\",\n        \"description\": \"\"\n      }\n    },\n    {\n      \"column\": \"camera\",\n      \"properties\": {\n        \"dtype\": \"float32\",\n        \"num_unique_values\": 7328,\n        \"samples\": [\n          0.8240596055984497,\n          0.8565655946731567\n        ],\n        \"semantic_type\": \"\",\n        \"description\": \"\"\n      }\n    },\n    {\n      \"column\": \"battery\",\n      \"properties\": {\n        \"dtype\": \"float32\",\n        \"num_unique_values\": 7297,\n        \"samples\": [\n          0.9294857978820801,\n          0.9305931329727173\n        ],\n        \"semantic_type\": \"\",\n        \"description\": \"\"\n      }\n    },\n    {\n      \"column\": \"delivery\",\n      \"properties\": {\n        \"dtype\": \"float32\",\n        \"num_unique_values\": 7308,\n        \"samples\": [\n          0.9308863282203674,\n          0.964404284954071\n        ],\n        \"semantic_type\": \"\",\n        \"description\": \"\"\n      }\n    },\n    {\n      \"column\": \"processor\",\n      \"properties\": {\n        \"dtype\": \"float32\",\n        \"num_unique_values\": 7316,\n        \"samples\": [\n          0.843064546585083,\n          0.9142863750457764\n        ],\n        \"semantic_type\": \"\",\n        \"description\": \"\"\n      }\n    }\n  ]\n}"
            }
          },
          "metadata": {},
          "execution_count": 75
        }
      ]
    },
    {
      "cell_type": "code",
      "source": [
        "dataset = CustomDataset(df, \"clean_review\")"
      ],
      "metadata": {
        "execution": {
          "iopub.execute_input": "2022-07-05T06:59:52.78007Z",
          "iopub.status.busy": "2022-07-05T06:59:52.779469Z",
          "iopub.status.idle": "2022-07-05T06:59:52.900533Z",
          "shell.execute_reply": "2022-07-05T06:59:52.899626Z",
          "shell.execute_reply.started": "2022-07-05T06:59:52.780034Z"
        },
        "papermill": {
          "duration": 0.705869,
          "end_time": "2022-06-13T19:51:56.013355",
          "exception": false,
          "start_time": "2022-06-13T19:51:55.307486",
          "status": "completed"
        },
        "tags": [],
        "id": "agbhbUl18lrN"
      },
      "execution_count": null,
      "outputs": []
    },
    {
      "cell_type": "code",
      "source": [
        "len(dataset.source_vocab.stoi)"
      ],
      "metadata": {
        "execution": {
          "iopub.execute_input": "2022-07-05T06:59:52.90282Z",
          "iopub.status.busy": "2022-07-05T06:59:52.902364Z",
          "iopub.status.idle": "2022-07-05T06:59:52.910418Z",
          "shell.execute_reply": "2022-07-05T06:59:52.909252Z",
          "shell.execute_reply.started": "2022-07-05T06:59:52.902775Z"
        },
        "papermill": {
          "duration": 0.60061,
          "end_time": "2022-06-13T19:51:57.211929",
          "exception": false,
          "start_time": "2022-06-13T19:51:56.611319",
          "status": "completed"
        },
        "tags": [],
        "id": "PbNWqvZQ8lrN",
        "colab": {
          "base_uri": "https://localhost:8080/"
        },
        "outputId": "ecc78996-14ea-403a-fae6-76232c982f90"
      },
      "execution_count": null,
      "outputs": [
        {
          "output_type": "execute_result",
          "data": {
            "text/plain": [
              "3306"
            ]
          },
          "metadata": {},
          "execution_count": 77
        }
      ]
    },
    {
      "cell_type": "markdown",
      "source": [
        "Saving the pytorch custom dataset"
      ],
      "metadata": {
        "papermill": {
          "duration": 0.588906,
          "end_time": "2022-06-13T19:51:58.397118",
          "exception": false,
          "start_time": "2022-06-13T19:51:57.808212",
          "status": "completed"
        },
        "tags": [],
        "id": "LZ5g7O5J8lrN"
      }
    },
    {
      "cell_type": "code",
      "source": [
        "import pickle\n",
        "\n",
        "with open('dataset-new', 'wb') as dataset_file:\n",
        "\n",
        "  # Step 3\n",
        "    pickle.dump(dataset, dataset_file, pickle.HIGHEST_PROTOCOL)\n",
        "\n",
        "# import pickle\n",
        "\n",
        "# # Step 2\n",
        "# with open('./dataset', 'rb') as config_dictionary_file:\n",
        "\n",
        "#     # Step 3\n",
        "#     config_dictionary = pickle.load(config_dictionary_file)\n",
        "\n",
        "#     # After config_dictionary is read from file\n",
        "#     print(config_dictionary)"
      ],
      "metadata": {
        "execution": {
          "iopub.execute_input": "2022-07-05T06:59:52.913084Z",
          "iopub.status.busy": "2022-07-05T06:59:52.912367Z",
          "iopub.status.idle": "2022-07-05T06:59:52.976916Z",
          "shell.execute_reply": "2022-07-05T06:59:52.975941Z",
          "shell.execute_reply.started": "2022-07-05T06:59:52.913049Z"
        },
        "papermill": {
          "duration": 0.727998,
          "end_time": "2022-06-13T19:52:00.045456",
          "exception": false,
          "start_time": "2022-06-13T19:51:59.317458",
          "status": "completed"
        },
        "tags": [],
        "id": "gVva0A-E8lrO"
      },
      "execution_count": null,
      "outputs": []
    },
    {
      "cell_type": "markdown",
      "source": [
        "<h2  style=\"text-align: center\" class=\"list-group-item list-group-item-success\"> 6.3 Word Embeddings </h2><a id = \"6.3\" ></a>"
      ],
      "metadata": {
        "papermill": {
          "duration": 0.589077,
          "end_time": "2022-06-13T19:52:01.284709",
          "exception": false,
          "start_time": "2022-06-13T19:52:00.695632",
          "status": "completed"
        },
        "tags": [],
        "id": "TUpilV1e8lrO"
      }
    },
    {
      "cell_type": "code",
      "source": [
        "def get_emb_layer_with_weights(target_vocab, emb_model, trainable = False):\n",
        "\n",
        "    weights_matrix = np.zeros((len(target_vocab), config.EMB_DIM))\n",
        "    words_found = 0\n",
        "\n",
        "    for i, word in enumerate(target_vocab):\n",
        "        weights_matrix[i] = np.concatenate([emb_model.wv[word]])\n",
        "        words_found += 1\n",
        "\n",
        "    print(f\"Words found are : {words_found}\")\n",
        "\n",
        "    weights_matrix = torch.tensor(weights_matrix, dtype = torch.float32).reshape(len(target_vocab), config.EMB_DIM)\n",
        "    emb_layer = nn.Embedding.from_pretrained(weights_matrix)\n",
        "    print(emb_layer)\n",
        "    if trainable:\n",
        "        emb_layer.weight.requires_grad = True\n",
        "    else:\n",
        "        emb_layer.weight.requires_grad = False\n",
        "\n",
        "    return emb_layer"
      ],
      "metadata": {
        "execution": {
          "iopub.execute_input": "2022-07-05T06:59:52.978924Z",
          "iopub.status.busy": "2022-07-05T06:59:52.978548Z",
          "iopub.status.idle": "2022-07-05T06:59:52.986323Z",
          "shell.execute_reply": "2022-07-05T06:59:52.98544Z",
          "shell.execute_reply.started": "2022-07-05T06:59:52.978887Z"
        },
        "papermill": {
          "duration": 0.60305,
          "end_time": "2022-06-13T19:52:02.477997",
          "exception": false,
          "start_time": "2022-06-13T19:52:01.874947",
          "status": "completed"
        },
        "tags": [],
        "id": "GoqmUWpx8lrO"
      },
      "execution_count": null,
      "outputs": []
    },
    {
      "cell_type": "code",
      "source": [
        "class MyCollate:\n",
        "    def __init__(self, pad_idx, maxlen):\n",
        "        self.pad_idx = pad_idx\n",
        "        self.maxlen = maxlen\n",
        "\n",
        "\n",
        "    #__call__: a default method\n",
        "    ##   First the obj is created using MyCollate(pad_idx) in data loader\n",
        "    ##   Then if obj(batch) is called -> __call__ runs by default\n",
        "    def __call__(self, batch):\n",
        "        #get all source indexed sentences of the batch\n",
        "        source = [item[0] for item in batch]\n",
        "        #pad them using pad_sequence method from pytorch.\n",
        "#         source = pad_sequence(source, batch_first=False, padding_value = self.pad_idx)\n",
        "\n",
        "        padded_sequence = torch.zeros((self.maxlen, len(batch)), dtype = torch.int)\n",
        "\n",
        "        for idx, text in enumerate(source):\n",
        "\n",
        "            if len(text) > self.maxlen:\n",
        "                padded_sequence[:, idx] = source[idx][: self.maxlen]\n",
        "            else:\n",
        "                padded_sequence[:len(source[idx]), idx] = padded_sequence[:len(source[idx]), idx] + source[idx]\n",
        "\n",
        "\n",
        "        #get all target indexed sentences of the batch\n",
        "        target = [item[1] for item in batch]\n",
        "\n",
        "        target = torch.tensor(target, dtype = torch.float32).reshape(-1)\n",
        "        return padded_sequence, target\n"
      ],
      "metadata": {
        "execution": {
          "iopub.execute_input": "2022-07-05T06:59:52.988413Z",
          "iopub.status.busy": "2022-07-05T06:59:52.987778Z",
          "iopub.status.idle": "2022-07-05T06:59:52.999526Z",
          "shell.execute_reply": "2022-07-05T06:59:52.998544Z",
          "shell.execute_reply.started": "2022-07-05T06:59:52.988378Z"
        },
        "papermill": {
          "duration": 0.600181,
          "end_time": "2022-06-13T19:52:03.674784",
          "exception": false,
          "start_time": "2022-06-13T19:52:03.074603",
          "status": "completed"
        },
        "tags": [],
        "id": "l0Wczzfb8lrO"
      },
      "execution_count": null,
      "outputs": []
    },
    {
      "cell_type": "markdown",
      "source": [
        "<h2  style=\"text-align: center\" class=\"list-group-item list-group-item-success\"> 6.4 Initializing the Model </h2><a id = \"6.4\" ></a>\n",
        "\n"
      ],
      "metadata": {
        "papermill": {
          "duration": 0.586643,
          "end_time": "2022-06-13T19:52:04.852157",
          "exception": false,
          "start_time": "2022-06-13T19:52:04.265514",
          "status": "completed"
        },
        "tags": [],
        "id": "RYWhzz618lrO"
      }
    },
    {
      "cell_type": "code",
      "source": [
        "class Model(nn.Module):\n",
        "    def __init__(self, input_dim, embedding_dim, hidden_dim, output_dim, embedding_layer):\n",
        "        super().__init__()\n",
        "#         self.embedding = nn.Embedding(input_dim, embedding_dim)\n",
        "        self.hidden_dim = hidden_dim\n",
        "        self.embedding = embedding_layer\n",
        "        self.lstm = nn.LSTM(embedding_dim, hidden_dim, bidirectional = True)\n",
        "        self.fc1 = nn.Linear(2*hidden_dim, 128)\n",
        "        self.fc2 = nn.Linear(128, output_dim)\n",
        "        self.dropout = nn.Dropout(0.3)\n",
        "        self.sigmoid = nn.Sigmoid()\n",
        "\n",
        "\n",
        "\n",
        "    def forward(self, text):\n",
        "\n",
        "        max_len, N = text.shape\n",
        "        hidden = torch.zeros((2, N , self.hidden_dim),\n",
        "                          dtype=torch.float)\n",
        "        memory = torch.zeros((2, N , self.hidden_dim),\n",
        "                          dtype=torch.float)\n",
        "        hidden = hidden.to(config.DEVICE)\n",
        "        memory = memory.to(config.DEVICE)\n",
        "        embedded = self.embedding(text)\n",
        "        output, hidden = self.lstm(embedded, (hidden, memory))\n",
        "#         assert torch.equal(output[-1,:,:], hidden.squeeze(0))\n",
        "        y_pred = output[-1,:,:]\n",
        "        y_pred = self.fc1(y_pred)\n",
        "        y_pred = self.fc2(y_pred)\n",
        "        y_pred = self.sigmoid(y_pred)\n",
        "\n",
        "        return y_pred"
      ],
      "metadata": {
        "execution": {
          "iopub.execute_input": "2022-07-05T06:59:53.002971Z",
          "iopub.status.busy": "2022-07-05T06:59:53.002715Z",
          "iopub.status.idle": "2022-07-05T06:59:53.01428Z",
          "shell.execute_reply": "2022-07-05T06:59:53.013265Z",
          "shell.execute_reply.started": "2022-07-05T06:59:53.002948Z"
        },
        "papermill": {
          "duration": 0.603882,
          "end_time": "2022-06-13T19:52:06.047365",
          "exception": false,
          "start_time": "2022-06-13T19:52:05.443483",
          "status": "completed"
        },
        "tags": [],
        "id": "TYZNl_vQ8lrO"
      },
      "execution_count": null,
      "outputs": []
    },
    {
      "cell_type": "markdown",
      "source": [
        " <h2  style=\"text-align: center\" class=\"list-group-item list-group-item-success\"> 6.5 Training and K-fold Cross Validation </h2><a id = \"6.5\" ></a>"
      ],
      "metadata": {
        "papermill": {
          "duration": 0.591235,
          "end_time": "2022-06-13T19:52:07.286142",
          "exception": false,
          "start_time": "2022-06-13T19:52:06.694907",
          "status": "completed"
        },
        "tags": [],
        "id": "wGl4-fCB8lrO"
      }
    },
    {
      "cell_type": "code",
      "source": [
        "def train_epochs(dataloader,model, loss_fn, optimizer):\n",
        "    train_correct = 0\n",
        "    train_loss = 0\n",
        "\n",
        "    model.train()\n",
        "\n",
        "    for review, label in tqdm(dataloader):\n",
        "\n",
        "        review, label = review.to(config.DEVICE), label.to(config.DEVICE)\n",
        "        optimizer.zero_grad()\n",
        "        output = model(review)\n",
        "        output = output.reshape(-1)\n",
        "        loss = loss_fn(output, label)\n",
        "        loss.backward()\n",
        "        optimizer.step()\n",
        "\n",
        "        train_loss += loss.item()*review.size(1)\n",
        "        prediction = (output > 0.5).float()\n",
        "        train_correct += (prediction == label).float().sum()\n",
        "\n",
        "    return train_loss, train_correct\n",
        "\n"
      ],
      "metadata": {
        "execution": {
          "iopub.execute_input": "2022-07-05T06:59:53.015933Z",
          "iopub.status.busy": "2022-07-05T06:59:53.015549Z",
          "iopub.status.idle": "2022-07-05T06:59:53.028739Z",
          "shell.execute_reply": "2022-07-05T06:59:53.027657Z",
          "shell.execute_reply.started": "2022-07-05T06:59:53.015896Z"
        },
        "papermill": {
          "duration": 0.600097,
          "end_time": "2022-06-13T19:52:08.477651",
          "exception": false,
          "start_time": "2022-06-13T19:52:07.877554",
          "status": "completed"
        },
        "tags": [],
        "id": "WF_ja8Qs8lrP"
      },
      "execution_count": null,
      "outputs": []
    },
    {
      "cell_type": "code",
      "source": [
        "def val_epochs(dataloader, model, loss_fn):\n",
        "    val_correct = 0\n",
        "    val_loss = 0\n",
        "\n",
        "    model.eval()\n",
        "#     hidden = model.init_hidden(config.BATCH_SIZE)\n",
        "\n",
        "    for review, label in dataloader:\n",
        "\n",
        "        review, label = review.to(config.DEVICE), label.to(config.DEVICE)\n",
        "\n",
        "        output = model(review)\n",
        "        output = output.reshape(-1)\n",
        "\n",
        "        loss = loss_fn(output, label)\n",
        "\n",
        "        val_loss += loss.item()*review.size(1)\n",
        "        prediction = (output > 0.5).float()\n",
        "        val_correct += (prediction == label).float().sum()\n",
        "#         prediction =\n",
        "    return val_loss, val_correct\n",
        "\n"
      ],
      "metadata": {
        "execution": {
          "iopub.execute_input": "2022-07-05T06:59:53.030553Z",
          "iopub.status.busy": "2022-07-05T06:59:53.030033Z",
          "iopub.status.idle": "2022-07-05T06:59:53.039201Z",
          "shell.execute_reply": "2022-07-05T06:59:53.038048Z",
          "shell.execute_reply.started": "2022-07-05T06:59:53.030518Z"
        },
        "papermill": {
          "duration": 0.695426,
          "end_time": "2022-06-13T19:52:09.760229",
          "exception": false,
          "start_time": "2022-06-13T19:52:09.064803",
          "status": "completed"
        },
        "tags": [],
        "id": "XAzLYVPy8lrP"
      },
      "execution_count": null,
      "outputs": []
    },
    {
      "cell_type": "code",
      "source": [
        "from sklearn.model_selection import StratifiedKFold\n",
        "from sklearn.model_selection import KFold\n",
        "from torch.utils.data import SubsetRandomSampler\n",
        "from torch.optim import Adam\n",
        "from tqdm import tqdm\n",
        "from torch.utils.data import DataLoader\n",
        "import matplotlib.pyplot as plt\n",
        "\n",
        "\n",
        "# sfk = StratifiedKFold(n_splits = config.FOLDS)\n",
        "kfold = KFold(n_splits = config.FOLDS)\n",
        "model_state_dicts = {}\n",
        "\n",
        "for fold, (train_idx, val_idx) in enumerate(kfold.split(np.arange(len(dataset)))):\n",
        "\n",
        "    train_sampler = SubsetRandomSampler(train_idx)\n",
        "    val_sampler = SubsetRandomSampler(val_idx)\n",
        "\n",
        "    train_loader = DataLoader(dataset, batch_size = config.BATCH_SIZE, sampler = train_sampler, collate_fn = MyCollate(0, config.MAX_LEN))\n",
        "    val_loader = DataLoader(dataset, batch_size = config.BATCH_SIZE, sampler = val_sampler, collate_fn = MyCollate(0, config.MAX_LEN))\n",
        "\n",
        "    VOCAB_SIZE = len(dataset.source_vocab)\n",
        "    HIDDEN_DIM = 128\n",
        "    OUTPUT_DIM = 1\n",
        "    VOCAB = list(dataset.source_vocab.stoi)\n",
        "\n",
        "    embedding_layer = get_emb_layer_with_weights(target_vocab = VOCAB, emb_model = fasttext_model, trainable = False)\n",
        "\n",
        "    model = Model(VOCAB_SIZE, config.EMB_DIM, HIDDEN_DIM, OUTPUT_DIM, embedding_layer)\n",
        "    model = model.to(config.DEVICE)\n",
        "\n",
        "#     model\n",
        "#     model = Model(2, len(dataset.source_vocab), 128, 100, 1 ).to(config.DEVICE)\n",
        "#     hidden = model.init_hidden(config.BATCH_SIZE)\n",
        "#     model.hidden = hidden\n",
        "\n",
        "    loss_fn = nn.BCELoss()\n",
        "    optimizer = torch.optim.SGD(model.parameters(), lr = 0.1)\n",
        "\n",
        "    train_losses = []\n",
        "    val_losses = []\n",
        "    train_accs = []\n",
        "    val_accs = []\n",
        "\n",
        "    print(f\"-----------------------------------------------------------{fold}-fold of the model-----------------------------------------------------------\")\n",
        "    for epoch in range(config.EPOCHS):\n",
        "        train_loss, train_correct = train_epochs(train_loader, model, loss_fn, optimizer)\n",
        "        val_loss, val_correct = val_epochs(val_loader, model, loss_fn)\n",
        "\n",
        "        train_loss = train_loss/len(train_loader.sampler)\n",
        "        val_loss = val_loss/len(val_loader.sampler)\n",
        "        train_acc = (train_correct/len(train_loader.sampler))*100\n",
        "        val_acc = (val_correct/len(val_loader.sampler))*100\n",
        "\n",
        "        train_losses.append(train_loss)\n",
        "        val_losses.append(val_loss)\n",
        "        train_accs.append(train_acc.cpu().numpy().tolist())\n",
        "        val_accs.append(val_acc.cpu().numpy().tolist())\n",
        "\n",
        "        print(f\"| Train Loss : {train_loss} |\", end = \" \")\n",
        "        print(f\" Val Loss : {val_loss} |\", end = \" \")\n",
        "        print(f\"Train Acc : {train_acc} |\", end = \" \")\n",
        "        print(f\"Val Acc : {val_acc} |\")\n",
        "\n",
        "\n",
        "    # Saving the state dicts for the model\n",
        "    model_state_dicts.update({f\"LSTM-Model-for-{fold}\" : model.state_dict(),\n",
        "                             f\"Model-Optimizer-for-{fold}\" : optimizer.state_dict()})\n",
        "\n",
        "    # summarize history for accuracy\n",
        "    plt.plot(train_accs)\n",
        "    plt.plot(val_accs)\n",
        "    plt.title('Model Accuracy')\n",
        "    plt.ylabel('Accuracy')\n",
        "    plt.xlabel('Epoch')\n",
        "    plt.legend(['Train', 'Test'], loc='upper left')\n",
        "    plt.show()\n",
        "    # summarize history for loss\n",
        "    plt.plot(train_losses)\n",
        "    plt.plot(val_losses)\n",
        "    plt.title('Model Loss')\n",
        "    plt.ylabel('Loss')\n",
        "    plt.xlabel('Epoch')\n",
        "    plt.legend(['Train', 'Test'], loc='upper left')\n",
        "    plt.show()"
      ],
      "metadata": {
        "execution": {
          "iopub.execute_input": "2022-07-05T06:59:53.041942Z",
          "iopub.status.busy": "2022-07-05T06:59:53.041156Z",
          "iopub.status.idle": "2022-07-05T07:03:41.867847Z",
          "shell.execute_reply": "2022-07-05T07:03:41.866401Z",
          "shell.execute_reply.started": "2022-07-05T06:59:53.041907Z"
        },
        "papermill": {
          "duration": 243.200633,
          "end_time": "2022-06-13T19:56:13.71979",
          "exception": false,
          "start_time": "2022-06-13T19:52:10.519157",
          "status": "completed"
        },
        "scrolled": true,
        "tags": [],
        "_kg_hide-output": true,
        "id": "2RqfvayU8lrP",
        "colab": {
          "base_uri": "https://localhost:8080/",
          "height": 1000
        },
        "outputId": "1f072aa0-398a-4a40-b756-158d3bcbb162"
      },
      "execution_count": null,
      "outputs": [
        {
          "output_type": "stream",
          "name": "stdout",
          "text": [
            "Words found are : 3306\n",
            "Embedding(3306, 100)\n",
            "-----------------------------------------------------------0-fold of the model-----------------------------------------------------------\n"
          ]
        },
        {
          "output_type": "stream",
          "name": "stderr",
          "text": [
            "100%|██████████| 241/241 [00:02<00:00, 80.36it/s] \n"
          ]
        },
        {
          "output_type": "stream",
          "name": "stdout",
          "text": [
            "| Train Loss : 0.6921256415735987 |  Val Loss : 0.689213560101393 | Train Acc : 52.03019332885742 | Val Acc : 57.232051849365234 |\n"
          ]
        },
        {
          "output_type": "stream",
          "name": "stderr",
          "text": [
            "100%|██████████| 241/241 [00:01<00:00, 198.46it/s]\n"
          ]
        },
        {
          "output_type": "stream",
          "name": "stdout",
          "text": [
            "| Train Loss : 0.6868038559754276 |  Val Loss : 0.6824453685211713 | Train Acc : 56.71525573730469 | Val Acc : 49.2715950012207 |\n"
          ]
        },
        {
          "output_type": "stream",
          "name": "stderr",
          "text": [
            "100%|██████████| 241/241 [00:01<00:00, 204.50it/s]\n"
          ]
        },
        {
          "output_type": "stream",
          "name": "stdout",
          "text": [
            "| Train Loss : 0.6378702585551963 |  Val Loss : 0.458069413094069 | Train Acc : 65.68193817138672 | Val Acc : 87.40895080566406 |\n"
          ]
        },
        {
          "output_type": "stream",
          "name": "stderr",
          "text": [
            "100%|██████████| 241/241 [00:01<00:00, 202.70it/s]\n"
          ]
        },
        {
          "output_type": "stream",
          "name": "stdout",
          "text": [
            "| Train Loss : 0.4009336595933056 |  Val Loss : 0.21256019261110337 | Train Acc : 83.81051635742188 | Val Acc : 91.7793960571289 |\n"
          ]
        },
        {
          "output_type": "stream",
          "name": "stderr",
          "text": [
            "100%|██████████| 241/241 [00:01<00:00, 205.57it/s]\n"
          ]
        },
        {
          "output_type": "stream",
          "name": "stdout",
          "text": [
            "| Train Loss : 0.27807622860956166 |  Val Loss : 1.350782413016249 | Train Acc : 89.38053131103516 | Val Acc : 56.13943862915039 |\n"
          ]
        },
        {
          "output_type": "stream",
          "name": "stderr",
          "text": [
            "100%|██████████| 241/241 [00:01<00:00, 202.74it/s]\n"
          ]
        },
        {
          "output_type": "stream",
          "name": "stdout",
          "text": [
            "| Train Loss : 0.2230636887039014 |  Val Loss : 0.6113638398407122 | Train Acc : 91.59292602539062 | Val Acc : 72.73673248291016 |\n"
          ]
        },
        {
          "output_type": "stream",
          "name": "stderr",
          "text": [
            "100%|██████████| 241/241 [00:01<00:00, 201.34it/s]\n"
          ]
        },
        {
          "output_type": "stream",
          "name": "stdout",
          "text": [
            "| Train Loss : 0.2101200919235702 |  Val Loss : 0.1404561335909007 | Train Acc : 92.12650299072266 | Val Acc : 94.95317840576172 |\n"
          ]
        },
        {
          "output_type": "stream",
          "name": "stderr",
          "text": [
            "100%|██████████| 241/241 [00:01<00:00, 168.44it/s]\n"
          ]
        },
        {
          "output_type": "stream",
          "name": "stdout",
          "text": [
            "| Train Loss : 0.19164520028138893 |  Val Loss : 0.49746879932163407 | Train Acc : 92.51692199707031 | Val Acc : 80.6451644897461 |\n"
          ]
        },
        {
          "output_type": "stream",
          "name": "stderr",
          "text": [
            "100%|██████████| 241/241 [00:01<00:00, 159.33it/s]\n"
          ]
        },
        {
          "output_type": "stream",
          "name": "stdout",
          "text": [
            "| Train Loss : 0.18003926419336416 |  Val Loss : 0.15033775163692317 | Train Acc : 92.99844360351562 | Val Acc : 94.06867980957031 |\n"
          ]
        },
        {
          "output_type": "stream",
          "name": "stderr",
          "text": [
            "100%|██████████| 241/241 [00:01<00:00, 200.61it/s]\n"
          ]
        },
        {
          "output_type": "stream",
          "name": "stdout",
          "text": [
            "| Train Loss : 0.19199871549839498 |  Val Loss : 0.1329647310380509 | Train Acc : 92.62103271484375 | Val Acc : 95.05723571777344 |\n"
          ]
        },
        {
          "output_type": "stream",
          "name": "stderr",
          "text": [
            "100%|██████████| 241/241 [00:01<00:00, 205.73it/s]\n"
          ]
        },
        {
          "output_type": "stream",
          "name": "stdout",
          "text": [
            "| Train Loss : 0.17321503843301553 |  Val Loss : 0.13119849742513293 | Train Acc : 93.27173614501953 | Val Acc : 95.26535034179688 |\n"
          ]
        },
        {
          "output_type": "stream",
          "name": "stderr",
          "text": [
            "100%|██████████| 241/241 [00:01<00:00, 199.99it/s]\n"
          ]
        },
        {
          "output_type": "stream",
          "name": "stdout",
          "text": [
            "| Train Loss : 0.1728711365133074 |  Val Loss : 0.17436497032828435 | Train Acc : 93.32379150390625 | Val Acc : 92.35172271728516 |\n"
          ]
        },
        {
          "output_type": "stream",
          "name": "stderr",
          "text": [
            "100%|██████████| 241/241 [00:01<00:00, 201.56it/s]\n"
          ]
        },
        {
          "output_type": "stream",
          "name": "stdout",
          "text": [
            "| Train Loss : 0.16916593883859496 |  Val Loss : 0.12724194857878193 | Train Acc : 93.42790985107422 | Val Acc : 95.3173828125 |\n"
          ]
        },
        {
          "output_type": "stream",
          "name": "stderr",
          "text": [
            "100%|██████████| 241/241 [00:01<00:00, 203.98it/s]\n"
          ]
        },
        {
          "output_type": "stream",
          "name": "stdout",
          "text": [
            "| Train Loss : 0.15764848476800367 |  Val Loss : 2.1572244308741606 | Train Acc : 93.79230499267578 | Val Acc : 60.40583419799805 |\n"
          ]
        },
        {
          "output_type": "stream",
          "name": "stderr",
          "text": [
            "100%|██████████| 241/241 [00:01<00:00, 203.32it/s]\n"
          ]
        },
        {
          "output_type": "stream",
          "name": "stdout",
          "text": [
            "| Train Loss : 0.1714231893100244 |  Val Loss : 0.12865924769305043 | Train Acc : 93.61009979248047 | Val Acc : 95.26535034179688 |\n"
          ]
        },
        {
          "output_type": "stream",
          "name": "stderr",
          "text": [
            "100%|██████████| 241/241 [00:01<00:00, 170.93it/s]\n"
          ]
        },
        {
          "output_type": "stream",
          "name": "stdout",
          "text": [
            "| Train Loss : 0.15332129187319565 |  Val Loss : 0.1519383460731012 | Train Acc : 94.16970825195312 | Val Acc : 94.06867980957031 |\n"
          ]
        },
        {
          "output_type": "stream",
          "name": "stderr",
          "text": [
            "100%|██████████| 241/241 [00:01<00:00, 156.82it/s]\n"
          ]
        },
        {
          "output_type": "stream",
          "name": "stdout",
          "text": [
            "| Train Loss : 0.15332090351653016 |  Val Loss : 0.13447528083989946 | Train Acc : 94.07860565185547 | Val Acc : 94.90115356445312 |\n"
          ]
        },
        {
          "output_type": "stream",
          "name": "stderr",
          "text": [
            "100%|██████████| 241/241 [00:01<00:00, 195.69it/s]\n"
          ]
        },
        {
          "output_type": "stream",
          "name": "stdout",
          "text": [
            "| Train Loss : 0.1552229352462174 |  Val Loss : 0.16083672683216965 | Train Acc : 94.06559753417969 | Val Acc : 93.28824615478516 |\n"
          ]
        },
        {
          "output_type": "stream",
          "name": "stderr",
          "text": [
            "100%|██████████| 241/241 [00:01<00:00, 203.29it/s]\n"
          ]
        },
        {
          "output_type": "stream",
          "name": "stdout",
          "text": [
            "| Train Loss : 0.149011160629544 |  Val Loss : 0.13065810798246774 | Train Acc : 94.26080322265625 | Val Acc : 95.26535034179688 |\n"
          ]
        },
        {
          "output_type": "stream",
          "name": "stderr",
          "text": [
            "100%|██████████| 241/241 [00:01<00:00, 201.23it/s]\n"
          ]
        },
        {
          "output_type": "stream",
          "name": "stdout",
          "text": [
            "| Train Loss : 0.1456995191268782 |  Val Loss : 0.11511657124387176 | Train Acc : 94.41697692871094 | Val Acc : 95.62955474853516 |\n"
          ]
        },
        {
          "output_type": "stream",
          "name": "stderr",
          "text": [
            "100%|██████████| 241/241 [00:01<00:00, 200.01it/s]\n"
          ]
        },
        {
          "output_type": "stream",
          "name": "stdout",
          "text": [
            "| Train Loss : 0.14697555542954052 |  Val Loss : 0.13679273456187763 | Train Acc : 94.15669250488281 | Val Acc : 94.58897399902344 |\n"
          ]
        },
        {
          "output_type": "stream",
          "name": "stderr",
          "text": [
            "100%|██████████| 241/241 [00:01<00:00, 197.44it/s]\n"
          ]
        },
        {
          "output_type": "stream",
          "name": "stdout",
          "text": [
            "| Train Loss : 0.14756998700564383 |  Val Loss : 0.15308459765208995 | Train Acc : 94.18272399902344 | Val Acc : 93.54839324951172 |\n"
          ]
        },
        {
          "output_type": "stream",
          "name": "stderr",
          "text": [
            "100%|██████████| 241/241 [00:01<00:00, 199.13it/s]\n"
          ]
        },
        {
          "output_type": "stream",
          "name": "stdout",
          "text": [
            "| Train Loss : 0.14548111305548336 |  Val Loss : 0.12048310299600697 | Train Acc : 94.3388900756836 | Val Acc : 95.68158721923828 |\n"
          ]
        },
        {
          "output_type": "stream",
          "name": "stderr",
          "text": [
            "100%|██████████| 241/241 [00:01<00:00, 169.05it/s]\n"
          ]
        },
        {
          "output_type": "stream",
          "name": "stdout",
          "text": [
            "| Train Loss : 0.1419113938255989 |  Val Loss : 0.11569952355013553 | Train Acc : 94.49505615234375 | Val Acc : 95.78564453125 |\n"
          ]
        },
        {
          "output_type": "stream",
          "name": "stderr",
          "text": [
            "100%|██████████| 241/241 [00:01<00:00, 158.30it/s]\n"
          ]
        },
        {
          "output_type": "stream",
          "name": "stdout",
          "text": [
            "| Train Loss : 0.1388309214425112 |  Val Loss : 0.12277278846030926 | Train Acc : 94.36491394042969 | Val Acc : 95.3694076538086 |\n"
          ]
        },
        {
          "output_type": "stream",
          "name": "stderr",
          "text": [
            "100%|██████████| 241/241 [00:01<00:00, 200.77it/s]\n"
          ]
        },
        {
          "output_type": "stream",
          "name": "stdout",
          "text": [
            "| Train Loss : 0.13909222397571241 |  Val Loss : 0.11680976720914461 | Train Acc : 94.52108764648438 | Val Acc : 95.73361206054688 |\n"
          ]
        },
        {
          "output_type": "stream",
          "name": "stderr",
          "text": [
            "100%|██████████| 241/241 [00:01<00:00, 199.59it/s]\n"
          ]
        },
        {
          "output_type": "stream",
          "name": "stdout",
          "text": [
            "| Train Loss : 0.13923673216546345 |  Val Loss : 0.11971275964858442 | Train Acc : 94.7813720703125 | Val Acc : 95.3173828125 |\n"
          ]
        },
        {
          "output_type": "stream",
          "name": "stderr",
          "text": [
            "100%|██████████| 241/241 [00:01<00:00, 202.84it/s]\n"
          ]
        },
        {
          "output_type": "stream",
          "name": "stdout",
          "text": [
            "| Train Loss : 0.13935334572470603 |  Val Loss : 0.1712524299858706 | Train Acc : 94.41697692871094 | Val Acc : 92.97606658935547 |\n"
          ]
        },
        {
          "output_type": "stream",
          "name": "stderr",
          "text": [
            "100%|██████████| 241/241 [00:01<00:00, 202.12it/s]\n"
          ]
        },
        {
          "output_type": "stream",
          "name": "stdout",
          "text": [
            "| Train Loss : 0.13868943258454827 |  Val Loss : 0.11348667716206237 | Train Acc : 94.67726135253906 | Val Acc : 95.83767700195312 |\n"
          ]
        },
        {
          "output_type": "stream",
          "name": "stderr",
          "text": [
            "100%|██████████| 241/241 [00:01<00:00, 201.58it/s]\n"
          ]
        },
        {
          "output_type": "stream",
          "name": "stdout",
          "text": [
            "| Train Loss : 0.14118094889292923 |  Val Loss : 0.20318611270896353 | Train Acc : 94.36491394042969 | Val Acc : 91.25910949707031 |\n"
          ]
        },
        {
          "output_type": "display_data",
          "data": {
            "text/plain": [
              "<Figure size 640x480 with 1 Axes>"
            ],
            "image/png": "[encoded data removed]"
          },
          "metadata": {}
        },
        {
          "output_type": "display_data",
          "data": {
            "text/plain": [
              "<Figure size 640x480 with 1 Axes>"
            ],
            "image/png": "[encoded data removed]"
          },
          "metadata": {}
        },
        {
          "output_type": "stream",
          "name": "stdout",
          "text": [
            "Words found are : 3306\n",
            "Embedding(3306, 100)\n",
            "-----------------------------------------------------------1-fold of the model-----------------------------------------------------------\n"
          ]
        },
        {
          "output_type": "stream",
          "name": "stderr",
          "text": [
            "100%|██████████| 241/241 [00:01<00:00, 199.27it/s]\n"
          ]
        },
        {
          "output_type": "stream",
          "name": "stdout",
          "text": [
            "| Train Loss : 0.6923404213896648 |  Val Loss : 0.6908780310006268 | Train Acc : 51.711124420166016 | Val Acc : 51.74388122558594 |\n"
          ]
        },
        {
          "output_type": "stream",
          "name": "stderr",
          "text": [
            "100%|██████████| 241/241 [00:01<00:00, 156.59it/s]\n"
          ]
        },
        {
          "output_type": "stream",
          "name": "stdout",
          "text": [
            "| Train Loss : 0.6876813794780103 |  Val Loss : 0.6823243646184831 | Train Acc : 57.16330337524414 | Val Acc : 58.7714729309082 |\n"
          ]
        },
        {
          "output_type": "stream",
          "name": "stderr",
          "text": [
            "100%|██████████| 241/241 [00:01<00:00, 171.27it/s]\n"
          ]
        },
        {
          "output_type": "stream",
          "name": "stdout",
          "text": [
            "| Train Loss : 0.6367494175088196 |  Val Loss : 0.7067024396971946 | Train Acc : 67.32595825195312 | Val Acc : 53.40968322753906 |\n"
          ]
        },
        {
          "output_type": "stream",
          "name": "stderr",
          "text": [
            "100%|██████████| 241/241 [00:01<00:00, 198.81it/s]\n"
          ]
        },
        {
          "output_type": "stream",
          "name": "stdout",
          "text": [
            "| Train Loss : 0.39845146875375265 |  Val Loss : 0.8008692610828533 | Train Acc : 83.30513763427734 | Val Acc : 70.48412322998047 |\n"
          ]
        },
        {
          "output_type": "stream",
          "name": "stderr",
          "text": [
            "100%|██████████| 241/241 [00:01<00:00, 198.03it/s]\n"
          ]
        },
        {
          "output_type": "stream",
          "name": "stdout",
          "text": [
            "| Train Loss : 0.26645274928970314 |  Val Loss : 0.31116542962458776 | Train Acc : 89.79830932617188 | Val Acc : 87.5585708618164 |\n"
          ]
        },
        {
          "output_type": "stream",
          "name": "stderr",
          "text": [
            "100%|██████████| 241/241 [00:01<00:00, 199.16it/s]\n"
          ]
        },
        {
          "output_type": "stream",
          "name": "stdout",
          "text": [
            "| Train Loss : 0.22030713038934696 |  Val Loss : 0.3263494559650478 | Train Acc : 91.3467788696289 | Val Acc : 88.287353515625 |\n"
          ]
        },
        {
          "output_type": "stream",
          "name": "stderr",
          "text": [
            "100%|██████████| 241/241 [00:01<00:00, 201.77it/s]\n"
          ]
        },
        {
          "output_type": "stream",
          "name": "stdout",
          "text": [
            "| Train Loss : 0.2008677882948865 |  Val Loss : 0.2876074333122036 | Train Acc : 92.24462890625 | Val Acc : 89.27642059326172 |\n"
          ]
        },
        {
          "output_type": "stream",
          "name": "stderr",
          "text": [
            "100%|██████████| 241/241 [00:01<00:00, 194.95it/s]\n"
          ]
        },
        {
          "output_type": "stream",
          "name": "stdout",
          "text": [
            "| Train Loss : 0.18254395571034995 |  Val Loss : 0.2043827227118024 | Train Acc : 93.19454193115234 | Val Acc : 92.45185089111328 |\n"
          ]
        },
        {
          "output_type": "stream",
          "name": "stderr",
          "text": [
            "100%|██████████| 241/241 [00:01<00:00, 198.59it/s]\n"
          ]
        },
        {
          "output_type": "stream",
          "name": "stdout",
          "text": [
            "| Train Loss : 0.18300257754174626 |  Val Loss : 0.17812882880047584 | Train Acc : 92.92127227783203 | Val Acc : 93.12857818603516 |\n"
          ]
        },
        {
          "output_type": "stream",
          "name": "stderr",
          "text": [
            "100%|██████████| 241/241 [00:01<00:00, 144.57it/s]\n"
          ]
        },
        {
          "output_type": "stream",
          "name": "stdout",
          "text": [
            "| Train Loss : 0.1649300431150388 |  Val Loss : 0.3035539599848918 | Train Acc : 93.79310607910156 | Val Acc : 88.65174865722656 |\n"
          ]
        },
        {
          "output_type": "stream",
          "name": "stderr",
          "text": [
            "100%|██████████| 241/241 [00:01<00:00, 196.76it/s]\n"
          ]
        },
        {
          "output_type": "stream",
          "name": "stdout",
          "text": [
            "| Train Loss : 0.1639644151654097 |  Val Loss : 0.18190986809031315 | Train Acc : 93.75406646728516 | Val Acc : 93.38886260986328 |\n"
          ]
        },
        {
          "output_type": "stream",
          "name": "stderr",
          "text": [
            "100%|██████████| 241/241 [00:01<00:00, 198.61it/s]\n"
          ]
        },
        {
          "output_type": "stream",
          "name": "stdout",
          "text": [
            "| Train Loss : 0.16321959705525257 |  Val Loss : 0.15720329817844084 | Train Acc : 93.81912994384766 | Val Acc : 94.32587432861328 |\n"
          ]
        },
        {
          "output_type": "stream",
          "name": "stderr",
          "text": [
            "100%|██████████| 241/241 [00:01<00:00, 199.49it/s]\n"
          ]
        },
        {
          "output_type": "stream",
          "name": "stdout",
          "text": [
            "| Train Loss : 0.1528499195986005 |  Val Loss : 0.2225131032099285 | Train Acc : 94.24854278564453 | Val Acc : 89.4325942993164 |\n"
          ]
        },
        {
          "output_type": "stream",
          "name": "stderr",
          "text": [
            "100%|██████████| 241/241 [00:01<00:00, 197.32it/s]\n"
          ]
        },
        {
          "output_type": "stream",
          "name": "stdout",
          "text": [
            "| Train Loss : 0.15084443898991517 |  Val Loss : 0.15929799064225916 | Train Acc : 93.84515380859375 | Val Acc : 93.75325775146484 |\n"
          ]
        },
        {
          "output_type": "stream",
          "name": "stderr",
          "text": [
            "100%|██████████| 241/241 [00:01<00:00, 200.23it/s]\n"
          ]
        },
        {
          "output_type": "stream",
          "name": "stdout",
          "text": [
            "| Train Loss : 0.15046292228300656 |  Val Loss : 0.15722747763181527 | Train Acc : 94.19648742675781 | Val Acc : 94.37793731689453 |\n"
          ]
        },
        {
          "output_type": "stream",
          "name": "stderr",
          "text": [
            "100%|██████████| 241/241 [00:01<00:00, 197.25it/s]\n"
          ]
        },
        {
          "output_type": "stream",
          "name": "stdout",
          "text": [
            "| Train Loss : 0.145378739028568 |  Val Loss : 0.1664634841566499 | Train Acc : 94.39167022705078 | Val Acc : 94.16970825195312 |\n"
          ]
        },
        {
          "output_type": "stream",
          "name": "stderr",
          "text": [
            "100%|██████████| 241/241 [00:01<00:00, 199.58it/s]\n"
          ]
        },
        {
          "output_type": "stream",
          "name": "stdout",
          "text": [
            "| Train Loss : 0.15123508948355274 |  Val Loss : 0.16531447354531548 | Train Acc : 94.01432037353516 | Val Acc : 93.59709167480469 |\n"
          ]
        },
        {
          "output_type": "stream",
          "name": "stderr",
          "text": [
            "100%|██████████| 241/241 [00:01<00:00, 145.79it/s]\n"
          ]
        },
        {
          "output_type": "stream",
          "name": "stdout",
          "text": [
            "| Train Loss : 0.14724956143189344 |  Val Loss : 0.16190764032215083 | Train Acc : 93.89720916748047 | Val Acc : 94.06559753417969 |\n"
          ]
        },
        {
          "output_type": "stream",
          "name": "stderr",
          "text": [
            "100%|██████████| 241/241 [00:01<00:00, 195.14it/s]\n"
          ]
        },
        {
          "output_type": "stream",
          "name": "stdout",
          "text": [
            "| Train Loss : 0.141272077897034 |  Val Loss : 0.5739466532014499 | Train Acc : 94.49577331542969 | Val Acc : 81.05154418945312 |\n"
          ]
        },
        {
          "output_type": "stream",
          "name": "stderr",
          "text": [
            "100%|██████████| 241/241 [00:01<00:00, 199.77it/s]\n"
          ]
        },
        {
          "output_type": "stream",
          "name": "stdout",
          "text": [
            "| Train Loss : 0.14215964772287096 |  Val Loss : 0.16400484106722077 | Train Acc : 94.67794036865234 | Val Acc : 93.80531311035156 |\n"
          ]
        },
        {
          "output_type": "stream",
          "name": "stderr",
          "text": [
            "100%|██████████| 241/241 [00:01<00:00, 201.48it/s]\n"
          ]
        },
        {
          "output_type": "stream",
          "name": "stdout",
          "text": [
            "| Train Loss : 0.1347261041606411 |  Val Loss : 0.166256741371892 | Train Acc : 94.65191650390625 | Val Acc : 93.909423828125 |\n"
          ]
        },
        {
          "output_type": "stream",
          "name": "stderr",
          "text": [
            "100%|██████████| 241/241 [00:01<00:00, 199.67it/s]\n"
          ]
        },
        {
          "output_type": "stream",
          "name": "stdout",
          "text": [
            "| Train Loss : 0.1384257459556157 |  Val Loss : 0.15641392855143843 | Train Acc : 94.72999572753906 | Val Acc : 94.01353454589844 |\n"
          ]
        },
        {
          "output_type": "stream",
          "name": "stderr",
          "text": [
            "100%|██████████| 241/241 [00:01<00:00, 196.23it/s]\n"
          ]
        },
        {
          "output_type": "stream",
          "name": "stdout",
          "text": [
            "| Train Loss : 0.13474686272544137 |  Val Loss : 0.15683438957683749 | Train Acc : 94.86011505126953 | Val Acc : 94.22176361083984 |\n"
          ]
        },
        {
          "output_type": "stream",
          "name": "stderr",
          "text": [
            "100%|██████████| 241/241 [00:01<00:00, 201.12it/s]\n"
          ]
        },
        {
          "output_type": "stream",
          "name": "stdout",
          "text": [
            "| Train Loss : 0.13406304760497348 |  Val Loss : 1.0182017532968966 | Train Acc : 94.78204345703125 | Val Acc : 60.02082061767578 |\n"
          ]
        },
        {
          "output_type": "stream",
          "name": "stderr",
          "text": [
            "100%|██████████| 241/241 [00:01<00:00, 197.45it/s]\n"
          ]
        },
        {
          "output_type": "stream",
          "name": "stdout",
          "text": [
            "| Train Loss : 0.15020592384083983 |  Val Loss : 0.1739108997737947 | Train Acc : 94.3135986328125 | Val Acc : 93.38886260986328 |\n"
          ]
        },
        {
          "output_type": "stream",
          "name": "stderr",
          "text": [
            "100%|██████████| 241/241 [00:01<00:00, 146.01it/s]\n"
          ]
        },
        {
          "output_type": "stream",
          "name": "stdout",
          "text": [
            "| Train Loss : 0.13141393483953917 |  Val Loss : 0.16486919681102383 | Train Acc : 94.89915466308594 | Val Acc : 93.80531311035156 |\n"
          ]
        },
        {
          "output_type": "stream",
          "name": "stderr",
          "text": [
            "100%|██████████| 241/241 [00:01<00:00, 200.35it/s]\n"
          ]
        },
        {
          "output_type": "stream",
          "name": "stdout",
          "text": [
            "| Train Loss : 0.12947438636560796 |  Val Loss : 0.18824590767113436 | Train Acc : 94.92517852783203 | Val Acc : 91.77511596679688 |\n"
          ]
        },
        {
          "output_type": "stream",
          "name": "stderr",
          "text": [
            "100%|██████████| 241/241 [00:01<00:00, 199.99it/s]\n"
          ]
        },
        {
          "output_type": "stream",
          "name": "stdout",
          "text": [
            "| Train Loss : 0.1271439982647235 |  Val Loss : 0.19853290222445333 | Train Acc : 95.120361328125 | Val Acc : 91.72306823730469 |\n"
          ]
        },
        {
          "output_type": "stream",
          "name": "stderr",
          "text": [
            "100%|██████████| 241/241 [00:01<00:00, 197.56it/s]\n"
          ]
        },
        {
          "output_type": "stream",
          "name": "stdout",
          "text": [
            "| Train Loss : 0.1314538532066981 |  Val Loss : 0.15292627423798558 | Train Acc : 94.83409881591797 | Val Acc : 94.5861587524414 |\n"
          ]
        },
        {
          "output_type": "stream",
          "name": "stderr",
          "text": [
            "100%|██████████| 241/241 [00:01<00:00, 199.88it/s]\n"
          ]
        },
        {
          "output_type": "stream",
          "name": "stdout",
          "text": [
            "| Train Loss : 0.12868604920310664 |  Val Loss : 0.16193202443432764 | Train Acc : 95.26349639892578 | Val Acc : 94.53409576416016 |\n"
          ]
        },
        {
          "output_type": "display_data",
          "data": {
            "text/plain": [
              "<Figure size 640x480 with 1 Axes>"
            ],
            "image/png": "[encoded data removed]"
          },
          "metadata": {}
        },
        {
          "output_type": "display_data",
          "data": {
            "text/plain": [
              "<Figure size 640x480 with 1 Axes>"
            ],
            "image/png": "[encoded data removed]"
          },
          "metadata": {}
        },
        {
          "output_type": "stream",
          "name": "stdout",
          "text": [
            "Words found are : 3306\n",
            "Embedding(3306, 100)\n",
            "-----------------------------------------------------------2-fold of the model-----------------------------------------------------------\n"
          ]
        },
        {
          "output_type": "stream",
          "name": "stderr",
          "text": [
            "100%|██████████| 241/241 [00:01<00:00, 198.25it/s]\n"
          ]
        },
        {
          "output_type": "stream",
          "name": "stdout",
          "text": [
            "| Train Loss : 0.6928631683100177 |  Val Loss : 0.6929035960293759 | Train Acc : 50.566036224365234 | Val Acc : 48.620513916015625 |\n"
          ]
        },
        {
          "output_type": "stream",
          "name": "stderr",
          "text": [
            "100%|██████████| 241/241 [00:01<00:00, 196.67it/s]\n"
          ]
        },
        {
          "output_type": "stream",
          "name": "stdout",
          "text": [
            "| Train Loss : 0.6881463932463622 |  Val Loss : 0.6939364616167166 | Train Acc : 55.211448669433594 | Val Acc : 48.620513916015625 |\n"
          ]
        },
        {
          "output_type": "stream",
          "name": "stderr",
          "text": [
            "100%|██████████| 241/241 [00:01<00:00, 178.16it/s]\n"
          ]
        },
        {
          "output_type": "stream",
          "name": "stdout",
          "text": [
            "| Train Loss : 0.6535769866477691 |  Val Loss : 0.40850754459967903 | Train Acc : 64.25504302978516 | Val Acc : 87.40239715576172 |\n"
          ]
        },
        {
          "output_type": "stream",
          "name": "stderr",
          "text": [
            "100%|██████████| 241/241 [00:01<00:00, 149.37it/s]\n"
          ]
        },
        {
          "output_type": "stream",
          "name": "stdout",
          "text": [
            "| Train Loss : 0.41072056057706 |  Val Loss : 0.3633311212194704 | Train Acc : 82.0429458618164 | Val Acc : 83.96669006347656 |\n"
          ]
        },
        {
          "output_type": "stream",
          "name": "stderr",
          "text": [
            "100%|██████████| 241/241 [00:01<00:00, 200.38it/s]\n"
          ]
        },
        {
          "output_type": "stream",
          "name": "stdout",
          "text": [
            "| Train Loss : 0.27230216465216606 |  Val Loss : 0.8700761845929743 | Train Acc : 89.69420623779297 | Val Acc : 68.4018783569336 |\n"
          ]
        },
        {
          "output_type": "stream",
          "name": "stderr",
          "text": [
            "100%|██████████| 241/241 [00:01<00:00, 198.92it/s]\n"
          ]
        },
        {
          "output_type": "stream",
          "name": "stdout",
          "text": [
            "| Train Loss : 0.23313487498410818 |  Val Loss : 0.1549632800883579 | Train Acc : 91.45088195800781 | Val Acc : 95.00260925292969 |\n"
          ]
        },
        {
          "output_type": "stream",
          "name": "stderr",
          "text": [
            "100%|██████████| 241/241 [00:01<00:00, 200.85it/s]\n"
          ]
        },
        {
          "output_type": "stream",
          "name": "stdout",
          "text": [
            "| Train Loss : 0.21671892026670778 |  Val Loss : 0.17014126902381185 | Train Acc : 91.84124755859375 | Val Acc : 93.49298095703125 |\n"
          ]
        },
        {
          "output_type": "stream",
          "name": "stderr",
          "text": [
            "100%|██████████| 241/241 [00:01<00:00, 197.55it/s]\n"
          ]
        },
        {
          "output_type": "stream",
          "name": "stdout",
          "text": [
            "| Train Loss : 0.20673126081948787 |  Val Loss : 0.16409351023952518 | Train Acc : 91.95835876464844 | Val Acc : 93.96148681640625 |\n"
          ]
        },
        {
          "output_type": "stream",
          "name": "stderr",
          "text": [
            "100%|██████████| 241/241 [00:01<00:00, 196.44it/s]\n"
          ]
        },
        {
          "output_type": "stream",
          "name": "stdout",
          "text": [
            "| Train Loss : 0.17499848932279885 |  Val Loss : 0.9877459016211141 | Train Acc : 93.01235961914062 | Val Acc : 61.99896240234375 |\n"
          ]
        },
        {
          "output_type": "stream",
          "name": "stderr",
          "text": [
            "100%|██████████| 241/241 [00:01<00:00, 200.01it/s]\n"
          ]
        },
        {
          "output_type": "stream",
          "name": "stdout",
          "text": [
            "| Train Loss : 0.18233752686557012 |  Val Loss : 1.2416002255195886 | Train Acc : 92.56993865966797 | Val Acc : 55.439876556396484 |\n"
          ]
        },
        {
          "output_type": "stream",
          "name": "stderr",
          "text": [
            "100%|██████████| 241/241 [00:01<00:00, 177.37it/s]\n"
          ]
        },
        {
          "output_type": "stream",
          "name": "stdout",
          "text": [
            "| Train Loss : 0.17840070145116196 |  Val Loss : 0.34771599911079626 | Train Acc : 93.24658203125 | Val Acc : 84.90370178222656 |\n"
          ]
        },
        {
          "output_type": "stream",
          "name": "stderr",
          "text": [
            "100%|██████████| 241/241 [00:01<00:00, 149.85it/s]\n"
          ]
        },
        {
          "output_type": "stream",
          "name": "stdout",
          "text": [
            "| Train Loss : 0.16799024503263624 |  Val Loss : 0.21406945939922878 | Train Acc : 93.4027328491211 | Val Acc : 90.36959838867188 |\n"
          ]
        },
        {
          "output_type": "stream",
          "name": "stderr",
          "text": [
            "100%|██████████| 241/241 [00:01<00:00, 200.81it/s]\n"
          ]
        },
        {
          "output_type": "stream",
          "name": "stdout",
          "text": [
            "| Train Loss : 0.159530786563998 |  Val Loss : 0.2570799741344231 | Train Acc : 93.64996337890625 | Val Acc : 88.49557495117188 |\n"
          ]
        },
        {
          "output_type": "stream",
          "name": "stderr",
          "text": [
            "100%|██████████| 241/241 [00:01<00:00, 201.05it/s]\n"
          ]
        },
        {
          "output_type": "stream",
          "name": "stdout",
          "text": [
            "| Train Loss : 0.15619608134748722 |  Val Loss : 0.36631233057027557 | Train Acc : 94.11841583251953 | Val Acc : 86.04893493652344 |\n"
          ]
        },
        {
          "output_type": "stream",
          "name": "stderr",
          "text": [
            "100%|██████████| 241/241 [00:01<00:00, 200.94it/s]\n"
          ]
        },
        {
          "output_type": "stream",
          "name": "stdout",
          "text": [
            "| Train Loss : 0.159268584917254 |  Val Loss : 0.3243862747862927 | Train Acc : 93.75406646728516 | Val Acc : 86.77772521972656 |\n"
          ]
        },
        {
          "output_type": "stream",
          "name": "stderr",
          "text": [
            "100%|██████████| 241/241 [00:01<00:00, 199.40it/s]\n"
          ]
        },
        {
          "output_type": "stream",
          "name": "stdout",
          "text": [
            "| Train Loss : 0.1571639882409115 |  Val Loss : 0.14538360517888965 | Train Acc : 93.78009796142578 | Val Acc : 94.1176528930664 |\n"
          ]
        },
        {
          "output_type": "stream",
          "name": "stderr",
          "text": [
            "100%|██████████| 241/241 [00:01<00:00, 200.25it/s]\n"
          ]
        },
        {
          "output_type": "stream",
          "name": "stdout",
          "text": [
            "| Train Loss : 0.14740993899178723 |  Val Loss : 0.16372128310557582 | Train Acc : 94.13143157958984 | Val Acc : 93.54502868652344 |\n"
          ]
        },
        {
          "output_type": "stream",
          "name": "stderr",
          "text": [
            "100%|██████████| 241/241 [00:01<00:00, 199.09it/s]\n"
          ]
        },
        {
          "output_type": "stream",
          "name": "stdout",
          "text": [
            "| Train Loss : 0.14635012257570326 |  Val Loss : 0.1501839742193436 | Train Acc : 94.23552703857422 | Val Acc : 94.27381896972656 |\n"
          ]
        },
        {
          "output_type": "stream",
          "name": "stderr",
          "text": [
            "100%|██████████| 241/241 [00:01<00:00, 178.70it/s]\n"
          ]
        },
        {
          "output_type": "stream",
          "name": "stdout",
          "text": [
            "| Train Loss : 0.14305643279713784 |  Val Loss : 0.17947145509409956 | Train Acc : 94.4697494506836 | Val Acc : 92.7121353149414 |\n"
          ]
        },
        {
          "output_type": "stream",
          "name": "stderr",
          "text": [
            "100%|██████████| 241/241 [00:01<00:00, 150.82it/s]\n"
          ]
        },
        {
          "output_type": "stream",
          "name": "stdout",
          "text": [
            "| Train Loss : 0.1436700961538624 |  Val Loss : 0.15352587877660756 | Train Acc : 94.26155090332031 | Val Acc : 93.909423828125 |\n"
          ]
        },
        {
          "output_type": "stream",
          "name": "stderr",
          "text": [
            "100%|██████████| 241/241 [00:01<00:00, 198.73it/s]\n"
          ]
        },
        {
          "output_type": "stream",
          "name": "stdout",
          "text": [
            "| Train Loss : 0.14141732160542486 |  Val Loss : 0.17615112801553184 | Train Acc : 94.52179718017578 | Val Acc : 93.28475189208984 |\n"
          ]
        },
        {
          "output_type": "stream",
          "name": "stderr",
          "text": [
            "100%|██████████| 241/241 [00:01<00:00, 199.55it/s]\n"
          ]
        },
        {
          "output_type": "stream",
          "name": "stdout",
          "text": [
            "| Train Loss : 0.14225340987529628 |  Val Loss : 0.13927400947566873 | Train Acc : 94.45673370361328 | Val Acc : 94.846435546875 |\n"
          ]
        },
        {
          "output_type": "stream",
          "name": "stderr",
          "text": [
            "100%|██████████| 241/241 [00:01<00:00, 196.74it/s]\n"
          ]
        },
        {
          "output_type": "stream",
          "name": "stdout",
          "text": [
            "| Train Loss : 0.13890791748278933 |  Val Loss : 0.2800537419914113 | Train Acc : 94.71698760986328 | Val Acc : 87.92295837402344 |\n"
          ]
        },
        {
          "output_type": "stream",
          "name": "stderr",
          "text": [
            "100%|██████████| 241/241 [00:01<00:00, 200.68it/s]\n"
          ]
        },
        {
          "output_type": "stream",
          "name": "stdout",
          "text": [
            "| Train Loss : 0.1381233453125285 |  Val Loss : 0.17605529736120493 | Train Acc : 94.69095611572266 | Val Acc : 93.75325775146484 |\n"
          ]
        },
        {
          "output_type": "stream",
          "name": "stderr",
          "text": [
            "100%|██████████| 241/241 [00:01<00:00, 198.12it/s]\n"
          ]
        },
        {
          "output_type": "stream",
          "name": "stdout",
          "text": [
            "| Train Loss : 0.13697080790254887 |  Val Loss : 0.14663463744069685 | Train Acc : 94.69095611572266 | Val Acc : 94.95055389404297 |\n"
          ]
        },
        {
          "output_type": "stream",
          "name": "stderr",
          "text": [
            "100%|██████████| 241/241 [00:01<00:00, 196.83it/s]\n"
          ]
        },
        {
          "output_type": "stream",
          "name": "stdout",
          "text": [
            "| Train Loss : 0.17213714002360753 |  Val Loss : 0.2987744291155429 | Train Acc : 93.49382019042969 | Val Acc : 88.39146423339844 |\n"
          ]
        },
        {
          "output_type": "stream",
          "name": "stderr",
          "text": [
            "100%|██████████| 241/241 [00:01<00:00, 186.35it/s]\n"
          ]
        },
        {
          "output_type": "stream",
          "name": "stdout",
          "text": [
            "| Train Loss : 0.1523944845810901 |  Val Loss : 0.17320004059026045 | Train Acc : 94.30058288574219 | Val Acc : 93.23269653320312 |\n"
          ]
        },
        {
          "output_type": "stream",
          "name": "stderr",
          "text": [
            "100%|██████████| 241/241 [00:01<00:00, 146.07it/s]\n"
          ]
        },
        {
          "output_type": "stream",
          "name": "stdout",
          "text": [
            "| Train Loss : 0.14013012507475947 |  Val Loss : 0.18307565085777508 | Train Acc : 94.53480529785156 | Val Acc : 93.49298095703125 |\n"
          ]
        },
        {
          "output_type": "stream",
          "name": "stderr",
          "text": [
            "100%|██████████| 241/241 [00:01<00:00, 197.11it/s]\n"
          ]
        },
        {
          "output_type": "stream",
          "name": "stdout",
          "text": [
            "| Train Loss : 0.1404176692859492 |  Val Loss : 0.1381136083510985 | Train Acc : 94.4046859741211 | Val Acc : 95.26288604736328 |\n"
          ]
        },
        {
          "output_type": "stream",
          "name": "stderr",
          "text": [
            "100%|██████████| 241/241 [00:01<00:00, 199.61it/s]\n"
          ]
        },
        {
          "output_type": "stream",
          "name": "stdout",
          "text": [
            "| Train Loss : 0.13866866633305708 |  Val Loss : 0.16960314618746467 | Train Acc : 94.84710693359375 | Val Acc : 93.54502868652344 |\n"
          ]
        },
        {
          "output_type": "display_data",
          "data": {
            "text/plain": [
              "<Figure size 640x480 with 1 Axes>"
            ],
            "image/png": "[encoded data removed]"
          },
          "metadata": {}
        },
        {
          "output_type": "display_data",
          "data": {
            "text/plain": [
              "<Figure size 640x480 with 1 Axes>"
            ],
            "image/png": "[encoded data removed]"
          },
          "metadata": {}
        },
        {
          "output_type": "stream",
          "name": "stdout",
          "text": [
            "Words found are : 3306\n",
            "Embedding(3306, 100)\n",
            "-----------------------------------------------------------3-fold of the model-----------------------------------------------------------\n"
          ]
        },
        {
          "output_type": "stream",
          "name": "stderr",
          "text": [
            "100%|██████████| 241/241 [00:01<00:00, 198.57it/s]\n"
          ]
        },
        {
          "output_type": "stream",
          "name": "stdout",
          "text": [
            "| Train Loss : 0.692398288285647 |  Val Loss : 0.6920994600859984 | Train Acc : 51.307743072509766 | Val Acc : 48.672569274902344 |\n"
          ]
        },
        {
          "output_type": "stream",
          "name": "stderr",
          "text": [
            "100%|██████████| 241/241 [00:01<00:00, 198.70it/s]\n"
          ]
        },
        {
          "output_type": "stream",
          "name": "stdout",
          "text": [
            "| Train Loss : 0.6884803891181945 |  Val Loss : 0.6857153989882719 | Train Acc : 55.06831359863281 | Val Acc : 56.4289436340332 |\n"
          ]
        },
        {
          "output_type": "stream",
          "name": "stderr",
          "text": [
            "100%|██████████| 241/241 [00:01<00:00, 197.08it/s]\n"
          ]
        },
        {
          "output_type": "stream",
          "name": "stdout",
          "text": [
            "| Train Loss : 0.6606790990277243 |  Val Loss : 0.5044093765609281 | Train Acc : 63.22706985473633 | Val Acc : 74.90890502929688 |\n"
          ]
        },
        {
          "output_type": "stream",
          "name": "stderr",
          "text": [
            "100%|██████████| 241/241 [00:01<00:00, 196.69it/s]\n"
          ]
        },
        {
          "output_type": "stream",
          "name": "stdout",
          "text": [
            "| Train Loss : 0.4248862553375762 |  Val Loss : 0.2484192633608677 | Train Acc : 81.52244567871094 | Val Acc : 91.35867309570312 |\n"
          ]
        },
        {
          "output_type": "stream",
          "name": "stderr",
          "text": [
            "100%|██████████| 241/241 [00:01<00:00, 166.19it/s]\n"
          ]
        },
        {
          "output_type": "stream",
          "name": "stdout",
          "text": [
            "| Train Loss : 0.28021171405019507 |  Val Loss : 0.18993636514537737 | Train Acc : 89.17371368408203 | Val Acc : 92.55596160888672 |\n"
          ]
        },
        {
          "output_type": "stream",
          "name": "stderr",
          "text": [
            "100%|██████████| 241/241 [00:01<00:00, 154.52it/s]\n"
          ]
        },
        {
          "output_type": "stream",
          "name": "stdout",
          "text": [
            "| Train Loss : 0.23187827877918465 |  Val Loss : 0.2724044100245202 | Train Acc : 91.33377075195312 | Val Acc : 89.4325942993164 |\n"
          ]
        },
        {
          "output_type": "stream",
          "name": "stderr",
          "text": [
            "100%|██████████| 241/241 [00:01<00:00, 194.30it/s]\n"
          ]
        },
        {
          "output_type": "stream",
          "name": "stdout",
          "text": [
            "| Train Loss : 0.20254612026824606 |  Val Loss : 0.17874945505129008 | Train Acc : 92.4658432006836 | Val Acc : 93.59709167480469 |\n"
          ]
        },
        {
          "output_type": "stream",
          "name": "stderr",
          "text": [
            "100%|██████████| 241/241 [00:01<00:00, 191.05it/s]\n"
          ]
        },
        {
          "output_type": "stream",
          "name": "stdout",
          "text": [
            "| Train Loss : 0.19524113980976884 |  Val Loss : 0.17007888860337317 | Train Acc : 92.3096923828125 | Val Acc : 93.59709167480469 |\n"
          ]
        },
        {
          "output_type": "stream",
          "name": "stderr",
          "text": [
            "100%|██████████| 241/241 [00:01<00:00, 196.34it/s]\n"
          ]
        },
        {
          "output_type": "stream",
          "name": "stdout",
          "text": [
            "| Train Loss : 0.18069324793297709 |  Val Loss : 0.18405805850854334 | Train Acc : 92.90826416015625 | Val Acc : 92.55596160888672 |\n"
          ]
        },
        {
          "output_type": "stream",
          "name": "stderr",
          "text": [
            "100%|██████████| 241/241 [00:01<00:00, 195.06it/s]\n"
          ]
        },
        {
          "output_type": "stream",
          "name": "stdout",
          "text": [
            "| Train Loss : 0.17714487586531572 |  Val Loss : 0.16553629070078252 | Train Acc : 92.99935150146484 | Val Acc : 93.75325775146484 |\n"
          ]
        },
        {
          "output_type": "stream",
          "name": "stderr",
          "text": [
            "100%|██████████| 241/241 [00:01<00:00, 196.08it/s]\n"
          ]
        },
        {
          "output_type": "stream",
          "name": "stdout",
          "text": [
            "| Train Loss : 0.1677964966759939 |  Val Loss : 0.16021417995613263 | Train Acc : 93.58490753173828 | Val Acc : 93.33680725097656 |\n"
          ]
        },
        {
          "output_type": "stream",
          "name": "stderr",
          "text": [
            "100%|██████████| 241/241 [00:01<00:00, 197.64it/s]\n"
          ]
        },
        {
          "output_type": "stream",
          "name": "stdout",
          "text": [
            "| Train Loss : 0.16779017911408345 |  Val Loss : 0.18791294706823428 | Train Acc : 93.62393951416016 | Val Acc : 92.7121353149414 |\n"
          ]
        },
        {
          "output_type": "stream",
          "name": "stderr",
          "text": [
            "100%|██████████| 241/241 [00:01<00:00, 161.49it/s]\n"
          ]
        },
        {
          "output_type": "stream",
          "name": "stdout",
          "text": [
            "| Train Loss : 0.16353475757636415 |  Val Loss : 0.16340682882840324 | Train Acc : 93.71502685546875 | Val Acc : 94.32587432861328 |\n"
          ]
        },
        {
          "output_type": "stream",
          "name": "stderr",
          "text": [
            "100%|██████████| 241/241 [00:01<00:00, 158.94it/s]\n"
          ]
        },
        {
          "output_type": "stream",
          "name": "stdout",
          "text": [
            "| Train Loss : 0.16758934174244405 |  Val Loss : 0.15489665195971286 | Train Acc : 93.83213806152344 | Val Acc : 93.54502868652344 |\n"
          ]
        },
        {
          "output_type": "stream",
          "name": "stderr",
          "text": [
            "100%|██████████| 241/241 [00:01<00:00, 195.56it/s]\n"
          ]
        },
        {
          "output_type": "stream",
          "name": "stdout",
          "text": [
            "| Train Loss : 0.15727240371874732 |  Val Loss : 0.5529281492249285 | Train Acc : 93.88419342041016 | Val Acc : 73.295166015625 |\n"
          ]
        },
        {
          "output_type": "stream",
          "name": "stderr",
          "text": [
            "100%|██████████| 241/241 [00:01<00:00, 198.18it/s]\n"
          ]
        },
        {
          "output_type": "stream",
          "name": "stdout",
          "text": [
            "| Train Loss : 0.1567355316338325 |  Val Loss : 0.6340519958396308 | Train Acc : 93.83213806152344 | Val Acc : 67.15252685546875 |\n"
          ]
        },
        {
          "output_type": "stream",
          "name": "stderr",
          "text": [
            "100%|██████████| 241/241 [00:01<00:00, 197.40it/s]\n"
          ]
        },
        {
          "output_type": "stream",
          "name": "stdout",
          "text": [
            "| Train Loss : 0.15575911364819256 |  Val Loss : 0.21640396728274888 | Train Acc : 94.01432037353516 | Val Acc : 91.25455474853516 |\n"
          ]
        },
        {
          "output_type": "stream",
          "name": "stderr",
          "text": [
            "100%|██████████| 241/241 [00:01<00:00, 193.74it/s]\n"
          ]
        },
        {
          "output_type": "stream",
          "name": "stdout",
          "text": [
            "| Train Loss : 0.15063186222754016 |  Val Loss : 0.16017980578371005 | Train Acc : 94.07937622070312 | Val Acc : 93.44091796875 |\n"
          ]
        },
        {
          "output_type": "stream",
          "name": "stderr",
          "text": [
            "100%|██████████| 241/241 [00:01<00:00, 200.48it/s]\n"
          ]
        },
        {
          "output_type": "stream",
          "name": "stdout",
          "text": [
            "| Train Loss : 0.14693946475787215 |  Val Loss : 0.5667691267386877 | Train Acc : 94.4697494506836 | Val Acc : 80.58303833007812 |\n"
          ]
        },
        {
          "output_type": "stream",
          "name": "stderr",
          "text": [
            "100%|██████████| 241/241 [00:01<00:00, 197.13it/s]\n"
          ]
        },
        {
          "output_type": "stream",
          "name": "stdout",
          "text": [
            "| Train Loss : 0.14472801385661885 |  Val Loss : 0.2369176786475224 | Train Acc : 94.3526382446289 | Val Acc : 91.3066177368164 |\n"
          ]
        },
        {
          "output_type": "stream",
          "name": "stderr",
          "text": [
            "100%|██████████| 241/241 [00:01<00:00, 162.81it/s]\n"
          ]
        },
        {
          "output_type": "stream",
          "name": "stdout",
          "text": [
            "| Train Loss : 0.1465779314785905 |  Val Loss : 0.15290575533841563 | Train Acc : 94.3396224975586 | Val Acc : 93.80531311035156 |\n"
          ]
        },
        {
          "output_type": "stream",
          "name": "stderr",
          "text": [
            "100%|██████████| 241/241 [00:01<00:00, 159.18it/s]\n"
          ]
        },
        {
          "output_type": "stream",
          "name": "stdout",
          "text": [
            "| Train Loss : 0.1414959540036819 |  Val Loss : 0.1522265797105697 | Train Acc : 94.45673370361328 | Val Acc : 94.95055389404297 |\n"
          ]
        },
        {
          "output_type": "stream",
          "name": "stderr",
          "text": [
            "100%|██████████| 241/241 [00:01<00:00, 141.90it/s]\n"
          ]
        },
        {
          "output_type": "stream",
          "name": "stdout",
          "text": [
            "| Train Loss : 0.13991221337637966 |  Val Loss : 0.2196870859374691 | Train Acc : 94.52179718017578 | Val Acc : 92.08746337890625 |\n"
          ]
        },
        {
          "output_type": "stream",
          "name": "stderr",
          "text": [
            "100%|██████████| 241/241 [00:01<00:00, 198.89it/s]\n"
          ]
        },
        {
          "output_type": "stream",
          "name": "stdout",
          "text": [
            "| Train Loss : 0.14174357985201483 |  Val Loss : 0.28213221382956716 | Train Acc : 94.69095611572266 | Val Acc : 88.91202545166016 |\n"
          ]
        },
        {
          "output_type": "stream",
          "name": "stderr",
          "text": [
            "100%|██████████| 241/241 [00:01<00:00, 197.56it/s]\n"
          ]
        },
        {
          "output_type": "stream",
          "name": "stdout",
          "text": [
            "| Train Loss : 0.135307669443022 |  Val Loss : 0.14434582425328918 | Train Acc : 94.72999572753906 | Val Acc : 93.75325775146484 |\n"
          ]
        },
        {
          "output_type": "stream",
          "name": "stderr",
          "text": [
            "100%|██████████| 241/241 [00:01<00:00, 195.80it/s]\n"
          ]
        },
        {
          "output_type": "stream",
          "name": "stdout",
          "text": [
            "| Train Loss : 0.13564524413580312 |  Val Loss : 0.14010218661162133 | Train Acc : 94.4697494506836 | Val Acc : 94.48204803466797 |\n"
          ]
        },
        {
          "output_type": "stream",
          "name": "stderr",
          "text": [
            "100%|██████████| 241/241 [00:01<00:00, 196.41it/s]\n"
          ]
        },
        {
          "output_type": "stream",
          "name": "stdout",
          "text": [
            "| Train Loss : 0.13512435636507977 |  Val Loss : 0.1455006830284034 | Train Acc : 94.63890838623047 | Val Acc : 94.5861587524414 |\n"
          ]
        },
        {
          "output_type": "stream",
          "name": "stderr",
          "text": [
            "100%|██████████| 241/241 [00:01<00:00, 194.55it/s]\n"
          ]
        },
        {
          "output_type": "stream",
          "name": "stdout",
          "text": [
            "| Train Loss : 0.13716103985909284 |  Val Loss : 0.13780155310960934 | Train Acc : 94.83409881591797 | Val Acc : 94.95055389404297 |\n"
          ]
        },
        {
          "output_type": "stream",
          "name": "stderr",
          "text": [
            "100%|██████████| 241/241 [00:01<00:00, 148.09it/s]\n"
          ]
        },
        {
          "output_type": "stream",
          "name": "stdout",
          "text": [
            "| Train Loss : 0.13076082068939604 |  Val Loss : 0.17211438048030273 | Train Acc : 95.00325012207031 | Val Acc : 93.44091796875 |\n"
          ]
        },
        {
          "output_type": "stream",
          "name": "stderr",
          "text": [
            "100%|██████████| 241/241 [00:01<00:00, 182.47it/s]\n"
          ]
        },
        {
          "output_type": "stream",
          "name": "stdout",
          "text": [
            "| Train Loss : 0.13104863186005114 |  Val Loss : 0.15149385894938164 | Train Acc : 95.05530548095703 | Val Acc : 93.59709167480469 |\n"
          ]
        },
        {
          "output_type": "display_data",
          "data": {
            "text/plain": [
              "<Figure size 640x480 with 1 Axes>"
            ],
            "image/png": "[encoded data removed]"
          },
          "metadata": {}
        },
        {
          "output_type": "display_data",
          "data": {
            "text/plain": [
              "<Figure size 640x480 with 1 Axes>"
            ],
            "image/png": "[encoded data removed]"
          },
          "metadata": {}
        },
        {
          "output_type": "stream",
          "name": "stdout",
          "text": [
            "Words found are : 3306\n",
            "Embedding(3306, 100)\n",
            "-----------------------------------------------------------4-fold of the model-----------------------------------------------------------\n"
          ]
        },
        {
          "output_type": "stream",
          "name": "stderr",
          "text": [
            "100%|██████████| 241/241 [00:01<00:00, 196.77it/s]\n"
          ]
        },
        {
          "output_type": "stream",
          "name": "stdout",
          "text": [
            "| Train Loss : 0.6918435452196919 |  Val Loss : 0.6902097234621698 | Train Acc : 52.58295440673828 | Val Acc : 50.546592712402344 |\n"
          ]
        },
        {
          "output_type": "stream",
          "name": "stderr",
          "text": [
            "100%|██████████| 241/241 [00:01<00:00, 197.10it/s]\n"
          ]
        },
        {
          "output_type": "stream",
          "name": "stdout",
          "text": [
            "| Train Loss : 0.685701554358277 |  Val Loss : 0.681237340687092 | Train Acc : 56.564735412597656 | Val Acc : 63.30036544799805 |\n"
          ]
        },
        {
          "output_type": "stream",
          "name": "stderr",
          "text": [
            "100%|██████████| 241/241 [00:01<00:00, 195.68it/s]\n"
          ]
        },
        {
          "output_type": "stream",
          "name": "stdout",
          "text": [
            "| Train Loss : 0.6106106813921894 |  Val Loss : 1.026135763135011 | Train Acc : 68.4059829711914 | Val Acc : 52.73295593261719 |\n"
          ]
        },
        {
          "output_type": "stream",
          "name": "stderr",
          "text": [
            "100%|██████████| 241/241 [00:01<00:00, 196.46it/s]\n"
          ]
        },
        {
          "output_type": "stream",
          "name": "stdout",
          "text": [
            "| Train Loss : 0.35373436062073815 |  Val Loss : 1.5946799495767943 | Train Acc : 85.27000427246094 | Val Acc : 49.505470275878906 |\n"
          ]
        },
        {
          "output_type": "stream",
          "name": "stderr",
          "text": [
            "100%|██████████| 241/241 [00:01<00:00, 196.51it/s]\n"
          ]
        },
        {
          "output_type": "stream",
          "name": "stdout",
          "text": [
            "| Train Loss : 0.27383451920654683 |  Val Loss : 0.197895112300058 | Train Acc : 89.5901107788086 | Val Acc : 93.64913940429688 |\n"
          ]
        },
        {
          "output_type": "stream",
          "name": "stderr",
          "text": [
            "100%|██████████| 241/241 [00:01<00:00, 175.56it/s]\n"
          ]
        },
        {
          "output_type": "stream",
          "name": "stdout",
          "text": [
            "| Train Loss : 0.2336940237926289 |  Val Loss : 0.1935274987590617 | Train Acc : 91.26870727539062 | Val Acc : 92.45185089111328 |\n"
          ]
        },
        {
          "output_type": "stream",
          "name": "stderr",
          "text": [
            "100%|██████████| 241/241 [00:01<00:00, 141.90it/s]\n"
          ]
        },
        {
          "output_type": "stream",
          "name": "stdout",
          "text": [
            "| Train Loss : 0.1940728271753323 |  Val Loss : 0.1683349893241733 | Train Acc : 92.5309066772461 | Val Acc : 93.70120239257812 |\n"
          ]
        },
        {
          "output_type": "stream",
          "name": "stderr",
          "text": [
            "100%|██████████| 241/241 [00:01<00:00, 196.74it/s]\n"
          ]
        },
        {
          "output_type": "stream",
          "name": "stdout",
          "text": [
            "| Train Loss : 0.18637916734254276 |  Val Loss : 0.7457665909704195 | Train Acc : 92.94729614257812 | Val Acc : 72.1499252319336 |\n"
          ]
        },
        {
          "output_type": "stream",
          "name": "stderr",
          "text": [
            "100%|██████████| 241/241 [00:01<00:00, 193.19it/s]\n"
          ]
        },
        {
          "output_type": "stream",
          "name": "stdout",
          "text": [
            "| Train Loss : 0.19113667524148872 |  Val Loss : 0.15506357627880568 | Train Acc : 92.68704986572266 | Val Acc : 94.42998504638672 |\n"
          ]
        },
        {
          "output_type": "stream",
          "name": "stderr",
          "text": [
            "100%|██████████| 241/241 [00:01<00:00, 194.88it/s]\n"
          ]
        },
        {
          "output_type": "stream",
          "name": "stdout",
          "text": [
            "| Train Loss : 0.16847375872397702 |  Val Loss : 0.14336512792993186 | Train Acc : 93.63695526123047 | Val Acc : 94.32587432861328 |\n"
          ]
        },
        {
          "output_type": "stream",
          "name": "stderr",
          "text": [
            "100%|██████████| 241/241 [00:01<00:00, 195.07it/s]\n"
          ]
        },
        {
          "output_type": "stream",
          "name": "stdout",
          "text": [
            "| Train Loss : 0.17798359338957612 |  Val Loss : 0.1658362785823554 | Train Acc : 92.93428802490234 | Val Acc : 93.44091796875 |\n"
          ]
        },
        {
          "output_type": "stream",
          "name": "stderr",
          "text": [
            "100%|██████████| 241/241 [00:01<00:00, 191.80it/s]\n"
          ]
        },
        {
          "output_type": "stream",
          "name": "stdout",
          "text": [
            "| Train Loss : 0.16035814371369608 |  Val Loss : 0.17653847331028938 | Train Acc : 93.85816192626953 | Val Acc : 92.76419067382812 |\n"
          ]
        },
        {
          "output_type": "stream",
          "name": "stderr",
          "text": [
            "100%|██████████| 241/241 [00:01<00:00, 194.18it/s]\n"
          ]
        },
        {
          "output_type": "stream",
          "name": "stdout",
          "text": [
            "| Train Loss : 0.16242918449907856 |  Val Loss : 0.19440278176650724 | Train Acc : 93.63695526123047 | Val Acc : 92.60802459716797 |\n"
          ]
        },
        {
          "output_type": "stream",
          "name": "stderr",
          "text": [
            "100%|██████████| 241/241 [00:01<00:00, 167.80it/s]\n"
          ]
        },
        {
          "output_type": "stream",
          "name": "stdout",
          "text": [
            "| Train Loss : 0.16016840928354742 |  Val Loss : 0.15091961646963536 | Train Acc : 93.67599487304688 | Val Acc : 94.48204803466797 |\n"
          ]
        },
        {
          "output_type": "stream",
          "name": "stderr",
          "text": [
            "100%|██████████| 241/241 [00:01<00:00, 149.73it/s]\n"
          ]
        },
        {
          "output_type": "stream",
          "name": "stdout",
          "text": [
            "| Train Loss : 0.1525644560843202 |  Val Loss : 0.1736287310728459 | Train Acc : 94.3135986328125 | Val Acc : 93.54502868652344 |\n"
          ]
        },
        {
          "output_type": "stream",
          "name": "stderr",
          "text": [
            "100%|██████████| 241/241 [00:01<00:00, 191.95it/s]\n"
          ]
        },
        {
          "output_type": "stream",
          "name": "stdout",
          "text": [
            "| Train Loss : 0.1493326180616349 |  Val Loss : 0.15267513481776954 | Train Acc : 94.11841583251953 | Val Acc : 93.909423828125 |\n"
          ]
        },
        {
          "output_type": "stream",
          "name": "stderr",
          "text": [
            "100%|██████████| 241/241 [00:01<00:00, 192.60it/s]\n"
          ]
        },
        {
          "output_type": "stream",
          "name": "stdout",
          "text": [
            "| Train Loss : 0.14657673035489568 |  Val Loss : 0.15652666177856603 | Train Acc : 94.3396224975586 | Val Acc : 93.909423828125 |\n"
          ]
        },
        {
          "output_type": "stream",
          "name": "stderr",
          "text": [
            "100%|██████████| 241/241 [00:01<00:00, 194.39it/s]\n"
          ]
        },
        {
          "output_type": "stream",
          "name": "stdout",
          "text": [
            "| Train Loss : 0.14601824673628294 |  Val Loss : 0.16180777789361656 | Train Acc : 94.56082916259766 | Val Acc : 93.80531311035156 |\n"
          ]
        },
        {
          "output_type": "stream",
          "name": "stderr",
          "text": [
            "100%|██████████| 241/241 [00:01<00:00, 196.30it/s]\n"
          ]
        },
        {
          "output_type": "stream",
          "name": "stdout",
          "text": [
            "| Train Loss : 0.14060195586901636 |  Val Loss : 0.17513418936096461 | Train Acc : 94.63890838623047 | Val Acc : 93.28475189208984 |\n"
          ]
        },
        {
          "output_type": "stream",
          "name": "stderr",
          "text": [
            "100%|██████████| 241/241 [00:01<00:00, 195.48it/s]\n"
          ]
        },
        {
          "output_type": "stream",
          "name": "stdout",
          "text": [
            "| Train Loss : 0.14020419954240476 |  Val Loss : 0.13787629757704817 | Train Acc : 94.62589263916016 | Val Acc : 94.69026947021484 |\n"
          ]
        },
        {
          "output_type": "stream",
          "name": "stderr",
          "text": [
            "100%|██████████| 241/241 [00:01<00:00, 194.82it/s]\n"
          ]
        },
        {
          "output_type": "stream",
          "name": "stdout",
          "text": [
            "| Train Loss : 0.14101690558077998 |  Val Loss : 1.585578250239629 | Train Acc : 94.57384490966797 | Val Acc : 50.65070343017578 |\n"
          ]
        },
        {
          "output_type": "stream",
          "name": "stderr",
          "text": [
            "100%|██████████| 241/241 [00:01<00:00, 165.78it/s]\n"
          ]
        },
        {
          "output_type": "stream",
          "name": "stdout",
          "text": [
            "| Train Loss : 0.19450565858676827 |  Val Loss : 0.30155674842482494 | Train Acc : 92.84320831298828 | Val Acc : 89.06819915771484 |\n"
          ]
        },
        {
          "output_type": "stream",
          "name": "stderr",
          "text": [
            "100%|██████████| 241/241 [00:01<00:00, 155.08it/s]\n"
          ]
        },
        {
          "output_type": "stream",
          "name": "stdout",
          "text": [
            "| Train Loss : 0.15407143515197194 |  Val Loss : 0.14335261568665128 | Train Acc : 94.05335235595703 | Val Acc : 94.48204803466797 |\n"
          ]
        },
        {
          "output_type": "stream",
          "name": "stderr",
          "text": [
            "100%|██████████| 241/241 [00:01<00:00, 196.26it/s]\n"
          ]
        },
        {
          "output_type": "stream",
          "name": "stdout",
          "text": [
            "| Train Loss : 0.1402175403021339 |  Val Loss : 0.185964222912585 | Train Acc : 94.70397186279297 | Val Acc : 92.81624603271484 |\n"
          ]
        },
        {
          "output_type": "stream",
          "name": "stderr",
          "text": [
            "100%|██████████| 241/241 [00:01<00:00, 195.16it/s]\n"
          ]
        },
        {
          "output_type": "stream",
          "name": "stdout",
          "text": [
            "| Train Loss : 0.13826310451135826 |  Val Loss : 0.15071955326806905 | Train Acc : 94.65191650390625 | Val Acc : 93.54502868652344 |\n"
          ]
        },
        {
          "output_type": "stream",
          "name": "stderr",
          "text": [
            "100%|██████████| 241/241 [00:01<00:00, 196.71it/s]\n"
          ]
        },
        {
          "output_type": "stream",
          "name": "stdout",
          "text": [
            "| Train Loss : 0.1332441324837113 |  Val Loss : 0.2031042733209577 | Train Acc : 94.92517852783203 | Val Acc : 91.93128967285156 |\n"
          ]
        },
        {
          "output_type": "stream",
          "name": "stderr",
          "text": [
            "100%|██████████| 241/241 [00:01<00:00, 195.87it/s]\n"
          ]
        },
        {
          "output_type": "stream",
          "name": "stdout",
          "text": [
            "| Train Loss : 0.1331504298709745 |  Val Loss : 0.14733703871961065 | Train Acc : 94.97722625732422 | Val Acc : 94.5861587524414 |\n"
          ]
        },
        {
          "output_type": "stream",
          "name": "stderr",
          "text": [
            "100%|██████████| 241/241 [00:01<00:00, 190.69it/s]\n"
          ]
        },
        {
          "output_type": "stream",
          "name": "stdout",
          "text": [
            "| Train Loss : 0.13189698158919075 |  Val Loss : 0.14671088794939838 | Train Acc : 94.97722625732422 | Val Acc : 94.32587432861328 |\n"
          ]
        },
        {
          "output_type": "stream",
          "name": "stderr",
          "text": [
            "100%|██████████| 241/241 [00:01<00:00, 195.19it/s]\n"
          ]
        },
        {
          "output_type": "stream",
          "name": "stdout",
          "text": [
            "| Train Loss : 0.12928701036148593 |  Val Loss : 0.21487973381429212 | Train Acc : 95.01626586914062 | Val Acc : 91.25455474853516 |\n"
          ]
        },
        {
          "output_type": "stream",
          "name": "stderr",
          "text": [
            "100%|██████████| 241/241 [00:01<00:00, 164.48it/s]\n"
          ]
        },
        {
          "output_type": "stream",
          "name": "stdout",
          "text": [
            "| Train Loss : 0.13125383869812096 |  Val Loss : 0.157045721988359 | Train Acc : 95.01626586914062 | Val Acc : 93.96148681640625 |\n"
          ]
        },
        {
          "output_type": "display_data",
          "data": {
            "text/plain": [
              "<Figure size 640x480 with 1 Axes>"
            ],
            "image/png": "[encoded data removed]"
          },
          "metadata": {}
        },
        {
          "output_type": "display_data",
          "data": {
            "text/plain": [
              "<Figure size 640x480 with 1 Axes>"
            ],
            "image/png": "[encoded data removed]"
          },
          "metadata": {}
        }
      ]
    },
    {
      "cell_type": "code",
      "source": [
        "torch.save(model_state_dicts, \"My-Model.pt\")"
      ],
      "metadata": {
        "execution": {
          "iopub.execute_input": "2022-07-05T07:03:41.870898Z",
          "iopub.status.busy": "2022-07-05T07:03:41.870138Z",
          "iopub.status.idle": "2022-07-05T07:03:41.902875Z",
          "shell.execute_reply": "2022-07-05T07:03:41.901792Z",
          "shell.execute_reply.started": "2022-07-05T07:03:41.870857Z"
        },
        "papermill": {
          "duration": 1.378123,
          "end_time": "2022-06-13T19:56:16.431307",
          "exception": false,
          "start_time": "2022-06-13T19:56:15.053184",
          "status": "completed"
        },
        "tags": [],
        "id": "_pFBaqrp8lrP"
      },
      "execution_count": null,
      "outputs": []
    },
    {
      "cell_type": "markdown",
      "source": [
        "<h1  style=\"text-align: center\" class=\"list-group-item list-group-item-action active\">7. Inference</h1><a id = \"7\" ></a>"
      ],
      "metadata": {
        "papermill": {
          "duration": 1.374321,
          "end_time": "2022-06-13T19:56:19.201374",
          "exception": false,
          "start_time": "2022-06-13T19:56:17.827053",
          "status": "completed"
        },
        "tags": [],
        "id": "cuNPpuFd8lrQ"
      }
    },
    {
      "cell_type": "code",
      "source": [
        "def numericalize(text):\n",
        "\n",
        "    numerialized_source = []\n",
        "    numerialized_source = [dataset.source_vocab.stoi[\"<SOS>\"]]\n",
        "    numerialized_source += dataset.source_vocab.numericalize(text)\n",
        "    numerialized_source.append(dataset.source_vocab.stoi[\"<EOS>\"])\n",
        "\n",
        "    return numerialized_source\n",
        "\n",
        "def padding(source):\n",
        "    padded_sequence = torch.zeros(config.MAX_LEN, 1, dtype = torch.int)\n",
        "    source = torch.tensor(source)\n",
        "\n",
        "    if len(source) > config.MAX_LEN:\n",
        "        padded_sequence[:, 0] = source[: config.MAX_LEN]\n",
        "    else:\n",
        "        padded_sequence[:len(source), 0] = padded_sequence[:len(source), 0] + source\n",
        "\n",
        "    return padded_sequence"
      ],
      "metadata": {
        "execution": {
          "iopub.execute_input": "2022-07-05T07:03:41.904441Z",
          "iopub.status.busy": "2022-07-05T07:03:41.904072Z",
          "iopub.status.idle": "2022-07-05T07:03:41.913185Z",
          "shell.execute_reply": "2022-07-05T07:03:41.912148Z",
          "shell.execute_reply.started": "2022-07-05T07:03:41.904405Z"
        },
        "papermill": {
          "duration": 1.347638,
          "end_time": "2022-06-13T19:56:21.879204",
          "exception": false,
          "start_time": "2022-06-13T19:56:20.531566",
          "status": "completed"
        },
        "tags": [],
        "id": "0lbYSeRV8lrQ"
      },
      "execution_count": null,
      "outputs": []
    },
    {
      "cell_type": "code",
      "source": [
        "def infer_processing(text):\n",
        "\n",
        "    text = preprocessing(text)\n",
        "    text = numericalize(text)\n",
        "    text = padding(text)\n",
        "    return text"
      ],
      "metadata": {
        "execution": {
          "iopub.execute_input": "2022-07-05T07:03:41.915484Z",
          "iopub.status.busy": "2022-07-05T07:03:41.914498Z",
          "iopub.status.idle": "2022-07-05T07:03:41.924959Z",
          "shell.execute_reply": "2022-07-05T07:03:41.923954Z",
          "shell.execute_reply.started": "2022-07-05T07:03:41.915449Z"
        },
        "papermill": {
          "duration": 1.346643,
          "end_time": "2022-06-13T19:56:24.81165",
          "exception": false,
          "start_time": "2022-06-13T19:56:23.465007",
          "status": "completed"
        },
        "tags": [],
        "id": "TeidgTwx8lrR"
      },
      "execution_count": null,
      "outputs": []
    },
    {
      "cell_type": "code",
      "source": [
        "aspects = [\"phone\", \"camera\", \"battery\", \"neutral\", \"processor\"]\n",
        "\n",
        "def get_similarity(text, aspect):\n",
        "    try:\n",
        "#         text = \" \".join(text)\n",
        "        return fasttext_model.wv.n_similarity(text, aspect)\n",
        "    except:\n",
        "        return 0\n",
        "\n",
        "def best_aspect(text, aspects):\n",
        "    a = []\n",
        "\n",
        "    for aspect in aspects:\n",
        "        a.append(get_similarity(text, aspect))\n",
        "\n",
        "    return aspects[np.argmax(a)]\n"
      ],
      "metadata": {
        "execution": {
          "iopub.execute_input": "2022-07-05T07:03:41.927478Z",
          "iopub.status.busy": "2022-07-05T07:03:41.926701Z",
          "iopub.status.idle": "2022-07-05T07:03:41.936585Z",
          "shell.execute_reply": "2022-07-05T07:03:41.93551Z",
          "shell.execute_reply.started": "2022-07-05T07:03:41.927453Z"
        },
        "papermill": {
          "duration": 1.358879,
          "end_time": "2022-06-13T19:56:27.509869",
          "exception": false,
          "start_time": "2022-06-13T19:56:26.15099",
          "status": "completed"
        },
        "tags": [],
        "id": "K0a38nKz8lrR"
      },
      "execution_count": null,
      "outputs": []
    },
    {
      "cell_type": "code",
      "source": [
        "\n",
        "sample = \"I am really impressed with the phone's great battery backup.\"\n",
        "\n",
        "ba = best_aspect(preprocessing(sample), aspects)\n",
        "\n",
        "a = infer_processing(sample).to(config.DEVICE)"
      ],
      "metadata": {
        "execution": {
          "iopub.execute_input": "2022-07-05T07:03:41.947924Z",
          "iopub.status.busy": "2022-07-05T07:03:41.947687Z",
          "iopub.status.idle": "2022-07-05T07:03:41.973291Z",
          "shell.execute_reply": "2022-07-05T07:03:41.972398Z",
          "shell.execute_reply.started": "2022-07-05T07:03:41.947902Z"
        },
        "papermill": {
          "duration": 1.356164,
          "end_time": "2022-06-13T19:56:30.256236",
          "exception": false,
          "start_time": "2022-06-13T19:56:28.900072",
          "status": "completed"
        },
        "tags": [],
        "id": "LGvFfgfB8lrS"
      },
      "execution_count": null,
      "outputs": []
    },
    {
      "cell_type": "code",
      "source": [
        "model.eval()\n",
        "sentiment = model(a)\n",
        "sentiment = sentiment.cpu().detach().numpy()[0]\n",
        "\n",
        "if sentiment > 0.5:\n",
        "    sentiment = 'Positively'\n",
        "else :\n",
        "    sentiment = 'Negatively'"
      ],
      "metadata": {
        "execution": {
          "iopub.execute_input": "2022-07-05T07:03:41.974975Z",
          "iopub.status.busy": "2022-07-05T07:03:41.97458Z",
          "iopub.status.idle": "2022-07-05T07:03:41.983559Z",
          "shell.execute_reply": "2022-07-05T07:03:41.98266Z",
          "shell.execute_reply.started": "2022-07-05T07:03:41.97494Z"
        },
        "papermill": {
          "duration": 1.337708,
          "end_time": "2022-06-13T19:56:32.919008",
          "exception": false,
          "start_time": "2022-06-13T19:56:31.5813",
          "status": "completed"
        },
        "tags": [],
        "id": "Xn2T5goo8lrS"
      },
      "execution_count": null,
      "outputs": []
    },
    {
      "cell_type": "code",
      "source": [
        "print(f\"The reviewer is talking {sentiment} about the {ba} of the phone in his/her comment\")"
      ],
      "metadata": {
        "execution": {
          "iopub.execute_input": "2022-07-05T07:03:41.985461Z",
          "iopub.status.busy": "2022-07-05T07:03:41.985103Z",
          "iopub.status.idle": "2022-07-05T07:03:41.993594Z",
          "shell.execute_reply": "2022-07-05T07:03:41.99229Z",
          "shell.execute_reply.started": "2022-07-05T07:03:41.985428Z"
        },
        "papermill": {
          "duration": 1.334709,
          "end_time": "2022-06-13T19:56:35.837625",
          "exception": false,
          "start_time": "2022-06-13T19:56:34.502916",
          "status": "completed"
        },
        "tags": [],
        "id": "FBxzhLqg8lrS",
        "colab": {
          "base_uri": "https://localhost:8080/"
        },
        "outputId": "45cc6109-d6d4-417d-94be-3a0ff6fbb51d"
      },
      "execution_count": null,
      "outputs": [
        {
          "output_type": "stream",
          "name": "stdout",
          "text": [
            "The reviewer is talking Positively about the battery of the phone in his/her comment\n"
          ]
        }
      ]
    },
    {
      "cell_type": "markdown",
      "source": [
        "<h1  style=\"text-align: center\" class=\"list-group-item list-group-item-action active\">8. References</h1><a id = \"8\" ></a>\n",
        "\n",
        "\n",
        "- [A Practical Introduction to Web Scraping in Python](https://realpython.com/python-web-scraping-practical-introduction/)\n",
        "- [Python SQLite](https://www.geeksforgeeks.org/python-sqlite/)\n",
        "- [What on Earth is Unicode Normalization?](https://towardsdatascience.comwhat-on-earth-is-unicode-normalization-56c005c55ad0)\n",
        "- [How to handle Emoji ‘😄’ & Emoticon ‘ :-) ’ in text preprocessing?](https://medium.com/geekculture/text-preprocessing-how-to-handle-emoji-emoticon-641bbfa6e9e7)\n",
        "- [Spelling checker in Python](https://www.geeksforgeeks.org/spelling-checker-in-python/)\n",
        "- [NLPAUG – A Python library to Augment Your Text Data](https://www.analyticsvidhya.com/blog/2021/08/nlpaug-a-python-library-to-augment-your-text-data/)\n",
        "- [Topic Modeling in Python: Latent Dirichlet Allocation (LDA)](https://towardsdatascience.com/end-to-end-topic-modeling-in-python-latent-dirichlet-allocation-lda-35ce4ed6b3e0)"
      ],
      "metadata": {
        "papermill": {
          "duration": 1.857793,
          "end_time": "2022-06-13T19:56:44.398844",
          "exception": false,
          "start_time": "2022-06-13T19:56:42.541051",
          "status": "completed"
        },
        "tags": [],
        "id": "895wQSKA8lrT"
      }
    },
    {
      "cell_type": "code",
      "source": [],
      "metadata": {
        "papermill": {
          "duration": 1.542588,
          "end_time": "2022-06-13T19:56:47.658879",
          "exception": false,
          "start_time": "2022-06-13T19:56:46.116291",
          "status": "completed"
        },
        "tags": [],
        "id": "3059wms58lrU"
      },
      "execution_count": null,
      "outputs": []
    },
    {
      "cell_type": "code",
      "source": [],
      "metadata": {
        "papermill": {
          "duration": 1.344703,
          "end_time": "2022-06-13T19:56:50.353266",
          "exception": false,
          "start_time": "2022-06-13T19:56:49.008563",
          "status": "completed"
        },
        "tags": [],
        "id": "3bY6pstY8lrU"
      },
      "execution_count": null,
      "outputs": []
    }
  ]
}